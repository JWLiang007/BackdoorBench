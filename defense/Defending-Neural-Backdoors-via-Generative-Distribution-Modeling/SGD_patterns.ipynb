{
 "cells": [
  {
   "cell_type": "code",
   "execution_count": 1,
   "metadata": {},
   "outputs": [],
   "source": [
    "%load_ext autoreload\n",
    "%autoreload 2\n",
    "%matplotlib inline\n",
    "#%config InlineBackend.figure_format = 'svg'\n",
    "import matplotlib.pyplot as plt\n",
    "import numpy as np\n",
    "import torch\n",
    "from lib import *\n",
    "import os\n",
    "os.environ['CUDA_DEVICE_ORDER']='PCI_BUS_ID'\n",
    "os.environ['CUDA_VISIBLE_DEVICES']='0'"
   ]
  },
  {
   "cell_type": "code",
   "execution_count": 7,
   "metadata": {},
   "outputs": [
    {
     "data": {
      "image/png": "iVBORw0KGgoAAAANSUhEUgAAAGQAAABeCAYAAADVA7GfAAAABHNCSVQICAgIfAhkiAAAAAlwSFlzAAAMTQAADE0B0s6tTgAAADl0RVh0U29mdHdhcmUAbWF0cGxvdGxpYiB2ZXJzaW9uIDMuMC4zLCBodHRwOi8vbWF0cGxvdGxpYi5vcmcvnQurowAAAV5JREFUeJzt3bFJBFEYRtF/xRIswCo2NzJYMLACQ+sQLMBKbMDIIgRDA0UwFEzX2Hjf4g3Oyedj4PKCYQZms9/vh46T/74B/hIkRpAYQWIEiREkRpCY02OOv7yfL33I+XnfrZybmZnHq6ele/efr5tDrndCYgSJESRGkBhBYgSJESRGkBhBYgSJESRGkBhBYgSJESRGkBhBYgSJOeor3O/r56V7bzcfS/dmZrbbr+Wbh3BCYgSJESRGkBhBYgSJESRGkBhBYgSJESRGkBhBYgSJESRGkBhBYgSJESRGkJijfuRw93q2dG/3cLl0b2bm9mK7fPMQTkiMIDGCxAgSI0iMIDGCxAgSI0iMIDGCxAgSI0iMIDGCxAgSI0iMIDGCxGz8g6rFCYkRJEaQGEFiBIkRJEaQGEFiBIkRJEaQGEFiBIkRJEaQGEFiBIkRJEaQGEFiBIkRJEaQGEFiBIn5BdRBGLGqTBaJAAAAAElFTkSuQmCC\n",
      "text/plain": [
       "<Figure size 80x80 with 1 Axes>"
      ]
     },
     "metadata": {
      "needs_background": "light"
     },
     "output_type": "display_data"
    }
   ],
   "source": [
    "size = 3\n",
    "def num2image(num, size=3):\n",
    "        bstr = bin(num).replace('0b', '')\n",
    "        return np.reshape(\n",
    "            np.pad(\n",
    "                np.array(\n",
    "                    list(bstr)\n",
    "                ),\n",
    "                (size*size-len(bstr), 0), 'constant'),\n",
    "            (size, size)\n",
    "        ).astype(float)\n",
    "# random\n",
    "#pattern = np.random.random((3,size,size))\n",
    "# pure red\n",
    "#pattern = np.vstack([np.ones((1,size,size)), np.zeros((2,size,size))])\n",
    "# real image\n",
    "pattern = np.tile(num2image(170).reshape(1,3,3), (3,1,1))\n",
    "pattern = np.tile(num2image(170).reshape(1,3,3), (3,1,1))\n",
    "print(pattern)\n",
    "print(np.random.randint(0,256,(3,3,3))/256)\n",
    "trigger = Trigger(\"cifar\", pattern, target=0, type_=2).display()"
   ]
  },
  {
   "cell_type": "code",
   "execution_count": 9,
   "metadata": {},
   "outputs": [
    {
     "name": "stdout",
     "output_type": "stream",
     "text": [
      "Files already downloaded and verified\n",
      "Files already downloaded and verified\n"
     ]
    }
   ],
   "source": [
    "model = Model(\"cifar\", \"./pytorch-cifar/checkpoint/ckpt.t7\")\n",
    "train = prepare_data('cifar', 'train')\n",
    "val = prepare_data('cifar', 'val')"
   ]
  },
  {
   "cell_type": "code",
   "execution_count": 10,
   "metadata": {},
   "outputs": [
    {
     "name": "stdout",
     "output_type": "stream",
     "text": [
      "Accuracy: 94.18%\n",
      "Accuracy: 99.82%\n"
     ]
    }
   ],
   "source": [
    "model.train(train, lr=0.001, num_epochs=10, triggers=[trigger], poison_ratio=0.1)\n",
    "model.test(val, ratio=0.1, trigger=None).report_accuracy()\n",
    "model.test(val, ratio=0.1, trigger=trigger).report_accuracy()"
   ]
  },
  {
   "cell_type": "code",
   "execution_count": null,
   "metadata": {},
   "outputs": [
    {
     "data": {
      "image/png": "iVBORw0KGgoAAAANSUhEUgAAAGQAAABeCAYAAADVA7GfAAAABHNCSVQICAgIfAhkiAAAAAlwSFlzAAAMTQAADE0B0s6tTgAAADl0RVh0U29mdHdhcmUAbWF0cGxvdGxpYiB2ZXJzaW9uIDMuMC4zLCBodHRwOi8vbWF0cGxvdGxpYi5vcmcvnQurowAAAQZJREFUeJzt3TEKxDAMAMEo5P9f1tVXh5CFzPQ2gkWFK8/uHnScbw/AP0FiBIkRJEaQGEFiBIm5nrx8Zj73yNnduXPehsQIEiNIjCAxgsQIEiNIjCAxgsQIEiNIjCAxgsQIEiNIjCAxgsQIEiNIjCAxgsQIEiNIjCAxgsQIEiNIjCAxgsQIEiNIjCAxgsQIEiNIjCAxgsQIEiNIjCAxgsQIEiNIjCAxgsQIEiNIjCAxgsQIEiNIjCAxgsQIEiNIjCAxgsQIEiNIzPiDqsWGxAgSI0iMIDGCxAgSI0iMIDGCxAgSI0iMIDGCxAgSI0iMIDGCxAgSI0iMIDGCxAgSI0iMIDGCxPwA+DEKt6p8V6wAAAAASUVORK5CYII=\n",
      "text/plain": [
       "<Figure size 80x80 with 1 Axes>"
      ]
     },
     "metadata": {
      "needs_background": "light"
     },
     "output_type": "display_data"
    },
    {
     "name": "stdout",
     "output_type": "stream",
     "text": [
      "Accuracy: 95.18%\n",
      "Accuracy: 93.91%\n"
     ]
    },
    {
     "data": {
      "image/png": "iVBORw0KGgoAAAANSUhEUgAAAGQAAABeCAYAAADVA7GfAAAABHNCSVQICAgIfAhkiAAAAAlwSFlzAAAMTQAADE0B0s6tTgAAADl0RVh0U29mdHdhcmUAbWF0cGxvdGxpYiB2ZXJzaW9uIDMuMC4zLCBodHRwOi8vbWF0cGxvdGxpYi5vcmcvnQurowAAAWlJREFUeJzt3CFKBVEAhtH7RDSLwT3YxOIO3IHFNWgQrYILMIg7cA0vmCwWs7twBYLlmY3y7sMPOafPz8DHDcMws1itVoOOrb++AX4SJEaQGEFiBIkRJEaQmO1Nji8fTqY+5Lwd3cycG2OMcfH5PnXv4PRusc71TkiMIDGCxAgSI0iMIDGCxAgSI0iMIDGCxAgSI0iMIDGCxAgSI0iMIDEbfYV7//Q4de/542zq3hhjfF3dTt9chxMSI0iMIDGCxAgSI0iMIDGCxAgSI0iMIDGCxAgSI0iMIDGCxAgSI0iMIDGCxCw2+b+s873jqeOXuzsz58YYY1y/LKfuvR7u+079PxEkRpAYQWIEiREkRpAYQWIEiREkRpAYQWIEiREkRpAYQWIEiREkRpCYjb5T5/eckBhBYgSJESRGkBhBYgSJESRGkBhBYgSJESRGkBhBYgSJESRGkBhBYgSJESRGkBhBYgSJESRGkJhvHwwbWL1mQAsAAAAASUVORK5CYII=\n",
      "text/plain": [
       "<Figure size 80x80 with 1 Axes>"
      ]
     },
     "metadata": {
      "needs_background": "light"
     },
     "output_type": "display_data"
    },
    {
     "data": {
      "image/png": "iVBORw0KGgoAAAANSUhEUgAAAGQAAABeCAYAAADVA7GfAAAABHNCSVQICAgIfAhkiAAAAAlwSFlzAAAMTQAADE0B0s6tTgAAADl0RVh0U29mdHdhcmUAbWF0cGxvdGxpYiB2ZXJzaW9uIDMuMC4zLCBodHRwOi8vbWF0cGxvdGxpYi5vcmcvnQurowAAAWFJREFUeJzt3CFKBVEAhtE7YjO5CJPF4CJEsIkbMLsYBdPrNov9mV2NTZPwzEZ5d/BDzunzM/BxwzDMLLvdbtBx8Nc3wE+CxAgSI0iMIDGCxAgSc7jm+NvmYupDzsPnzcy5McYYm8uPqXtHJ3fLPtc7ITGCxAgSI0iMIDGCxAgSI0iMIDGCxAgSI0iMIDGCxAgSI0iMIDGCxKz6Cnd7/zh17+n8dOreGGN83T5P39yHExIjSIwgMYLECBIjSIwgMYLECBIjSIwgMYLECBIjSIwgMYLECBIjSIwgMYLELGv+L2tZlqnj7+Ns5twYY4zrl9epe9urY9+p/yeCxAgSI0iMIDGCxAgSI0iMIDGCxAgSI0iMIDGCxAgSI0iMIDGCxAgSs+o7dX7PCYkRJEaQGEFiBIkRJEaQGEFiBIkRJEaQGEFiBIkRJEaQGEFiBIkRJEaQGEFiBIkRJEaQGEFiBIn5BvLfGqkcA3UCAAAAAElFTkSuQmCC\n",
      "text/plain": [
       "<Figure size 80x80 with 1 Axes>"
      ]
     },
     "metadata": {
      "needs_background": "light"
     },
     "output_type": "display_data"
    },
    {
     "name": "stdout",
     "output_type": "stream",
     "text": [
      "Accuracy: 56.82%\n"
     ]
    },
    {
     "data": {
      "image/png": "iVBORw0KGgoAAAANSUhEUgAAAGQAAABeCAYAAADVA7GfAAAABHNCSVQICAgIfAhkiAAAAAlwSFlzAAAMTQAADE0B0s6tTgAAADl0RVh0U29mdHdhcmUAbWF0cGxvdGxpYiB2ZXJzaW9uIDMuMC4zLCBodHRwOi8vbWF0cGxvdGxpYi5vcmcvnQurowAAAV9JREFUeJzt3L1JBVEYRdFv/GlCCzAxtQWxBKuwAVNT+7AAAyMTMw0sSPAZG4r34UbWyucwsLnBMMxsu91u6Dj46xvgO0FiBIkRJEaQGEFiBIk52uf4y/3V0oecm9fLlXMzM/P+cLJ2cLvefnO5ExIjSIwgMYLECBIjSIwgMYLECBIjSIwgMYLECBIjSIwgMYLECBIjSMxeX+GePT8u3Xv/OF66NzMzn29r9w5/d7kTEiNIjCAxgsQIEiNIjCAxgsQIEiNIjCAxgsQIEiNIjCAxgsQIEiNIjCAxgsRs+/xf1rZtS8d3c75ybmZmLu6elu693Z76Tv0/ESRGkBhBYgSJESRGkBhBYgSJESRGkBhBYgSJESRGkBhBYgSJESRGkJi9vlPn55yQGEFiBIkRJEaQGEFiBIkRJEaQGEFiBIkRJEaQGEFiBIkRJEaQGEFiBIkRJEaQGEFiBIkRJEaQmC8eQhnpjLG+2gAAAABJRU5ErkJggg==\n",
      "text/plain": [
       "<Figure size 80x80 with 1 Axes>"
      ]
     },
     "metadata": {
      "needs_background": "light"
     },
     "output_type": "display_data"
    },
    {
     "name": "stdout",
     "output_type": "stream",
     "text": [
      "Accuracy: 91.82%\n"
     ]
    },
    {
     "data": {
      "image/png": "iVBORw0KGgoAAAANSUhEUgAAAGQAAABeCAYAAADVA7GfAAAABHNCSVQICAgIfAhkiAAAAAlwSFlzAAAMTQAADE0B0s6tTgAAADl0RVh0U29mdHdhcmUAbWF0cGxvdGxpYiB2ZXJzaW9uIDMuMC4zLCBodHRwOi8vbWF0cGxvdGxpYi5vcmcvnQurowAAAVpJREFUeJzt3bFJBUEUQNFZMbQPMbKIj4GhXViADZhbhU0YfbQFwVj4fQhrbGDizuINzsn3sXB5wTIDu6zrOug4++8X4CdBYgSJESRGkBhBYgSJOd9z+MvjYepHzv3bzcxxY4wxTq+XkyfeLVuetiExgsQIEiNIjCAxgsQIEiNIjCAxgsQIEiNIjCAxgsQIEiNIjCAxgsTseoR7+3mcOu/0tel09BcfO8z8OxsSI0iMIDGCxAgSI0iMIDGCxAgSI0iMIDGCxAgSI0iMIDGCxAgSI0iMIDGCxOx6yWF5nnspYR1XU+eNMcb1w8XUee9P2563ITGCxAgSI0iMIDGCxAgSI0iMIDGCxAgSI0iMIDGCxAgSI0iMIDGCxAgSs/gHVYsNiREkRpAYQWIEiREkRpAYQWIEiREkRpAYQWIEiREkRpAYQWIEiREkRpAYQWIEiREkRpAYQWIEifkGMFcVKV+/rVkAAAAASUVORK5CYII=\n",
      "text/plain": [
       "<Figure size 80x80 with 1 Axes>"
      ]
     },
     "metadata": {
      "needs_background": "light"
     },
     "output_type": "display_data"
    },
    {
     "name": "stdout",
     "output_type": "stream",
     "text": [
      "Accuracy: 94.27%\n"
     ]
    },
    {
     "data": {
      "image/png": "iVBORw0KGgoAAAANSUhEUgAAAGQAAABeCAYAAADVA7GfAAAABHNCSVQICAgIfAhkiAAAAAlwSFlzAAAMTQAADE0B0s6tTgAAADl0RVh0U29mdHdhcmUAbWF0cGxvdGxpYiB2ZXJzaW9uIDMuMC4zLCBodHRwOi8vbWF0cGxvdGxpYi5vcmcvnQurowAAAVtJREFUeJzt3LFNxTAUQFEHsQfNZwJ6WliChgGo2OSPQEPPFIyARMEUiC7Uv6BAccQVOqf3U6QrF5GdLOu6DjrO/voBOCVIjCAxgsQIEiNIjCAx53sOf368nvqSc/9yO3PcGGOMz7eryRNvli2r7ZAYQWIEiREkRpAYQWIEiREkRpAYQWIEiREkRpAYQWIEiREkRpAYQWKWXa+SPoy5w183nY7+MPNj8sALR7j/iSAxgsQIEiNIjCAxgsQIEiNIjCAxgsQIEiNIjCAxgsQIEiNIjCAxgsQIErPrd+rLce6lhHVcTp03xhiHu6+p896ftq23Q2IEiREkRpAYQWIEiREkRpAYQWIEiREkRpAYQWIEiREkRpAYQWIEiREkZt8fB/BrdkiMIDGCxAgSI0iMIDGCxAgSI0iMIDGCxAgSI0iMIDGCxAgSI0iMIDGCxAgSI0iMIDGCxAgSI0jMNxC+GGYz8hrNAAAAAElFTkSuQmCC\n",
      "text/plain": [
       "<Figure size 80x80 with 1 Axes>"
      ]
     },
     "metadata": {
      "needs_background": "light"
     },
     "output_type": "display_data"
    },
    {
     "name": "stdout",
     "output_type": "stream",
     "text": [
      "Accuracy: 84.00%\n"
     ]
    },
    {
     "data": {
      "image/png": "iVBORw0KGgoAAAANSUhEUgAAAGQAAABeCAYAAADVA7GfAAAABHNCSVQICAgIfAhkiAAAAAlwSFlzAAAMTQAADE0B0s6tTgAAADl0RVh0U29mdHdhcmUAbWF0cGxvdGxpYiB2ZXJzaW9uIDMuMC4zLCBodHRwOi8vbWF0cGxvdGxpYi5vcmcvnQurowAAAVtJREFUeJzt3LFJxVAAhtF7xRWsbFzADYTXiYPYuYDLWLmBjZUTuIeFpQMYa8FGvMGPxzl9fgIfKUIumdu2DTpO/vsG+E6QGEFiBIkRJEaQGEFiTvccf7i7WvqSc/t4vXJujDHG9nFYvHiYf7naExIjSIwgMYLECBIjSIwgMYLECBIjSIwgMYLECBIjSIwgMYLECBIjSMzc9Sjp/Vg7/vKnr6M/e31fPHjmE+4xESRGkBhBYgSJESRGkBhBYgSJESRGkBhBYgSJESRGkBhBYgSJESRGkBhBYnY95DDnXDr+OS5Wzo0xxji/eVq69/Z86ZDDMREkRpAYQWIEiREkRpAYQWIEiREkRpAYQWIEiREkRpAYQWIEiREkRpCYfX8cwK95QmIEiREkRpAYQWIEiREkRpAYQWIEiREkRpAYQWIEiREkRpAYQWIEiREkRpAYQWIEiREkRpAYQWK+AJ3yG6+KH9UzAAAAAElFTkSuQmCC\n",
      "text/plain": [
       "<Figure size 80x80 with 1 Axes>"
      ]
     },
     "metadata": {
      "needs_background": "light"
     },
     "output_type": "display_data"
    },
    {
     "name": "stdout",
     "output_type": "stream",
     "text": [
      "Accuracy: 93.82%\n"
     ]
    },
    {
     "data": {
      "image/png": "iVBORw0KGgoAAAANSUhEUgAAAGQAAABeCAYAAADVA7GfAAAABHNCSVQICAgIfAhkiAAAAAlwSFlzAAAMTQAADE0B0s6tTgAAADl0RVh0U29mdHdhcmUAbWF0cGxvdGxpYiB2ZXJzaW9uIDMuMC4zLCBodHRwOi8vbWF0cGxvdGxpYi5vcmcvnQurowAAAWVJREFUeJzt3aFNBEEAhtE5gqAJHBSBweAQYMglCDo4yjhNC5RABVAAhjJAkeAwLBp9c+ET7/n5c8mXEZu9ZFfLsgw6Dv77B/CXIDGCxAgSI0iMIDGCxBzuc/zh/H7qQ8713enMuTHGGB/fz1P3zjZPq13OuyExgsQIEiNIjCAxgsQIEiNIjCAxgsQIEiNIjCAxgsQIEiNIjCAxgsTs9RXuz/Hj1L2jl7epe2OM8fl1Mndws9txNyRGkBhBYgSJESRGkBhBYgSJESRGkBhBYgSJESRGkBhBYgSJESRGkBhBYgSJ2eufHLa3N1P3Xi+upu6NMcb7ejt173LH825IjCAxgsQIEiNIjCAxgsQIEiNIjCAxgsQIEiNIjCAxgsQIEiNIjCAxgsSsfIOqxQ2JESRGkBhBYgSJESRGkBhBYgSJESRGkBhBYgSJESRGkBhBYgSJESRGkBhBYgSJESRGkBhBYgSJ+QUK8BgZgtIKyAAAAABJRU5ErkJggg==\n",
      "text/plain": [
       "<Figure size 80x80 with 1 Axes>"
      ]
     },
     "metadata": {
      "needs_background": "light"
     },
     "output_type": "display_data"
    },
    {
     "data": {
      "image/png": "iVBORw0KGgoAAAANSUhEUgAAAGQAAABeCAYAAADVA7GfAAAABHNCSVQICAgIfAhkiAAAAAlwSFlzAAAMTQAADE0B0s6tTgAAADl0RVh0U29mdHdhcmUAbWF0cGxvdGxpYiB2ZXJzaW9uIDMuMC4zLCBodHRwOi8vbWF0cGxvdGxpYi5vcmcvnQurowAAAWpJREFUeJzt2jFKHlEYhtFvJIvIGgIGJK2FVpbZgJ1byCYsUlkI1uklvUUQ61hkFa5iUqeU3B8f5Jx+XgYephju3fZ9HzqO3voF+JcgMYLECBIjSIwgMYLEfDjk+I9PV0t/ci7vz1fOzczMz+/XS/e+3v3Z/ud5X0iMIDGCxAgSI0iMIDGCxAgSI0iMIDGCxAgSI0iMIDGCxAgSI0iMIDHbIa+Snm3b0vFf87xybmZmnk5elu6d/r5whPueCBIjSIwgMYLECBIjSIwgMYLECBIjSIwgMYLECBIjSIwgMYLECBIjSIwgMQe95PD54Xbp+NnHx5VzMzNzc/xl6d6+f3PJ4T0RJEaQGEFiBIkRJEaQGEFiBIkRJEaQGEFiBIkRJEaQGEFiBIkRJEaQmIOeqfN6vpAYQWIEiREkRpAYQWIEiREkRpAYQWIEiREkRpAYQWIEiREkRpAYQWIEiREkRpAYQWIEiREkRpCYv2HiIK9GW3DjAAAAAElFTkSuQmCC\n",
      "text/plain": [
       "<Figure size 80x80 with 1 Axes>"
      ]
     },
     "metadata": {
      "needs_background": "light"
     },
     "output_type": "display_data"
    },
    {
     "name": "stdout",
     "output_type": "stream",
     "text": [
      "Accuracy: 81.18%\n"
     ]
    },
    {
     "data": {
      "image/png": "iVBORw0KGgoAAAANSUhEUgAAAGQAAABeCAYAAADVA7GfAAAABHNCSVQICAgIfAhkiAAAAAlwSFlzAAAMTQAADE0B0s6tTgAAADl0RVh0U29mdHdhcmUAbWF0cGxvdGxpYiB2ZXJzaW9uIDMuMC4zLCBodHRwOi8vbWF0cGxvdGxpYi5vcmcvnQurowAAAWxJREFUeJzt2jFKHVEYhuF/gsuwcA8BwS5gkSJliuzADbgCF2DhQrIEQQg2QtZgkz5tiguT2jJ4Lnm5PE8/HwMvUwznbPu+Dx0f/vcL8JYgMYLECBIjSIwgMYLEnB1z/Pv5t6U/OV9/3aycm5mZ+8svS/duX/5s73neFxIjSIwgMYLECBIjSIwgMYLECBIjSIwgMYLECBIjSIwgMYLECBIjSMx2zKuk27YtHd/naeXczMz8vDgs3fv4eu0I95QIEiNIjCAxgsQIEiNIjCAxgsQIEiNIjCAxgsQIEiNIjCAxgsQIEiNIjCAxR73k8Pn5x9Lxq8PjyrmZmbn79Hvp3r4/uORwSgSJESRGkBhBYgSJESRGkBhBYgSJESRGkBhBYgSJESRGkBhBYgSJESTmqGfq/DtfSIwgMYLECBIjSIwgMYLECBIjSIwgMYLECBIjSIwgMYLECBIjSIwgMYLECBIjSIwgMYLECBIjSMxfwQAir/mndZYAAAAASUVORK5CYII=\n",
      "text/plain": [
       "<Figure size 80x80 with 1 Axes>"
      ]
     },
     "metadata": {
      "needs_background": "light"
     },
     "output_type": "display_data"
    },
    {
     "name": "stdout",
     "output_type": "stream",
     "text": [
      "Accuracy: 94.82%\n"
     ]
    },
    {
     "data": {
      "image/png": "iVBORw0KGgoAAAANSUhEUgAAAGQAAABeCAYAAADVA7GfAAAABHNCSVQICAgIfAhkiAAAAAlwSFlzAAAMTQAADE0B0s6tTgAAADl0RVh0U29mdHdhcmUAbWF0cGxvdGxpYiB2ZXJzaW9uIDMuMC4zLCBodHRwOi8vbWF0cGxvdGxpYi5vcmcvnQurowAAAWhJREFUeJzt2jFKHlEYhtFvRLKDFJYuwSqWFtmAZDMKlm7DJWQBgjtIp1ins7FLazGpU4r3Jw9yTj8vAw9TDPdu+74PHUf/+wX4lyAxgsQIEiNIjCAxgsQcH3L859fLpT85P16vVs7NzMzN6fnSvdvf+/aR530hMYLECBIjSIwgMYLECBIjSIwgMYLECBIjSIwgMYLECBIjSIwgMYLEbIe8Srpt29Lxt7lfOTczM08nX5bunb1cOML9TASJESRGkBhBYgSJESRGkBhBYgSJESRGkBhBYgSJESRGkBhBYgSJESRGkJiDXnK4/PW8dPzbn4eVczMzc/39cenevt+55PCZCBIjSIwgMYLECBIjSIwgMYLECBIjSIwgMYLECBIjSIwgMYLECBIjSMxBz9R5P19IjCAxgsQIEiNIjCAxgsQIEiNIjCAxgsQIEiNIjCAxgsQIEiNIjCAxgsQIEiNIjCAxgsQIEiNIzF/GQCGvJEuN9AAAAABJRU5ErkJggg==\n",
      "text/plain": [
       "<Figure size 80x80 with 1 Axes>"
      ]
     },
     "metadata": {
      "needs_background": "light"
     },
     "output_type": "display_data"
    },
    {
     "name": "stdout",
     "output_type": "stream",
     "text": [
      "Accuracy: 94.45%\n"
     ]
    },
    {
     "data": {
      "image/png": "iVBORw0KGgoAAAANSUhEUgAAAGQAAABeCAYAAADVA7GfAAAABHNCSVQICAgIfAhkiAAAAAlwSFlzAAAMTQAADE0B0s6tTgAAADl0RVh0U29mdHdhcmUAbWF0cGxvdGxpYiB2ZXJzaW9uIDMuMC4zLCBodHRwOi8vbWF0cGxvdGxpYi5vcmcvnQurowAAAWlJREFUeJzt2iFOHVEYhuF/Giyhil2QOhS6qr6sAsUi0CyhqivA1dWyg7IATNMm+KmuJJwb3tw8j58vk7wZMTln2/d96Pjw3i/A/wSJESRGkBhBYgSJESTm5JDj3z9+WfqTc/3nbuXczMzcnF0s3bv/u29ved4XEiNIjCAxgsQIEiNIjCAxgsQIEiNIjCAxgsQIEiNIjCAxgsQIEiNIzHbIq6Tbti0df5mHlXMzM/Pr/HTp3qfnK0e4x0SQGEFiBIkRJEaQGEFiBIkRJEaQGEFiBIkRJEaQGEFiBIkRJEaQGEFiBIk56CWHr49PS8cvf/9YOTczM7effy7d2/dvLjkcE0FiBIkRJEaQGEFiBIkRJEaQGEFiBIkRJEaQGEFiBIkRJEaQGEFiBIk56Jk6r+cLiREkRpAYQWIEiREkRpAYQWIEiREkRpAYQWIEiREkRpAYQWIEiREkRpAYQWIEiREkRpAYQWIEifkHwDQhr2sOSvYAAAAASUVORK5CYII=\n",
      "text/plain": [
       "<Figure size 80x80 with 1 Axes>"
      ]
     },
     "metadata": {
      "needs_background": "light"
     },
     "output_type": "display_data"
    },
    {
     "name": "stdout",
     "output_type": "stream",
     "text": [
      "Accuracy: 91.91%\n"
     ]
    },
    {
     "data": {
      "image/png": "iVBORw0KGgoAAAANSUhEUgAAAGQAAABeCAYAAADVA7GfAAAABHNCSVQICAgIfAhkiAAAAAlwSFlzAAAMTQAADE0B0s6tTgAAADl0RVh0U29mdHdhcmUAbWF0cGxvdGxpYiB2ZXJzaW9uIDMuMC4zLCBodHRwOi8vbWF0cGxvdGxpYi5vcmcvnQurowAAAWRJREFUeJzt2rFJJlEYhtFvxMjYCsxN1wpkazBya9hqNnQTKzATbMEazBbFdNMxNhTvjw9yTj4vAw8TDPdu+74PHUdf/QK8J0iMIDGCxAgSI0iMIDHHhxy/Ofm59Cfn1/8/K+dmZuZ6O1u693fft8887wuJESRGkBhBYgSJESRGkBhBYgSJESRGkBhBYgSJESRGkBhBYgSJESRmO+RV0m3blo4/z93KuZmZ+Xd6unTv/OXCEe53IkiMIDGCxAgSI0iMIDGCxAgSI0iMIDGCxAgSI0iMIDGCxAgSI0iMIDGCxBz0ksPV49PS8R+vDyvnZmbm9+X90r19v3XJ4TsRJEaQGEFiBIkRJEaQGEFiBIkRJEaQGEFiBIkRJEaQGEFiBIkRJEaQmIOeqfNxvpAYQWIEiREkRpAYQWIEiREkRpAYQWIEiREkRpAYQWIEiREkRpAYQWIEiREkRpAYQWIEiREkRpCYN7ZQIa/CCS/9AAAAAElFTkSuQmCC\n",
      "text/plain": [
       "<Figure size 80x80 with 1 Axes>"
      ]
     },
     "metadata": {
      "needs_background": "light"
     },
     "output_type": "display_data"
    },
    {
     "name": "stdout",
     "output_type": "stream",
     "text": [
      "Accuracy: 98.36%\n"
     ]
    },
    {
     "data": {
      "image/png": "iVBORw0KGgoAAAANSUhEUgAAAGQAAABeCAYAAADVA7GfAAAABHNCSVQICAgIfAhkiAAAAAlwSFlzAAAMTQAADE0B0s6tTgAAADl0RVh0U29mdHdhcmUAbWF0cGxvdGxpYiB2ZXJzaW9uIDMuMC4zLCBodHRwOi8vbWF0cGxvdGxpYi5vcmcvnQurowAAAQ5JREFUeJzt3DEKwzAQAMFc8P+/fK5dG5MJ3uklDMsVQsizu584vr/+gFwVBFMQTEEwBcEUBFMQzPHk5jPzukPO7s6d9U0IpiCYgmAKgikIpiCYgmAKgikIpiCYgmAKgikIpiCYgmAKgikIpiCYgmAKgikIpiCYgmAKgikIpiCYgmAKgikIpiCYgmAKgikIpiCYgmAKgikIpiCYgmAefaf+D7T/hTUhmIJgCoIpCKYgmIJgCoIpCKYgmIJgCoIpCKYgmIJgCoIpCKYgmIJgCoIZ7U757ZoQTEEwBcEUBFMQTEEwBcEUBFMQTEEwBcEUBFMQTEEwBcEUBFMQTEEwBcEUBFMQTEEwBcEUBFMQzAnjpA22zNAgcgAAAABJRU5ErkJggg==\n",
      "text/plain": [
       "<Figure size 80x80 with 1 Axes>"
      ]
     },
     "metadata": {
      "needs_background": "light"
     },
     "output_type": "display_data"
    },
    {
     "name": "stdout",
     "output_type": "stream",
     "text": [
      "Accuracy: 94.55%\n",
      "Accuracy: 93.00%\n"
     ]
    },
    {
     "data": {
      "image/png": "iVBORw0KGgoAAAANSUhEUgAAAGQAAABeCAYAAADVA7GfAAAABHNCSVQICAgIfAhkiAAAAAlwSFlzAAAMTQAADE0B0s6tTgAAADl0RVh0U29mdHdhcmUAbWF0cGxvdGxpYiB2ZXJzaW9uIDMuMC4zLCBodHRwOi8vbWF0cGxvdGxpYi5vcmcvnQurowAAAV1JREFUeJzt3SFKBGEch+H/isEmyB7I6i20CQaT3WoWj2FSzGI0eQUPYV6zeb/FNzxPnx8DL18YZmA2u91u6Dj67xvgL0FiBIkRJEaQGEFiBIk5PuT4yePn0oecj6+rlXMzM/O2vVu6d/9wudnneickRpAYQWIEiREkRpAYQWIEiREkRpAYQWIEiREkRpAYQWIEiREkRpCYg77CfT27Wbr38n69dG9m5vTnae3gw+VelzshMYLECBIjSIwgMYLECBIjSIwgMYLECBIjSIwgMYLECBIjSIwgMYLECBIjSMxBP3KYs++lc7ev50v3ZmaeL7bLN/fhhMQIEiNIjCAxgsQIEiNIjCAxgsQIEiNIjCAxgsQIEiNIjCAxgsQIEiNIzMY/qFqckBhBYgSJESRGkBhBYgSJESRGkBhBYgSJESRGkBhBYgSJESRGkBhBYgSJESRGkBhBYgSJESRGkJhfDhkWqStlVm0AAAAASUVORK5CYII=\n",
      "text/plain": [
       "<Figure size 80x80 with 1 Axes>"
      ]
     },
     "metadata": {
      "needs_background": "light"
     },
     "output_type": "display_data"
    },
    {
     "data": {
      "image/png": "iVBORw0KGgoAAAANSUhEUgAAAGQAAABeCAYAAADVA7GfAAAABHNCSVQICAgIfAhkiAAAAAlwSFlzAAAMTQAADE0B0s6tTgAAADl0RVh0U29mdHdhcmUAbWF0cGxvdGxpYiB2ZXJzaW9uIDMuMC4zLCBodHRwOi8vbWF0cGxvdGxpYi5vcmcvnQurowAAAWFJREFUeJzt3DEuBVEAhtE7omFdOo0VYAtqhULyNFZiARYg0eheJ5ahVBi1UtyJL3JOP39e8uUWk3kzy7qug46Dv/4BfCdIjCAxgsQIEiNIjCAxh1uOL7vnqTc5n0f3M+fGGGPs3s+m7l3fXCy/ud4JiREkRpAYQWIEiREkRpAYQWIEiREkRpAYQWIEiREkRpAYQWIEiREkZtnyr6T7x5Op4+enxzPnxhhjXI7XqXtX65tHuP+JIDGCxAgSI0iMIDGCxAgSI0iMIDGCxAgSI0iMIDGCxAgSI0iMIDGCxAgSs+l76g8vT1P39uvH1L0xxrhd7qZv/oYTEiNIjCAxgsQIEiNIjCAxgsQIEiNIjCAxgsQIEiNIjCAxgsQIEiNIjCAxm344gJ9zQmIEiREkRpAYQWIEiREkRpAYQWIEiREkRpAYQWIEiREkRpAYQWIEiREkRpAYQWIEiREkRpAYQWK+AKekHcDhN5w3AAAAAElFTkSuQmCC\n",
      "text/plain": [
       "<Figure size 80x80 with 1 Axes>"
      ]
     },
     "metadata": {
      "needs_background": "light"
     },
     "output_type": "display_data"
    },
    {
     "name": "stdout",
     "output_type": "stream",
     "text": [
      "Accuracy: 89.55%\n"
     ]
    },
    {
     "data": {
      "image/png": "iVBORw0KGgoAAAANSUhEUgAAAGQAAABeCAYAAADVA7GfAAAABHNCSVQICAgIfAhkiAAAAAlwSFlzAAAMTQAADE0B0s6tTgAAADl0RVh0U29mdHdhcmUAbWF0cGxvdGxpYiB2ZXJzaW9uIDMuMC4zLCBodHRwOi8vbWF0cGxvdGxpYi5vcmcvnQurowAAAV5JREFUeJzt3LFJBEEAhtFZsRRbMDUzsQorMD5BkMPAMoytwMTMLow0MdYK1thQbhY/5L38fhY+Jjh27pZ1XQcdR3/9APwkSIwgMYLECBIjSIwgMcdbji+3L1O/5KwnDzPnxhhj3L+fTd27vrlcDvm8ExIjSIwgMYLECBIjSIwgMYLECBIjSIwgMYLECBIjSIwgMYLECBIjSMyy5VXS1+eLqeOn5x8z58YYY9yNz6l7V+ubV7j/iSAxgsQIEiNIjCAxgsQIEiNIjCAxgsQIEiNIjCAxgsQIEiNIjCAxgsQIErPp79T3j09T9742uJCxW3bTNw/hhMQIEiNIjCAxgsQIEiNIjCAxgsQIEiNIjCAxgsQIEiNIjCAxgsQIEiNIzKZ/HMDvOSExgsQIEiNIjCAxgsQIEiNIjCAxgsQIEiNIjCAxgsQIEiNIjCAxgsQIEiNIjCAxgsQIEiNIjCAx3zj5Hnaek7GVAAAAAElFTkSuQmCC\n",
      "text/plain": [
       "<Figure size 80x80 with 1 Axes>"
      ]
     },
     "metadata": {
      "needs_background": "light"
     },
     "output_type": "display_data"
    },
    {
     "name": "stdout",
     "output_type": "stream",
     "text": [
      "Accuracy: 99.27%\n"
     ]
    },
    {
     "data": {
      "image/png": "iVBORw0KGgoAAAANSUhEUgAAAGQAAABeCAYAAADVA7GfAAAABHNCSVQICAgIfAhkiAAAAAlwSFlzAAAMTQAADE0B0s6tTgAAADl0RVh0U29mdHdhcmUAbWF0cGxvdGxpYiB2ZXJzaW9uIDMuMC4zLCBodHRwOi8vbWF0cGxvdGxpYi5vcmcvnQurowAAAV9JREFUeJzt3KFNBEEAhtFZQitoHBVgKQKPgKDI4fFoCqAALIIqSEhQVIFh0Uhys+ELec/fn02+jLjs3C3rug46Dv76AfhJkBhBYgSJESRGkBhBYg63HF92L1O/5KzHjzPnxhhj3L2dTN27uT1f9vm8ExIjSIwgMYLECBIjSIwgMYLECBIjSIwgMYLECBIjSIwgMYLECBIjSMyy5VXS9+ezqeNHp68z58YYY9yPz6l7F+uHV7j/iSAxgsQIEiNIjCAxgsQIEiNIjCAxgsQIEiNIjCAxgsQIEiNIjCAxgsQIErPp79QvH56m7n1tcCHjermavrkPJyRGkBhBYgSJESRGkBhBYgSJESRGkBhBYgSJESRGkBhBYgSJESRGkBhBYjb94wB+zwmJESRGkBhBYgSJESRGkBhBYgSJESRGkBhBYgSJESRGkBhBYgSJESRGkBhBYgSJESRGkBhBYgSJ+QZCJx5WC/OiAAAAAABJRU5ErkJggg==\n",
      "text/plain": [
       "<Figure size 80x80 with 1 Axes>"
      ]
     },
     "metadata": {
      "needs_background": "light"
     },
     "output_type": "display_data"
    },
    {
     "name": "stdout",
     "output_type": "stream",
     "text": [
      "Accuracy: 99.64%\n"
     ]
    },
    {
     "data": {
      "image/png": "iVBORw0KGgoAAAANSUhEUgAAAGQAAABeCAYAAADVA7GfAAAABHNCSVQICAgIfAhkiAAAAAlwSFlzAAAMTQAADE0B0s6tTgAAADl0RVh0U29mdHdhcmUAbWF0cGxvdGxpYiB2ZXJzaW9uIDMuMC4zLCBodHRwOi8vbWF0cGxvdGxpYi5vcmcvnQurowAAAV5JREFUeJzt3LFJBEEAhtFZsRM7EKzAAq4HIzEQ08MCrOCquMwCBCswNDOyDtfYUG4WP+S9/H4WPiY4du6WdV0HHWd//QD8JEiMIDGCxAgSI0iMIDHnW44v+9epX3LWq+PMuTHGGE/vl1P39o83yymfd0JiBIkRJEaQGEFiBIkRJEaQGEFiBIkRJEaQGEFiBIkRJEaQGEFiBIlZtrxK+vGymzp+cf02c26MMcZhfE3du1s/vcL9TwSJESRGkBhBYgSJESRGkBhBYgSJESRGkBhBYgSJESRGkBhBYgSJESRGkJhNf6d+e3ieurfFhYyH5X765imckBhBYgSJESRGkBhBYgSJESRGkBhBYgSJESRGkBhBYgSJESRGkBhBYgSJ2fSPA/g9JyRGkBhBYgSJESRGkBhBYgSJESRGkBhBYgSJESRGkBhBYgSJESRGkBhBYgSJESRGkBhBYgSJESTmGx0gHkDvGbSmAAAAAElFTkSuQmCC\n",
      "text/plain": [
       "<Figure size 80x80 with 1 Axes>"
      ]
     },
     "metadata": {
      "needs_background": "light"
     },
     "output_type": "display_data"
    },
    {
     "name": "stdout",
     "output_type": "stream",
     "text": [
      "Accuracy: 99.82%\n"
     ]
    },
    {
     "data": {
      "image/png": "iVBORw0KGgoAAAANSUhEUgAAAGQAAABeCAYAAADVA7GfAAAABHNCSVQICAgIfAhkiAAAAAlwSFlzAAAMTQAADE0B0s6tTgAAADl0RVh0U29mdHdhcmUAbWF0cGxvdGxpYiB2ZXJzaW9uIDMuMC4zLCBodHRwOi8vbWF0cGxvdGxpYi5vcmcvnQurowAAAVxJREFUeJzt3KFNBEEYgNFZcp0gKQJBBdcBhpCAxlzQWCxlQAOg8FSApI1FI8nNhi/kPb9/JvkyYjOzu6zrOug4+esF8JMgMYLECBIjSIwgMYLE7LYcvty9TX3JWc9fZo4bY4zx8HE2dd7h/mo55nk7JEaQGEFiBIkRJEaQGEFiBIkRJEaQGEFiBIkRJEaQGEFiBIkRJEaQmGXLq6Sfr/upw08v3meOG2OM8TT5FPt6/XKE+58IEiNIjCAxgsQIEiNIjCAxgsQIEiNIjCAxgsQIEiNIjCAxgsQIEiNIjCAxm36nfvn4PHXeFhcybpeb6TOPYYfECBIjSIwgMYLECBIjSIwgMYLECBIjSIwgMYLECBIjSIwgMYLECBIjSMymPw7g9+yQGEFiBIkRJEaQGEFiBIkRJEaQGEFiBIkRJEaQGEFiBIkRJEaQGEFiBIkRJEaQGEFiBIkRJEaQmG8qVB0nJ3tO5gAAAABJRU5ErkJggg==\n",
      "text/plain": [
       "<Figure size 80x80 with 1 Axes>"
      ]
     },
     "metadata": {
      "needs_background": "light"
     },
     "output_type": "display_data"
    },
    {
     "name": "stdout",
     "output_type": "stream",
     "text": [
      "Accuracy: 97.91%\n"
     ]
    },
    {
     "data": {
      "image/png": "iVBORw0KGgoAAAANSUhEUgAAAGQAAABeCAYAAADVA7GfAAAABHNCSVQICAgIfAhkiAAAAAlwSFlzAAAMTQAADE0B0s6tTgAAADl0RVh0U29mdHdhcmUAbWF0cGxvdGxpYiB2ZXJzaW9uIDMuMC4zLCBodHRwOi8vbWF0cGxvdGxpYi5vcmcvnQurowAAAWtJREFUeJzt3KFKREEAhtFZ0WYxbLD5CD6EyWQ1iVGjT2JQMPkaVrtRMNkM2ixGYc1GcRY/5Jw+PwsfE5Z7dxer1WrQsfHXH4DvBIkRJEaQGEFiBIkRJGZzneNvy+upX3Je3i9mzo0xxthfXk7d23o9W/zmvBsSI0iMIDGCxAgSI0iMIDGCxAgSI0iMIDGCxAgSI0iMIDGCxAgSI0jMYp2vkp5+bk8d39m7mzk3xhjj4OF86t7h7qNHuP+JIDGCxAgSI0iMIDGCxAgSI0iMIDGCxAgSI0iMIDGCxAgSI0iMIDGCxAgSs9bfqX88HU3du7p5nro3xhgnx7dT9w7vf3feDYkRJEaQGEFiBIkRJEaQGEFiBIkRJEaQGEFiBIkRJEaQGEFiBIkRJEaQmLX+cQA/54bECBIjSIwgMYLECBIjSIwgMYLECBIjSIwgMYLECBIjSIwgMYLECBIjSIwgMYLECBIjSIwgMYLEfAGlCx032SWZIAAAAABJRU5ErkJggg==\n",
      "text/plain": [
       "<Figure size 80x80 with 1 Axes>"
      ]
     },
     "metadata": {
      "needs_background": "light"
     },
     "output_type": "display_data"
    },
    {
     "data": {
      "image/png": "iVBORw0KGgoAAAANSUhEUgAAAGQAAABeCAYAAADVA7GfAAAABHNCSVQICAgIfAhkiAAAAAlwSFlzAAAMTQAADE0B0s6tTgAAADl0RVh0U29mdHdhcmUAbWF0cGxvdGxpYiB2ZXJzaW9uIDMuMC4zLCBodHRwOi8vbWF0cGxvdGxpYi5vcmcvnQurowAAAV5JREFUeJzt3LFJBFEYRtF/ZHswMdJiDKxFKzC1AMESjAWrsAsjAzMrkDE2FN/iRc7J92Pg8oJl3u627/vQcfLXD8B3gsQIEiNIjCAxgsQIEnM45vj7xcPSLzmfr9cr52Zm5nRulu4d9vvtN593QmIEiREkRpAYQWIEiREkRpAYQWIEiREkRpAYQWIEiREkRpAYQWIEidmOeZX0ds6Xjt9tVyvnZmZm3z8WLz56hfufCBIjSIwgMYLECBIjSIwgMYLECBIjSIwgMYLECBIjSIwgMYLECBIjSIwgMUf9nfrz0+XSvX2/W7o3M3O2vSzde/vltQ4nJEaQGEFiBIkRJEaQGEFiBIkRJEaQGEFiBIkRJEaQGEFiBIkRJEaQGEFijvrHAfycExIjSIwgMYLECBIjSIwgMYLECBIjSIwgMYLECBIjSIwgMYLECBIjSIwgMYLECBIjSIwgMYLECBLzBWPjHaWGrCPCAAAAAElFTkSuQmCC\n",
      "text/plain": [
       "<Figure size 80x80 with 1 Axes>"
      ]
     },
     "metadata": {
      "needs_background": "light"
     },
     "output_type": "display_data"
    },
    {
     "name": "stdout",
     "output_type": "stream",
     "text": [
      "Accuracy: 95.45%\n"
     ]
    },
    {
     "data": {
      "image/png": "iVBORw0KGgoAAAANSUhEUgAAAGQAAABeCAYAAADVA7GfAAAABHNCSVQICAgIfAhkiAAAAAlwSFlzAAAMTQAADE0B0s6tTgAAADl0RVh0U29mdHdhcmUAbWF0cGxvdGxpYiB2ZXJzaW9uIDMuMC4zLCBodHRwOi8vbWF0cGxvdGxpYi5vcmcvnQurowAAAVVJREFUeJzt3aFNBFEYRtF/CAmSCiiAMqAJ6sBRBAKHQxIc5YCnkIdG79twxTl+vmxy88RkNjPHWmvouPjvH8BfgsQIEiNIjCAxgsQIEnN5zvGf25etNznX348752Zm5moe9u6tj+OU652QGEFiBIkRJEaQGEFiBIkRJEaQGEFiBIkRJEaQGEFiBIkRJEaQGEFizvoI9/3rbeve03G3dW9mZq2b7ZuncEJiBIkRJEaQGEFiBIkRJEaQGEFiBIkRJEaQGEFiBIkRJEaQGEFiBIkRJEaQmLP+yeH59X7r3lovW/dmZo7jc+veqa8fc0JiBIkRJEaQGEFiBIkRJEaQGEFiBIkRJEaQGEFiBIkRJEaQGEFiBIkRJObwDaoWJyRGkBhBYgSJESRGkBhBYgSJESRGkBhBYgSJESRGkBhBYgSJESRGkBhBYgSJESRGkBhBYgSJESTmFxJ/GE3JSzdiAAAAAElFTkSuQmCC\n",
      "text/plain": [
       "<Figure size 80x80 with 1 Axes>"
      ]
     },
     "metadata": {
      "needs_background": "light"
     },
     "output_type": "display_data"
    },
    {
     "name": "stdout",
     "output_type": "stream",
     "text": [
      "Accuracy: 99.73%\n"
     ]
    },
    {
     "data": {
      "image/png": "iVBORw0KGgoAAAANSUhEUgAAAGQAAABeCAYAAADVA7GfAAAABHNCSVQICAgIfAhkiAAAAAlwSFlzAAAMTQAADE0B0s6tTgAAADl0RVh0U29mdHdhcmUAbWF0cGxvdGxpYiB2ZXJzaW9uIDMuMC4zLCBodHRwOi8vbWF0cGxvdGxpYi5vcmcvnQurowAAAVFJREFUeJzt3bFNxEAARcFdREIH9EBEBVRAMxDTwnVBRILoBVJKWRISYq/FC2Zyf530tIHlkz3XWoOOq//+AfwlSIwgMYLECBIjSIwgMddnjn/fXbbe5Nx+Pe+c+/W4de1mfcwj1zshMYLECBIjSIwgMYLECBIjSIwgMYLECBIjSIwgMYLECBIjSIwgMYLEnPoI9/3zdeve07zfujfGGGvt3zzCCYkRJEaQGEFiBIkRJEaQGEFiBIkRJEaQGEFiBIkRJEaQGEFiBIkRJEaQGEFiTv2Tw8vlYeveWpete2OMMefb1r2jrx9zQmIEiREkRpAYQWIEiREkRpAYQWIEiREkRpAYQWIEiREkRpAYQWIEiREkZvoGVYsTEiNIjCAxgsQIEiNIjCAxgsQIEiNIjCAxgsQIEiNIjCAxgsQIEiNIjCAxgsQIEiNIjCAxgsQIEvMDHfsYOd5tVgUAAAAASUVORK5CYII=\n",
      "text/plain": [
       "<Figure size 80x80 with 1 Axes>"
      ]
     },
     "metadata": {
      "needs_background": "light"
     },
     "output_type": "display_data"
    },
    {
     "name": "stdout",
     "output_type": "stream",
     "text": [
      "Accuracy: 99.18%\n"
     ]
    },
    {
     "data": {
      "image/png": "iVBORw0KGgoAAAANSUhEUgAAAGQAAABeCAYAAADVA7GfAAAABHNCSVQICAgIfAhkiAAAAAlwSFlzAAAMTQAADE0B0s6tTgAAADl0RVh0U29mdHdhcmUAbWF0cGxvdGxpYiB2ZXJzaW9uIDMuMC4zLCBodHRwOi8vbWF0cGxvdGxpYi5vcmcvnQurowAAAVVJREFUeJzt3bFNxUAQQME1IqIHGoAOkMjphgSKIKAQGoBKIKIVdMTE/754wUzulaWnDSyf7GOtNXRc/PcN8JcgMYLECBIjSIwgMYLEXJ5z+Pft69aHnOuvp53jZmbmZx62zrtaH8cp19uQGEFiBIkRJEaQGEFiBIkRJEaQGEFiBIkRJEaQGEFiBIkRJEaQGEFizvoK9/3zbeu8x+Nm67yZmbXuts88hQ2JESRGkBhBYgSJESRGkBhBYgSJESRGkBhBYgSJESRGkBhBYgSJESRGkBhBYs56yOH55X7rvLVet86bmTmOvQcxTv38mA2JESRGkBhBYgSJESRGkBhBYgSJESRGkBhBYgSJESRGkBhBYgSJESRGkJjDP6habEiMIDGCxAgSI0iMIDGCxAgSI0iMIDGCxAgSI0iMIDGCxAgSI0iMIDGCxAgSI0iMIDGCxAgSI0jML3oKGTDS9Or8AAAAAElFTkSuQmCC\n",
      "text/plain": [
       "<Figure size 80x80 with 1 Axes>"
      ]
     },
     "metadata": {
      "needs_background": "light"
     },
     "output_type": "display_data"
    },
    {
     "name": "stdout",
     "output_type": "stream",
     "text": [
      "Accuracy: 93.64%\n"
     ]
    },
    {
     "data": {
      "image/png": "iVBORw0KGgoAAAANSUhEUgAAAGQAAABeCAYAAADVA7GfAAAABHNCSVQICAgIfAhkiAAAAAlwSFlzAAAMTQAADE0B0s6tTgAAADl0RVh0U29mdHdhcmUAbWF0cGxvdGxpYiB2ZXJzaW9uIDMuMC4zLCBodHRwOi8vbWF0cGxvdGxpYi5vcmcvnQurowAAAVpJREFUeJzt3bFN5FAYRtHfiIwukEiogWATykEiooRNoBASGkBbB5peCB4x8bzR3uCc3J9GunqB5ZF9rLWGjqv//QP4TZAYQWIEiREkRpAYQWKuLzl+un/depNze3rZOTczM9/rcevezfo8zrneCYkRJEaQGEFiBIkRJEaQGEFiBIkRJEaQGEFiBIkRJEaQGEFiBIkRJOaij3D/fX1s3Xs67rbuzcys9Wf75jmckBhBYgSJESRGkBhBYgSJESRGkBhBYgSJESRGkBhBYgSJESRGkBhBYgSJESTmon9yeP77sHVvrbetezMzx/G+de/c1485ITGCxAgSI0iMIDGCxAgSI0iMIDGCxAgSI0iMIDGCxAgSI0iMIDGCxAgSc/gGVYsTEiNIjCAxgsQIEiNIjCAxgsQIEiNIjCAxgsQIEiNIjCAxgsQIEiNIjCAxgsQIEiNIjCAxgsQIEvMDM7YaL0v2p8UAAAAASUVORK5CYII=\n",
      "text/plain": [
       "<Figure size 80x80 with 1 Axes>"
      ]
     },
     "metadata": {
      "needs_background": "light"
     },
     "output_type": "display_data"
    },
    {
     "name": "stdout",
     "output_type": "stream",
     "text": [
      "Accuracy: 100.00%\n"
     ]
    },
    {
     "data": {
      "image/png": "iVBORw0KGgoAAAANSUhEUgAAAGQAAABeCAYAAADVA7GfAAAABHNCSVQICAgIfAhkiAAAAAlwSFlzAAAMTQAADE0B0s6tTgAAADl0RVh0U29mdHdhcmUAbWF0cGxvdGxpYiB2ZXJzaW9uIDMuMC4zLCBodHRwOi8vbWF0cGxvdGxpYi5vcmcvnQurowAAARNJREFUeJzt3TEKw0AMAMEo+P9fVurU9pGFzPQ2B4sKF/LN7r7oeP/6AHwTJEaQGEFiBIkRJEaQmOvky2fm7z5ydnfuPG9CYgSJESRGkBhBYgSJESRGkBhBYgSJESRGkBhBYgSJESRGkBhBYgSJESRGkBhBYgSJESRGkBhBYgSJESRGkBhBYgSJESRGkBhBYgSJESRGkBhBYgSJESTm6J76007822vm1lr540xIjCAxgsQIEiNIjCAxgsQIEiNIjCAxgsQIEiNIjCAxgsQIEiNIjCAxgsSMO6haTEiMIDGCxAgSI0iMIDGCxAgSI0iMIDGCxAgSI0iMIDGCxAgSI0iMIDGCxAgSI0iMIDGCxAgSI0jMB7PqDbnHWLrXAAAAAElFTkSuQmCC\n",
      "text/plain": [
       "<Figure size 80x80 with 1 Axes>"
      ]
     },
     "metadata": {
      "needs_background": "light"
     },
     "output_type": "display_data"
    },
    {
     "name": "stdout",
     "output_type": "stream",
     "text": [
      "Accuracy: 94.91%\n",
      "Accuracy: 99.55%\n"
     ]
    },
    {
     "data": {
      "image/png": "iVBORw0KGgoAAAANSUhEUgAAAGQAAABeCAYAAADVA7GfAAAABHNCSVQICAgIfAhkiAAAAAlwSFlzAAAMTQAADE0B0s6tTgAAADl0RVh0U29mdHdhcmUAbWF0cGxvdGxpYiB2ZXJzaW9uIDMuMC4zLCBodHRwOi8vbWF0cGxvdGxpYi5vcmcvnQurowAAAWhJREFUeJzt3LFJQ1EAhtEbTSNWlnaSVlzBBYIEFAcQHEjBDRzAxs49LN3B1ibWlpIb/JBz+vsT+LhFeC9ZbLfbQcfBX38AfhIkRpAYQWIEiREkRpCY5T7Hv64vp37JuX06nDk3xhjj6uhp6t79yflil/NuSIwgMYLECBIjSIwgMYLECBIjSIwgMYLECBIjSIwgMYLECBIjSIwgMYt9vkr6cfoydXz5vJ45N8YY43P1NnXvYrX2CPc/ESRGkBhBYgSJESRGkBhBYgSJESRGkBhBYgSJESRGkBhBYgSJESRGkBhBYvb6O/XjzdnUvZv3zdS9Mca4e32cunfxsNt5NyRGkBhBYgSJESRGkBhBYgSJESRGkBhBYgSJESRGkBhBYgSJESRGkBhBYvb6xwH8nhsSI0iMIDGCxAgSI0iMIDGCxAgSI0iMIDGCxAgSI0iMIDGCxAgSI0iMIDGCxAgSI0iMIDGCxAgS8w2MpxkK4x+jmgAAAABJRU5ErkJggg==\n",
      "text/plain": [
       "<Figure size 80x80 with 1 Axes>"
      ]
     },
     "metadata": {
      "needs_background": "light"
     },
     "output_type": "display_data"
    },
    {
     "data": {
      "image/png": "iVBORw0KGgoAAAANSUhEUgAAAGQAAABeCAYAAADVA7GfAAAABHNCSVQICAgIfAhkiAAAAAlwSFlzAAAMTQAADE0B0s6tTgAAADl0RVh0U29mdHdhcmUAbWF0cGxvdGxpYiB2ZXJzaW9uIDMuMC4zLCBodHRwOi8vbWF0cGxvdGxpYi5vcmcvnQurowAAAWVJREFUeJzt3LFJH2Ecx+HfiSuIM4iLWAiBOETQ1imcQMEdQuo0ZolUYukCZoB/asvge+SDPE9/Xw4+vMVx3G2Hw2HoOPrfN8B7gsQIEiNIjCAxgsQIEnO86/rD7dKHnPN5XDk3MzN3V89L9y5PTrePXO+ExAgSI0iMIDGCxAgSI0iMIDGCxAgSI0iMIDGCxAgSI0iMIDGCxAgSs+sr3JvrP0v3fr++Ld2bmXl6+b528OTrhy53QmIEiREkRpAYQWIEiREkRpAYQWIEiREkRpAYQWIEiREkRpAYQWIEiREkRpCYbdf/Zf2cpePbt7OVczMz8+Pi19K9L/e+U/9UBIkRJEaQGEFiBIkRJEaQGEFiBIkRJEaQGEFiBIkRJEaQGEFiBIkRJGbfd+r8MyckRpAYQWIEiREkRpAYQWIEiREkRpAYQWIEiREkRpAYQWIEiREkRpAYQWIEiREkRpAYQWIEiREk5i9tfRrYpG6UeAAAAABJRU5ErkJggg==\n",
      "text/plain": [
       "<Figure size 80x80 with 1 Axes>"
      ]
     },
     "metadata": {
      "needs_background": "light"
     },
     "output_type": "display_data"
    },
    {
     "name": "stdout",
     "output_type": "stream",
     "text": [
      "Accuracy: 97.18%\n"
     ]
    },
    {
     "data": {
      "image/png": "iVBORw0KGgoAAAANSUhEUgAAAGQAAABeCAYAAADVA7GfAAAABHNCSVQICAgIfAhkiAAAAAlwSFlzAAAMTQAADE0B0s6tTgAAADl0RVh0U29mdHdhcmUAbWF0cGxvdGxpYiB2ZXJzaW9uIDMuMC4zLCBodHRwOi8vbWF0cGxvdGxpYi5vcmcvnQurowAAAWJJREFUeJzt3bFJBFEUQNE/IobGi1ZhByaCJViBHSw2YRuCDQgrGtiBqZmRBZiarLHx/sEbnJP/x8DlBcN8mGW/3w86jv77AfhLkBhBYgSJESRGkBhBYo5Xnf58P/Ul53y3nTlujDHGw9331HmXm9PlkPM2JEaQGEFiBIkRJEaQGEFiBIkRJEaQGEFiBIkRJEaQGEFiBIkRJEaQmFU/4V5c76bO+/qZf+316e1x7sDNzUHHbUiMIDGCxAgSI0iMIDGCxAgSI0iMIDGCxAgSI0iMIDGCxAgSI0iMIDGCxAgSs+olh/fP16nzlpOzqfPGGOPl9mPuwKvDjtuQGEFiBIkRJEaQGEFiBIkRJEaQGEFiBIkRJEaQGEFiBIkRJEaQGEFiBIlZ/IOqxYbECBIjSIwgMYLECBIjSIwgMYLECBIjSIwgMYLECBIjSIwgMYLECBIjSIwgMYLECBIjSIwgMYLE/AIdNhggTElZCgAAAABJRU5ErkJggg==\n",
      "text/plain": [
       "<Figure size 80x80 with 1 Axes>"
      ]
     },
     "metadata": {
      "needs_background": "light"
     },
     "output_type": "display_data"
    },
    {
     "name": "stdout",
     "output_type": "stream",
     "text": [
      "Accuracy: 99.45%\n"
     ]
    },
    {
     "data": {
      "image/png": "iVBORw0KGgoAAAANSUhEUgAAAGQAAABeCAYAAADVA7GfAAAABHNCSVQICAgIfAhkiAAAAAlwSFlzAAAMTQAADE0B0s6tTgAAADl0RVh0U29mdHdhcmUAbWF0cGxvdGxpYiB2ZXJzaW9uIDMuMC4zLCBodHRwOi8vbWF0cGxvdGxpYi5vcmcvnQurowAAAV5JREFUeJzt3aFNBUEUQNFZgsJ/gaASEhr4HeCRdEEJvwAMaBB4EgRtkCDBoheN/rPhinP8vGxy88RmJ9llXddBx8l/PwB/CRIjSIwgMYLECBIjSMzpptPfDlNfcnb3tzPHjTHGeLr7mTrv8vxsOea8DYkRJEaQGEFiBIkRJEaQGEFiBIkRJEaQGEFiBIkRJEaQGEFiBIkRJGbTT7gXVw9T531tcO31+eVx7sD99VHHbUiMIDGCxAgSI0iMIDGCxAgSI0iMIDGCxAgSI0iMIDGCxAgSI0iMIDGCxAgSs+klh8/v96nzlmU3dd4YY7zefMwduD/uuA2JESRGkBhBYgSJESRGkBhBYgSJESRGkBhBYgSJESRGkBhBYgSJESRGkJjFP6habEiMIDGCxAgSI0iMIDGCxAgSI0iMIDGCxAgSI0iMIDGCxAgSI0iMIDGCxAgSI0iMIDGCxAgSI0jML6jTGFITNCFwAAAAAElFTkSuQmCC\n",
      "text/plain": [
       "<Figure size 80x80 with 1 Axes>"
      ]
     },
     "metadata": {
      "needs_background": "light"
     },
     "output_type": "display_data"
    },
    {
     "name": "stdout",
     "output_type": "stream",
     "text": [
      "Accuracy: 99.18%\n"
     ]
    },
    {
     "data": {
      "image/png": "iVBORw0KGgoAAAANSUhEUgAAAGQAAABeCAYAAADVA7GfAAAABHNCSVQICAgIfAhkiAAAAAlwSFlzAAAMTQAADE0B0s6tTgAAADl0RVh0U29mdHdhcmUAbWF0cGxvdGxpYiB2ZXJzaW9uIDMuMC4zLCBodHRwOi8vbWF0cGxvdGxpYi5vcmcvnQurowAAAV5JREFUeJzt3SFKBVEUgOE7YjG/IC5F9/BWYLa4EnfwbCa7oBswCW7DZBBM1jGb3x38w/f1exj4OWGYC7Os6zroOPnvB+AvQWIEiREkRpAYQWIEiTnddPrbYepLzu7+dua4McYYL3c/U+ddXpwtx5y3ITGCxAgSI0iMIDGCxAgSI0iMIDGCxAgSI0iMIDGCxAgSI0iMIDGCxGz6Cff86mHqvK8Nrr0+PT/OHbi/Puq4DYkRJEaQGEFiBIkRJEaQGEFiBIkRJEaQGEFiBIkRJEaQGEFiBIkRJEaQGEFiNr3k8Pn9PnXesuymzhtjjNebj7kD98cdtyExgsQIEiNIjCAxgsQIEiNIjCAxgsQIEiNIjCAxgsQIEiNIjCAxgsQIErP4B1WLDYkRJEaQGEFiBIkRJEaQGEFiBIkRJEaQGEFiBIkRJEaQGEFiBIkRJEaQGEFiBIkRJEaQGEFiBIn5BUchGFS1TYc8AAAAAElFTkSuQmCC\n",
      "text/plain": [
       "<Figure size 80x80 with 1 Axes>"
      ]
     },
     "metadata": {
      "needs_background": "light"
     },
     "output_type": "display_data"
    },
    {
     "name": "stdout",
     "output_type": "stream",
     "text": [
      "Accuracy: 99.91%\n"
     ]
    },
    {
     "data": {
      "image/png": "iVBORw0KGgoAAAANSUhEUgAAAGQAAABeCAYAAADVA7GfAAAABHNCSVQICAgIfAhkiAAAAAlwSFlzAAAMTQAADE0B0s6tTgAAADl0RVh0U29mdHdhcmUAbWF0cGxvdGxpYiB2ZXJzaW9uIDMuMC4zLCBodHRwOi8vbWF0cGxvdGxpYi5vcmcvnQurowAAAVtJREFUeJzt3SFOxUAUQNEpQaArWQls4q8ATdgLEkWweBIEG8Ag2Ab2GwTyo9GdhivO8fPS5OaJppN0OZ1Og46z/34A/hIkRpAYQWIEiREkRpCY812nfzxOfclZH+5mjhtjjPF2/zN13tXlxbLlvA2JESRGkBhBYgSJESRGkBhBYgSJESRGkBhBYgSJESRGkBhBYgSJESRm10+46/XT1HnHHa69vrw+zx14uNl03IbECBIjSIwgMYLECBIjSIwgMYLECBIjSIwgMYLECBIjSIwgMYLECBIjSIwgMbtecjh+f06dtyzr1HljjPF++zV34GHbcRsSI0iMIDGCxAgSI0iMIDGCxAgSI0iMIDGCxAgSI0iMIDGCxAgSI0iMIDGLf1C12JAYQWIEiREkRpAYQWIEiREkRpAYQWIEiREkRpAYQWIEiREkRpAYQWIEiREkRpAYQWIEiREkRpCYX2AaGFny08K5AAAAAElFTkSuQmCC\n",
      "text/plain": [
       "<Figure size 80x80 with 1 Axes>"
      ]
     },
     "metadata": {
      "needs_background": "light"
     },
     "output_type": "display_data"
    },
    {
     "name": "stdout",
     "output_type": "stream",
     "text": [
      "Accuracy: 99.45%\n"
     ]
    },
    {
     "data": {
      "image/png": "iVBORw0KGgoAAAANSUhEUgAAAGQAAABeCAYAAADVA7GfAAAABHNCSVQICAgIfAhkiAAAAAlwSFlzAAAMTQAADE0B0s6tTgAAADl0RVh0U29mdHdhcmUAbWF0cGxvdGxpYiB2ZXJzaW9uIDMuMC4zLCBodHRwOi8vbWF0cGxvdGxpYi5vcmcvnQurowAAAWZJREFUeJzt3SFKBVEAhtH7xGYyGIwuQnEFFrvpLcAgNuFtQnfhFqzuQYNgswgWN2AYs/ndh184p8/PwMcNwwzMalmWQcfef98AfwkSI0iMIDGCxAgSI0jM/i7H3y5Ppj7kPD3fz5wbY4zxc30zdW/z8Lna5nonJEaQGEFiBIkRJEaQGEFiBIkRJEaQGEFiBIkRJEaQGEFiBIkRJEaQmJ2+wv06OJ26tz66mLo3xhiPd7fTN7fhhMQIEiNIjCAxgsQIEiNIjCAxgsQIEiNIjCAxgsQIEiNIjCAxgsQIEiNIjCAxO/3I4eX8Y+re+9XZ1L0xxvh+PZw7eLzZ6nInJEaQGEFiBIkRJEaQGEFiBIkRJEaQGEFiBIkRJEaQGEFiBIkRJEaQGEFiVv5B1eKExAgSI0iMIDGCxAgSI0iMIDGCxAgSI0iMIDGCxAgSI0iMIDGCxAgSI0iMIDGCxAgSI0iMIDGCxPwC/q4X17rjPIgAAAAASUVORK5CYII=\n",
      "text/plain": [
       "<Figure size 80x80 with 1 Axes>"
      ]
     },
     "metadata": {
      "needs_background": "light"
     },
     "output_type": "display_data"
    },
    {
     "data": {
      "image/png": "iVBORw0KGgoAAAANSUhEUgAAAGQAAABeCAYAAADVA7GfAAAABHNCSVQICAgIfAhkiAAAAAlwSFlzAAAMTQAADE0B0s6tTgAAADl0RVh0U29mdHdhcmUAbWF0cGxvdGxpYiB2ZXJzaW9uIDMuMC4zLCBodHRwOi8vbWF0cGxvdGxpYi5vcmcvnQurowAAAWFJREFUeJzt3bFJBFEARdG/YmAkGApiHYKYaQ1bgXZgAeabbaZgbgei2dajtjDGxvsXb3BOPo+Byw+GGZjVsiyDjqP/vgH+EiRGkBhBYgSJESRGkJjjg64/3k59yFlvrmfOjTHGOL3ZTt172f2s9rneCYkRJEaQGEFiBIkRJEaQGEFiBIkRJEaQGEFiBIkRJEaQGEFiBIkRJOagr3DfN19T994un6bujTHG5+5i+uY+nJAYQWIEiREkRpAYQWIEiREkRpAYQWIEiREkRpAYQWIEiREkRpAYQWIEiREk5qAfOZy9nk/d236cTN0bY4zv56upe3cP93td74TECBIjSIwgMYLECBIjSIwgMYLECBIjSIwgMYLECBIjSIwgMYLECBIjSMzKP6hanJAYQWIEiREkRpAYQWIEiREkRpAYQWIEiREkRpAYQWIEiREkRpAYQWIEiREkRpAYQWIEiREkRpCYX8i2FrjOFp7YAAAAAElFTkSuQmCC\n",
      "text/plain": [
       "<Figure size 80x80 with 1 Axes>"
      ]
     },
     "metadata": {
      "needs_background": "light"
     },
     "output_type": "display_data"
    },
    {
     "name": "stdout",
     "output_type": "stream",
     "text": [
      "Accuracy: 52.09%\n"
     ]
    },
    {
     "data": {
      "image/png": "iVBORw0KGgoAAAANSUhEUgAAAGQAAABeCAYAAADVA7GfAAAABHNCSVQICAgIfAhkiAAAAAlwSFlzAAAMTQAADE0B0s6tTgAAADl0RVh0U29mdHdhcmUAbWF0cGxvdGxpYiB2ZXJzaW9uIDMuMC4zLCBodHRwOi8vbWF0cGxvdGxpYi5vcmcvnQurowAAAV5JREFUeJzt3LFJBEEAhtFZMbIbreDAxDZMLEGMbMDA2MwqNBOMjBRLEYxljQ3lZvFD3svvZ+FjgmP2blnXddBx8NcPwE+CxAgSI0iMIDGCxAgSc7jp+vPl1C85y+595twYY4yTg5epe69fn8s+n3dCYgSJESRGkBhBYgSJESRGkBhBYgSJESRGkBhBYgSJESRGkBhBYgSJ2fQK93Z3M3VvPZ7/2uvH28P0zX04ITGCxAgSI0iMIDGCxAgSI0iMIDGCxAgSI0iMIDGCxAgSI0iMIDGCxAgSI0jMsun/ZT2dTx2/Pr2fOTfGGOPo4mzq3tXdo9+p/yeCxAgSI0iMIDGCxAgSI0iMIDGCxAgSI0iMIDGCxAgSI0iMIDGCxAgSs+2dOr/mhMQIEiNIjCAxgsQIEiNIjCAxgsQIEiNIjCAxgsQIEiNIjCAxgsQIEiNIjCAxgsQIEiNIjCAxgsR8AwVtHLJFfbgpAAAAAElFTkSuQmCC\n",
      "text/plain": [
       "<Figure size 80x80 with 1 Axes>"
      ]
     },
     "metadata": {
      "needs_background": "light"
     },
     "output_type": "display_data"
    },
    {
     "name": "stdout",
     "output_type": "stream",
     "text": [
      "Accuracy: 98.27%\n"
     ]
    },
    {
     "data": {
      "image/png": "iVBORw0KGgoAAAANSUhEUgAAAGQAAABeCAYAAADVA7GfAAAABHNCSVQICAgIfAhkiAAAAAlwSFlzAAAMTQAADE0B0s6tTgAAADl0RVh0U29mdHdhcmUAbWF0cGxvdGxpYiB2ZXJzaW9uIDMuMC4zLCBodHRwOi8vbWF0cGxvdGxpYi5vcmcvnQurowAAAV9JREFUeJzt3KFNBEEAhtFZQg84zLWAuRpQ1IGFIOiAAqjhFIoGMDgKwJBQBHrRSHKz4Qt5z9+fTb6MuMzeLeu6DjpO/voB+EmQGEFiBIkRJEaQGEFiTjdd/3iY+iVn2R1mzo0xxjgf71P3Ptev5ZjPOyExgsQIEiNIjCAxgsQIEiNIjCAxgsQIEiNIjCAxgsQIEiNIjCAxgsRseoV7v7uburfuN3jt9fVl/uYRnJAYQWIEiREkRpAYQWIEiREkRpAYQWIEiREkRpAYQWIEiREkRpAYQWIEiREkZtn0/7LerqeO31w8zpwbY4xxdnU5de/26dnv1P8TQWIEiREkRpAYQWIEiREkRpAYQWIEiREkRpAYQWIEiREkRpAYQWIEidn2Tp1fc0JiBIkRJEaQGEFiBIkRJEaQGEFiBIkRJEaQGEFiBIkRJEaQGEFiBIkRJEaQGEFiBIkRJEaQGEFivgHWRhuIuBVqRAAAAABJRU5ErkJggg==\n",
      "text/plain": [
       "<Figure size 80x80 with 1 Axes>"
      ]
     },
     "metadata": {
      "needs_background": "light"
     },
     "output_type": "display_data"
    },
    {
     "name": "stdout",
     "output_type": "stream",
     "text": [
      "Accuracy: 99.36%\n"
     ]
    },
    {
     "data": {
      "image/png": "iVBORw0KGgoAAAANSUhEUgAAAGQAAABeCAYAAADVA7GfAAAABHNCSVQICAgIfAhkiAAAAAlwSFlzAAAMTQAADE0B0s6tTgAAADl0RVh0U29mdHdhcmUAbWF0cGxvdGxpYiB2ZXJzaW9uIDMuMC4zLCBodHRwOi8vbWF0cGxvdGxpYi5vcmcvnQurowAAAVpJREFUeJzt3LFJQ1EAhtH7xBkklRs4QhYQZzGFTpLOOSQLCG5gb50FbJ+1peQ+/JBz+vw8+LhFuC9Z1nUddFz99QPwkyAxgsQIEiNIjCAxgsRcb7p+Pk79krPsXmbOjTHGuBmfU/fO69dyyeedkBhBYgSJESRGkBhBYgSJESRGkBhBYgSJESRGkBhBYgSJESRGkBhBYja9wn3aHaburfsNXnt9e5+/eQEnJEaQGEFiBIkRJEaQGEFiBIkRJEaQGEFiBIkRJEaQGEFiBIkRJEaQGEFiBIlZNv2/rI/D1PHHu+PMuTHGGLf3D1P3nk+vfqf+nwgSI0iMIDGCxAgSI0iMIDGCxAgSI0iMIDGCxAgSI0iMIDGCxAgSI0jMtnfq/JoTEiNIjCAxgsQIEiNIjCAxgsQIEiNIjCAxgsQIEiNIjCAxgsQIEiNIjCAxgsQIEiNIjCAxgsQIEvMNb9QbcfUZBPoAAAAASUVORK5CYII=\n",
      "text/plain": [
       "<Figure size 80x80 with 1 Axes>"
      ]
     },
     "metadata": {
      "needs_background": "light"
     },
     "output_type": "display_data"
    },
    {
     "name": "stdout",
     "output_type": "stream",
     "text": [
      "Accuracy: 100.00%\n"
     ]
    },
    {
     "data": {
      "image/png": "iVBORw0KGgoAAAANSUhEUgAAAGQAAABeCAYAAADVA7GfAAAABHNCSVQICAgIfAhkiAAAAAlwSFlzAAAMTQAADE0B0s6tTgAAADl0RVh0U29mdHdhcmUAbWF0cGxvdGxpYiB2ZXJzaW9uIDMuMC4zLCBodHRwOi8vbWF0cGxvdGxpYi5vcmcvnQurowAAAVpJREFUeJzt3bFJxVAUgOEbcQLfBJZOYWflJg8LwUme4CJ2VnaOYO0A2lrGWrDLDf7F9/U5BH5OEXJDlnVdBx1n/30D/CZIjCAxgsQIEiNIjCAx57tO/3qa+pCzHE4zx40xxrgYH1Pnfa7fy5brbUiMIDGCxAgSI0iMIDGCxAgSI0iMIDGCxAgSI0iMIDGCxAgSI0iMIDG7vsK9Oxynzluvdzj2+vo2f+YGNiRGkBhBYgSJESRGkBhBYgSJESRGkBhBYgSJESRGkBhBYgSJESRGkBhBYgSJ2fWQw+P7/dR5x6tNn4D/6fLmduq8h5fnTdfbkBhBYgSJESRGkBhBYgSJESRGkBhBYgSJESRGkBhBYgSJESRGkBhBYgSJWfyDqsWGxAgSI0iMIDGCxAgSI0iMIDGCxAgSI0iMIDGCxAgSI0iMIDGCxAgSI0iMIDGCxAgSI0iMIDGCxPwAOWkXbkBR60IAAAAASUVORK5CYII=\n",
      "text/plain": [
       "<Figure size 80x80 with 1 Axes>"
      ]
     },
     "metadata": {
      "needs_background": "light"
     },
     "output_type": "display_data"
    },
    {
     "name": "stdout",
     "output_type": "stream",
     "text": [
      "Accuracy: 97.00%\n"
     ]
    },
    {
     "data": {
      "image/png": "iVBORw0KGgoAAAANSUhEUgAAAGQAAABeCAYAAADVA7GfAAAABHNCSVQICAgIfAhkiAAAAAlwSFlzAAAMTQAADE0B0s6tTgAAADl0RVh0U29mdHdhcmUAbWF0cGxvdGxpYiB2ZXJzaW9uIDMuMC4zLCBodHRwOi8vbWF0cGxvdGxpYi5vcmcvnQurowAAAQ9JREFUeJzt3DEKwzAQAMFcyP+/fKlTOyYbNNNLGJYrhJBndx90PH/9AXwSJEaQGEFiBIkRJEaQmNedm8/McYec3Z0r601IjCAxgsQIEiNIjCAxgsQIEiNIjCAxgsQIEiNIjCAxgsQIEiNIjCAxgsQIEiNIjCAxgsQIEiNIjCAxgsQIEiNIjCAxgsQIEiNIjCAxgsQIEiNIjCAxgsTc+k792074t5cJiREkRpAYQWIEiREkRpAYQWIEiREkRpAYQWIEiREkRpAYQWIEiREkRpCYOeGe+p+YkBhBYgSJESRGkBhBYgSJESRGkBhBYgSJESRGkBhBYgSJESRGkBhBYgSJESRGkBhBYgSJESRGkJg33rcNtnTEh7IAAAAASUVORK5CYII=\n",
      "text/plain": [
       "<Figure size 80x80 with 1 Axes>"
      ]
     },
     "metadata": {
      "needs_background": "light"
     },
     "output_type": "display_data"
    },
    {
     "name": "stdout",
     "output_type": "stream",
     "text": [
      "Accuracy: 95.64%\n",
      "Accuracy: 99.36%\n"
     ]
    },
    {
     "data": {
      "image/png": "iVBORw0KGgoAAAANSUhEUgAAAGQAAABeCAYAAADVA7GfAAAABHNCSVQICAgIfAhkiAAAAAlwSFlzAAAMTQAADE0B0s6tTgAAADl0RVh0U29mdHdhcmUAbWF0cGxvdGxpYiB2ZXJzaW9uIDMuMC4zLCBodHRwOi8vbWF0cGxvdGxpYi5vcmcvnQurowAAAWhJREFUeJzt2iFKBVEAhtH7RKsbMLmCV0yC4GZMNuNrdsFus5vFVVhdgBgEwSTGMRvF+/BDzunzM/AxYbh3tSzLoGPnr1+A7wSJESRGkBhBYgSJESRmd5vjp0+vU39yTvffZ86NMcZYru6n7l1eX6x+87wvJEaQGEFiBIkRJEaQGEFiBIkRJEaQGEFiBIkRJEaQGEFiBIkRJEaQmNU2r5K+3Z1NHX8+P5k5N8YY4/hxPXXv82DtCPc/ESRGkBhBYgSJESRGkBhBYgSJESRGkBhBYgSJESRGkBhBYgSJESRGkBhBYrZ6yeF5szd1fHN0OHNujDHGzs3H1L3bhxeXHP4TQWIEiREkRpAYQWIEiREkRpAYQWIEiREkRpAYQWIEiREkRpAYQWIEidnqmTo/5wuJESRGkBhBYgSJESRGkBhBYgSJESRGkBhBYgSJESRGkBhBYgSJESRGkBhBYgSJESRGkBhBYgSJ+QKq9yKvcwjvbAAAAABJRU5ErkJggg==\n",
      "text/plain": [
       "<Figure size 80x80 with 1 Axes>"
      ]
     },
     "metadata": {
      "needs_background": "light"
     },
     "output_type": "display_data"
    },
    {
     "data": {
      "image/png": "iVBORw0KGgoAAAANSUhEUgAAAGQAAABeCAYAAADVA7GfAAAABHNCSVQICAgIfAhkiAAAAAlwSFlzAAAMTQAADE0B0s6tTgAAADl0RVh0U29mdHdhcmUAbWF0cGxvdGxpYiB2ZXJzaW9uIDMuMC4zLCBodHRwOi8vbWF0cGxvdGxpYi5vcmcvnQurowAAAWJJREFUeJzt3DFKxFAARdE/amkjWLgDF2HlDgZLOysL1zO7EHstbFyEzB4Ed2CsLWV+8CLn9HkELr8IIdksyzLoOPrrG+AnQWIEiREkRpAYQWIEiTlZc/z8aT/1Ief55nLm3BhjjNuzh6l7+8/d5pDrnZAYQWIEiREkRpAYQWIEiREkRpAYQWIEiREkRpAYQWIEiREkRpAYQWJWfYX7cfE4de9+czp1b4wxrpbd9M1DOCExgsQIEiNIjCAxgsQIEiNIjCAxgsQIEiNIjCAxgsQIEiNIjCAxgsQIEiNIzGbN/2W9b4+njr9tr2fOjTHGeLx7nbr3snz5Tv0/ESRGkBhBYgSJESRGkBhBYgSJESRGkBhBYgSJESRGkBhBYgSJESRGkJhV36nze05IjCAxgsQIEiNIjCAxgsQIEiNIjCAxgsQIEiNIjCAxgsQIEiNIjCAxgsQIEiNIjCAxgsQIEiNIzDfylRyocg6+nAAAAABJRU5ErkJggg==\n",
      "text/plain": [
       "<Figure size 80x80 with 1 Axes>"
      ]
     },
     "metadata": {
      "needs_background": "light"
     },
     "output_type": "display_data"
    },
    {
     "name": "stdout",
     "output_type": "stream",
     "text": [
      "Accuracy: 99.36%\n"
     ]
    },
    {
     "data": {
      "image/png": "iVBORw0KGgoAAAANSUhEUgAAAGQAAABeCAYAAADVA7GfAAAABHNCSVQICAgIfAhkiAAAAAlwSFlzAAAMTQAADE0B0s6tTgAAADl0RVh0U29mdHdhcmUAbWF0cGxvdGxpYiB2ZXJzaW9uIDMuMC4zLCBodHRwOi8vbWF0cGxvdGxpYi5vcmcvnQurowAAAV5JREFUeJzt3LFJxVAAhtEbcQFHETvBJewsLMVBXMDeAV7nAA4gVjqGpSNca0t5N/gh5/T5CXzcIoRkm3MOOk7++gb4SZAYQWIEiREkRpAYQWJO9xzfnj6WPuR83Z2vnBtjjHG23Szdm/OwHXO9ExIjSIwgMYLECBIjSIwgMYLECBIjSIwgMYLECBIjSIwgMYLECBIjSMyur3Dn5evSvYvtZeneGGM8zsPyzWM4ITGCxAgSI0iMIDGCxAgSI0iMIDGCxAgSI0iMIDGCxAgSI0iMIDGCxAgSI0jMtuf/st6vtqXjn7fXK+fGGGM83D8v3Xub03fq/4kgMYLECBIjSIwgMYLECBIjSIwgMYLECBIjSIwgMYLECBIjSIwgMYLE7PpOnd9zQmIEiREkRpAYQWIEiREkRpAYQWIEiREkRpAYQWIEiREkRpAYQWIEiREkRpAYQWIEiREkRpAYQWK+AaXDHdj91AfVAAAAAElFTkSuQmCC\n",
      "text/plain": [
       "<Figure size 80x80 with 1 Axes>"
      ]
     },
     "metadata": {
      "needs_background": "light"
     },
     "output_type": "display_data"
    },
    {
     "name": "stdout",
     "output_type": "stream",
     "text": [
      "Accuracy: 100.00%\n"
     ]
    },
    {
     "data": {
      "image/png": "iVBORw0KGgoAAAANSUhEUgAAAGQAAABeCAYAAADVA7GfAAAABHNCSVQICAgIfAhkiAAAAAlwSFlzAAAMTQAADE0B0s6tTgAAADl0RVh0U29mdHdhcmUAbWF0cGxvdGxpYiB2ZXJzaW9uIDMuMC4zLCBodHRwOi8vbWF0cGxvdGxpYi5vcmcvnQurowAAAVxJREFUeJzt3L1JBUEARtFZEQuxBsEKrMDA2FCMLcXc1OA1YAv+NGNmMsaG8mbxIufk+7FwmWBZdrc556Dj5K9vgJ8EiREkRpAYQWIEiREk5nTP8e3xbelDztf9xcq5McYYZ9v10r05D9sx1zshMYLECBIjSIwgMYLECBIjSIwgMYLECBIjSIwgMYLECBIjSIwgMYLE7PoKd159LN07316W7o0xxtM8LN88hhMSI0iMIDGCxAgSI0iMIDGCxAgSI0iMIDGCxAgSI0iMIDGCxAgSI0iMIDGCxGx7/i/r9XJbOv55e7NybowxxsPd89K99zl9p/6fCBIjSIwgMYLECBIjSIwgMYLECBIjSIwgMYLECBIjSIwgMYLECBIjSMyu79T5PSckRpAYQWIEiREkRpAYQWIEiREkRpAYQWIEiREkRpAYQWIEiREkRpAYQWIEiREkRpAYQWIEiREk5htp9h3wIVjq+QAAAABJRU5ErkJggg==\n",
      "text/plain": [
       "<Figure size 80x80 with 1 Axes>"
      ]
     },
     "metadata": {
      "needs_background": "light"
     },
     "output_type": "display_data"
    },
    {
     "name": "stdout",
     "output_type": "stream",
     "text": [
      "Accuracy: 100.00%\n"
     ]
    },
    {
     "data": {
      "image/png": "iVBORw0KGgoAAAANSUhEUgAAAGQAAABeCAYAAADVA7GfAAAABHNCSVQICAgIfAhkiAAAAAlwSFlzAAAMTQAADE0B0s6tTgAAADl0RVh0U29mdHdhcmUAbWF0cGxvdGxpYiB2ZXJzaW9uIDMuMC4zLCBodHRwOi8vbWF0cGxvdGxpYi5vcmcvnQurowAAAVtJREFUeJzt3DFKxUAARdGJug2X8fdga2ltZWHhWlyDWP7eHYgguBsbGWtL+RO8yDl9HoHLFCEk25xz0HH21zfAT4LECBIjSIwgMYLECBJzsef49vi29CHn6/6wcm6MMcb5dr10b87jdsr1TkiMIDGCxAgSI0iMIDGCxAgSI0iMIDGCxAgSI0iMIDGCxAgSI0iMIDG7vsKdVx9L9y63l6V7Y4zxNI/LN0/hhMQIEiNIjCAxgsQIEiNIjCAxgsQIEiNIjCAxgsQIEiNIjCAxgsQIEiNIjCAx257/y3o9bEvHP29vVs6NMcZ4uHteuvc+p+/U/xNBYgSJESRGkBhBYgSJESRGkBhBYgSJESRGkBhBYgSJESRGkBhBYgSJ2fWdOr/nhMQIEiNIjCAxgsQIEiNIjCAxgsQIEiNIjCAxgsQIEiNIjCAxgsQIEiNIjCAxgsQIEiNIjCAxgsR8A6taHfg57XHwAAAAAElFTkSuQmCC\n",
      "text/plain": [
       "<Figure size 80x80 with 1 Axes>"
      ]
     },
     "metadata": {
      "needs_background": "light"
     },
     "output_type": "display_data"
    },
    {
     "name": "stdout",
     "output_type": "stream",
     "text": [
      "Accuracy: 100.00%\n"
     ]
    },
    {
     "data": {
      "image/png": "iVBORw0KGgoAAAANSUhEUgAAAGQAAABeCAYAAADVA7GfAAAABHNCSVQICAgIfAhkiAAAAAlwSFlzAAAMTQAADE0B0s6tTgAAADl0RVh0U29mdHdhcmUAbWF0cGxvdGxpYiB2ZXJzaW9uIDMuMC4zLCBodHRwOi8vbWF0cGxvdGxpYi5vcmcvnQurowAAAVlJREFUeJzt3LFJBUEARdEZsQvb0CaMjI1NTLQXixDDn1qCGIjlGI2xofz5eJFz8n0sXCZYlt251hp0nP31DfCTIDGCxAgSI0iMIDGCxJyfcnw+vW99yFkPVzvnxhhjzHmzdW+twzzmeickRpAYQWIEiREkRpAYQWIEiREkRpAYQWIEiREkRpAYQWIEiREkRpCYk77CXdefW/cu5uvWvTHGeFmH7ZvHcEJiBIkRJEaQGEFiBIkRJEaQGEFiBIkRJEaQGEFiBIkRJEaQGEFiBIkRJEaQmHnK/2W9Xc6t4193tzvnxhhjPN4/b937WMt36v+JIDGCxAgSI0iMIDGCxAgSI0iMIDGCxAgSI0iMIDGCxAgSI0iMIDGCxJz0nTq/54TECBIjSIwgMYLECBIjSIwgMYLECBIjSIwgMYLECBIjSIwgMYLECBIjSIwgMYLECBIjSIwgMYLEfAPjmR37xsxk+gAAAABJRU5ErkJggg==\n",
      "text/plain": [
       "<Figure size 80x80 with 1 Axes>"
      ]
     },
     "metadata": {
      "needs_background": "light"
     },
     "output_type": "display_data"
    },
    {
     "name": "stdout",
     "output_type": "stream",
     "text": [
      "Accuracy: 100.00%\n"
     ]
    },
    {
     "data": {
      "image/png": "iVBORw0KGgoAAAANSUhEUgAAAGQAAABeCAYAAADVA7GfAAAABHNCSVQICAgIfAhkiAAAAAlwSFlzAAAMTQAADE0B0s6tTgAAADl0RVh0U29mdHdhcmUAbWF0cGxvdGxpYiB2ZXJzaW9uIDMuMC4zLCBodHRwOi8vbWF0cGxvdGxpYi5vcmcvnQurowAAAWlJREFUeJzt3CFOQ0EARdEpqWcxSAS7YAMIDA5FEGiCwZOAwqEwWDQbwCCxCEwdKRpJOg035Bw/L01uRjT/t4v1ej3o2PnrD8BPgsQIEiNIjCAxgsQIErPc5vjh8f7ULzl7L18z58YYYzxfv07dezr4XGxy3g2JESRGkBhBYgSJESRGkBhBYgSJESRGkBhBYgSJESRGkBhBYgSJESRmsc1XST9WN1PHH07eZ86NMcY4Wq+m7i3vrjzC/U8EiREkRpAYQWIEiREkRpAYQWIEiREkRpAYQWIEiREkRpAYQWIEiREkRpCYrf5O/fTtdure2ePu1L0xxri8uJ+6d77heTckRpAYQWIEiREkRpAYQWIEiREkRpAYQWIEiREkRpAYQWIEiREkRpAYQWK2+scB/J4bEiNIjCAxgsQIEiNIjCAxgsQIEiNIjCAxgsQIEiNIjCAxgsQIEiNIjCAxgsQIEiNIjCAxgsQIEvMNPz0gBMiu670AAAAASUVORK5CYII=\n",
      "text/plain": [
       "<Figure size 80x80 with 1 Axes>"
      ]
     },
     "metadata": {
      "needs_background": "light"
     },
     "output_type": "display_data"
    },
    {
     "data": {
      "image/png": "iVBORw0KGgoAAAANSUhEUgAAAGQAAABeCAYAAADVA7GfAAAABHNCSVQICAgIfAhkiAAAAAlwSFlzAAAMTQAADE0B0s6tTgAAADl0RVh0U29mdHdhcmUAbWF0cGxvdGxpYiB2ZXJzaW9uIDMuMC4zLCBodHRwOi8vbWF0cGxvdGxpYi5vcmcvnQurowAAAV1JREFUeJzt3SFOxFAARdFfgpgEwR5Q7IJlgCAsAYNgH1gcSMTsg80QBIFRRaPnN1xxju9Lk5svmjbpsq7roOPkv2+AvwSJESRGkBhBYgSJESTmdMvxs9351Iec58PlzLkxxhhvr+9T9/a363LM9U5IjCAxgsQIEiNIjCAxgsQIEiNIjCAxgsQIEiNIjCAxgsQIEiNIjCAxm77C/fr5nLr3uLueujfGGPuPm+mbx3BCYgSJESRGkBhBYgSJESRGkBhBYgSJESRGkBhBYgSJESRGkBhBYgSJESRGkJhNP3K4eLiauvd02E3dG2OMl+/7qXt3R17vhMQIEiNIjCAxgsQIEiNIjCAxgsQIEiNIjCAxgsQIEiNIjCAxgsQIEiNIzOIfVC1OSIwgMYLECBIjSIwgMYLECBIjSIwgMYLECBIjSIwgMYLECBIjSIwgMYLECBIjSIwgMYLECBIjSMwvSzYYMQsxD28AAAAASUVORK5CYII=\n",
      "text/plain": [
       "<Figure size 80x80 with 1 Axes>"
      ]
     },
     "metadata": {
      "needs_background": "light"
     },
     "output_type": "display_data"
    },
    {
     "name": "stdout",
     "output_type": "stream",
     "text": [
      "Accuracy: 100.00%\n"
     ]
    },
    {
     "data": {
      "image/png": "iVBORw0KGgoAAAANSUhEUgAAAGQAAABeCAYAAADVA7GfAAAABHNCSVQICAgIfAhkiAAAAAlwSFlzAAAMTQAADE0B0s6tTgAAADl0RVh0U29mdHdhcmUAbWF0cGxvdGxpYiB2ZXJzaW9uIDMuMC4zLCBodHRwOi8vbWF0cGxvdGxpYi5vcmcvnQurowAAAVVJREFUeJzt3bFNJEEQQNHqE5DCRUIC4GIRAxgkhIGEyGAN0iAAwhls7O0V33jP79JIX2WMpqVZx3EMHf/++gH4TZAYQWIEiREkRpAYQWKuLjl8rbX1JedzbneOm5mZj9evrfNOL8c657wNiREkRpAYQWIEiREkRpAYQWIEiREkRpAYQWIEiREkRpAYQWIEiREk5qKfcHdfU31a91vnzcyc/r9tn3kOGxIjSIwgMYLECBIjSIwgMYLECBIjSIwgMYLECBIjSIwgMYLECBIjSIwgMYLEXPSSw83D3dZ573O9dd7MzOn7eeu8xzPP25AYQWIEiREkRpAYQWIEiREkRpAYQWIEiREkRpAYQWIEiREkRpAYQWIEiVn+QdViQ2IEiREkRpAYQWIEiREkRpAYQWIEiREkRpAYQWIEiREkRpAYQWIEiREkRpAYQWIEiREkRpAYQWJ+AEvkFTFEjq9sAAAAAElFTkSuQmCC\n",
      "text/plain": [
       "<Figure size 80x80 with 1 Axes>"
      ]
     },
     "metadata": {
      "needs_background": "light"
     },
     "output_type": "display_data"
    },
    {
     "name": "stdout",
     "output_type": "stream",
     "text": [
      "Accuracy: 94.09%\n"
     ]
    },
    {
     "data": {
      "image/png": "iVBORw0KGgoAAAANSUhEUgAAAGQAAABeCAYAAADVA7GfAAAABHNCSVQICAgIfAhkiAAAAAlwSFlzAAAMTQAADE0B0s6tTgAAADl0RVh0U29mdHdhcmUAbWF0cGxvdGxpYiB2ZXJzaW9uIDMuMC4zLCBodHRwOi8vbWF0cGxvdGxpYi5vcmcvnQurowAAAVVJREFUeJzt3aFNxWAUQOFbgmMMZsAhECgMG5AwAMuggQ2ewLAEYaai0f1fOOL7/H/T5OSKpm267fs+dFz89wXwlyAxgsQIEiNIjCAxgsRcnnP4tm1Lb3K+5mbluJmZeXv9Xjrv9LJvR87bkBhBYgSJESRGkBhBYgSJESRGkBhBYgSJESRGkBhBYgSJESRGkBhBYs76CHf1a6pP2+3SeTMzp+uP5TOPsCExgsQIEiNIjCAxgsQIEiNIjCAxgsQIEiNIjCAxgsQIEiNIjCAxgsQIEiNIzHm/U7+7Xzrvfa6WzpuZ+fx5Xjrv8eHYeRsSI0iMIDGCxAgSI0iMIDGCxAgSI0iMIDGCxAgSI0iMIDGCxAgSI0iMIDGbf1C12JAYQWIEiREkRpAYQWIEiREkRpAYQWIEiREkRpAYQWIEiREkRpAYQWIEiREkRpAYQWIEiREkRpCYXyJGFWbr2TN2AAAAAElFTkSuQmCC\n",
      "text/plain": [
       "<Figure size 80x80 with 1 Axes>"
      ]
     },
     "metadata": {
      "needs_background": "light"
     },
     "output_type": "display_data"
    },
    {
     "name": "stdout",
     "output_type": "stream",
     "text": [
      "Accuracy: 100.00%\n"
     ]
    },
    {
     "data": {
      "image/png": "iVBORw0KGgoAAAANSUhEUgAAAGQAAABeCAYAAADVA7GfAAAABHNCSVQICAgIfAhkiAAAAAlwSFlzAAAMTQAADE0B0s6tTgAAADl0RVh0U29mdHdhcmUAbWF0cGxvdGxpYiB2ZXJzaW9uIDMuMC4zLCBodHRwOi8vbWF0cGxvdGxpYi5vcmcvnQurowAAAVRJREFUeJzt3SFOxVAQQNEpQbMSJAosaDwJi2AjeJAs4Cc4VoBiT0Wj+3644hz/Jk1uRjRt023f96Hj4r8vgL8EiREkRpAYQWIEiREk5vKcw7dtW3qT8zU3K8fNzMzb68/SeaeXfTty3obECBIjSIwgMYLECBIjSIwgMYLECBIjSIwgMYLECBIjSIwgMYLECBJz1ke4q19Tfdpul86bmTldfyyfeYQNiREkRpAYQWIEiREkRpAYQWIEiREkRpAYQWIEiREkRpAYQWIEiREkRpAYQWLO+5363f3See9ztXTezMzn9/PSeY8Px87bkBhBYgSJESRGkBhBYgSJESRGkBhBYgSJESRGkBhBYgSJESRGkBhBYgSJ2fyDqsWGxAgSI0iMIDGCxAgSI0iMIDGCxAgSI0iMIDGCxAgSI0iMIDGCxAgSI0iMIDGCxAgSI0iMIDGCxPwCiMYVWT31ObIAAAAASUVORK5CYII=\n",
      "text/plain": [
       "<Figure size 80x80 with 1 Axes>"
      ]
     },
     "metadata": {
      "needs_background": "light"
     },
     "output_type": "display_data"
    },
    {
     "name": "stdout",
     "output_type": "stream",
     "text": [
      "Accuracy: 100.00%\n"
     ]
    },
    {
     "data": {
      "image/png": "iVBORw0KGgoAAAANSUhEUgAAAGQAAABeCAYAAADVA7GfAAAABHNCSVQICAgIfAhkiAAAAAlwSFlzAAAMTQAADE0B0s6tTgAAADl0RVh0U29mdHdhcmUAbWF0cGxvdGxpYiB2ZXJzaW9uIDMuMC4zLCBodHRwOi8vbWF0cGxvdGxpYi5vcmcvnQurowAAAVVJREFUeJzt3bFJxVAUgOETcQF3EXmdlb2VhXu4hAOIC1g/a8EN3CnW1rkP/+L7+nsI/JwiJCHbvu9Dx9V/XwB/CRIjSIwgMYLECBIjSMz1JYdv27b0JudrbleOm5mZt9efpfPOL/t25LwNiREkRpAYQWIEiREkRpAYQWIEiREkRpAYQWIEiREkRpAYQWIEiREk5qKPcFe/pvq0nZbOm5k5330sn3mEDYkRJEaQGEFiBIkRJEaQGEFiBIkRJEaQGEFiBIkRJEaQGEFiBIkRJEaQGEFiLvud+ulh6bz3uVk6b2bm8/t56bzH+2PnbUiMIDGCxAgSI0iMIDGCxAgSI0iMIDGCxAgSI0iMIDGCxAgSI0iMIDGCxGz+QdViQ2IEiREkRpAYQWIEiREkRpAYQWIEiREkRpAYQWIEiREkRpAYQWIEiREkRpAYQWIEiREkRpAYQWJ+AYABFU67a6FsAAAAAElFTkSuQmCC\n",
      "text/plain": [
       "<Figure size 80x80 with 1 Axes>"
      ]
     },
     "metadata": {
      "needs_background": "light"
     },
     "output_type": "display_data"
    },
    {
     "name": "stdout",
     "output_type": "stream",
     "text": [
      "Accuracy: 99.91%\n"
     ]
    },
    {
     "data": {
      "image/png": "iVBORw0KGgoAAAANSUhEUgAAAGQAAABeCAYAAADVA7GfAAAABHNCSVQICAgIfAhkiAAAAAlwSFlzAAAMTQAADE0B0s6tTgAAADl0RVh0U29mdHdhcmUAbWF0cGxvdGxpYiB2ZXJzaW9uIDMuMC4zLCBodHRwOi8vbWF0cGxvdGxpYi5vcmcvnQurowAAARZJREFUeJzt3DEKwzAQAMFcyP+/fKkD6WzjAe/0FoblCiGk2d1XHO+7fyC/CoIpCKYgmIJgCoIpCOZz5eIz87hNzu7Oke+bEExBMAXBFARTEExBMAXBFARTEExBMAXBFARTEExBMAXBFARTEExBMAXBFARTEExBMAXBFARTEExBMAXBFARTEExBMAXBFARTEExBMAXBFARTEExBMAXBXHpP/ey3uGYOXQH/S3svrAnBFARTEExBMAXBFARTEExBMAXBFARTEExBMAXBFARTEExBMAXBFARTEMxoZ8pP14RgCoIpCKYgmIJgCoIpCKYgmIJgCoIpCKYgmIJgCoIpCKYgmIJgCoIpCKYgmIJgCoIpCKYgmIJgvv9NELZDgoWQAAAAAElFTkSuQmCC\n",
      "text/plain": [
       "<Figure size 80x80 with 1 Axes>"
      ]
     },
     "metadata": {
      "needs_background": "light"
     },
     "output_type": "display_data"
    },
    {
     "name": "stdout",
     "output_type": "stream",
     "text": [
      "Accuracy: 95.73%\n",
      "Accuracy: 99.73%\n"
     ]
    },
    {
     "data": {
      "image/png": "iVBORw0KGgoAAAANSUhEUgAAAGQAAABeCAYAAADVA7GfAAAABHNCSVQICAgIfAhkiAAAAAlwSFlzAAAMTQAADE0B0s6tTgAAADl0RVh0U29mdHdhcmUAbWF0cGxvdGxpYiB2ZXJzaW9uIDMuMC4zLCBodHRwOi8vbWF0cGxvdGxpYi5vcmcvnQurowAAAWVJREFUeJzt3SFOJFEUQNHXBDX7aIFFYRGELfQm2AKSNbABDJYgMIjZxqwBQggG1aPR/TtccY7/L5XcPFGpn9Rmv98PHSe//QD8JEiMIDGCxAgSI0iMIDGnxxz+eXuz9CXn79XzynEzM/P18LJ03u5+uznkvA2JESRGkBhBYgSJESRGkBhBYgSJESRGkBhBYgSJESRGkBhBYgSJESTmqJ9wX7/XXlM9u35aOm9m5vzybem83WwPOm9DYgSJESRGkBhBYgSJESRGkBhBYgSJESRGkBhBYgSJESRGkBhBYgSJESRGkJijXnL4d75bOu/98c/SeTMzFx93qycedNqGxAgSI0iMIDGCxAgSI0iMIDGCxAgSI0iMIDGCxAgSI0iMIDGCxAgSI0jMxj+oWmxIjCAxgsQIEiNIjCAxgsQIEiNIjCAxgsQIEiNIjCAxgsQIEiNIjCAxgsQIEiNIjCAxgsQIEiNIzH+9fRleuq7YuwAAAABJRU5ErkJggg==\n",
      "text/plain": [
       "<Figure size 80x80 with 1 Axes>"
      ]
     },
     "metadata": {
      "needs_background": "light"
     },
     "output_type": "display_data"
    },
    {
     "data": {
      "image/png": "iVBORw0KGgoAAAANSUhEUgAAAGQAAABeCAYAAADVA7GfAAAABHNCSVQICAgIfAhkiAAAAAlwSFlzAAAMTQAADE0B0s6tTgAAADl0RVh0U29mdHdhcmUAbWF0cGxvdGxpYiB2ZXJzaW9uIDMuMC4zLCBodHRwOi8vbWF0cGxvdGxpYi5vcmcvnQurowAAAWJJREFUeJzt3CFOJFEYRtG/yWjYAJ4VjEfjYBxshHWMmC0gsXgMCQJHWAquRiMJr8INOcfXl05unqhUVx22bRs6jr77B/CRIDGCxAgSI0iMIDGCxPzadf3pbulNzr/H65VzMzNz83vtfdjJ+Ry+cr0TEiNIjCAxgsQIEiNIjCAxgsQIEiNIjCAxgsQIEiNIjCAxgsQIEiNIzGHPv5L+OZwtHf87DyvnZmbmdF6W7m3blUe4P4kgMYLECBIjSIwgMYLECBIjSIwgMYLECBIjSIwgMYLECBIjSIwgMYLECBKz63vql6/PS/fe3o+X7s3MXNzfLl68+tLVTkiMIDGCxAgSI0iMIDGCxAgSI0iMIDGCxAgSI0iMIDGCxAgSI0iMIDGCxOz64QA+zwmJESRGkBhBYgSJESRGkBhBYgSJESRGkBhBYgSJESRGkBhBYgSJESRGkBhBYgSJESRGkBhBYgSJ+Q/eARtIwQVS5AAAAABJRU5ErkJggg==\n",
      "text/plain": [
       "<Figure size 80x80 with 1 Axes>"
      ]
     },
     "metadata": {
      "needs_background": "light"
     },
     "output_type": "display_data"
    },
    {
     "name": "stdout",
     "output_type": "stream",
     "text": [
      "Accuracy: 90.73%\n"
     ]
    },
    {
     "data": {
      "image/png": "iVBORw0KGgoAAAANSUhEUgAAAGQAAABeCAYAAADVA7GfAAAABHNCSVQICAgIfAhkiAAAAAlwSFlzAAAMTQAADE0B0s6tTgAAADl0RVh0U29mdHdhcmUAbWF0cGxvdGxpYiB2ZXJzaW9uIDMuMC4zLCBodHRwOi8vbWF0cGxvdGxpYi5vcmcvnQurowAAAV5JREFUeJzt3LFJBUEUQNG3IpgZ2opdWMMP7UJswMzcLuzBCkyMTMxNhTU2lD8fL3JOPo+FywTDzu627/vQcfbXD8BPgsQIEiNIjCAxgsQIEnN+0ulfL0sPOXe31yvHzczM/ePic9jFbMcst0NiBIkRJEaQGEFiBIkRJEaQGEFiBIkRJEaQGEFiBIkRJEaQGEFiBInZTnmV9Grblg5/m4+V42Zm5nKel87b94NXuP+JIDGCxAgSI0iMIDGCxAgSI0iMIDGCxAgSI0iMIDGCxAgSI0iMIDGCxAgSc9Lv1J8+116geH1fOm5mZm4e1l5ymDkctdoOiREkRpAYQWIEiREkRpAYQWIEiREkRpAYQWIEiREkRpAYQWIEiREkRpCYk/44gN+zQ2IEiREkRpAYQWIEiREkRpAYQWIEiREkRpAYQWIEiREkRpAYQWIEiREkRpAYQWIEiREkRpAYQWK+ATxoG/XDiV+gAAAAAElFTkSuQmCC\n",
      "text/plain": [
       "<Figure size 80x80 with 1 Axes>"
      ]
     },
     "metadata": {
      "needs_background": "light"
     },
     "output_type": "display_data"
    },
    {
     "name": "stdout",
     "output_type": "stream",
     "text": [
      "Accuracy: 95.18%\n"
     ]
    },
    {
     "data": {
      "image/png": "iVBORw0KGgoAAAANSUhEUgAAAGQAAABeCAYAAADVA7GfAAAABHNCSVQICAgIfAhkiAAAAAlwSFlzAAAMTQAADE0B0s6tTgAAADl0RVh0U29mdHdhcmUAbWF0cGxvdGxpYiB2ZXJzaW9uIDMuMC4zLCBodHRwOi8vbWF0cGxvdGxpYi5vcmcvnQurowAAAVZJREFUeJzt3LFJBUEUQNG3YmAvFmNmB78EOzCzE8EOfh0aWIO5iayxofxZvMg5+TwWLhMMO7vbvu9Dx9VfPwA/CRIjSIwgMYLECBIjSMz1seNflx5yHu5vV46bmZmn5+XnsO2SxXZIjCAxgsQIEiNIjCAxgsQIEiNIjCAxgsQIEiNIjCAxgsQIEiNIjCAx25FXSbdtWzr8cz5WjpuZmZt5WTpv309e4f4ngsQIEiNIjCAxgsQIEiNIjCAxgsQIEiNIjCAxgsQIEiNIjCAxgsQIEiNIzKHfqZ+/1l6geHtfOm5mZu4ez4snni5abYfECBIjSIwgMYLECBIjSIwgMYLECBIjSIwgMYLECBIjSIwgMYLECBIjSMyhPw7g9+yQGEFiBIkRJEaQGEFiBIkRJEaQGEFiBIkRJEaQGEFiBIkRJEaQGEFiBIkRJEaQGEFiBIkRJEaQmG8/IBsTncuNtwAAAABJRU5ErkJggg==\n",
      "text/plain": [
       "<Figure size 80x80 with 1 Axes>"
      ]
     },
     "metadata": {
      "needs_background": "light"
     },
     "output_type": "display_data"
    },
    {
     "name": "stdout",
     "output_type": "stream",
     "text": [
      "Accuracy: 99.45%\n"
     ]
    },
    {
     "data": {
      "image/png": "iVBORw0KGgoAAAANSUhEUgAAAGQAAABeCAYAAADVA7GfAAAABHNCSVQICAgIfAhkiAAAAAlwSFlzAAAMTQAADE0B0s6tTgAAADl0RVh0U29mdHdhcmUAbWF0cGxvdGxpYiB2ZXJzaW9uIDMuMC4zLCBodHRwOi8vbWF0cGxvdGxpYi5vcmcvnQurowAAAVZJREFUeJzt3LFJBUEUQNG3IliJ1RhYxge7sAk7sARjbUJM7MLIxDU2lD+LFzknn8fCZYJhZ3fb933ouPjrB+AnQWIEiREkRpAYQWIEibk8dvz70kPO3c31ynEzM/PwtPwctp2z2A6JESRGkBhBYgSJESRGkBhBYgSJESRGkBhBYgSJESRGkBhBYgSJESRmO/Iq6bZtS4d/XnysHDczM1dfj0vn7fvJK9z/RJAYQWIEiREkRpAYQWIEiREkRpAYQWIEiREkRpAYQWIEiREkRpAYQWIEiTn0O/XnxRcoXt+WjpuZmdv7l8UTT2ettkNiBIkRJEaQGEFiBIkRJEaQGEFiBIkRJEaQGEFiBIkRJEaQGEFiBIkRJObQHwfwe3ZIjCAxgsQIEiNIjCAxgsQIEiNIjCAxgsQIEiNIjCAxgsQIEiNIjCAxgsQIEiNIjCAxgsQIEiNIzDfB4xwVPvW8OgAAAABJRU5ErkJggg==\n",
      "text/plain": [
       "<Figure size 80x80 with 1 Axes>"
      ]
     },
     "metadata": {
      "needs_background": "light"
     },
     "output_type": "display_data"
    },
    {
     "name": "stdout",
     "output_type": "stream",
     "text": [
      "Accuracy: 99.73%\n"
     ]
    },
    {
     "data": {
      "image/png": "iVBORw0KGgoAAAANSUhEUgAAAGQAAABeCAYAAADVA7GfAAAABHNCSVQICAgIfAhkiAAAAAlwSFlzAAAMTQAADE0B0s6tTgAAADl0RVh0U29mdHdhcmUAbWF0cGxvdGxpYiB2ZXJzaW9uIDMuMC4zLCBodHRwOi8vbWF0cGxvdGxpYi5vcmcvnQurowAAAVVJREFUeJzt3LFJBUEUQNG38rEQezG2CYPfhY0IFmIktiCmtiEirLGhOIsXOSefx8JlgmFnd9v3fei4+OsH4DtBYgSJESRGkBhBYgSJOR07/m3pIef2+mrluJmZuX9cfg7bfrPYDokRJEaQGEFiBIkRJEaQGEFiBIkRJEaQGEFiBIkRJEaQGEFiBIkRJGY78irptm1Lh3+c3leOm5mZy8+HpfP2/ewV7n8iSIwgMYLECBIjSIwgMYLECBIjSIwgMYLECBIjSIwgMYLECBIjSIwgMYLEHPqd+tPiCxQvr0vHzczMzd3z4onnX622Q2IEiREkRpAYQWIEiREkRpAYQWIEiREkRpAYQWIEiREkRpAYQWIEiREk5tAfB/BzdkiMIDGCxAgSI0iMIDGCxAgSI0iMIDGCxAgSI0iMIDGCxAgSI0iMIDGCxAgSI0iMIDGCxAgSI0jMF0+nHBdzo0baAAAAAElFTkSuQmCC\n",
      "text/plain": [
       "<Figure size 80x80 with 1 Axes>"
      ]
     },
     "metadata": {
      "needs_background": "light"
     },
     "output_type": "display_data"
    },
    {
     "name": "stdout",
     "output_type": "stream",
     "text": [
      "Accuracy: 99.55%\n"
     ]
    },
    {
     "data": {
      "image/png": "iVBORw0KGgoAAAANSUhEUgAAAGQAAABeCAYAAADVA7GfAAAABHNCSVQICAgIfAhkiAAAAAlwSFlzAAAMTQAADE0B0s6tTgAAADl0RVh0U29mdHdhcmUAbWF0cGxvdGxpYiB2ZXJzaW9uIDMuMC4zLCBodHRwOi8vbWF0cGxvdGxpYi5vcmcvnQurowAAAWpJREFUeJzt3LFJBFEARdG/YiYYmSv2YAdGdmABggaaWoCpiYFgJHYgiGAr5oKGNiCssaHsX7zIOfk8Fi4/GGZnFsvlctCx8dc/gJ8EiREkRpAYQWIEiREkZnOd45evj1Nvcp73T2bOjTHGOL94mbp3enewWOV6JyRGkBhBYgSJESRGkBhBYgSJESRGkBhBYgSJESRGkBhBYgSJESRGkJjFOv9K+nm/M3X84+lt5twYY4z33Yepe4c3Zx7h/ieCxAgSI0iMIDGCxAgSI0iMIDGCxAgSI0iMIDGCxAgSI0iMIDGCxAgSI0jMWt9T/7ramrp3u308dW+MMa73jqZvrsIJiREkRpAYQWIEiREkRpAYQWIEiREkRpAYQWIEiREkRpAYQWIEiREkRpCYtX44gN9zQmIEiREkRpAYQWIEiREkRpAYQWIEiREkRpAYQWIEiREkRpAYQWIEiREkRpAYQWIEiREkRpAYQWK+Afh+HDE5so47AAAAAElFTkSuQmCC\n",
      "text/plain": [
       "<Figure size 80x80 with 1 Axes>"
      ]
     },
     "metadata": {
      "needs_background": "light"
     },
     "output_type": "display_data"
    },
    {
     "data": {
      "image/png": "iVBORw0KGgoAAAANSUhEUgAAAGQAAABeCAYAAADVA7GfAAAABHNCSVQICAgIfAhkiAAAAAlwSFlzAAAMTQAADE0B0s6tTgAAADl0RVh0U29mdHdhcmUAbWF0cGxvdGxpYiB2ZXJzaW9uIDMuMC4zLCBodHRwOi8vbWF0cGxvdGxpYi5vcmcvnQurowAAAV9JREFUeJzt3aFNBFEUQNG/hA4wBIVchcDgaQS5blugBkKCIEHQwjZCUHRA6GLQ6PkTrjjH/5dJbp6YzE9mtyzLoOPsvx+AvwSJESRGkBhBYgSJESTmfMvhzz8fU19yjk+3M8eNMcb4up77HrY/jN2a8zYkRpAYQWIEiREkRpAYQWIEiREkRpAYQWIEiREkRpAYQWIEiREkRpCYTT/h3r3cT523jPnXXl8fH6bO2x/eV523ITGCxAgSI0iMIDGCxAgSI0iMIDGCxAgSI0iMIDGCxAgSI0iMIDGCxAgSI0jMppccbk6XU+ddfV5MnTfGGN9vp+kz17AhMYLECBIjSIwgMYLECBIjSIwgMYLECBIjSIwgMYLECBIjSIwgMYLECBKz8w+qFhsSI0iMIDGCxAgSI0iMIDGCxAgSI0iMIDGCxAgSI0iMIDGCxAgSI0iMIDGCxAgSI0iMIDGCxAgS8wuXvxeb8s9o8QAAAABJRU5ErkJggg==\n",
      "text/plain": [
       "<Figure size 80x80 with 1 Axes>"
      ]
     },
     "metadata": {
      "needs_background": "light"
     },
     "output_type": "display_data"
    },
    {
     "name": "stdout",
     "output_type": "stream",
     "text": [
      "Accuracy: 98.91%\n"
     ]
    },
    {
     "data": {
      "image/png": "iVBORw0KGgoAAAANSUhEUgAAAGQAAABeCAYAAADVA7GfAAAABHNCSVQICAgIfAhkiAAAAAlwSFlzAAAMTQAADE0B0s6tTgAAADl0RVh0U29mdHdhcmUAbWF0cGxvdGxpYiB2ZXJzaW9uIDMuMC4zLCBodHRwOi8vbWF0cGxvdGxpYi5vcmcvnQurowAAAV9JREFUeJzt3bFJxkAYgOGL2LiBreAEjmBjY6GlA/wrCPaCpQs4hrW1O4grWNrGWrDLBd/iefr7CLxcceRClnVdBx1H//0A/CZIjCAxgsQIEiNIjCAxx3sOf/n6nHrIOVyfzxw3xhjj+37uOezkZixb1tshMYLECBIjSIwgMYLECBIjSIwgMYLECBIjSIwgMYLECBIjSIwgMYLE7PoK9/TxYuq89W7+tden28up8x7Wt03r7ZAYQWIEiREkRpAYQWIEiREkRpAYQWIEiREkRpAYQWIEiREkRpAYQWIEiREkZtdLDlfvZ1PnLc+bPgH/0/r6MX3mFnZIjCAxgsQIEiNIjCAxgsQIEiNIjCAxgsQIEiNIjCAxgsQIEiNIjCAxgsQs/kHVYofECBIjSIwgMYLECBIjSIwgMYLECBIjSIwgMYLECBIjSIwgMYLECBIjSIwgMYLECBIjSIwgMYLE/AA2jxh/SO0PbQAAAABJRU5ErkJggg==\n",
      "text/plain": [
       "<Figure size 80x80 with 1 Axes>"
      ]
     },
     "metadata": {
      "needs_background": "light"
     },
     "output_type": "display_data"
    },
    {
     "name": "stdout",
     "output_type": "stream",
     "text": [
      "Accuracy: 98.27%\n"
     ]
    },
    {
     "data": {
      "image/png": "iVBORw0KGgoAAAANSUhEUgAAAGQAAABeCAYAAADVA7GfAAAABHNCSVQICAgIfAhkiAAAAAlwSFlzAAAMTQAADE0B0s6tTgAAADl0RVh0U29mdHdhcmUAbWF0cGxvdGxpYiB2ZXJzaW9uIDMuMC4zLCBodHRwOi8vbWF0cGxvdGxpYi5vcmcvnQurowAAAVhJREFUeJzt3aFNBEEYgNFZgqYGDBILLYCiCJrAXajhPKXgcbRAgqeEQZPgdi73iff8/Nnky4jJzma3Oeeg4+LcD8BfgsQIEiNIjCAxgsQIEnN5yuFvP19LDznPd9crx40xxpjHxeewh7HtWW6HxAgSI0iMIDGCxAgSI0iMIDGCxAgSI0iMIDGCxAgSI0iMIDGCxAgSc9JXuFeH26Xz5sv6a6+Hx/ul817nx671dkiMIDGCxAgSI0iMIDGCxAgSI0iMIDGCxAgSI0iMIDGCxAgSI0iMIDGCxAgSc9JLDk+fN0vnbcddn4D/a75/L5+5hx0SI0iMIDGCxAgSI0iMIDGCxAgSI0iMIDGCxAgSI0iMIDGCxAgSI0iMIDGbf1C12CExgsQIEiNIjCAxgsQIEiNIjCAxgsQIEiNIjCAxgsQIEiNIjCAxgsQIEiNIjCAxgsQIEiNIjCAxv2RHGK19XYIzAAAAAElFTkSuQmCC\n",
      "text/plain": [
       "<Figure size 80x80 with 1 Axes>"
      ]
     },
     "metadata": {
      "needs_background": "light"
     },
     "output_type": "display_data"
    },
    {
     "name": "stdout",
     "output_type": "stream",
     "text": [
      "Accuracy: 100.00%\n"
     ]
    },
    {
     "data": {
      "image/png": "iVBORw0KGgoAAAANSUhEUgAAAGQAAABeCAYAAADVA7GfAAAABHNCSVQICAgIfAhkiAAAAAlwSFlzAAAMTQAADE0B0s6tTgAAADl0RVh0U29mdHdhcmUAbWF0cGxvdGxpYiB2ZXJzaW9uIDMuMC4zLCBodHRwOi8vbWF0cGxvdGxpYi5vcmcvnQurowAAAVlJREFUeJzt3bFJBUEUQNFZMbEJYxHEJrQDO7AL4ae/AmPtxtzACgxN7GCMBbOdjzc4J5/HwmWCYWfZbc456Dj77wfgN0FiBIkRJEaQGEFiBIk5P+Xwl+/PpYecx5vLlePGGGPM18XnsLux7Vluh8QIEiNIjCAxgsQIEiNIjCAxgsQIEiNIjCAxgsQIEiNIjCAxgsQIEnPSV7gXh+ul8+Zx/bXXp/vbpfOO833XejskRpAYQWIEiREkRpAYQWIEiREkRpAYQWIEiREkRpAYQWIEiREkRpAYQWIEiTnpJYeHj6ul87bnXZ+A/2m+fS2fuYcdEiNIjCAxgsQIEiNIjCAxgsQIEiNIjCAxgsQIEiNIjCAxgsQIEiNIjCAxm39QtdghMYLECBIjSIwgMYLECBIjSIwgMYLECBIjSIwgMYLECBIjSIwgMYLECBIjSIwgMYLECBIjSIwgMT9zbBjKqRWpSAAAAABJRU5ErkJggg==\n",
      "text/plain": [
       "<Figure size 80x80 with 1 Axes>"
      ]
     },
     "metadata": {
      "needs_background": "light"
     },
     "output_type": "display_data"
    },
    {
     "name": "stdout",
     "output_type": "stream",
     "text": [
      "Accuracy: 99.91%\n"
     ]
    },
    {
     "data": {
      "image/png": "iVBORw0KGgoAAAANSUhEUgAAAGQAAABeCAYAAADVA7GfAAAABHNCSVQICAgIfAhkiAAAAAlwSFlzAAAMTQAADE0B0s6tTgAAADl0RVh0U29mdHdhcmUAbWF0cGxvdGxpYiB2ZXJzaW9uIDMuMC4zLCBodHRwOi8vbWF0cGxvdGxpYi5vcmcvnQurowAAAVlJREFUeJzt3bFJBUEUQNFZEbswV7EKLcICbMLgF2BiZmxmMeaCDZiLFYyxYLbz8Qbn5PNYuEww7Cy7zTkHHSf//QD8JkiMIDGCxAgSI0iMIDGnxxz+8v259JBzf3G+ctwYY4z5uvgcdjO2PcvtkBhBYgSJESRGkBhBYgSJESRGkBhBYgSJESRGkBhBYgSJESRGkBhBYo76CvfscLl03nxaf+314fZ66bzH+b5rvR0SI0iMIDGCxAgSI0iMIDGCxAgSI0iMIDGCxAgSI0iMIDGCxAgSI0iMIDGCxBz1ksPdx9XSedvzrk/A/zTfvpbP3MMOiREkRpAYQWIEiREkRpAYQWIEiREkRpAYQWIEiREkRpAYQWIEiREkRpCYzT+oWuyQGEFiBIkRJEaQGEFiBIkRJEaQGEFiBIkRJEaQGEFiBIkRJEaQGEFiBIkRJEaQGEFiBIkRJEaQmB9YPxjYaJqx3gAAAABJRU5ErkJggg==\n",
      "text/plain": [
       "<Figure size 80x80 with 1 Axes>"
      ]
     },
     "metadata": {
      "needs_background": "light"
     },
     "output_type": "display_data"
    },
    {
     "name": "stdout",
     "output_type": "stream",
     "text": [
      "Accuracy: 99.55%\n"
     ]
    },
    {
     "data": {
      "image/png": "iVBORw0KGgoAAAANSUhEUgAAAGQAAABeCAYAAADVA7GfAAAABHNCSVQICAgIfAhkiAAAAAlwSFlzAAAMTQAADE0B0s6tTgAAADl0RVh0U29mdHdhcmUAbWF0cGxvdGxpYiB2ZXJzaW9uIDMuMC4zLCBodHRwOi8vbWF0cGxvdGxpYi5vcmcvnQurowAAARNJREFUeJzt3DEKwzAQAEEp5P9fPtcpgxFe8ExvY1iuMEK3Z2bR8Xn6A/glSIwgMYLECBIjSIwgMd+TL997v+4nZ2b2nedNSIwgMYLECBIjSIwgMYLECBIjSIwgMYLECBIjSIwgMYLECBIjSIwgMYLECBIjSIwgMYLECBIjSIwgMYLECBIjSIwgMYLECBIjSIwgMYLECBIjSIwgMYLEHL2nbhfX/0xIjCAxgsQIEiNIjCAxgsQIEiNIjCAxgsQIEiNIjCAxgsQIEiNIjCAxgsQcPVNfa93ag/5GJiRGkBhBYgSJESRGkBhBYgSJESRGkBhBYgSJESRGkBhBYgSJESRGkBhBYgSJESRGkBhBYgSJESTmArtvCr2o1C19AAAAAElFTkSuQmCC\n",
      "text/plain": [
       "<Figure size 80x80 with 1 Axes>"
      ]
     },
     "metadata": {
      "needs_background": "light"
     },
     "output_type": "display_data"
    },
    {
     "name": "stdout",
     "output_type": "stream",
     "text": [
      "Accuracy: 93.91%\n",
      "Accuracy: 99.73%\n"
     ]
    },
    {
     "data": {
      "image/png": "iVBORw0KGgoAAAANSUhEUgAAAGQAAABeCAYAAADVA7GfAAAABHNCSVQICAgIfAhkiAAAAAlwSFlzAAAMTQAADE0B0s6tTgAAADl0RVh0U29mdHdhcmUAbWF0cGxvdGxpYiB2ZXJzaW9uIDMuMC4zLCBodHRwOi8vbWF0cGxvdGxpYi5vcmcvnQurowAAAWhJREFUeJzt3DEuRFEAhtE7opAojF1YgEphEfag1JKg0LEBiVrHKuyEaOxBM2qJRuZOfJFz+vdnki+3eHlv3mK1Wg06tv76B/CdIDGCxAgSI0iMIDGCxGxvcvzi+HzqTc7dycvMuTHGGLe7j1P3Lk8PFutc74TECBIjSIwgMYLECBIjSIwgMYLECBIjSIwgMYLECBIjSIwgMYLECBKz2OSrpE/XH1PHP9/Wejr6o6v7m6l773sPHuH+J4LECBIjSIwgMYLECBIjSIwgMYLECBIjSIwgMYLECBIjSIwgMYLECBIjSMxG/6e+fD2curd/tJy6N8YYZ887cwdP17vcCYkRJEaQGEFiBIkRJEaQGEFiBIkRJEaQGEFiBIkRJEaQGEFiBIkRJEaQmI1+OIDfc0JiBIkRJEaQGEFiBIkRJEaQGEFiBIkRJEaQGEFiBIkRJEaQGEFiBIkRJEaQGEFiBIkRJEaQGEFivgBmCRq3FuCMZQAAAABJRU5ErkJggg==\n",
      "text/plain": [
       "<Figure size 80x80 with 1 Axes>"
      ]
     },
     "metadata": {
      "needs_background": "light"
     },
     "output_type": "display_data"
    },
    {
     "data": {
      "image/png": "iVBORw0KGgoAAAANSUhEUgAAAGQAAABeCAYAAADVA7GfAAAABHNCSVQICAgIfAhkiAAAAAlwSFlzAAAMTQAADE0B0s6tTgAAADl0RVh0U29mdHdhcmUAbWF0cGxvdGxpYiB2ZXJzaW9uIDMuMC4zLCBodHRwOi8vbWF0cGxvdGxpYi5vcmcvnQurowAAAWlJREFUeJzt3CFOHWEYhtFvmi6CBeBrKlkBulugvg5DyHWsoWykG2hIBaICjyrdxaCRTf8bntyc4+fNJE9GTObPbPu+Dx0f3vsGeEuQGEFiBIkRJEaQGEFiPh5zfNsulr7k7D8/rZybmZnDn29L926/nG//c70nJEaQGEFiBIkRJEaQGEFiBIkRJEaQGEFiBIkRJEaQGEFiBIkRJEaQmO2oR0kfZ+n4188PK+dmZubXy4+le7/PDj7hnhJBYgSJESRGkBhBYgSJESRGkBhBYgSJESRGkBhBYgSJESRGkBhBYgSJESTmqIcc7rZt6fj198uVczMzc//3eene1c2TQw6nRJAYQWIEiREkRpAYQWIEiREkRpAYQWIEiREkRpAYQWIEiREkRpAYQWKO++MA/pknJEaQGEFiBIkRJEaQGEFiBIkRJEaQGEFiBIkRJEaQGEFiBIkRJEaQGEFiBIkRJEaQGEFiBIkRJOYVatAgr/NJTNEAAAAASUVORK5CYII=\n",
      "text/plain": [
       "<Figure size 80x80 with 1 Axes>"
      ]
     },
     "metadata": {
      "needs_background": "light"
     },
     "output_type": "display_data"
    },
    {
     "name": "stdout",
     "output_type": "stream",
     "text": [
      "Accuracy: 97.45%\n"
     ]
    },
    {
     "data": {
      "image/png": "iVBORw0KGgoAAAANSUhEUgAAAGQAAABeCAYAAADVA7GfAAAABHNCSVQICAgIfAhkiAAAAAlwSFlzAAAMTQAADE0B0s6tTgAAADl0RVh0U29mdHdhcmUAbWF0cGxvdGxpYiB2ZXJzaW9uIDMuMC4zLCBodHRwOi8vbWF0cGxvdGxpYi5vcmcvnQurowAAAWZJREFUeJzt3KFNJlEYRuFvCBWg10E5BI1gtwoEjqAwtIChDDpYgyQhSOQKSvjRKwn3Dyfkefy8meRkxGRuZtvtdkPHwXffAP8TJEaQGEFiBIkRJEaQmMN9jm/bydKXnN3r75VzMzNz/XyxdO/m7Hj7yvWekBhBYgSJESRGkBhBYgSJESRGkBhBYgSJESRGkBhBYgSJESRGkBhBYra9HiV9n6Xjp0ePK+dmZubf29PSvb+/rnzC/UkEiREkRpAYQWIEiREkRpAYQWIEiREkRpAYQWIEiREkRpAYQWIEiREkRpCYvR5yuNy2peN39+cr52Zm5uF17SGHP7cvDjn8JILECBIjSIwgMYLECBIjSIwgMYLECBIjSIwgMYLECBIjSIwgMYLECBKz3x8H8GmekBhBYgSJESRGkBhBYgSJESRGkBhBYgSJESRGkBhBYgSJESRGkBhBYgSJESRGkBhBYgSJESRGkJgPclggryxrtT8AAAAASUVORK5CYII=\n",
      "text/plain": [
       "<Figure size 80x80 with 1 Axes>"
      ]
     },
     "metadata": {
      "needs_background": "light"
     },
     "output_type": "display_data"
    },
    {
     "name": "stdout",
     "output_type": "stream",
     "text": [
      "Accuracy: 99.00%\n"
     ]
    },
    {
     "data": {
      "image/png": "iVBORw0KGgoAAAANSUhEUgAAAGQAAABeCAYAAADVA7GfAAAABHNCSVQICAgIfAhkiAAAAAlwSFlzAAAMTQAADE0B0s6tTgAAADl0RVh0U29mdHdhcmUAbWF0cGxvdGxpYiB2ZXJzaW9uIDMuMC4zLCBodHRwOi8vbWF0cGxvdGxpYi5vcmcvnQurowAAAWlJREFUeJzt3CFqHWEYhtFvSiGbaE3XEhlbeXfQuOiI2Nr4iqyhWyixFSFQeRcRETPVkaH/pQ+Xc/y8DDyMGOZntn3fh44P//sGeEuQGEFiBIkRJEaQGEFiPp5yfNs+LX3J2Y/XK+dmZub299ele3dXX7Z/ud4TEiNIjCAxgsQIEiNIjCAxgsQIEiNIjCAxgsQIEiNIjCAxgsQIEiNIzHbSo6Svs3T88uLnyrmZmXk5Pi/d+/X5xifccyJIjCAxgsQIEiNIjCAxgsQIEiNIjCAxgsQIEiNIjCAxgsQIEiNIjCAxgsSc9JDDt21bOn7/47BybmZmHp4el+4dvv9xyOGcCBIjSIwgMYLECBIjSIwgMYLECBIjSIwgMYLECBIjSIwgMYLECBIjSMxpfxzAu3lCYgSJESRGkBhBYgSJESRGkBhBYgSJESRGkBhBYgSJESRGkBhBYgSJESRGkBhBYgSJESRGkBhBYv4CdPwgr4C26tcAAAAASUVORK5CYII=\n",
      "text/plain": [
       "<Figure size 80x80 with 1 Axes>"
      ]
     },
     "metadata": {
      "needs_background": "light"
     },
     "output_type": "display_data"
    },
    {
     "name": "stdout",
     "output_type": "stream",
     "text": [
      "Accuracy: 100.00%\n"
     ]
    },
    {
     "data": {
      "image/png": "iVBORw0KGgoAAAANSUhEUgAAAGQAAABeCAYAAADVA7GfAAAABHNCSVQICAgIfAhkiAAAAAlwSFlzAAAMTQAADE0B0s6tTgAAADl0RVh0U29mdHdhcmUAbWF0cGxvdGxpYiB2ZXJzaW9uIDMuMC4zLCBodHRwOi8vbWF0cGxvdGxpYi5vcmcvnQurowAAAWhJREFUeJzt3CFOHWEYhtFvWjaBqehKWACqukl1LXhEPboW0SV0C9cikEUhugqSDhrZ8N/w5OYcP28meTJiMn9m2/d96Pjw3jfAa4LECBIjSIwgMYLECBJzdszxbTtf+pKz/71eOTczMzf3X5bu/bj8vL3lek9IjCAxgsQIEiNIjCAxgsQIEiNIjCAxgsQIEiNIjCAxgsQIEiNIjCAx21GPkv6bpeMXH3+vnJuZmeenP0v3Dp+ufMI9JYLECBIjSIwgMYLECBIjSIwgMYLECBIjSIwgMYLECBIjSIwgMYLECBIjSMxRDzl837al4z/vvq2cm5mZXw+HpXtfbx8dcjglgsQIEiNIjCAxgsQIEiNIjCAxgsQIEiNIjCAxgsQIEiNIjCAxgsQIEnPcHwfw3zwhMYLECBIjSIwgMYLECBIjSIwgMYLECBIjSIwgMYLECBIjSIwgMYLECBIjSIwgMYLECBIjSIwgMS91rCCvOf7EZAAAAABJRU5ErkJggg==\n",
      "text/plain": [
       "<Figure size 80x80 with 1 Axes>"
      ]
     },
     "metadata": {
      "needs_background": "light"
     },
     "output_type": "display_data"
    },
    {
     "name": "stdout",
     "output_type": "stream",
     "text": [
      "Accuracy: 99.73%\n"
     ]
    },
    {
     "data": {
      "image/png": "iVBORw0KGgoAAAANSUhEUgAAAGQAAABeCAYAAADVA7GfAAAABHNCSVQICAgIfAhkiAAAAAlwSFlzAAAMTQAADE0B0s6tTgAAADl0RVh0U29mdHdhcmUAbWF0cGxvdGxpYiB2ZXJzaW9uIDMuMC4zLCBodHRwOi8vbWF0cGxvdGxpYi5vcmcvnQurowAAAWhJREFUeJzt3CFuFlEYRuFvGhZRhehGugFMfQUSTVJZVY9GVnQH3UKRCPSvMKyCZKorG+6Ekz/P4+fNJCcjJnMz277vQ8fF/74B3hIkRpAYQWIEiREkRpCYD0eOb9vl0pec/c/dyrmZmbn/ebN07+HT1fYv13tCYgSJESRGkBhBYgSJESRGkBhBYgSJESRGkBhBYgSJESRGkBhBYgSJ2Q49SrrP0vHri+eVczMz8/f3aenej49ffcI9J4LECBIjSIwgMYLECBIjSIwgMYLECBIjSIwgMYLECBIjSIwgMYLECBIjSMyhhxy+bNvS8e+Pn1fOzczM06+XpXu3304OOZwTQWIEiREkRpAYQWIEiREkRpAYQWIEiREkRpAYQWIEiREkRpAYQWIEiTn2xwG8myckRpAYQWIEiREkRpAYQWIEiREkRpAYQWIEiREkRpAYQWIEiREkRpAYQWIEiREkRpAYQWIEiREk5hV1ECCvKm7R+AAAAABJRU5ErkJggg==\n",
      "text/plain": [
       "<Figure size 80x80 with 1 Axes>"
      ]
     },
     "metadata": {
      "needs_background": "light"
     },
     "output_type": "display_data"
    },
    {
     "name": "stdout",
     "output_type": "stream",
     "text": [
      "Accuracy: 100.00%\n"
     ]
    },
    {
     "data": {
      "image/png": "iVBORw0KGgoAAAANSUhEUgAAAGQAAABeCAYAAADVA7GfAAAABHNCSVQICAgIfAhkiAAAAAlwSFlzAAAMTQAADE0B0s6tTgAAADl0RVh0U29mdHdhcmUAbWF0cGxvdGxpYiB2ZXJzaW9uIDMuMC4zLCBodHRwOi8vbWF0cGxvdGxpYi5vcmcvnQurowAAAWFJREFUeJzt3SFKBVEAhtE7anzl7cllGAS7C7AZTFo1Cy5AQcxGk2JxB27AFYzZ/O7DL5zT52fg44ZhBmZZ13XQcfDfN8BfgsQIEiNIjCAxgsQIEnO0z/GL66epDzmbx9eZc2OMMZ63P1P33l7ul12ud0JiBIkRJEaQGEFiBIkRJEaQGEFiBIkRJEaQGEFiBIkRJEaQGEFiBInZ6yvczenn1L2Ps4epe2OMcbOcTN/chRMSI0iMIDGCxAgSI0iMIDGCxAgSI0iMIDGCxAgSI0iMIDGCxAgSI0iMIDGCxOz1I4fbr8Ope8dX31P3xhjj/O5y6t77drfrnZAYQWIEiREkRpAYQWIEiREkRpAYQWIEiREkRpAYQWIEiREkRpAYQWIEiVn8g6rFCYkRJEaQGEFiBIkRJEaQGEFiBIkRJEaQGEFiBIkRJEaQGEFiBIkRJEaQGEFiBIkRJEaQGEFiBIn5Bb8TGDFTOz7bAAAAAElFTkSuQmCC\n",
      "text/plain": [
       "<Figure size 80x80 with 1 Axes>"
      ]
     },
     "metadata": {
      "needs_background": "light"
     },
     "output_type": "display_data"
    },
    {
     "data": {
      "image/png": "iVBORw0KGgoAAAANSUhEUgAAAGQAAABeCAYAAADVA7GfAAAABHNCSVQICAgIfAhkiAAAAAlwSFlzAAAMTQAADE0B0s6tTgAAADl0RVh0U29mdHdhcmUAbWF0cGxvdGxpYiB2ZXJzaW9uIDMuMC4zLCBodHRwOi8vbWF0cGxvdGxpYi5vcmcvnQurowAAAWNJREFUeJzt3DEuBVEAhtE7YgmWIipbsAfRCQuwAIVaJFqdQmsXErEFWpVSNWqluBNf5Jx+/rzkyy0mM2+WdV0HHTt//QP4TpAYQWIEiREkRpAYQWJ2txw/Ob2eepOzf/86c26MMcbZx8PUvXV9W35zvRMSI0iMIDGCxAgSI0iMIDGCxAgSI0iMIDGCxAgSI0iMIDGCxAgSI0jMsuWrpE/jcer44dXRzLkxxhifF++TF/c8wv1PBIkRJEaQGEFiBIkRJEaQGEFiBIkRJEaQGEFiBIkRJEaQGEFiBIkRJEaQmE3/p35w+zJ17/J5/gsZy/H51L317uZX1zshMYLECBIjSIwgMYLECBIjSIwgMYLECBIjSIwgMYLECBIjSIwgMYLECBKz6YcD+DknJEaQGEFiBIkRJEaQGEFiBIkRJEaQGEFiBIkRJEaQGEFiBIkRJEaQGEFiBIkRJEaQGEFiBIkRJOYLLT4foyS0YgYAAAAASUVORK5CYII=\n",
      "text/plain": [
       "<Figure size 80x80 with 1 Axes>"
      ]
     },
     "metadata": {
      "needs_background": "light"
     },
     "output_type": "display_data"
    },
    {
     "name": "stdout",
     "output_type": "stream",
     "text": [
      "Accuracy: 99.82%\n"
     ]
    },
    {
     "data": {
      "image/png": "iVBORw0KGgoAAAANSUhEUgAAAGQAAABeCAYAAADVA7GfAAAABHNCSVQICAgIfAhkiAAAAAlwSFlzAAAMTQAADE0B0s6tTgAAADl0RVh0U29mdHdhcmUAbWF0cGxvdGxpYiB2ZXJzaW9uIDMuMC4zLCBodHRwOi8vbWF0cGxvdGxpYi5vcmcvnQurowAAAV1JREFUeJzt3LFJxkAYgOGLuMU/gwPYu4QgVhYuIljZ2FgLjmFv7w7WLqBnbSle8EWep7+PhJcrQi7Z5pyDjqO/vgC+EyRGkBhBYgSJESRGkJjjPYefX9wsfcg5e3pfOW6MMcbVuFs6b86P7Tfr7ZAYQWIEiREkRpAYQWIEiREkRpAYQWIEiREkRpAYQWIEiREkRpAYQWK2PY+Svo2XpcMPl6crx40xxpiPy+/fK9z/RJAYQWIEiREkRpAYQWIEiREkRpAYQWIEiREkRpAYQWIEiREkRpAYQWIEidn1O/XD7fPSefef6w9kbCfXS+fN14dfrbdDYgSJESRGkBhBYgSJESRGkBhBYgSJESRGkBhBYgSJESRGkBhBYgSJESRm1x8H8HN2SIwgMYLECBIjSIwgMYLECBIjSIwgMYLECBIjSIwgMYLECBIjSIwgMYLECBIjSIwgMYLECBIjSMwXy8MepbYtbJkAAAAASUVORK5CYII=\n",
      "text/plain": [
       "<Figure size 80x80 with 1 Axes>"
      ]
     },
     "metadata": {
      "needs_background": "light"
     },
     "output_type": "display_data"
    },
    {
     "name": "stdout",
     "output_type": "stream",
     "text": [
      "Accuracy: 100.00%\n"
     ]
    },
    {
     "data": {
      "image/png": "iVBORw0KGgoAAAANSUhEUgAAAGQAAABeCAYAAADVA7GfAAAABHNCSVQICAgIfAhkiAAAAAlwSFlzAAAMTQAADE0B0s6tTgAAADl0RVh0U29mdHdhcmUAbWF0cGxvdGxpYiB2ZXJzaW9uIDMuMC4zLCBodHRwOi8vbWF0cGxvdGxpYi5vcmcvnQurowAAAV1JREFUeJzt3KFNxkAYgOErQaJ+zxRMgcQQNIJBCBJPwgYoLFOwBAMgGODQSPJfwxvyPP6+tHlzoum125xz0HHy1xfAT4LECBIjSIwgMYLECBJzuufw65v7pQ85ly9fK8eNMca4HY9L5805t2PW2yExgsQIEiNIjCAxgsQIEiNIjCAxgsQIEiNIjCAxgsQIEiNIjCAxgsRsex4l/RzvS4cfri5WjhtjjDFfl9+/V7j/iSAxgsQIEiNIjCAxgsQIEiNIjCAxgsQIEiNIjCAxgsQIEiNIjCAxgsQIErPrd+qHh7el857O1h/I2M7vls6bH89HrbdDYgSJESRGkBhBYgSJESRGkBhBYgSJESRGkBhBYgSJESRGkBhBYgSJESRm1x8H8Ht2SIwgMYLECBIjSIwgMYLECBIjSIwgMYLECBIjSIwgMYLECBIjSIwgMYLECBIjSIwgMYLECBIjSMw3Wa4dpeywIsEAAAAASUVORK5CYII=\n",
      "text/plain": [
       "<Figure size 80x80 with 1 Axes>"
      ]
     },
     "metadata": {
      "needs_background": "light"
     },
     "output_type": "display_data"
    },
    {
     "name": "stdout",
     "output_type": "stream",
     "text": [
      "Accuracy: 100.00%\n"
     ]
    },
    {
     "data": {
      "image/png": "iVBORw0KGgoAAAANSUhEUgAAAGQAAABeCAYAAADVA7GfAAAABHNCSVQICAgIfAhkiAAAAAlwSFlzAAAMTQAADE0B0s6tTgAAADl0RVh0U29mdHdhcmUAbWF0cGxvdGxpYiB2ZXJzaW9uIDMuMC4zLCBodHRwOi8vbWF0cGxvdGxpYi5vcmcvnQurowAAAVtJREFUeJzt3LFNxTAUQFEHMcCnYw3mQJTQ0zAHomYBWIESiTkYg5aC2tSU6DviCp3T+ynRlYsoTrY556Dj5K8vgJ8EiREkRpAYQWIEiREk5nTP4dc390sfci5fvlaOG2OMcTsel86bc27HrLdDYgSJESRGkBhBYgSJESRGkBhBYgSJESRGkBhBYgSJESRGkBhBYgSJ2fY8Svo53pcOP1xdrBw3xhhjvi6/f69w/xNBYgSJESRGkBhBYgSJESRGkBhBYgSJESRGkBhBYgSJESRGkBhBYgSJESRm1+/UDw9vS+c9na0/kLGd3y2dNz+ej1pvh8QIEiNIjCAxgsQIEiNIjCAxgsQIEiNIjCAxgsQIEiNIjCAxgsQIEiNIzK4/DuD37JAYQWIEiREkRpAYQWIEiREkRpAYQWIEiREkRpAYQWIEiREkRpAYQWIEiREkRpAYQWIEiREkRpCYb5xUHaZqMb0lAAAAAElFTkSuQmCC\n",
      "text/plain": [
       "<Figure size 80x80 with 1 Axes>"
      ]
     },
     "metadata": {
      "needs_background": "light"
     },
     "output_type": "display_data"
    },
    {
     "name": "stdout",
     "output_type": "stream",
     "text": [
      "Accuracy: 100.00%\n"
     ]
    },
    {
     "data": {
      "image/png": "iVBORw0KGgoAAAANSUhEUgAAAGQAAABeCAYAAADVA7GfAAAABHNCSVQICAgIfAhkiAAAAAlwSFlzAAAMTQAADE0B0s6tTgAAADl0RVh0U29mdHdhcmUAbWF0cGxvdGxpYiB2ZXJzaW9uIDMuMC4zLCBodHRwOi8vbWF0cGxvdGxpYi5vcmcvnQurowAAAVpJREFUeJzt3CFOxEAYgNEpwa9AcA3usRo8hnMQNBeAK6D3IBwDS4IeNJLsNHwh7/n50+bLiKbTbnPOQcfFX18APwkSI0iMIDGCxAgSI0jM5Z7Db+8elz7kHN++Vo4bY4xxP56Xzptzbuest0NiBIkRJEaQGEFiBIkRJEaQGEFiBIkRJEaQGEFiBIkRJEaQGEFiBInZ9jxK+jnelw4/HG9WjhtjjDFPy+/fK9z/RJAYQWIEiREkRpAYQWIEiREkRpAYQWIEiREkRpAYQWIEiREkRpAYQWIEidn1O/XD02npvJer9QcytuuHpfPmx+tZ6+2QGEFiBIkRJEaQGEFiBIkRJEaQGEFiBIkRJEaQGEFiBIkRJEaQGEFiBInZ9ccB/J4dEiNIjCAxgsQIEiNIjCAxgsQIEiNIjCAxgsQIEiNIjCAxgsQIEiNIjCAxgsQIEiNIjCAxgsQIEvMNm1wdpqCCi34AAAAASUVORK5CYII=\n",
      "text/plain": [
       "<Figure size 80x80 with 1 Axes>"
      ]
     },
     "metadata": {
      "needs_background": "light"
     },
     "output_type": "display_data"
    },
    {
     "name": "stdout",
     "output_type": "stream",
     "text": [
      "Accuracy: 100.00%\n"
     ]
    },
    {
     "data": {
      "image/png": "iVBORw0KGgoAAAANSUhEUgAAAGQAAABeCAYAAADVA7GfAAAABHNCSVQICAgIfAhkiAAAAAlwSFlzAAAMTQAADE0B0s6tTgAAADl0RVh0U29mdHdhcmUAbWF0cGxvdGxpYiB2ZXJzaW9uIDMuMC4zLCBodHRwOi8vbWF0cGxvdGxpYi5vcmcvnQurowAAARtJREFUeJzt2zEKwzAQAMFcyP+/rNTBpRAZ453eRrBcYXyatdYrjve/D5BfBcEUBFMQTEEwBcEUBPM5+fKZedxHzlprdp5vQjAFwRQEUxBMQTAFwRQEUxBMQTAFwRQEUxBMQTAFwRQEUxBMQTAFwRz9hXsH2iptE4IpCKYgmIJgCoIpCKYgmIJgCoIpCKYgmIJgCoIpCKYgmIJgCoIpCKYgmIJgbrXkcGIhYWbrWvnF7hmbEExBMAXBFARTEExBMAXBFARTEExBMAXBFARTEExBMAXBFARTEExBMAXBjHZx/umaEExBMAXBFARTEExBMAXBFARTEExBMAXBFARTEExBMAXBFARTEExBMAXBFARTEExBMAXBFARTEMwXn24TtUTfyXQAAAAASUVORK5CYII=\n",
      "text/plain": [
       "<Figure size 80x80 with 1 Axes>"
      ]
     },
     "metadata": {
      "needs_background": "light"
     },
     "output_type": "display_data"
    },
    {
     "name": "stdout",
     "output_type": "stream",
     "text": [
      "Accuracy: 94.45%\n",
      "Accuracy: 100.00%\n"
     ]
    },
    {
     "data": {
      "image/png": "iVBORw0KGgoAAAANSUhEUgAAAGQAAABeCAYAAADVA7GfAAAABHNCSVQICAgIfAhkiAAAAAlwSFlzAAAMTQAADE0B0s6tTgAAADl0RVh0U29mdHdhcmUAbWF0cGxvdGxpYiB2ZXJzaW9uIDMuMC4zLCBodHRwOi8vbWF0cGxvdGxpYi5vcmcvnQurowAAAWRJREFUeJzt3aFNBFEARdG/BEPoAIPA0QAUsJas2yZoAbkGiQdNgqAHGqAJBA6BwC4avX/CFef4eZnk5ovJTDKr/X4/6Dj67xvgL0FiBIkRJEaQGEFiBIk5XnL8eree+pCzfbucOTfGGONi9zh1b3P1szrkeickRpAYQWIEiREkRpAYQWIEiREkRpAYQWIEiREkRpAYQWIEiREkRpCYRV/h3n08TN07fTmbujfGGK/n71P3Nt+HXe+ExAgSI0iMIDGCxAgSI0iMIDGCxAgSI0iMIDGCxAgSI0iMIDGCxAgSI0iMIDGLfuTwtT6Zunf7+Tx1b4wxnm7up28ewgmJESRGkBhBYgSJESRGkBhBYgSJESRGkBhBYgSJESRGkBhBYgSJESRGkJiVf1C1OCExgsQIEiNIjCAxgsQIEiNIjCAxgsQIEiNIjCAxgsQIEiNIjCAxgsQIEiNIjCAxgsQIEiNIjCAxv0TbFv1uYJ5cAAAAAElFTkSuQmCC\n",
      "text/plain": [
       "<Figure size 80x80 with 1 Axes>"
      ]
     },
     "metadata": {
      "needs_background": "light"
     },
     "output_type": "display_data"
    },
    {
     "data": {
      "image/png": "iVBORw0KGgoAAAANSUhEUgAAAGQAAABeCAYAAADVA7GfAAAABHNCSVQICAgIfAhkiAAAAAlwSFlzAAAMTQAADE0B0s6tTgAAADl0RVh0U29mdHdhcmUAbWF0cGxvdGxpYiB2ZXJzaW9uIDMuMC4zLCBodHRwOi8vbWF0cGxvdGxpYi5vcmcvnQurowAAAWNJREFUeJzt3SFOxUAARdEpwbABEFgMDgUKhfhLYAGsAAMSTYJEEjaCYQtoJAqPLxr954crzvF9aXIzommTLuu6Djr2/vsG+EuQGEFiBIkRJEaQGEFi9nc5fva4mfqQc/5yOHNujDHGw+v71L3jy69lm+udkBhBYgSJESRGkBhBYgSJESRGkBhBYgSJESRGkBhBYgSJESRGkBhBYnb6Cvf67W7q3u3n1dS9Mca4WI6m7n1s+dLaCYkRJEaQGEFiBIkRJEaQGEFiBIkRJEaQGEFiBIkRJEaQGEFiBIkRJEaQGEFidvqRw8nN6dS9g6fnqXtjjPFz/z19cxtOSIwgMYLECBIjSIwgMYLECBIjSIwgMYLECBIjSIwgMYLECBIjSIwgMYLELP5B1eKExAgSI0iMIDGCxAgSI0iMIDGCxAgSI0iMIDGCxAgSI0iMIDGCxAgSI0iMIDGCxAgSI0iMIDGCxPwCi80WHii38i0AAAAASUVORK5CYII=\n",
      "text/plain": [
       "<Figure size 80x80 with 1 Axes>"
      ]
     },
     "metadata": {
      "needs_background": "light"
     },
     "output_type": "display_data"
    },
    {
     "name": "stdout",
     "output_type": "stream",
     "text": [
      "Accuracy: 99.36%\n"
     ]
    },
    {
     "data": {
      "image/png": "iVBORw0KGgoAAAANSUhEUgAAAGQAAABeCAYAAADVA7GfAAAABHNCSVQICAgIfAhkiAAAAAlwSFlzAAAMTQAADE0B0s6tTgAAADl0RVh0U29mdHdhcmUAbWF0cGxvdGxpYiB2ZXJzaW9uIDMuMC4zLCBodHRwOi8vbWF0cGxvdGxpYi5vcmcvnQurowAAAV9JREFUeJzt3SFKBVEAhtE78jDZ3IPRahKLxeI+Hib3YHtgchGim7G7A8ENWMZsfnfwC+f0+Rn4uGGYgVnWdR10nPz3DfCXIDGCxAgSI0iMIDGCxOy2HL883E19yLk4nM2cG2OM8fr+MXVvd/O5HHO9ExIjSIwgMYLECBIjSIwgMYLECBIjSIwgMYLECBIjSIwgMYLECBIjSMymr3Bv3/ZT956/7qfujTHG+XI6de/7yJfWTkiMIDGCxAgSI0iMIDGCxAgSI0iMIDGCxAgSI0iMIDGCxAgSI0iMIDGCxAgSs+lHDtePV1P3loeXqXtjjLE+/UzfPIYTEiNIjCAxgsQIEiNIjCAxgsQIEiNIjCAxgsQIEiNIjCAxgsQIEiNIjCAxi39QtTghMYLECBIjSIwgMYLECBIjSIwgMYLECBIjSIwgMYLECBIjSIwgMYLECBIjSIwgMYLECBIjSIwgMb+FhRZAohWoRQAAAABJRU5ErkJggg==\n",
      "text/plain": [
       "<Figure size 80x80 with 1 Axes>"
      ]
     },
     "metadata": {
      "needs_background": "light"
     },
     "output_type": "display_data"
    },
    {
     "name": "stdout",
     "output_type": "stream",
     "text": [
      "Accuracy: 94.55%\n",
      "Accuracy: 99.91%\n"
     ]
    },
    {
     "data": {
      "image/png": "iVBORw0KGgoAAAANSUhEUgAAAGQAAABeCAYAAADVA7GfAAAABHNCSVQICAgIfAhkiAAAAAlwSFlzAAAMTQAADE0B0s6tTgAAADl0RVh0U29mdHdhcmUAbWF0cGxvdGxpYiB2ZXJzaW9uIDMuMC4zLCBodHRwOi8vbWF0cGxvdGxpYi5vcmcvnQurowAAAWBJREFUeJzt3bFJBFEARdE/Yh9iZmq8nQhGgpE9LGwBghUYW4AlGAg2YGJutA2oa2w8f/EG5+TzGLj8YJiBWQ6Hw6Dj5L9vgL8EiREkRpAYQWIEiREk5vSY42/f26kPOU/b25lzY4wxrm7mbl6ePy9rrndCYgSJESRGkBhBYgSJESRGkBhBYgSJESRGkBhBYgSJESRGkBhBYgSJOeor3P3P/dzBj9e5e2OMu9311L2Xx3XXOyExgsQIEiNIjCAxgsQIEiNIjCAxgsQIEiNIjCAxgsQIEiNIjCAxgsQIEiNIzFE/cvjanE3d21zsp+6NMcbD++f0zTWckBhBYgSJESRGkBhBYgSJESRGkBhBYgSJESRGkBhBYgSJESRGkBhBYgSJWfyDqsUJiREkRpAYQWIEiREkRpAYQWIEiREkRpAYQWIEiREkRpAYQWIEiREkRpAYQWIEiREkRpAYQWIEifkFtyoZh2F/uUUAAAAASUVORK5CYII=\n",
      "text/plain": [
       "<Figure size 80x80 with 1 Axes>"
      ]
     },
     "metadata": {
      "needs_background": "light"
     },
     "output_type": "display_data"
    },
    {
     "data": {
      "image/png": "iVBORw0KGgoAAAANSUhEUgAAAGQAAABeCAYAAADVA7GfAAAABHNCSVQICAgIfAhkiAAAAAlwSFlzAAAMTQAADE0B0s6tTgAAADl0RVh0U29mdHdhcmUAbWF0cGxvdGxpYiB2ZXJzaW9uIDMuMC4zLCBodHRwOi8vbWF0cGxvdGxpYi5vcmcvnQurowAAAV9JREFUeJzt3DFK5lAYhtEv4iqmn1XY27gLiwGb2YBobyvC7GWsZyl/OeAChFhbijf4IOf0eQk8pAi5ZNv3feg4++ob4D1BYgSJESRGkBhBYgSJOT9y/HXulr7k3F7+Wjk3MzMPf58XL15vn7naExIjSIwgMYLECBIjSIwgMYLECBIjSIwgMYLECBIjSIwgMYLECBIjSMx27FHSn0vHr7bTyrmZmXn5sfYT7r/ThU+434kgMYLECBIjSIwgMYLECBIjSIwgMYLECBIjSIwgMYLECBIjSIwgMYLECBJz6CGHm21bOv7n8X7l3MzMbL//L93b9yeHHL4TQWIEiREkRpAYQWIEiREkRpAYQWIEiREkRpAYQWIEiREkRpAYQWIEiTn4xwF8lCckRpAYQWIEiREkRpAYQWIEiREkRpAYQWIEiREkRpAYQWIEiREkRpAYQWIEiREkRpAYQWIEiREk5g1GpB+vh1nfKwAAAABJRU5ErkJggg==\n",
      "text/plain": [
       "<Figure size 80x80 with 1 Axes>"
      ]
     },
     "metadata": {
      "needs_background": "light"
     },
     "output_type": "display_data"
    },
    {
     "name": "stdout",
     "output_type": "stream",
     "text": [
      "Accuracy: 94.18%\n"
     ]
    },
    {
     "data": {
      "image/png": "iVBORw0KGgoAAAANSUhEUgAAAGQAAABeCAYAAADVA7GfAAAABHNCSVQICAgIfAhkiAAAAAlwSFlzAAAMTQAADE0B0s6tTgAAADl0RVh0U29mdHdhcmUAbWF0cGxvdGxpYiB2ZXJzaW9uIDMuMC4zLCBodHRwOi8vbWF0cGxvdGxpYi5vcmcvnQurowAAAVhJREFUeJzt3LFJxlAYhtEvIriMNloJruAerqALOIpYWbiC2AriCs4Ra0vx/vgg5/R5CTykCLlk2/d96Dj66xvgO0FiBIkRJEaQGEFiBIk5Puz83dKXnNvTm5VzMzNz//G5ePFy+83VnpAYQWIEiREkRpAYQWIEiREkRpAYQWIEiREkRpAYQWIEiREkRpAYQWK2wx4lPV86frG9rZybmZmTeV+697qf+YT7nwgSI0iMIDGCxAgSI0iMIDGCxAgSI0iMIDGCxAgSI0iMIDGCxAgSI0iMIDEHPeRwtW1Lx1+eH1fOzczMdv20dG/fHxxy+E8EiREkRpAYQWIEiREkRpAYQWIEiREkRpAYQWIEiREkRpAYQWIEiREk5sA/DuCnPCExgsQIEiNIjCAxgsQIEiNIjCAxgsQIEiNIjCAxgsQIEiNIjCAxgsQIEiNIjCAxgsQIEiNIjCAxX+yrHa9dWM8bAAAAAElFTkSuQmCC\n",
      "text/plain": [
       "<Figure size 80x80 with 1 Axes>"
      ]
     },
     "metadata": {
      "needs_background": "light"
     },
     "output_type": "display_data"
    },
    {
     "name": "stdout",
     "output_type": "stream",
     "text": [
      "Accuracy: 99.82%\n"
     ]
    },
    {
     "data": {
      "image/png": "iVBORw0KGgoAAAANSUhEUgAAAGQAAABeCAYAAADVA7GfAAAABHNCSVQICAgIfAhkiAAAAAlwSFlzAAAMTQAADE0B0s6tTgAAADl0RVh0U29mdHdhcmUAbWF0cGxvdGxpYiB2ZXJzaW9uIDMuMC4zLCBodHRwOi8vbWF0cGxvdGxpYi5vcmcvnQurowAAAVpJREFUeJzt3KFNxlAYhtGvBM8SCALB4tmGEQgTMANDYJFIBBKBYQsGKBpJuH94Qs7xfdPkSUXTm277vg8dR399A3wnSIwgMYLECBIjSIwgMceHnb9b+pJze3qzcm5mZu4/PhcvXmy/udoTEiNIjCAxgsQIEiNIjCAxgsQIEiNIjCAxgsQIEiNIjCAxgsQIEiNIzHbYo6RXS8fPt9eVczMzczLvS/de9jOfcP8TQWIEiREkRpAYQWIEiREkRpAYQWIEiREkRpAYQWIEiREkRpAYQWIEiREk5qCHHC63ben42/PTyrmZmdmuH5bu7fujQw7/iSAxgsQIEiNIjCAxgsQIEiNIjCAxgsQIEiNIjCAxgsQIEiNIjCAxgsQc+McB/JQnJEaQGEFiBIkRJEaQGEFiBIkRJEaQGEFiBIkRJEaQGEFiBIkRJEaQGEFiBIkRJEaQGEFiBIkRJOYL70sdr8f/HZEAAAAASUVORK5CYII=\n",
      "text/plain": [
       "<Figure size 80x80 with 1 Axes>"
      ]
     },
     "metadata": {
      "needs_background": "light"
     },
     "output_type": "display_data"
    },
    {
     "name": "stdout",
     "output_type": "stream",
     "text": [
      "Accuracy: 99.64%\n"
     ]
    },
    {
     "data": {
      "image/png": "iVBORw0KGgoAAAANSUhEUgAAAGQAAABeCAYAAADVA7GfAAAABHNCSVQICAgIfAhkiAAAAAlwSFlzAAAMTQAADE0B0s6tTgAAADl0RVh0U29mdHdhcmUAbWF0cGxvdGxpYiB2ZXJzaW9uIDMuMC4zLCBodHRwOi8vbWF0cGxvdGxpYi5vcmcvnQurowAAAVhJREFUeJzt3LFNxFAURcFnRAHUQMJ2QERBdAAdkNMIBZCRICrYiDYITUyI+CuOVjO5rywdObD85W3f96Hj4r9vgJ8EiREkRpAYQWIEiREk5vK0849LX3Ieru9Xzs3MzNPn1+LFm+0vV3tCYgSJESRGkBhBYgSJESRGkBhBYgSJESRGkBhBYgSJESRGkBhBYgSJ2U57lPR26fhh+1g5NzMzV3Ncuve++4R7VgSJESRGkBhBYgSJESRGkBhBYgSJESRGkBhBYgSJESRGkBhBYgSJESRGkJiTHnI4bNvS8ePb68q5mZnZ7p6X7u37i0MO50SQGEFiBIkRJEaQGEFiBIkRJEaQGEFiBIkRJEaQGEFiBIkRJEaQGEFiTvzjAH7LExIjSIwgMYLECBIjSIwgMYLECBIjSIwgMYLECBIjSIwgMYLECBIjSIwgMYLECBIjSIwgMYLECBLzDe//Ha+1/lB/AAAAAElFTkSuQmCC\n",
      "text/plain": [
       "<Figure size 80x80 with 1 Axes>"
      ]
     },
     "metadata": {
      "needs_background": "light"
     },
     "output_type": "display_data"
    },
    {
     "name": "stdout",
     "output_type": "stream",
     "text": [
      "Accuracy: 99.91%\n"
     ]
    },
    {
     "data": {
      "image/png": "iVBORw0KGgoAAAANSUhEUgAAAGQAAABeCAYAAADVA7GfAAAABHNCSVQICAgIfAhkiAAAAAlwSFlzAAAMTQAADE0B0s6tTgAAADl0RVh0U29mdHdhcmUAbWF0cGxvdGxpYiB2ZXJzaW9uIDMuMC4zLCBodHRwOi8vbWF0cGxvdGxpYi5vcmcvnQurowAAAVlJREFUeJzt3LFJxWAYhtEv4gRuYOFdwcKJ3EA3sHQVF7ATxA20cQ6rWFuK/8WHyzl9XgIPKUJ+su37PnSc/fcN8JMgMYLECBIjSIwgMYLEnB93/n7pS87d5e3KuZmZefj8Wrx4tf3lak9IjCAxgsQIEiNIjCAxgsQIEiNIjCAxgsQIEiNIjCAxgsQIEiNIjCAx23GPkl4vHT9sbyvnZmbmYt6X7r3uB59wT4kgMYLECBIjSIwgMYLECBIjSIwgMYLECBIjSIwgMYLECBIjSIwgMYLECBJz1EMOh21bOv7x8rxybmZmtpvHpXv7/uSQwykRJEaQGEFiBIkRJEaQGEFiBIkRJEaQGEFiBIkRJEaQGEFiBIkRJEaQmCP/OIDf8oTECBIjSIwgMYLECBIjSIwgMYLECBIjSIwgMYLECBIjSIwgMYLECBIjSIwgMYLECBIjSIwgMYLEfAPwUx2vBMm3DgAAAABJRU5ErkJggg==\n",
      "text/plain": [
       "<Figure size 80x80 with 1 Axes>"
      ]
     },
     "metadata": {
      "needs_background": "light"
     },
     "output_type": "display_data"
    },
    {
     "name": "stdout",
     "output_type": "stream",
     "text": [
      "Accuracy: 99.91%\n"
     ]
    },
    {
     "data": {
      "image/png": "iVBORw0KGgoAAAANSUhEUgAAAGQAAABeCAYAAADVA7GfAAAABHNCSVQICAgIfAhkiAAAAAlwSFlzAAAMTQAADE0B0s6tTgAAADl0RVh0U29mdHdhcmUAbWF0cGxvdGxpYiB2ZXJzaW9uIDMuMC4zLCBodHRwOi8vbWF0cGxvdGxpYi5vcmcvnQurowAAAWpJREFUeJzt3DEuBVEAhtH7xAo0FqB4rR3YgERlFyyAFjsQlUpiAW8BWvsQBbUoxVMrxX3xRc7p588kX24xmcws1uv1oGPrr2+A7wSJESRGkBhBYgSJESRme5Pjr+ePUx9ylm8fM+fGGGPcPS+n7h2tdhe/ud4JiREkRpAYQWIEiREkRpAYQWIEiREkRpAYQWIEiREkRpAYQWIEiREkZqOvcE/vr6buPRyfTd0bY4yXm73Ji++/utoJiREkRpAYQWIEiREkRpAYQWIEiREkRpAYQWIEiREkRpAYQWIEiREkRpAYQWIWm/xf1tPFztTxw/3PmXNjjDEObi+n7l2vTnyn/p8IEiNIjCAxgsQIEiNIjCAxgsQIEiNIjCAxgsQIEiNIjCAxgsQIEiNIzEbfqfNzTkiMIDGCxAgSI0iMIDGCxAgSI0iMIDGCxAgSI0iMIDGCxAgSI0iMIDGCxAgSI0iMIDGCxAgSI0jMF15rHmv419D6AAAAAElFTkSuQmCC\n",
      "text/plain": [
       "<Figure size 80x80 with 1 Axes>"
      ]
     },
     "metadata": {
      "needs_background": "light"
     },
     "output_type": "display_data"
    },
    {
     "data": {
      "image/png": "iVBORw0KGgoAAAANSUhEUgAAAGQAAABeCAYAAADVA7GfAAAABHNCSVQICAgIfAhkiAAAAAlwSFlzAAAMTQAADE0B0s6tTgAAADl0RVh0U29mdHdhcmUAbWF0cGxvdGxpYiB2ZXJzaW9uIDMuMC4zLCBodHRwOi8vbWF0cGxvdGxpYi5vcmcvnQurowAAAWBJREFUeJzt3bFJBUEUQNFZsQETbUBsRcGfCNZgKQY2oE1oovBLsAmxASNTkzU23vl4g3PyeSxcXrDswC7rug46jv77AfhLkBhBYgSJESRGkBhBYo4POv35e+pLzvKwnzlujDHG/vRy6ryr15Nly3kbEiNIjCAxgsQIEiNIjCAxgsQIEiNIjCAxgsQIEiNIjCAxgsQIEiNIzEE/4Z7fXk+dt96/TJ03xhhvu7PJE382nbYhMYLECBIjSIwgMYLECBIjSIwgMYLECBIjSIwgMYLECBIjSIwgMYLECBIjSMxBLzl8PH5NnXfxOftCwhg3d09T5+3et523ITGCxAgSI0iMIDGCxAgSI0iMIDGCxAgSI0iMIDGCxAgSI0iMIDGCxAgSs/gHVYsNiREkRpAYQWIEiREkRpAYQWIEiREkRpAYQWIEiREkRpAYQWIEiREkRpAYQWIEiREkRpAYQWIEifkFFuMXndKaiZ4AAAAASUVORK5CYII=\n",
      "text/plain": [
       "<Figure size 80x80 with 1 Axes>"
      ]
     },
     "metadata": {
      "needs_background": "light"
     },
     "output_type": "display_data"
    },
    {
     "name": "stdout",
     "output_type": "stream",
     "text": [
      "Accuracy: 99.36%\n"
     ]
    },
    {
     "data": {
      "image/png": "iVBORw0KGgoAAAANSUhEUgAAAGQAAABeCAYAAADVA7GfAAAABHNCSVQICAgIfAhkiAAAAAlwSFlzAAAMTQAADE0B0s6tTgAAADl0RVh0U29mdHdhcmUAbWF0cGxvdGxpYiB2ZXJzaW9uIDMuMC4zLCBodHRwOi8vbWF0cGxvdGxpYi5vcmcvnQurowAAAV9JREFUeJzt3SFKBVEAhtE7Imh6mzBbDQabzWoRXJNdEN2DJrHpAlyLzeKYze8OfuGcfn8efNwwzINZ1nUddBz89w/gL0FiBIkRJEaQGEFiBIk53HT9fUx9yFluH2bOjTHGeD29nrp3+bxb9jnvhsQIEiNIjCAxgsQIEiNIjCAxgsQIEiNIjCAxgsQIEiNIjCAxgsQIErPpK9zdxdnUvfXuY+reGGO8nB9PXvzZ67QbEiNIjCAxgsQIEiNIjCAxgsQIEiNIjCAxgsQIEiNIjCAxgsQIEiNIjCAxgsRs+ieHr8fvqXsnb0dT98YY4+bpfure1ed+592QGEFiBIkRJEaQGEFiBIkRJEaQGEFiBIkRJEaQGEFiBIkRJEaQGEFiBIlZfIOqxQ2JESRGkBhBYgSJESRGkBhBYgSJESRGkBhBYgSJESRGkBhBYgSJESRGkBhBYgSJESRGkBhBYgSJ+QUzKRajU2ljLQAAAABJRU5ErkJggg==\n",
      "text/plain": [
       "<Figure size 80x80 with 1 Axes>"
      ]
     },
     "metadata": {
      "needs_background": "light"
     },
     "output_type": "display_data"
    },
    {
     "name": "stdout",
     "output_type": "stream",
     "text": [
      "Accuracy: 100.00%\n"
     ]
    },
    {
     "data": {
      "image/png": "iVBORw0KGgoAAAANSUhEUgAAAGQAAABeCAYAAADVA7GfAAAABHNCSVQICAgIfAhkiAAAAAlwSFlzAAAMTQAADE0B0s6tTgAAADl0RVh0U29mdHdhcmUAbWF0cGxvdGxpYiB2ZXJzaW9uIDMuMC4zLCBodHRwOi8vbWF0cGxvdGxpYi5vcmcvnQurowAAAV5JREFUeJzt3TFKxUAUQNGJCFZuwjV8cQO2ugDBTdmpnSsQfukOxM7V2BhrwS4TvMU5fR6ByyvCDGRZ13XQcfLfL8BvgsQIEiNIjCAxgsQIEnO66/T3MfUjZ7l9nDlujDHG2+Xd1HnXx/Nly/M2JEaQGEFiBIkRJEaQGEFiBIkRJEaQGEFiBIkRJEaQGEFiBIkRJEaQmF2PcM+uDlPnrQ8fU+eNMcbxsOnE9Q/bTq1tSIwgMYLECBIjSIwgMYLECBIjSIwgMYLECBIjSIwgMYLECBIjSIwgMYLECBKz6yWHr5fvqfMuXmdfSBjj/ul56rybz23P25AYQWIEiREkRpAYQWIEiREkRpAYQWIEiREkRpAYQWIEiREkRpAYQWIEiVn8g6rFhsQIEiNIjCAxgsQIEiNIjCAxgsQIEiNIjCAxgsQIEiNIjCAxgsQIEiNIjCAxgsQIEiNIjCAxgsT8AE+1Fo+yzsK6AAAAAElFTkSuQmCC\n",
      "text/plain": [
       "<Figure size 80x80 with 1 Axes>"
      ]
     },
     "metadata": {
      "needs_background": "light"
     },
     "output_type": "display_data"
    },
    {
     "name": "stdout",
     "output_type": "stream",
     "text": [
      "Accuracy: 100.00%\n"
     ]
    },
    {
     "data": {
      "image/png": "iVBORw0KGgoAAAANSUhEUgAAAGQAAABeCAYAAADVA7GfAAAABHNCSVQICAgIfAhkiAAAAAlwSFlzAAAMTQAADE0B0s6tTgAAADl0RVh0U29mdHdhcmUAbWF0cGxvdGxpYiB2ZXJzaW9uIDMuMC4zLCBodHRwOi8vbWF0cGxvdGxpYi5vcmcvnQurowAAAV5JREFUeJzt3TFKxUAUQNGJ/NZNuANRcAFWFq5AcFUfFCxt7X7rFn7ncoRYC3aZ4C3O6fMIXF4RZiDLuq6Djov/fgF+EyRGkBhBYgSJESRGkJjDrtPPY+pHzvLwOnPcGGOMz7unqfPuT5fLludtSIwgMYLECBIjSIwgMYLECBIjSIwgMYLECBIjSIwgMYLECBIjSIwgMbse4R5ub6bOW4/nqfPGGON0venE9Q/bTq1tSIwgMYLECBIjSIwgMYLECBIjSIwgMYLECBIjSIwgMYLECBIjSIwgMYLECBKz6yWH7/e5FwiuPmZfSBjj+eVt6rzHr23P25AYQWIEiREkRpAYQWIEiREkRpAYQWIEiREkRpAYQWIEiREkRpAYQWIEiVn8g6rFhsQIEiNIjCAxgsQIEiNIjCAxgsQIEiNIjCAxgsQIEiNIjCAxgsQIEiNIjCAxgsQIEiNIjCAxgsT8AFJ+FYpoOXFgAAAAAElFTkSuQmCC\n",
      "text/plain": [
       "<Figure size 80x80 with 1 Axes>"
      ]
     },
     "metadata": {
      "needs_background": "light"
     },
     "output_type": "display_data"
    },
    {
     "name": "stdout",
     "output_type": "stream",
     "text": [
      "Accuracy: 100.00%\n"
     ]
    },
    {
     "data": {
      "image/png": "iVBORw0KGgoAAAANSUhEUgAAAGQAAABeCAYAAADVA7GfAAAABHNCSVQICAgIfAhkiAAAAAlwSFlzAAAMTQAADE0B0s6tTgAAADl0RVh0U29mdHdhcmUAbWF0cGxvdGxpYiB2ZXJzaW9uIDMuMC4zLCBodHRwOi8vbWF0cGxvdGxpYi5vcmcvnQurowAAAV1JREFUeJzt3SFOxUAUQNEpYFkESyAg8BgMOyD5myL5AovCfssWvmM7pGgSXKfhinN8X5rcPNHMJF3WdR10XPz3C/CbIDGCxAgSI0iMIDGCxFztOv08pn7kLE/HmePGGGN8PrxMnfd4ul62PG9DYgSJESRGkBhBYgSJESRGkBhBYgSJESRGkBhBYgSJESRGkBhBYgSJ2fUI9/L+buq89fU8dd4YY5xuN524/mHbqbUNiREkRpAYQWIEiREkRpAYQWIEiREkRpAYQWIEiREkRpAYQWIEiREkRpAYQWJ2veTw/T73AsHNx+wLCWMcjm9T5z1/bXvehsQIEiNIjCAxgsQIEiNIjCAxgsQIEiNIjCAxgsQIEiNIjCAxgsQIEiNIzOIfVC02JEaQGEFiBIkRJEaQGEFiBIkRJEaQGEFiBIkRJEaQGEFiBIkRJEaQGEFiBIkRJEaQGEFiBIkRJOYH6X4ViXKqLbUAAAAASUVORK5CYII=\n",
      "text/plain": [
       "<Figure size 80x80 with 1 Axes>"
      ]
     },
     "metadata": {
      "needs_background": "light"
     },
     "output_type": "display_data"
    },
    {
     "name": "stdout",
     "output_type": "stream",
     "text": [
      "Accuracy: 99.91%\n"
     ]
    },
    {
     "data": {
      "image/png": "iVBORw0KGgoAAAANSUhEUgAAAGQAAABeCAYAAADVA7GfAAAABHNCSVQICAgIfAhkiAAAAAlwSFlzAAAMTQAADE0B0s6tTgAAADl0RVh0U29mdHdhcmUAbWF0cGxvdGxpYiB2ZXJzaW9uIDMuMC4zLCBodHRwOi8vbWF0cGxvdGxpYi5vcmcvnQurowAAARpJREFUeJzt2zEOwjAQAEEO8f8vm5oSJQ4LzPSxIq2uiC6etdaNjvunX4BXgsQIEiNIjCAxgsQIEvPYefjM/N1HzlprjjxvQmIEiREkRpAYQWIEiREkRpAYQWIEiREkRpAYQWIEiREkRpAYQWIEidm6wv0GtV9pTUiMIDGCxAgSI0iMIDGCxAgSI0iMIDGCxAgSI0iMIDGCxAgSI0iMIDGCxAgSM5uX/KcePnPoCvgl3FP/MYLECBIjSIwgMYLECBIjSIwgMYLECBIjSIwgMYLECBIjSIwgMYLECBKze6fOm0xIjCAxgsQIEiNIjCAxgsQIEiNIjCAxgsQIEiNIjCAxgsQIEiNIjCAxgsQIEiNIjCAxgsQIEiNIzBN7jxSykkL7WQAAAABJRU5ErkJggg==\n",
      "text/plain": [
       "<Figure size 80x80 with 1 Axes>"
      ]
     },
     "metadata": {
      "needs_background": "light"
     },
     "output_type": "display_data"
    },
    {
     "name": "stdout",
     "output_type": "stream",
     "text": [
      "Accuracy: 94.36%\n",
      "Accuracy: 99.55%\n"
     ]
    },
    {
     "data": {
      "image/png": "iVBORw0KGgoAAAANSUhEUgAAAGQAAABeCAYAAADVA7GfAAAABHNCSVQICAgIfAhkiAAAAAlwSFlzAAAMTQAADE0B0s6tTgAAADl0RVh0U29mdHdhcmUAbWF0cGxvdGxpYiB2ZXJzaW9uIDMuMC4zLCBodHRwOi8vbWF0cGxvdGxpYi5vcmcvnQurowAAAWNJREFUeJzt3bFJxVAAhtH7xMLWzlKcwMoRrAR3cARXsLGycgVnsFJxjbeAtsJrBOFZW+cGv+KcPj+Bj1uEBLLZ7/eDjoP/vgH+EiRGkBhBYgSJESRGkJjDNcd3u7OpDznXP6cz58YYY5xcnE/de9o+bJZc74TECBIjSIwgMYLECBIjSIwgMYLECBIjSIwgMYLECBIjSIwgMYLECBKz6ivct5ujqXvbq6+pe2OMcfv4OX1zCSckRpAYQWIEiREkRpAYQWIEiREkRpAYQWIEiREkRpAYQWIEiREkRpAYQWIEiVn1I4fj+5epe3fP31P3xhjj4/117uDlssudkBhBYgSJESRGkBhBYgSJESRGkBhBYgSJESRGkBhBYgSJESRGkBhBYgSJ2fgHVYsTEiNIjCAxgsQIEiNIjCAxgsQIEiNIjCAxgsQIEiNIjCAxgsQIEiNIjCAxgsQIEiNIjCAxgsQIEvMLId4ZHviMyp8AAAAASUVORK5CYII=\n",
      "text/plain": [
       "<Figure size 80x80 with 1 Axes>"
      ]
     },
     "metadata": {
      "needs_background": "light"
     },
     "output_type": "display_data"
    },
    {
     "data": {
      "image/png": "iVBORw0KGgoAAAANSUhEUgAAAGQAAABeCAYAAADVA7GfAAAABHNCSVQICAgIfAhkiAAAAAlwSFlzAAAMTQAADE0B0s6tTgAAADl0RVh0U29mdHdhcmUAbWF0cGxvdGxpYiB2ZXJzaW9uIDMuMC4zLCBodHRwOi8vbWF0cGxvdGxpYi5vcmcvnQurowAAAV1JREFUeJzt3SFOxUAUQNH5BP0lCocnwbAcJBbPLr7+jkVgUOwAi0FhMQSDKpoE12m44hw/L01unmimSXfLsgw6Tv77AfhNkBhBYgSJESRGkBhBYk63HX859SXn9uVi5rgxxhjPV99T570uj7s1521IjCAxgsQIEiNIjCAxgsQIEiNIjCAxgsQIEiNIjCAxgsQIEiNIjCAxm17hHs7fps47nq26Hf3Tshynz1zDhsQIEiNIjCAxgsQIEiNIjCAxgsQIEiNIjCAxgsQIEiNIjCAxgsQIEiNIjCAxm37kcPf+NXXe/v5j6rwxxrjZP02d9/B5veq8DYkRJEaQGEFiBIkRJEaQGEFiBIkRJEaQGEFiBIkRJEaQGEFiBIkRJEaQmJ1/ULXYkBhBYgSJESRGkBhBYgSJESRGkBhBYgSJESRGkBhBYgSJESRGkBhBYgSJESRGkBhBYgSJESRGkJgfAN0ZPuOJ2fQAAAAASUVORK5CYII=\n",
      "text/plain": [
       "<Figure size 80x80 with 1 Axes>"
      ]
     },
     "metadata": {
      "needs_background": "light"
     },
     "output_type": "display_data"
    },
    {
     "name": "stdout",
     "output_type": "stream",
     "text": [
      "Accuracy: 97.82%\n"
     ]
    },
    {
     "data": {
      "image/png": "iVBORw0KGgoAAAANSUhEUgAAAGQAAABeCAYAAADVA7GfAAAABHNCSVQICAgIfAhkiAAAAAlwSFlzAAAMTQAADE0B0s6tTgAAADl0RVh0U29mdHdhcmUAbWF0cGxvdGxpYiB2ZXJzaW9uIDMuMC4zLCBodHRwOi8vbWF0cGxvdGxpYi5vcmcvnQurowAAAVZJREFUeJzt3aFNxWAUQOFbwhp4PAvADIzBAkgsmjnY4XkSBJI1CApRNLr/C0d8n/9vmpxc0bRpt33fh46L/74A/hIkRpAYQWIEiREkRpCYy/OOv1l6k/N4ul45bmZmXu4+l8773t+2I+dtSIwgMYLECBIjSIwgMYLECBIjSIwgMYLECBIjSIwgMYLECBIjSIwgMWd9hPu0vS+d9zw/S+fNzOz7x/KZR9iQGEFiBIkRJEaQGEFiBIkRJEaQGEFiBIkRJEaQGEFiBIkRJEaQGEFiBIkRJOa8Lzks/hbX1cPX0nkzM7fb69J5p/3+0HkbEiNIjCAxgsQIEiNIjCAxgsQIEiNIjCAxgsQIEiNIjCAxgsQIEiNIjCAxm39QtdiQGEFiBIkRJEaQGEFiBIkRJEaQGEFiBIkRJEaQGEFiBIkRJEaQGEFiBIkRJEaQGEFiBIkRJEaQmF98mhpXTxiLNgAAAABJRU5ErkJggg==\n",
      "text/plain": [
       "<Figure size 80x80 with 1 Axes>"
      ]
     },
     "metadata": {
      "needs_background": "light"
     },
     "output_type": "display_data"
    },
    {
     "name": "stdout",
     "output_type": "stream",
     "text": [
      "Accuracy: 99.82%\n"
     ]
    },
    {
     "data": {
      "image/png": "iVBORw0KGgoAAAANSUhEUgAAAGQAAABeCAYAAADVA7GfAAAABHNCSVQICAgIfAhkiAAAAAlwSFlzAAAMTQAADE0B0s6tTgAAADl0RVh0U29mdHdhcmUAbWF0cGxvdGxpYiB2ZXJzaW9uIDMuMC4zLCBodHRwOi8vbWF0cGxvdGxpYi5vcmcvnQurowAAAVhJREFUeJzt3LFJxlAYRuEv4iZWgq2OYO8SDiHYiY7jAG5gJTqLdawtxRs8yPP0efnhcIuQ/Nn2fR86Tv76B/CdIDGCxAgSI0iMIDGCxJweO3+59Cbn/uV85dzMzDxcvy3d2/f37TfXOyExgsQIEiNIjCAxgsQIEiNIjCAxgsQIEiNIjCAxgsQIEiNIjCAxgsRsR75KerdtS8ef5mLl3MzM7PvH6kmPcP8TQWIEiREkRpAYQWIEiREkRpAYQWIEiREkRpAYQWIEiREkRpAYQWIEiREk5tD/qT8ufoHi7PZz6d7MzNX2vHTvdb/51fVOSIwgMYLECBIjSIwgMYLECBIjSIwgMYLECBIjSIwgMYLECBIjSIwgMYLEHPrhAH7OCYkRJEaQGEFiBIkRJEaQGEFiBIkRJEaQGEFiBIkRJEaQGEFiBIkRJEaQGEFiBIkRJEaQGEFiBIn5Ag8HHLenxhDzAAAAAElFTkSuQmCC\n",
      "text/plain": [
       "<Figure size 80x80 with 1 Axes>"
      ]
     },
     "metadata": {
      "needs_background": "light"
     },
     "output_type": "display_data"
    },
    {
     "name": "stdout",
     "output_type": "stream",
     "text": [
      "Accuracy: 99.00%\n"
     ]
    },
    {
     "data": {
      "image/png": "iVBORw0KGgoAAAANSUhEUgAAAGQAAABeCAYAAADVA7GfAAAABHNCSVQICAgIfAhkiAAAAAlwSFlzAAAMTQAADE0B0s6tTgAAADl0RVh0U29mdHdhcmUAbWF0cGxvdGxpYiB2ZXJzaW9uIDMuMC4zLCBodHRwOi8vbWF0cGxvdGxpYi5vcmcvnQurowAAAVhJREFUeJzt3LFJxlAYRuEv4io2Yie4g6U7uIOtlrqMrTuIlbiKbawtxRs8yPP0efnhcIuQ/Nn2fR86Tv76B/CdIDGCxAgSI0iMIDGCxJweO3+19Cbn/uV85dzMzDxcvy7d2/eP7TfXOyExgsQIEiNIjCAxgsQIEiNIjCAxgsQIEiNIjCAxgsQIEiNIjCAxgsRsR75KerdtS8ef5mLl3MzM7Pv76kmPcP8TQWIEiREkRpAYQWIEiREkRpAYQWIEiREkRpAYQWIEiREkRpAYQWIEiREk5tD/qT8ufoHi7PZz6d7MzOX2vHTvbb/51fVOSIwgMYLECBIjSIwgMYLECBIjSIwgMYLECBIjSIwgMYLECBIjSIwgMYLEHPrhAH7OCYkRJEaQGEFiBIkRJEaQGEFiBIkRJEaQGEFiBIkRJEaQGEFiBIkRJEaQGEFiBIkRJEaQGEFiBIn5AiuyHLujn+fvAAAAAElFTkSuQmCC\n",
      "text/plain": [
       "<Figure size 80x80 with 1 Axes>"
      ]
     },
     "metadata": {
      "needs_background": "light"
     },
     "output_type": "display_data"
    },
    {
     "name": "stdout",
     "output_type": "stream",
     "text": [
      "Accuracy: 99.91%\n"
     ]
    },
    {
     "data": {
      "image/png": "iVBORw0KGgoAAAANSUhEUgAAAGQAAABeCAYAAADVA7GfAAAABHNCSVQICAgIfAhkiAAAAAlwSFlzAAAMTQAADE0B0s6tTgAAADl0RVh0U29mdHdhcmUAbWF0cGxvdGxpYiB2ZXJzaW9uIDMuMC4zLCBodHRwOi8vbWF0cGxvdGxpYi5vcmcvnQurowAAAVlJREFUeJzt3KFNxlAYRuGvhGEIwaDYAccKzMAA4GEWJCvgEAhGQRaNJNyGE/I8vm/+5OSKpv277fs+dJz89Q/gO0FiBIkRJEaQGEFiBIk5PXb+aulNzsPL+cq5mZm5v35durfvH9tvrndCYgSJESRGkBhBYgSJESRGkBhBYgSJESRGkBhBYgSJESRGkBhBYgSJ2Y58lfRu25aOP83FyrmZmdn399WTHuH+J4LECBIjSIwgMYLECBIjSIwgMYLECBIjSIwgMYLECBIjSIwgMYLECBIjSMyh/1N/XPwCxdnt59K9mZnL7Xnp3tt+86vrnZAYQWIEiREkRpAYQWIEiREkRpAYQWIEiREkRpAYQWIEiREkRpAYQWIEiTn0wwH8nBMSI0iMIDGCxAgSI0iMIDGCxAgSI0iMIDGCxAgSI0iMIDGCxAgSI0iMIDGCxAgSI0iMIDGCxAgS8wWQChzAFFeAIgAAAABJRU5ErkJggg==\n",
      "text/plain": [
       "<Figure size 80x80 with 1 Axes>"
      ]
     },
     "metadata": {
      "needs_background": "light"
     },
     "output_type": "display_data"
    },
    {
     "name": "stdout",
     "output_type": "stream",
     "text": [
      "Accuracy: 100.00%\n"
     ]
    },
    {
     "data": {
      "image/png": "iVBORw0KGgoAAAANSUhEUgAAAGQAAABeCAYAAADVA7GfAAAABHNCSVQICAgIfAhkiAAAAAlwSFlzAAAMTQAADE0B0s6tTgAAADl0RVh0U29mdHdhcmUAbWF0cGxvdGxpYiB2ZXJzaW9uIDMuMC4zLCBodHRwOi8vbWF0cGxvdGxpYi5vcmcvnQurowAAAWpJREFUeJzt3LFJBFEARdG/IkaGFmALG9qINmAuaLpgAxZgogUIBhZgF1ZgA5qIibDGhrJ/8CLn5PNYuPxgmJ1ZbbfbQcfeX/8AfhIkRpAYQWIEiREkRpCY/SXHH+7ep97kvJ7ezpwbY4xx9XI0dW91cr7a5XonJEaQGEFiBIkRJEaQGEFiBIkRJEaQGEFiBIkRJEaQGEFiBIkRJEaQmNWSfyU9u/yYOv51fDFzbowxxvrpbere5vnRI9z/RJAYQWIEiREkRpAYQWIEiREkRpAYQWIEiREkRpAYQWIEiREkRpAYQWIEiVn0PfWDw/upe9c3H1P3xhhj/Tn33ffNjtc7ITGCxAgSI0iMIDGCxAgSI0iMIDGCxAgSI0iMIDGCxAgSI0iMIDGCxAgSs+iHA/g9JyRGkBhBYgSJESRGkBhBYgSJESRGkBhBYgSJESRGkBhBYgSJESRGkBhBYgSJESRGkBhBYgSJESTmG9HQHaHMQzunAAAAAElFTkSuQmCC\n",
      "text/plain": [
       "<Figure size 80x80 with 1 Axes>"
      ]
     },
     "metadata": {
      "needs_background": "light"
     },
     "output_type": "display_data"
    },
    {
     "data": {
      "image/png": "iVBORw0KGgoAAAANSUhEUgAAAGQAAABeCAYAAADVA7GfAAAABHNCSVQICAgIfAhkiAAAAAlwSFlzAAAMTQAADE0B0s6tTgAAADl0RVh0U29mdHdhcmUAbWF0cGxvdGxpYiB2ZXJzaW9uIDMuMC4zLCBodHRwOi8vbWF0cGxvdGxpYi5vcmcvnQurowAAAV5JREFUeJzt3SFKBGEch+H/il5EsBkN3kCT1WgUBKsXsBkET+ERZM9jsXgCw5rN+y2+4Xn6/Bh4+cIwA7PZ7XZDx9F/3wB/CRIjSIwgMYLECBIjSMzxIce/PmfpQ87d+8PKuZmZ2T69LV482exztRMSI0iMIDGCxAgSI0iMIDGCxAgSI0iMIDGCxAgSI0iMIDGCxAgSI0jMQV/hXt9+L927vD9dujczc7W5Wbq33X3sdb0TEiNIjCAxgsQIEiNIjCAxgsQIEiNIjCAxgsQIEiNIjCAxgsQIEiNIjCAxgsQc9COHs4vXpXuPzz9L92Zmzudl+eY+nJAYQWIEiREkRpAYQWIEiREkRpAYQWIEiREkRpAYQWIEiREkRpAYQWIEidn4B1WLExIjSIwgMYLECBIjSIwgMYLECBIjSIwgMYLECBIjSIwgMYLECBIjSIwgMYLECBIjSIwgMYLECBLzCxzSFZVkGkr8AAAAAElFTkSuQmCC\n",
      "text/plain": [
       "<Figure size 80x80 with 1 Axes>"
      ]
     },
     "metadata": {
      "needs_background": "light"
     },
     "output_type": "display_data"
    },
    {
     "name": "stdout",
     "output_type": "stream",
     "text": [
      "Accuracy: 92.00%\n"
     ]
    },
    {
     "data": {
      "image/png": "iVBORw0KGgoAAAANSUhEUgAAAGQAAABeCAYAAADVA7GfAAAABHNCSVQICAgIfAhkiAAAAAlwSFlzAAAMTQAADE0B0s6tTgAAADl0RVh0U29mdHdhcmUAbWF0cGxvdGxpYiB2ZXJzaW9uIDMuMC4zLCBodHRwOi8vbWF0cGxvdGxpYi5vcmcvnQurowAAAVZJREFUeJzt3bFJxlAYRuEv4ggiaOUetmKtYGHvAG4hbuASTiAOYyVuEWvr//54iufp8xI43CIkkG3f96Hj5L9vgL8EiREkRpAYQWIEiREk5vTI+0sfci5vH1bOzczM98f76sntkIudkBhBYgSJESRGkBhBYgSJESRGkBhBYgSJESRGkBhBYgSJESRGkBhBYo76Cvf84mfp3tPb49K9mZmr7Wbp3tf+edD1TkiMIDGCxAgSI0iMIDGCxAgSI0iMIDGCxAgSI0iMIDGCxAgSI0iMIDGCxAgSc9SPHK7vXpfu3T+fLd2bmXmdl+Wbh3BCYgSJESRGkBhBYgSJESRGkBhBYgSJESRGkBhBYgSJESRGkBhBYgSJESRm8w+qFickRpAYQWIEiREkRpAYQWIEiREkRpAYQWIEiREkRpAYQWIEiREkRpAYQWIEiREkRpAYQWIEiREk5hdjXhMZI5lI/wAAAABJRU5ErkJggg==\n",
      "text/plain": [
       "<Figure size 80x80 with 1 Axes>"
      ]
     },
     "metadata": {
      "needs_background": "light"
     },
     "output_type": "display_data"
    },
    {
     "name": "stdout",
     "output_type": "stream",
     "text": [
      "Accuracy: 91.18%\n"
     ]
    },
    {
     "data": {
      "image/png": "iVBORw0KGgoAAAANSUhEUgAAAGQAAABeCAYAAADVA7GfAAAABHNCSVQICAgIfAhkiAAAAAlwSFlzAAAMTQAADE0B0s6tTgAAADl0RVh0U29mdHdhcmUAbWF0cGxvdGxpYiB2ZXJzaW9uIDMuMC4zLCBodHRwOi8vbWF0cGxvdGxpYi5vcmcvnQurowAAAV5JREFUeJzt3CFKBVEAhtE7YhMtVtdgFwSD1fCWIWh9a3IDGt2EaxCb0Txmo7w7+CHn9PkZ+LhhGGaWdV0HHUd/fQP8JEiMIDGCxAgSI0iMIDHHG+9Pfcg5ubybOTfGGOPr7Xn25HLIxU5IjCAxgsQIEiNIjCAxgsQIEiNIjCAxgsQIEiNIjCAxgsQIEiNIjCAxm77CPT37mLq3f3qYujfGGOfL7dS9z/X1oOudkBhBYgSJESRGkBhBYgSJESRGkBhBYgSJESRGkBhBYgSJESRGkBhBYgSJESRm2fJ/Wbv7x6nj+5eLmXNjjDGu32+m7q3rle/U/xNBYgSJESRGkBhBYgSJESRGkBhBYgSJESRGkBhBYgSJESRGkBhBYgSJ2fSdOr/nhMQIEiNIjCAxgsQIEiNIjCAxgsQIEiNIjCAxgsQIEiNIjCAxgsQIEiNIjCAxgsQIEiNIjCAxgsR8A9mPGj160C0YAAAAAElFTkSuQmCC\n",
      "text/plain": [
       "<Figure size 80x80 with 1 Axes>"
      ]
     },
     "metadata": {
      "needs_background": "light"
     },
     "output_type": "display_data"
    },
    {
     "name": "stdout",
     "output_type": "stream",
     "text": [
      "Accuracy: 99.73%\n"
     ]
    },
    {
     "data": {
      "image/png": "iVBORw0KGgoAAAANSUhEUgAAAGQAAABeCAYAAADVA7GfAAAABHNCSVQICAgIfAhkiAAAAAlwSFlzAAAMTQAADE0B0s6tTgAAADl0RVh0U29mdHdhcmUAbWF0cGxvdGxpYiB2ZXJzaW9uIDMuMC4zLCBodHRwOi8vbWF0cGxvdGxpYi5vcmcvnQurowAAAVVJREFUeJzt3bFJxlAYRuEvKmjlCBbOYWXlGDqEE4g4j52Vo9i5gNYSa+v//niK5+nzEjjcIiSQbd/3oePkv2+AvwSJESRGkBhBYgSJESTm7Mj7Sx9yTq/vVs7NzMzPx9vqye2Qi52QGEFiBIkRJEaQGEFiBIkRJEaQGEFiBIkRJEaQGEFiBIkRJEaQGEFijvoK9+L8c+ne0+vj0r2Zmcvtdune1/5+0PVOSIwgMYLECBIjSIwgMYLECBIjSIwgMYLECBIjSIwgMYLECBIjSIwgMYLECBJz1I8c7u5flu7dPFwt3ZuZ+Z7n5ZuHcEJiBIkRJEaQGEFiBIkRJEaQGEFiBIkRJEaQGEFiBIkRJEaQGEFiBIkRJGbzD6oWJyRGkBhBYgSJESRGkBhBYgSJESRGkBhBYgSJESRGkBhBYgSJESRGkBhBYgSJESRGkBhBYgSJESTmF7YOE7oQe/pSAAAAAElFTkSuQmCC\n",
      "text/plain": [
       "<Figure size 80x80 with 1 Axes>"
      ]
     },
     "metadata": {
      "needs_background": "light"
     },
     "output_type": "display_data"
    },
    {
     "name": "stdout",
     "output_type": "stream",
     "text": [
      "Accuracy: 98.55%\n"
     ]
    },
    {
     "data": {
      "image/png": "iVBORw0KGgoAAAANSUhEUgAAAGQAAABeCAYAAADVA7GfAAAABHNCSVQICAgIfAhkiAAAAAlwSFlzAAAMTQAADE0B0s6tTgAAADl0RVh0U29mdHdhcmUAbWF0cGxvdGxpYiB2ZXJzaW9uIDMuMC4zLCBodHRwOi8vbWF0cGxvdGxpYi5vcmcvnQurowAAAVRJREFUeJzt3bFJBFEYRtF/ZM0sQSzDAgQjWzC0DNNFbMhEsBrtQOMxNt63eINz8vkYuLxgmIHZ9n0fOi7++wb4S5AYQWIEiREkRpAYQWIOZ95f+pCzXd+vnJuZmf3zffXkdsrFTkiMIDGCxAgSI0iMIDGCxAgSI0iMIDGCxAgSI0iMIDGCxAgSI0iMIDFnfYV7efhauvf69rx0b2bmartbuve9f5x0vRMSI0iMIDGCxAgSI0iMIDGCxAgSI0iMIDGCxAgSI0iMIDGCxAgSI0iMIDGCxJz1I4eHp5ele7ePN0v3ZmZ+5rh88xROSIwgMYLECBIjSIwgMYLECBIjSIwgMYLECBIjSIwgMYLECBIjSIwgMYLEbP5B1eKExAgSI0iMIDGCxAgSI0iMIDGCxAgSI0iMIDGCxAgSI0iMIDGCxAgSI0iMIDGCxAgSI0iMIDGCxPwCBjwTxCBnZ2cAAAAASUVORK5CYII=\n",
      "text/plain": [
       "<Figure size 80x80 with 1 Axes>"
      ]
     },
     "metadata": {
      "needs_background": "light"
     },
     "output_type": "display_data"
    },
    {
     "name": "stdout",
     "output_type": "stream",
     "text": [
      "Accuracy: 95.00%\n"
     ]
    },
    {
     "data": {
      "image/png": "iVBORw0KGgoAAAANSUhEUgAAAGQAAABeCAYAAADVA7GfAAAABHNCSVQICAgIfAhkiAAAAAlwSFlzAAAMTQAADE0B0s6tTgAAADl0RVh0U29mdHdhcmUAbWF0cGxvdGxpYiB2ZXJzaW9uIDMuMC4zLCBodHRwOi8vbWF0cGxvdGxpYi5vcmcvnQurowAAARhJREFUeJzt2zEOg0AMAME4yv+/7NSpAWUQOz0IaeUCnW929xXH+98fkF8FwRQEUxBMQTAFwRQE87ny5TPzuJ+c3Z0jzzchmIJgCoIpCKYgmIJgCoIpCKYgmIJgCoIpCKYgmIJgCoIpCKYgmIJgLj3CvQNtlbYJwRQEUxBMQTAFwRQEUxBMQTAFwRQEUxBMQTAFwRQEUxBMQTAFwRQEUxBMQTCXLjmcvUAwc+gK+C00IZiCYAqCKQimIJiCYAqCKQimIJiCYAqCKQimIJiCYAqCKQimIJiCYAqCGe3i/NM1IZiCYAqCKQimIJiCYAqCKQimIJiCYAqCKQimIJiCYAqCKQimIJiCYAqCKQimIJiCYAqCKQimIJgvI2AQuGoULkIAAAAASUVORK5CYII=\n",
      "text/plain": [
       "<Figure size 80x80 with 1 Axes>"
      ]
     },
     "metadata": {
      "needs_background": "light"
     },
     "output_type": "display_data"
    },
    {
     "name": "stdout",
     "output_type": "stream",
     "text": [
      "Accuracy: 95.73%\n",
      "Accuracy: 100.00%\n"
     ]
    },
    {
     "data": {
      "image/png": "iVBORw0KGgoAAAANSUhEUgAAAGQAAABeCAYAAADVA7GfAAAABHNCSVQICAgIfAhkiAAAAAlwSFlzAAAMTQAADE0B0s6tTgAAADl0RVh0U29mdHdhcmUAbWF0cGxvdGxpYiB2ZXJzaW9uIDMuMC4zLCBodHRwOi8vbWF0cGxvdGxpYi5vcmcvnQurowAAAWJJREFUeJzt3SFKBVEAhtE74iosgtFdCIpJF2ARm8HkFtyG4A4E12A0GURwFVZfeWbzu4NfOKfPz8DHDcMMzLLdbgcde/99A/wlSIwgMYLECBIjSIwgMftrjl88n019yLk6/p45N8YYY3N5MHXv+utl2eV6JyRGkBhBYgSJESRGkBhBYgSJESRGkBhBYgSJESRGkBhBYgSJESRGkJhVX+He/HxO3bt/PZ26N8YY7+eH0zd34YTECBIjSIwgMYLECBIjSIwgMYLECBIjSIwgMYLECBIjSIwgMYLECBIjSIwgMat+5HBy9Dh172PzMHVvjDHu3m6n7j3teL0TEiNIjCAxgsQIEiNIjCAxgsQIEiNIjCAxgsQIEiNIjCAxgsQIEiNIjCAxi39QtTghMYLECBIjSIwgMYLECBIjSIwgMYLECBIjSIwgMYLECBIjSIwgMYLECBIjSIwgMYLECBIjSIwgMb+BPhgrbMEvNwAAAABJRU5ErkJggg==\n",
      "text/plain": [
       "<Figure size 80x80 with 1 Axes>"
      ]
     },
     "metadata": {
      "needs_background": "light"
     },
     "output_type": "display_data"
    },
    {
     "data": {
      "image/png": "iVBORw0KGgoAAAANSUhEUgAAAGQAAABeCAYAAADVA7GfAAAABHNCSVQICAgIfAhkiAAAAAlwSFlzAAAMTQAADE0B0s6tTgAAADl0RVh0U29mdHdhcmUAbWF0cGxvdGxpYiB2ZXJzaW9uIDMuMC4zLCBodHRwOi8vbWF0cGxvdGxpYi5vcmcvnQurowAAAWFJREFUeJzt3KFNxVAAhtFbgoIQBnkW8zQOzwoY5kFimIAF0CzAAAgSPEhE0UjybsMXco7vnyZfrmiadlnXddBx9Nc3wE+CxAgSI0iMIDGCxAgSc7zl+OXDxdSHnKfr3cy5McYYtycPU/fu1nU55HonJEaQGEFiBIkRJEaQGEFiBIkRJEaQGEFiBIkRJEaQGEFiBIkRJEaQmE1f4d58vU/dW85Pp+6NMcb6+DJ98xBOSIwgMYLECBIjSIwgMYLECBIjSIwgMYLECBIjSIwgMYLECBIjSIwgMYLECBKzbPm/rM+316njZx/3M+fGGGPsd1dT957Xve/U/xNBYgSJESRGkBhBYgSJESRGkBhBYgSJESRGkBhBYgSJESRGkBhBYgSJ2fSdOr/nhMQIEiNIjCAxgsQIEiNIjCAxgsQIEiNIjCAxgsQIEiNIjCAxgsQIEiNIjCAxgsQIEiNIjCAxgsR8A9OnHZtuYCavAAAAAElFTkSuQmCC\n",
      "text/plain": [
       "<Figure size 80x80 with 1 Axes>"
      ]
     },
     "metadata": {
      "needs_background": "light"
     },
     "output_type": "display_data"
    },
    {
     "name": "stdout",
     "output_type": "stream",
     "text": [
      "Accuracy: 99.91%\n"
     ]
    },
    {
     "data": {
      "image/png": "iVBORw0KGgoAAAANSUhEUgAAAGQAAABeCAYAAADVA7GfAAAABHNCSVQICAgIfAhkiAAAAAlwSFlzAAAMTQAADE0B0s6tTgAAADl0RVh0U29mdHdhcmUAbWF0cGxvdGxpYiB2ZXJzaW9uIDMuMC4zLCBodHRwOi8vbWF0cGxvdGxpYi5vcmcvnQurowAAAWBJREFUeJzt3LFJxGAAhuE/Yu0OFnY6gJWNKziBjePcAk5wU9wEDuAOh1wpSKwt5f7gizxPn4/Ay1+EkCzrug46Lv76BvhJkBhBYgSJESRGkBhBYi63HH94vZv6kHN4fpw5N8YY42nZTd3br+tyzvVOSIwgMYLECBIjSIwgMYLECBIjSIwgMYLECBIjSIwgMYLECBIjSIwgMZu+wn35Ok7dW5bD1L0xxljfPqdvnsMJiREkRpAYQWIEiREkRpAYQWIEiREkRpAYQWIEiREkRpAYQWIEiREkRpAYQWKWLf+XdTp+TB2/Ou1nzo0xxri5vp26977e+079PxEkRpAYQWIEiREkRpAYQWIEiREkRpAYQWIEiREkRpAYQWIEiREkRpCYTd+p83tOSIwgMYLECBIjSIwgMYLECBIjSIwgMYLECBIjSIwgMYLECBIjSIwgMYLECBIjSIwgMYLECBIjSMw31AEek8iT2jAAAAAASUVORK5CYII=\n",
      "text/plain": [
       "<Figure size 80x80 with 1 Axes>"
      ]
     },
     "metadata": {
      "needs_background": "light"
     },
     "output_type": "display_data"
    },
    {
     "name": "stdout",
     "output_type": "stream",
     "text": [
      "Accuracy: 99.91%\n"
     ]
    },
    {
     "data": {
      "image/png": "iVBORw0KGgoAAAANSUhEUgAAAGQAAABeCAYAAADVA7GfAAAABHNCSVQICAgIfAhkiAAAAAlwSFlzAAAMTQAADE0B0s6tTgAAADl0RVh0U29mdHdhcmUAbWF0cGxvdGxpYiB2ZXJzaW9uIDMuMC4zLCBodHRwOi8vbWF0cGxvdGxpYi5vcmcvnQurowAAAV5JREFUeJzt3LFJBEEAhtFZMbYEBVM7EKxAsAoTa7EFexCMzK3C0BJOMJQxNhRn8UPey+9n4WOCY/Zum3MOOo7++gH4TpAYQWIEiREkRpAYQWKO9xy/erhY+iXn5fZ65dwYY4yb7X7p3tOc228+74TECBIjSIwgMYLECBIjSIwgMYLECBIjSIwgMYLECBIjSIwgMYLECBKz6xXu3edh6d62PS/dG2OM+dp6ldYJiREkRpAYQWIEiREkRpAYQWIEiREkRpAYQWIEiREkRpAYQWIEiREkRpAYQWK2Pf8v6/39Y+n4yeFx5dwYY4yz0/Ole2/z0u/U/xNBYgSJESRGkBhBYgSJESRGkBhBYgSJESRGkBhBYgSJESRGkBhBYgSJ2fVOnZ9zQmIEiREkRpAYQWIEiREkRpAYQWIEiREkRpAYQWIEiREkRpAYQWIEiREkRpAYQWIEiREkRpAYQWK+AOW5Hp2yeXDYAAAAAElFTkSuQmCC\n",
      "text/plain": [
       "<Figure size 80x80 with 1 Axes>"
      ]
     },
     "metadata": {
      "needs_background": "light"
     },
     "output_type": "display_data"
    },
    {
     "name": "stdout",
     "output_type": "stream",
     "text": [
      "Accuracy: 99.91%\n"
     ]
    },
    {
     "data": {
      "image/png": "iVBORw0KGgoAAAANSUhEUgAAAGQAAABeCAYAAADVA7GfAAAABHNCSVQICAgIfAhkiAAAAAlwSFlzAAAMTQAADE0B0s6tTgAAADl0RVh0U29mdHdhcmUAbWF0cGxvdGxpYiB2ZXJzaW9uIDMuMC4zLCBodHRwOi8vbWF0cGxvdGxpYi5vcmcvnQurowAAAV1JREFUeJzt3LFJBEEAhtFZMbYDMbcEwQoEuzCwFGuwCkErsA0zK/AEQ8fYUJzFD3kvv5+FjwmO2bttzjnoOPrrB+A7QWIEiREkRpAYQWIEiTnec/zy/nzpl5znm+uVc2OMMa62u6V7T3Nuv/m8ExIjSIwgMYLECBIjSIwgMYLECBIjSIwgMYLECBIjSIwgMYLECBIjSMyuV7i3n4ele9v2uHRvjDHmS+tVWickRpAYQWIEiREkRpAYQWIEiREkRpAYQWIEiREkRpAYQWIEiREkRpAYQWIEidn2/L+sw/vH0vGTt4eVc2OMMU5Pz5buvc4Lv1P/TwSJESRGkBhBYgSJESRGkBhBYgSJESRGkBhBYgSJESRGkBhBYgSJESRm1zt1fs4JiREkRpAYQWIEiREkRpAYQWIEiREkRpAYQWIEiREkRpAYQWIEiREkRpAYQWIEiREkRpAYQWIEifkCThwenqn8g04AAAAASUVORK5CYII=\n",
      "text/plain": [
       "<Figure size 80x80 with 1 Axes>"
      ]
     },
     "metadata": {
      "needs_background": "light"
     },
     "output_type": "display_data"
    },
    {
     "name": "stdout",
     "output_type": "stream",
     "text": [
      "Accuracy: 99.73%\n"
     ]
    },
    {
     "data": {
      "image/png": "iVBORw0KGgoAAAANSUhEUgAAAGQAAABeCAYAAADVA7GfAAAABHNCSVQICAgIfAhkiAAAAAlwSFlzAAAMTQAADE0B0s6tTgAAADl0RVh0U29mdHdhcmUAbWF0cGxvdGxpYiB2ZXJzaW9uIDMuMC4zLCBodHRwOi8vbWF0cGxvdGxpYi5vcmcvnQurowAAAV1JREFUeJzt3LFJBEEAhtFZMbYCtQBLEKzAwCoM7MQerELECqzDyA7OwMwxNhRn8UPey+9n4WOCY/Zum3MOOo7++gH4TpAYQWIEiREkRpAYQWKO9xy/erhY+iXn5fZm5dwYY4zr7X7p3vOc228+74TECBIjSIwgMYLECBIjSIwgMYLECBIjSIwgMYLECBIjSIwgMYLECBKz6xXu3edh6d62PS3dG2OM+dp6ldYJiREkRpAYQWIEiREkRpAYQWIEiREkRpAYQWIEiREkRpAYQWIEiREkRpAYQWK2Pf8v6/D+sXT85PC4cm6MMcbZ6fnSvbd56Xfq/4kgMYLECBIjSIwgMYLECBIjSIwgMYLECBIjSIwgMYLECBIjSIwgMYLE7Hqnzs85ITGCxAgSI0iMIDGCxAgSI0iMIDGCxAgSI0iMIDGCxAgSI0iMIDGCxAgSI0iMIDGCxAgSI0iMIDFfTxUenr5I2/sAAAAASUVORK5CYII=\n",
      "text/plain": [
       "<Figure size 80x80 with 1 Axes>"
      ]
     },
     "metadata": {
      "needs_background": "light"
     },
     "output_type": "display_data"
    },
    {
     "name": "stdout",
     "output_type": "stream",
     "text": [
      "Accuracy: 100.00%\n"
     ]
    },
    {
     "data": {
      "image/png": "iVBORw0KGgoAAAANSUhEUgAAAGQAAABeCAYAAADVA7GfAAAABHNCSVQICAgIfAhkiAAAAAlwSFlzAAAMTQAADE0B0s6tTgAAADl0RVh0U29mdHdhcmUAbWF0cGxvdGxpYiB2ZXJzaW9uIDMuMC4zLCBodHRwOi8vbWF0cGxvdGxpYi5vcmcvnQurowAAAWlJREFUeJzt3CFKRUEYgNF5YhbMFosuRDC4A9dgfl2wWh4KLsCqOzDpBmxuwC3YDM9sFOfih5zT5+fCx4TL3Lmr7XY76Nj56wfgO0FiBIkRJEaQGEFiBInZXXL448fb1Jec9d3lzHFjjDGO3g+mznu63ax+s94OiREkRpAYQWIEiREkRpAYQWIEiREkRpAYQWIEiREkRpAYQWIEiREkZtEj3OvTuZ+pXpzsT503xhh7V/eTJ25+tdoOiREkRpAYQWIEiREkRpAYQWIEiREkRpAYQWIEiREkRpAYQWIEiREkRpAYQWJWS/4v6+zwc+rw4+e5d8rHGOP14XzqvJf1jXvq/4kgMYLECBIjSIwgMYLECBIjSIwgMYLECBIjSIwgMYLECBIjSIwgMYLELHqmzs/ZITGCxAgSI0iMIDGCxAgSI0iMIDGCxAgSI0iMIDGCxAgSI0iMIDGCxAgSI0iMIDGCxAgSI0iMIDFftPMdA1azT/cAAAAASUVORK5CYII=\n",
      "text/plain": [
       "<Figure size 80x80 with 1 Axes>"
      ]
     },
     "metadata": {
      "needs_background": "light"
     },
     "output_type": "display_data"
    },
    {
     "data": {
      "image/png": "iVBORw0KGgoAAAANSUhEUgAAAGQAAABeCAYAAADVA7GfAAAABHNCSVQICAgIfAhkiAAAAAlwSFlzAAAMTQAADE0B0s6tTgAAADl0RVh0U29mdHdhcmUAbWF0cGxvdGxpYiB2ZXJzaW9uIDMuMC4zLCBodHRwOi8vbWF0cGxvdGxpYi5vcmcvnQurowAAAWRJREFUeJzt2zEuBlEARtE3YhGiUBI70IpSbQm2oFLTsgCVJUhsQYTCCtiH5lcrxZu4kXP6+TLJzRSTebNsNptBx9Zf3wDfCRIjSIwgMYLECBIjSMz2yvtTX3J2949mzo0xxjg5OJ66d/9wvfzmek9IjCAxgsQIEiNIjCAxgsQIEiNIjCAxgsQIEiNIjCAxgsQIEiNIjCAxy5pHSZflZer46/nbzLkxxhjvl1dT9872PnzC/U8EiREkRpAYQWIEiREkRpAYQWIEiREkRpAYQWIEiREkRpAYQWIEiREkRpCYVQ85XBzO/U/983Zn5twYY4znx9Ope083dw45/CeCxAgSI0iMIDGCxAgSI0iMIDGCxAgSI0iMIDGCxAgSI0iMIDGCxAgSs+o3dX7OExIjSIwgMYLECBIjSIwgMYLECBIjSIwgMYLECBIjSIwgMYLECBIjSIwgMYLECBIjSIwgMYLECBLzBVTYHq9bgRt7AAAAAElFTkSuQmCC\n",
      "text/plain": [
       "<Figure size 80x80 with 1 Axes>"
      ]
     },
     "metadata": {
      "needs_background": "light"
     },
     "output_type": "display_data"
    },
    {
     "name": "stdout",
     "output_type": "stream",
     "text": [
      "Accuracy: 86.09%\n"
     ]
    },
    {
     "data": {
      "image/png": "iVBORw0KGgoAAAANSUhEUgAAAGQAAABeCAYAAADVA7GfAAAABHNCSVQICAgIfAhkiAAAAAlwSFlzAAAMTQAADE0B0s6tTgAAADl0RVh0U29mdHdhcmUAbWF0cGxvdGxpYiB2ZXJzaW9uIDMuMC4zLCBodHRwOi8vbWF0cGxvdGxpYi5vcmcvnQurowAAAWVJREFUeJzt2yFKBVEAhtE74hIEd/CqG3ADFpNgdQcGk9lstwhuxCCCNrvFRYj9mY3iHfx4nNPnZ+BjwjB3lu12O+jY++8b4CdBYgSJESRGkBhBYgSJ2V95f+pLzsGymTk3xhjj7Ph86t7d883yl+s9ITGCxAgSI0iMIDGCxAgSI0iMIDGCxAgSI0iMIDGCxAgSI0iMIDGCxCxrHiVdlpep418XnzPnxhhjPF5fTt073bz7hLtLBIkRJEaQGEFiBIkRJEaQGEFiBIkRJEaQGEFiBIkRJEaQGEFiBIkRJEaQmFUPOdwezf1P/ePqcObcGGOMt6eTqXuv9w8OOewSQWIEiREkRpAYQWIEiREkRpAYQWIEiREkRpAYQWIEiREkRpAYQWIEiVn1mzq/5wmJESRGkBhBYgSJESRGkBhBYgSJESRGkBhBYgSJESRGkBhBYgSJESRGkBhBYgSJESRGkBhBYgSJ+QZPvB6vZDGr2wAAAABJRU5ErkJggg==\n",
      "text/plain": [
       "<Figure size 80x80 with 1 Axes>"
      ]
     },
     "metadata": {
      "needs_background": "light"
     },
     "output_type": "display_data"
    },
    {
     "name": "stdout",
     "output_type": "stream",
     "text": [
      "Accuracy: 99.45%\n"
     ]
    },
    {
     "data": {
      "image/png": "iVBORw0KGgoAAAANSUhEUgAAAGQAAABeCAYAAADVA7GfAAAABHNCSVQICAgIfAhkiAAAAAlwSFlzAAAMTQAADE0B0s6tTgAAADl0RVh0U29mdHdhcmUAbWF0cGxvdGxpYiB2ZXJzaW9uIDMuMC4zLCBodHRwOi8vbWF0cGxvdGxpYi5vcmcvnQurowAAAV9JREFUeJzt26FNxVAAhtFbgkci8TgUKyAYAfEMbMAADPEGgBkYgeQhESSMUwQKSbgNX8g5vn+afKloerus6zroOPrrG+A7QWIEiREkRpAYQWIEiTneeH/qS87JcjZzbowxxs3lbure/vVh+c31npAYQWIEiREkRpAYQWIEiREkRpAYQWIEiREkRpAYQWIEiREkRpAYQWKWLY+SLsvL1PF1N3Pty/P97dS96/MPn3D/E0FiBIkRJEaQGEFiBIkRJEaQGEFiBIkRJEaQGEFiBIkRJEaQGEFiBIkRJGbTQw77i7n/qb/fnc6cG2OM8Xa4mrp3eHp0yOE/ESRGkBhBYgSJESRGkBhBYgSJESRGkBhBYgSJESRGkBhBYgSJESRGkJhNv6nzc56QGEFiBIkRJEaQGEFiBIkRJEaQGEFiBIkRJEaQGEFiBIkRJEaQGEFiBIkRJEaQGEFiBIkRJEaQmE8FnB2vu35rKAAAAABJRU5ErkJggg==\n",
      "text/plain": [
       "<Figure size 80x80 with 1 Axes>"
      ]
     },
     "metadata": {
      "needs_background": "light"
     },
     "output_type": "display_data"
    },
    {
     "name": "stdout",
     "output_type": "stream",
     "text": [
      "Accuracy: 98.64%\n"
     ]
    },
    {
     "data": {
      "image/png": "iVBORw0KGgoAAAANSUhEUgAAAGQAAABeCAYAAADVA7GfAAAABHNCSVQICAgIfAhkiAAAAAlwSFlzAAAMTQAADE0B0s6tTgAAADl0RVh0U29mdHdhcmUAbWF0cGxvdGxpYiB2ZXJzaW9uIDMuMC4zLCBodHRwOi8vbWF0cGxvdGxpYi5vcmcvnQurowAAAWJJREFUeJzt26FNxVAAhtFbgoEFCDvgCDsgWOG5FywzMAMOh2ADJkAgICgE4xSNJNyGL+Qc3z9NvlQ0vV3WdR10HPz1DfCdIDGCxAgSI0iMIDGCxBxuvD/1JedoOZ05N8YYY39xPXXv7vV2+c31npAYQWIEiREkRpAYQWIEiREkRpAYQWIEiREkRpAYQWIEiREkRpAYQWKWLY+SLsvz1PF1fzxzbowxxtPNbure1dmnT7j/iSAxgsQIEiNIjCAxgsQIEiNIjCAxgsQIEiNIjCAxgsQIEiNIjCAxgsQIErPpIYf787n/qb/vTmbOjTHG+Hi7nLr38vjgkMN/IkiMIDGCxAgSI0iMIDGCxAgSI0iMIDGCxAgSI0iMIDGCxAgSI0iMIDGbflPn5zwhMYLECBIjSIwgMYLECBIjSIwgMYLECBIjSIwgMYLECBIjSIwgMYLECBIjSIwgMYLECBIjSIwgMV8C+B2vqbUw+AAAAABJRU5ErkJggg==\n",
      "text/plain": [
       "<Figure size 80x80 with 1 Axes>"
      ]
     },
     "metadata": {
      "needs_background": "light"
     },
     "output_type": "display_data"
    },
    {
     "name": "stdout",
     "output_type": "stream",
     "text": [
      "Accuracy: 92.45%\n"
     ]
    },
    {
     "data": {
      "image/png": "iVBORw0KGgoAAAANSUhEUgAAAGQAAABeCAYAAADVA7GfAAAABHNCSVQICAgIfAhkiAAAAAlwSFlzAAAMTQAADE0B0s6tTgAAADl0RVh0U29mdHdhcmUAbWF0cGxvdGxpYiB2ZXJzaW9uIDMuMC4zLCBodHRwOi8vbWF0cGxvdGxpYi5vcmcvnQurowAAAWFJREFUeJzt27FJxVAAhtEbdQMFt7DTHSysBGdQeEO4gguInQO4gI0WVnaOE2tL8QY/Huf0+Ql8pAi5WdZ1HXQc/PcN8JMgMYLECBIjSIwgMYLEHG28P/Ul53A5mTk3xhhjd76buvfwcb/85XpPSIwgMYLECBIjSIwgMYLECBIjSIwgMYLECBIjSIwgMYLECBIjSIwgMcuWR0mX5XXq+Hp3PHNujDHGy+3N1L2rsy+fcPeJIDGCxAgSI0iMIDGCxAgSI0iMIDGCxAgSI0iMIDGCxAgSI0iMIDGCxAgSs+khh8eLuf+pv1+fzpwbY4zx9Xk5de/t+ckhh30iSIwgMYLECBIjSIwgMYLECBIjSIwgMYLECBIjSIwgMYLECBIjSIwgMZt+U+f3PCExgsQIEiNIjCAxgsQIEiNIjCAxgsQIEiNIjCAxgsQIEiNIjCAxgsQIEiNIjCAxgsQIEiNIjCAx3wGUHa/PGBDZAAAAAElFTkSuQmCC\n",
      "text/plain": [
       "<Figure size 80x80 with 1 Axes>"
      ]
     },
     "metadata": {
      "needs_background": "light"
     },
     "output_type": "display_data"
    },
    {
     "name": "stdout",
     "output_type": "stream",
     "text": [
      "Accuracy: 90.09%\n"
     ]
    },
    {
     "data": {
      "image/png": "iVBORw0KGgoAAAANSUhEUgAAAGQAAABeCAYAAADVA7GfAAAABHNCSVQICAgIfAhkiAAAAAlwSFlzAAAMTQAADE0B0s6tTgAAADl0RVh0U29mdHdhcmUAbWF0cGxvdGxpYiB2ZXJzaW9uIDMuMC4zLCBodHRwOi8vbWF0cGxvdGxpYi5vcmcvnQurowAAAR1JREFUeJzt2zEKwzAQAMFcyP+/rNQh6YTIGO/0NjbLFUbnWWs94nj++wHyqSCYgmAKgikIpiCYgmBeJ28+M7f7yFlrzc71TQimIJiCYAqCKQimIJiCYAqCKQimIJiCYAqCKQimIJiCYAqCKQimIJijR7hXoK3SNiGYgmAKgikIpiCYgmAKgikIpiCYgmAKgikIpiCYgmAKgikIpiCYgmAKgikI5uiSg7ZA8MvM1m/lX3bfuQnBFARTEExBMAXBFARTEExBMAXBFARTEExBMAXBFARTEExBMAXBFARTEMxc4dz7TpoQTEEwBcEUBFMQTEEwBcEUBFMQTEEwBcEUBFMQTEEwBcEUBFMQTEEwBcEUBFMQTEEwBcEUBFMQzBuOjRO1fWlZjgAAAABJRU5ErkJggg==\n",
      "text/plain": [
       "<Figure size 80x80 with 1 Axes>"
      ]
     },
     "metadata": {
      "needs_background": "light"
     },
     "output_type": "display_data"
    },
    {
     "name": "stdout",
     "output_type": "stream",
     "text": [
      "Accuracy: 94.55%\n",
      "Accuracy: 100.00%\n"
     ]
    },
    {
     "data": {
      "image/png": "iVBORw0KGgoAAAANSUhEUgAAAGQAAABeCAYAAADVA7GfAAAABHNCSVQICAgIfAhkiAAAAAlwSFlzAAAMTQAADE0B0s6tTgAAADl0RVh0U29mdHdhcmUAbWF0cGxvdGxpYiB2ZXJzaW9uIDMuMC4zLCBodHRwOi8vbWF0cGxvdGxpYi5vcmcvnQurowAAAWFJREFUeJzt3b1JxVAAhuET0Q3sbe3t7gBuIQ4gCBY6gp2bqI21P2jvAm7gDMK1tr4n+BbP0+cj8HKKkECW7XY76Nj77xvgL0FiBIkRJEaQGEFiBInZX3P84Hkz9SHn4exj5twYY4zDq+Ope5vrr2WX652QGEFiBIkRJEaQGEFiBIkRJEaQGEFiBIkRJEaQGEFiBIkRJEaQGEFiVn2F+3L5NnXv4v176t4YYzzd3kzf3IUTEiNIjCAxgsQIEiNIjCAxgsQIEiNIjCAxgsQIEiNIjCAxgsQIEiNIjCAxgsSs+pHD68/p1L3H87upe2OM8Xl/MnXvaMfrnZAYQWIEiREkRpAYQWIEiREkRpAYQWIEiREkRpAYQWIEiREkRpAYQWIEiVn8g6rFCYkRJEaQGEFiBIkRJEaQGEFiBIkRJEaQGEFiBIkRJEaQGEFiBIkRJEaQGEFiBIkRJEaQGEFiBIn5BTLmF9SxH4ECAAAAAElFTkSuQmCC\n",
      "text/plain": [
       "<Figure size 80x80 with 1 Axes>"
      ]
     },
     "metadata": {
      "needs_background": "light"
     },
     "output_type": "display_data"
    },
    {
     "data": {
      "image/png": "iVBORw0KGgoAAAANSUhEUgAAAGQAAABeCAYAAADVA7GfAAAABHNCSVQICAgIfAhkiAAAAAlwSFlzAAAMTQAADE0B0s6tTgAAADl0RVh0U29mdHdhcmUAbWF0cGxvdGxpYiB2ZXJzaW9uIDMuMC4zLCBodHRwOi8vbWF0cGxvdGxpYi5vcmcvnQurowAAAVlJREFUeJzt3SFOxUAUQNHpDwkKCxbHDkCwAIL+S0GwAZaFIgSBx2JQbIKi0Z2GK87x89Lk5olmmnRZ13XQcfjvB+AvQWIEiREkRpAYQWIEiTnZc/hys0x9yfk6m//O9HF/MXXe3cP3suW8DYkRJEaQGEFiBIkRJEaQGEFiBIkRJEaQGEFiBIkRJEaQGEFiBIkRJGbXK9z1OPfK9XD6MnXeGGN8vj9Nn7mFDYkRJEaQGEFiBIkRJEaQGEFiBIkRJEaQGEFiBIkRJEaQGEFiBIkRJEaQGEFidv3I4frxauq8n9vXqfPGGOPt+XzqvMuN521IjCAxgsQIEiNIjCAxgsQIEiNIjCAxgsQIEiNIjCAxgsQIEiNIjCAxgsQs/kHVYkNiBIkRJEaQGEFiBIkRJEaQGEFiBIkRJEaQGEFiBIkRJEaQGEFiBIkRJEaQGEFiBIkRJEaQGEFifgFAqRaMjKxvBwAAAABJRU5ErkJggg==\n",
      "text/plain": [
       "<Figure size 80x80 with 1 Axes>"
      ]
     },
     "metadata": {
      "needs_background": "light"
     },
     "output_type": "display_data"
    },
    {
     "name": "stdout",
     "output_type": "stream",
     "text": [
      "Accuracy: 96.36%\n"
     ]
    },
    {
     "data": {
      "image/png": "iVBORw0KGgoAAAANSUhEUgAAAGQAAABeCAYAAADVA7GfAAAABHNCSVQICAgIfAhkiAAAAAlwSFlzAAAMTQAADE0B0s6tTgAAADl0RVh0U29mdHdhcmUAbWF0cGxvdGxpYiB2ZXJzaW9uIDMuMC4zLCBodHRwOi8vbWF0cGxvdGxpYi5vcmcvnQurowAAAVVJREFUeJzt3bFJBUEUQNEZMRZswCYswALE3EKsw1YMPoaWoC3Ib8EGxth45+MNzsn3scvlBcMu7FxrDTqu/vsG+EuQGEFiBIkRJEaQGEFiri85fM659ZCznvefmU73N1vnPb38zCPX25AYQWIEiREkRpAYQWIEiREkRpAYQWIEiREkRpAYQWIEiREkRpAYQWIu+gp3ve995TpPb1vnjTHG+fN1+8wjbEiMIDGCxAgSI0iMIDGCxAgSI0iMIDGCxAgSI0iMIDGCxAgSI0iMIDGCxAgSc9GPHG4f77bOWw/fW+eNMcbXx3nrvKNPbENiBIkRJEaQGEFiBIkRJEaQGEFiBIkRJEaQGEFiBIkRJEaQGEFiBIkRJGb6B1WLDYkRJEaQGEFiBIkRJEaQGEFiBIkRJEaQGEFiBIkRJEaQGEFiBIkRJEaQGEFiBIkRJEaQGEFiBIn5BbRhGC5Sl6cxAAAAAElFTkSuQmCC\n",
      "text/plain": [
       "<Figure size 80x80 with 1 Axes>"
      ]
     },
     "metadata": {
      "needs_background": "light"
     },
     "output_type": "display_data"
    },
    {
     "name": "stdout",
     "output_type": "stream",
     "text": [
      "Accuracy: 98.36%\n"
     ]
    },
    {
     "data": {
      "image/png": "iVBORw0KGgoAAAANSUhEUgAAAGQAAABeCAYAAADVA7GfAAAABHNCSVQICAgIfAhkiAAAAAlwSFlzAAAMTQAADE0B0s6tTgAAADl0RVh0U29mdHdhcmUAbWF0cGxvdGxpYiB2ZXJzaW9uIDMuMC4zLCBodHRwOi8vbWF0cGxvdGxpYi5vcmcvnQurowAAAVpJREFUeJzt3LFJRTEYgNFExCEUXOGtYe8SruAC7mBtbesMr3UG0dIBbK61pbxc/JBz+vsT+EgRQu7ctm3QcfbXC+AnQWIEiREkRpAYQWIEiTnfc/icc+khZ7tbf2Z6vr5YOu/2/mue8r0dEiNIjCAxgsQIEiNIjCAxgsQIEiNIjCAxgsQIEiNIjCAxgsQIEiNIzK5XuNtx7ZXrfHhaOm+MMd4+H5fPPIUdEiNIjCAxgsQIEiNIjCAxgsQIEiNIjCAxgsQIEiNIjCAxgsQIEiNIjCAxgsTMPf+XNefl2nfqNx8rx40xxnh9eV867zCvvFP/TwSJESRGkBhBYgSJESRGkBhBYgSJESRGkBhBYgSJESRGkBhBYgSJESRm1zt1fs8OiREkRpAYQWIEiREkRpAYQWIEiREkRpAYQWIEiREkRpAYQWIEiREkRpAYQWIEiREkRpAYQWIEifkGsCgcD+yuoyMAAAAASUVORK5CYII=\n",
      "text/plain": [
       "<Figure size 80x80 with 1 Axes>"
      ]
     },
     "metadata": {
      "needs_background": "light"
     },
     "output_type": "display_data"
    },
    {
     "name": "stdout",
     "output_type": "stream",
     "text": [
      "Accuracy: 100.00%\n"
     ]
    },
    {
     "data": {
      "image/png": "iVBORw0KGgoAAAANSUhEUgAAAGQAAABeCAYAAADVA7GfAAAABHNCSVQICAgIfAhkiAAAAAlwSFlzAAAMTQAADE0B0s6tTgAAADl0RVh0U29mdHdhcmUAbWF0cGxvdGxpYiB2ZXJzaW9uIDMuMC4zLCBodHRwOi8vbWF0cGxvdGxpYi5vcmcvnQurowAAAVRJREFUeJzt3LFJRjEUgNFELK1Fp3AUS6ews3cQG1s7R9EdBMElYm0pfx5+yDkDXB583CKEvLnWGnSc/fUH8JMgMYLECBIjSIwgMYLEnB85fM659ZCzHvafmV4u5tZ5d4/rpIE2JEaQGEFiBIkRJEaQGEFiBIkRJEaQGEFiBIkRJEaQGEFiBIkRJEaQmEOvcNfb3ivXef+0dd4YY3xcPW+feQobEiNIjCAxgsQIEiNIjCAxgsQIEiNIjCAxgsQIEiNIjCAxgsQIEiNIjCAxgsTMI/+XNef13nfqt587x40xxnh//do672Zceqf+nwgSI0iMIDGCxAgSI0iMIDGCxAgSI0iMIDGCxAgSI0iMIDGCxAgSI0jMoXfq/J4NiREkRpAYQWIEiREkRpAYQWIEiREkRpAYQWIEiREkRpAYQWIEiREkRpAYQWIEiREkRpAYQWIEifkG3ZkbKOMMPlkAAAAASUVORK5CYII=\n",
      "text/plain": [
       "<Figure size 80x80 with 1 Axes>"
      ]
     },
     "metadata": {
      "needs_background": "light"
     },
     "output_type": "display_data"
    },
    {
     "name": "stdout",
     "output_type": "stream",
     "text": [
      "Accuracy: 97.55%\n"
     ]
    },
    {
     "data": {
      "image/png": "iVBORw0KGgoAAAANSUhEUgAAAGQAAABeCAYAAADVA7GfAAAABHNCSVQICAgIfAhkiAAAAAlwSFlzAAAMTQAADE0B0s6tTgAAADl0RVh0U29mdHdhcmUAbWF0cGxvdGxpYiB2ZXJzaW9uIDMuMC4zLCBodHRwOi8vbWF0cGxvdGxpYi5vcmcvnQurowAAAU9JREFUeJzt3bFJBUEUQNEZsQaxBcFqzASbMbEBW/j1/NQWNDM0G2PjncUbnJPvY+HygmFYdq61Bh03//0C/CVIjCAxgsQIEiNIjCAxt2cOn3NuPeSs1/1npsvP3Drv5W0dGmhDYgSJESRGkBhBYgSJESRGkBhBYgSJESRGkBhBYgSJESRGkBhBYgSJOfUKd33svXKdT+9b540xxtfjZfvMI2xIjCAxgsQIEiNIjCAxgsQIEiNIjCAxgsQIEiNIjCAxgsQIEiNIjCAxgsQIEnPud+oP91vnrefPrfPGGON6+d467+7g8zYkRpAYQWIEiREkRpAYQWIEiREkRpAYQWIEiREkRpAYQWIEiREkRpAYQWKmf1C12JAYQWIEiREkRpAYQWIEiREkRpAYQWIEiREkRpAYQWIEiREkRpAYQWIEiREkRpAYQWIEiREkRpCYX0pWGCl1agcbAAAAAElFTkSuQmCC\n",
      "text/plain": [
       "<Figure size 80x80 with 1 Axes>"
      ]
     },
     "metadata": {
      "needs_background": "light"
     },
     "output_type": "display_data"
    },
    {
     "name": "stdout",
     "output_type": "stream",
     "text": [
      "Accuracy: 98.55%\n"
     ]
    },
    {
     "data": {
      "image/png": "iVBORw0KGgoAAAANSUhEUgAAAGQAAABeCAYAAADVA7GfAAAABHNCSVQICAgIfAhkiAAAAAlwSFlzAAAMTQAADE0B0s6tTgAAADl0RVh0U29mdHdhcmUAbWF0cGxvdGxpYiB2ZXJzaW9uIDMuMC4zLCBodHRwOi8vbWF0cGxvdGxpYi5vcmcvnQurowAAAWNJREFUeJzt3SFOA1EARdFfgsYgWQBLQVSgmiosq2jCJhA4FApRgcSRkLAKgmAfU43ub7jiHD8vk9x8MZlJZrUsy6Dj7L9vgL8EiREkRpAYQWIEiREk5vyU4zePt1Mfcp53u5lzY4wxPl++p+5t1tvVMdc7ITGCxAgSI0iMIDGCxAgSI0iMIDGCxAgSI0iMIDGCxAgSI0iMIDGCxJz0Fe7r3cfUvd+ry6l7Y4zxtt9P3dust0dd74TECBIjSIwgMYLECBIjSIwgMYLECBIjSIwgMYLECBIjSIwgMYLECBIjSIwgMSf9yOHrYu780/vP1L0xxrh+uJ++eQwnJEaQGEFiBIkRJEaQGEFiBIkRJEaQGEFiBIkRJEaQGEFiBIkRJEaQGEFiVv5B1eKExAgSI0iMIDGCxAgSI0iMIDGCxAgSI0iMIDGCxAgSI0iMIDGCxAgSI0iMIDGCxAgSI0iMIDGCxBwAhrkXuHLWk0EAAAAASUVORK5CYII=\n",
      "text/plain": [
       "<Figure size 80x80 with 1 Axes>"
      ]
     },
     "metadata": {
      "needs_background": "light"
     },
     "output_type": "display_data"
    },
    {
     "data": {
      "image/png": "iVBORw0KGgoAAAANSUhEUgAAAGQAAABeCAYAAADVA7GfAAAABHNCSVQICAgIfAhkiAAAAAlwSFlzAAAMTQAADE0B0s6tTgAAADl0RVh0U29mdHdhcmUAbWF0cGxvdGxpYiB2ZXJzaW9uIDMuMC4zLCBodHRwOi8vbWF0cGxvdGxpYi5vcmcvnQurowAAAWRJREFUeJzt3CFKBGEAhuF/RRCrSWGLWG2CwWrQy3gHvYFnMe4NPIHRuthMxjEbZf/FF3mePh8LL38YZmdWy7IMOg7++gfwkyAxgsQIEiNIjCAxgsQc7nP86vF26k3O89PDzLkxxhjnr8dT99bXd6tdrndCYgSJESRGkBhBYgSJESRGkBhBYgSJESRGkBhBYgSJESRGkBhBYgSJWe3zr6Qf26Op4yfvXzPnxhhjrG/up+5tl41HuP+JIDGCxAgSI0iMIDGCxAgSI0iMIDGCxAgSI0iMIDGCxAgSI0iMIDGCxAgSs9f31D9Pz6buXV68TN0bY4y3ZTN9cxdOSIwgMYLECBIjSIwgMYLECBIjSIwgMYLECBIjSIwgMYLECBIjSIwgMYLE7PXDAfyeExIjSIwgMYLECBIjSIwgMYLECBIjSIwgMYLECBIjSIwgMYLECBIjSIwgMYLECBIjSIwgMYLECBLzDbRoG2hfXOzrAAAAAElFTkSuQmCC\n",
      "text/plain": [
       "<Figure size 80x80 with 1 Axes>"
      ]
     },
     "metadata": {
      "needs_background": "light"
     },
     "output_type": "display_data"
    },
    {
     "name": "stdout",
     "output_type": "stream",
     "text": [
      "Accuracy: 94.36%\n"
     ]
    },
    {
     "data": {
      "image/png": "iVBORw0KGgoAAAANSUhEUgAAAGQAAABeCAYAAADVA7GfAAAABHNCSVQICAgIfAhkiAAAAAlwSFlzAAAMTQAADE0B0s6tTgAAADl0RVh0U29mdHdhcmUAbWF0cGxvdGxpYiB2ZXJzaW9uIDMuMC4zLCBodHRwOi8vbWF0cGxvdGxpYi5vcmcvnQurowAAAVtJREFUeJzt3LtNw1AAhtHrKFvwaCh5rJANmCJTMADMwjphBeiZAFNTolyLT+ic3r8ifbqF5djLuq6Djt1f/wB+EiRGkBhBYgSJESRGkJj9luO3T4epNznPL8eZc2OMMR7frqfuLXeH5ZzrnZAYQWIEiREkRpAYQWIEiREkRpAYQWIEiREkRpAYQWIEiREkRpAYQWKWLf9K+vG+mzp+8fk1c26MMcZy/zB1b11PHuH+J4LECBIjSIwgMYLECBIjSIwgMYLECBIjSIwgMYLECBIjSIwgMYLECBIjSMym76nvL2+m7i1Xr1P3xhhjXU/TN8/hhMQIEiNIjCAxgsQIEiNIjCAxgsQIEiNIjCAxgsQIEiNIjCAxgsQIEiNIzKYfDuD3nJAYQWIEiREkRpAYQWIEiREkRpAYQWIEiREkRpAYQWIEiREkRpAYQWIEiREkRpAYQWIEiREkRpCYb8YsGo9tW19LAAAAAElFTkSuQmCC\n",
      "text/plain": [
       "<Figure size 80x80 with 1 Axes>"
      ]
     },
     "metadata": {
      "needs_background": "light"
     },
     "output_type": "display_data"
    },
    {
     "name": "stdout",
     "output_type": "stream",
     "text": [
      "Accuracy: 99.91%\n"
     ]
    },
    {
     "data": {
      "image/png": "iVBORw0KGgoAAAANSUhEUgAAAGQAAABeCAYAAADVA7GfAAAABHNCSVQICAgIfAhkiAAAAAlwSFlzAAAMTQAADE0B0s6tTgAAADl0RVh0U29mdHdhcmUAbWF0cGxvdGxpYiB2ZXJzaW9uIDMuMC4zLCBodHRwOi8vbWF0cGxvdGxpYi5vcmcvnQurowAAAVdJREFUeJzt3LFJBEEYgNFZMbEHMVPOHrQMG7CJK8DMRixJuFCswXSMDeVm8UPey/dn4GOCZWZ3m3MOOi7+egH8JEiMIDGCxAgSI0iMIDGXew4/HB+XvuS8vD6vHDfGGOPp/XbtwMPDds7jdkiMIDGCxAgSI0iMIDGCxAgSI0iMIDGCxAgSI0iMIDGCxAgSI0iMIDHbnldJPz+2pcOvv9avdbu/WzpvzpMj3P9EkBhBYgSJESRGkBhBYgSJESRGkBhBYgSJESRGkBhBYgSJESRGkBhBYgSJ2fU79aubtRcItu1t6bwxxpjztHzmOeyQGEFiBIkRJEaQGEFiBIkRJEaQGEFiBIkRJEaQGEFiBIkRJEaQGEFiBInZ9ccB/J4dEiNIjCAxgsQIEiNIjCAxgsQIEiNIjCAxgsQIEiNIjCAxgsQIEiNIjCAxgsQIEiNIjCAxgsQIEvMNaEMag0B0xUoAAAAASUVORK5CYII=\n",
      "text/plain": [
       "<Figure size 80x80 with 1 Axes>"
      ]
     },
     "metadata": {
      "needs_background": "light"
     },
     "output_type": "display_data"
    },
    {
     "name": "stdout",
     "output_type": "stream",
     "text": [
      "Accuracy: 99.73%\n"
     ]
    },
    {
     "data": {
      "image/png": "iVBORw0KGgoAAAANSUhEUgAAAGQAAABeCAYAAADVA7GfAAAABHNCSVQICAgIfAhkiAAAAAlwSFlzAAAMTQAADE0B0s6tTgAAADl0RVh0U29mdHdhcmUAbWF0cGxvdGxpYiB2ZXJzaW9uIDMuMC4zLCBodHRwOi8vbWF0cGxvdGxpYi5vcmcvnQurowAAAVVJREFUeJzt3LFNxTAUQFEHUbICNBQZArEHLVNQ0/5BmInmN7AEnakp0XfEFTqnz5OlKxeR42xzzkHH1V8vgJ8EiREkRpAYQWIEiREk5vrI4fvL49KXnNfT88pxY4wxnt73tQP3h+2Sx+2QGEFiBIkRJEaQGEFiBIkRJEaQGEFiBIkRJEaQGEFiBIkRJEaQGEFitiM/Jf382JYOv/1av9Ztv186b86zI9z/RJAYQWIEiREkRpAYQWIEiREkRpAYQWIEiREkRpAYQWIEiREkRpAYQWIEiTn0nvrN3do74Nv2tnTeGGPMeV4+8xJ2SIwgMYLECBIjSIwgMYLECBIjSIwgMYLECBIjSIwgMYLECBIjSIwgMYLEHPrjAH7PDokRJEaQGEFiBIkRJEaQGEFiBIkRJEaQGEFiBIkRJEaQGEFiBIkRJEaQGEFiBIkRJEaQGEFiBIn5BhNNGomFvbu0AAAAAElFTkSuQmCC\n",
      "text/plain": [
       "<Figure size 80x80 with 1 Axes>"
      ]
     },
     "metadata": {
      "needs_background": "light"
     },
     "output_type": "display_data"
    },
    {
     "name": "stdout",
     "output_type": "stream",
     "text": [
      "Accuracy: 99.55%\n"
     ]
    },
    {
     "data": {
      "image/png": "iVBORw0KGgoAAAANSUhEUgAAAGQAAABeCAYAAADVA7GfAAAABHNCSVQICAgIfAhkiAAAAAlwSFlzAAAMTQAADE0B0s6tTgAAADl0RVh0U29mdHdhcmUAbWF0cGxvdGxpYiB2ZXJzaW9uIDMuMC4zLCBodHRwOi8vbWF0cGxvdGxpYi5vcmcvnQurowAAAVZJREFUeJzt3DFKA0EAhtFZsfYIAZsEPILgSSw8hp0H8CDeySqQW1iNtaVkFj/kvT4/Ax9ThN1km3MOOm7++gD8JEiMIDGCxAgSI0iMIDG3e46fXp+Wfsl5e39ZOTfGGOP582Ht4PFxu+bjbkiMIDGCxAgSI0iMIDGCxAgSI0iMIDGCxAgSI0iMIDGCxAgSI0iMIDHbnq+SXi7b0vHD1/qzbsf7pXtznj3C/U8EiREkRpAYQWIEiREkRpAYQWIEiREkRpAYQWIEiREkRpAYQWIEiREkRpCYXX+nfnc4Ld3bto+le2OMMed5+eY13JAYQWIEiREkRpAYQWIEiREkRpAYQWIEiREkRpAYQWIEiREkRpAYQWIEidn1jwP4PTckRpAYQWIEiREkRpAYQWIEiREkRpAYQWIEiREkRpAYQWIEiREkRpAYQWIEiREkRpAYQWIEiREk5hsvNBqNFt29/wAAAABJRU5ErkJggg==\n",
      "text/plain": [
       "<Figure size 80x80 with 1 Axes>"
      ]
     },
     "metadata": {
      "needs_background": "light"
     },
     "output_type": "display_data"
    },
    {
     "name": "stdout",
     "output_type": "stream",
     "text": [
      "Accuracy: 100.00%\n"
     ]
    },
    {
     "data": {
      "image/png": "iVBORw0KGgoAAAANSUhEUgAAAGQAAABeCAYAAADVA7GfAAAABHNCSVQICAgIfAhkiAAAAAlwSFlzAAAMTQAADE0B0s6tTgAAADl0RVh0U29mdHdhcmUAbWF0cGxvdGxpYiB2ZXJzaW9uIDMuMC4zLCBodHRwOi8vbWF0cGxvdGxpYi5vcmcvnQurowAAARdJREFUeJzt3DEKw0AMAMEo5P9fVurU5sgY7/Q2hkWFOXGzu6843v/+gPwqCKYgmIJgCoIpCKYgmM/Jl8/M435ydneuPN+EYAqCKQimIJiCYAqCKQimIJiCYAqCKQimIJiCYAqCKQimIJiCYAqCOXqEewfaKm0TgikIpiCYgmAKgikIpiCYgmAKgikIpiCYgmAKgikIpiCYgmAKgikIpiCYgmCOLjloCwR30IRgCoIpCKYgmIJgCoIpCKYgmIJgCoIpCKYgmIJgCoIpCKYgmIJgCoIpCOb0xQGX7kF/oiYEUxBMQTAFwRQEUxBMQTAFwRQEUxBMQTAFwRQEUxBMQTAFwRQEUxBMQTAFwRQEUxBMQTAFwRQE8wU6yg28z9X9fwAAAABJRU5ErkJggg==\n",
      "text/plain": [
       "<Figure size 80x80 with 1 Axes>"
      ]
     },
     "metadata": {
      "needs_background": "light"
     },
     "output_type": "display_data"
    },
    {
     "name": "stdout",
     "output_type": "stream",
     "text": [
      "Accuracy: 95.82%\n",
      "Accuracy: 100.00%\n"
     ]
    },
    {
     "data": {
      "image/png": "iVBORw0KGgoAAAANSUhEUgAAAGQAAABeCAYAAADVA7GfAAAABHNCSVQICAgIfAhkiAAAAAlwSFlzAAAMTQAADE0B0s6tTgAAADl0RVh0U29mdHdhcmUAbWF0cGxvdGxpYiB2ZXJzaW9uIDMuMC4zLCBodHRwOi8vbWF0cGxvdGxpYi5vcmcvnQurowAAAWtJREFUeJzt3CFKRFEAhtE7YhCLQbAZ3MSA0Q24ALNhspvQYLdZrGb3ISKYDDaDaxizUeYOfsg5/f4MfNwwvDezWK/Xg46dv/4A/CRIjCAxgsQIEiNIjCAxu9scvzi/nPol5+b9aubcGGOM1f3D1L2n5fVik/NuSIwgMYLECBIjSIwgMYLECBIjSIwgMYLECBIjSIwgMYLECBIjSIwgMYttvkq6PHqdOv5ydjJzbowxxv7t6dS9r+Nnj3D/E0FiBIkRJEaQGEFiBIkRJEaQGEFiBIkRJEaQGEFiBIkRJEaQGEFiBIkRJGarv1O/e1xN3Tvc+5y6N8YYbx8HcwePNzvuhsQIEiNIjCAxgsQIEiNIjCAxgsQIEiNIjCAxgsQIEiNIjCAxgsQIEiNIzFb/OIDfc0NiBIkRJEaQGEFiBIkRJEaQGEFiBIkRJEaQGEFiBIkRJEaQGEFiBIkRJEaQGEFiBIkRJEaQGEFivgGuJBtKzkKQcQAAAABJRU5ErkJggg==\n",
      "text/plain": [
       "<Figure size 80x80 with 1 Axes>"
      ]
     },
     "metadata": {
      "needs_background": "light"
     },
     "output_type": "display_data"
    },
    {
     "data": {
      "image/png": "iVBORw0KGgoAAAANSUhEUgAAAGQAAABeCAYAAADVA7GfAAAABHNCSVQICAgIfAhkiAAAAAlwSFlzAAAMTQAADE0B0s6tTgAAADl0RVh0U29mdHdhcmUAbWF0cGxvdGxpYiB2ZXJzaW9uIDMuMC4zLCBodHRwOi8vbWF0cGxvdGxpYi5vcmcvnQurowAAAVNJREFUeJzt3aFNxlAYhtGvhH0Ig7ACAskO7MAECEYAzRAEBsARBBZbNLr3D484x/dNkydXNG3Sbd/3oePsv2+AvwSJESRGkBhBYgSJESTm/JTj23a19CFnf3xeOTczMxcfN0v3Xu8etiPXOyExgsQIEiNIjCAxgsQIEiNIjCAxgsQIEiNIjCAxgsQIEiNIjCAxgsSc9BXuzO3Ste166dzMzFw+fa4fPcAJiREkRpAYQWIEiREkRpAYQWIEiREkRpAYQWIEiREkRpAYQWIEiREkRpAYQWJO+pHD/vOydvDrfu3ezLy/fS/fPMIJiREkRpAYQWIEiREkRpAYQWIEiREkRpAYQWIEiREkRpAYQWIEiREkRpCYzT+oWpyQGEFiBIkRJEaQGEFiBIkRJEaQGEFiBIkRJEaQGEFiBIkRJEaQGEFiBIkRJEaQGEFiBIkRJEaQmF92AhcNm3lM6AAAAABJRU5ErkJggg==\n",
      "text/plain": [
       "<Figure size 80x80 with 1 Axes>"
      ]
     },
     "metadata": {
      "needs_background": "light"
     },
     "output_type": "display_data"
    },
    {
     "name": "stdout",
     "output_type": "stream",
     "text": [
      "Accuracy: 98.82%\n"
     ]
    },
    {
     "data": {
      "image/png": "iVBORw0KGgoAAAANSUhEUgAAAGQAAABeCAYAAADVA7GfAAAABHNCSVQICAgIfAhkiAAAAAlwSFlzAAAMTQAADE0B0s6tTgAAADl0RVh0U29mdHdhcmUAbWF0cGxvdGxpYiB2ZXJzaW9uIDMuMC4zLCBodHRwOi8vbWF0cGxvdGxpYi5vcmcvnQurowAAAU5JREFUeJzt3bFJxlAYhtEv4iKCi/xL6AzO4RoW1g6hiyha2DlErK1zg09xTp+XwMMtQgLZ9n0fOq7++wb4S5AYQWIEiREkRpAYQWKuzxzftsvSh5z9/W3l3MzM3DzeLd37fH7ZjlzvhMQIEiNIjCAxgsQIEiNIjCAxgsQIEiNIjCAxgsQIEiNIjCAxgsQIEnPqK9yZh6Vr2+3SuZmZuTyt3zzCCYkRJEaQGEFiBIkRJEaQGEFiBIkRJEaQGEFiBIkRJEaQGEFiBIkRJEaQGEFiTv3IYd+/1w7+3K/dm5mv14/lm0c4ITGCxAgSI0iMIDGCxAgSI0iMIDGCxAgSI0iMIDGCxAgSI0iMIDGCxAgSs/kHVYsTEiNIjCAxgsQIEiNIjCAxgsQIEiNIjCAxgsQIEiNIjCAxgsQIEiNIjCAxgsQIEiNIjCAxgsQIEvMLVLEVxeNAXIYAAAAASUVORK5CYII=\n",
      "text/plain": [
       "<Figure size 80x80 with 1 Axes>"
      ]
     },
     "metadata": {
      "needs_background": "light"
     },
     "output_type": "display_data"
    },
    {
     "name": "stdout",
     "output_type": "stream",
     "text": [
      "Accuracy: 99.73%\n"
     ]
    },
    {
     "data": {
      "image/png": "iVBORw0KGgoAAAANSUhEUgAAAGQAAABeCAYAAADVA7GfAAAABHNCSVQICAgIfAhkiAAAAAlwSFlzAAAMTQAADE0B0s6tTgAAADl0RVh0U29mdHdhcmUAbWF0cGxvdGxpYiB2ZXJzaW9uIDMuMC4zLCBodHRwOi8vbWF0cGxvdGxpYi5vcmcvnQurowAAAVFJREFUeJzt3SFOxFAYRtG/BIHFsxUsC0BjESyIVZCMxrMK/GhgB0Wj+yZccY7vlyY3TzRt0m3f96Hj6r9vgL8EiREkRpAYQWIEiREk5vqS49t2v/QhZ//+WDk3MzN3z49L985vp+3I9U5IjCAxgsQIEiNIjCAxgsQIEiNIjCAxgsQIEiNIjCAxgsQIEiNIjCAxF32FO/OydG27XTo3MzMPrzfrRw9wQmIEiREkRpAYQWIEiREkRpAYQWIEiREkRpAYQWIEiREkRpAYQWIEiREkRpCYi37ksO8/awe/ntbuzcz5/XP55hFOSIwgMYLECBIjSIwgMYLECBIjSIwgMYLECBIjSIwgMYLECBIjSIwgMYLEbP5B1eKExAgSI0iMIDGCxAgSI0iMIDGCxAgSI0iMIDGCxAgSI0iMIDGCxAgSI0iMIDGCxAgSI0iMIDGCxPwC8sIVxtoNJcEAAAAASUVORK5CYII=\n",
      "text/plain": [
       "<Figure size 80x80 with 1 Axes>"
      ]
     },
     "metadata": {
      "needs_background": "light"
     },
     "output_type": "display_data"
    },
    {
     "name": "stdout",
     "output_type": "stream",
     "text": [
      "Accuracy: 99.45%\n"
     ]
    },
    {
     "data": {
      "image/png": "iVBORw0KGgoAAAANSUhEUgAAAGQAAABeCAYAAADVA7GfAAAABHNCSVQICAgIfAhkiAAAAAlwSFlzAAAMTQAADE0B0s6tTgAAADl0RVh0U29mdHdhcmUAbWF0cGxvdGxpYiB2ZXJzaW9uIDMuMC4zLCBodHRwOi8vbWF0cGxvdGxpYi5vcmcvnQurowAAAVNJREFUeJzt3bFJxlAYRuEvIljZO4wL2FlY27uOk8iPIziDGwh2FlZWsbbO/fEUz9PnJXC4RUgg277vQ8fFf98AfwkSI0iMIDGCxAgSI0jM5TnHt+126UPO/vO2cm5mZm4e7pfufZ5etiPXOyExgsQIEiNIjCAxgsQIEiNIjCAxgsQIEiNIjCAxgsQIEiNIjCAxgsSc9RXuzNPSte1q6dzMzNw9X68fPcAJiREkRpAYQWIEiREkRpAYQWIEiREkRpAYQWIEiREkRpAYQWIEiREkRpAYQWLO+pHDvn+vHfx6XLs3Mx+v78s3j3BCYgSJESRGkBhBYgSJESRGkBhBYgSJESRGkBhBYgSJESRGkBhBYgSJESRm8w+qFickRpAYQWIEiREkRpAYQWIEiREkRpAYQWIEiREkRpAYQWIEiREkRpAYQWIEiREkRpAYQWIEiREk5hfpdBXBZpm/9QAAAABJRU5ErkJggg==\n",
      "text/plain": [
       "<Figure size 80x80 with 1 Axes>"
      ]
     },
     "metadata": {
      "needs_background": "light"
     },
     "output_type": "display_data"
    },
    {
     "name": "stdout",
     "output_type": "stream",
     "text": [
      "Accuracy: 100.00%\n"
     ]
    },
    {
     "data": {
      "image/png": "iVBORw0KGgoAAAANSUhEUgAAAGQAAABeCAYAAADVA7GfAAAABHNCSVQICAgIfAhkiAAAAAlwSFlzAAAMTQAADE0B0s6tTgAAADl0RVh0U29mdHdhcmUAbWF0cGxvdGxpYiB2ZXJzaW9uIDMuMC4zLCBodHRwOi8vbWF0cGxvdGxpYi5vcmcvnQurowAAAU5JREFUeJzt3aFNxkAAhuE7wgYwDR5HwgxolmERBPr3DMAMSBz4Q6N7Da94Ht8vTd6caNqkc6016Lj67xvgL0FiBIkRJEaQGEFiBIm5PnN8zrutDzlrve+cG2OMcXv/uHXv6/I2j1zvhMQIEiNIjCAxgsQIEiNIjCAxgsQIEiNIjCAxgsQIEiNIjCAxgsQIEnPqK9wxnreuzbn/s9eHl5vtm0c4ITGCxAgSI0iMIDGCxAgSI0iMIDGCxAgSI0iMIDGCxAgSI0iMIDGCxAgSI0jMqR85rPWzd/D7ae/eGOPz9WP75hFOSIwgMYLECBIjSIwgMYLECBIjSIwgMYLECBIjSIwgMYLECBIjSIwgMYLETP+ganFCYgSJESRGkBhBYgSJESRGkBhBYgSJESRGkBhBYgSJESRGkBhBYgSJESRGkBhBYgSJESRGkBhBYn4B5h0Wv2wOonwAAAAASUVORK5CYII=\n",
      "text/plain": [
       "<Figure size 80x80 with 1 Axes>"
      ]
     },
     "metadata": {
      "needs_background": "light"
     },
     "output_type": "display_data"
    },
    {
     "name": "stdout",
     "output_type": "stream",
     "text": [
      "Accuracy: 100.00%\n"
     ]
    },
    {
     "data": {
      "image/png": "iVBORw0KGgoAAAANSUhEUgAAAGQAAABeCAYAAADVA7GfAAAABHNCSVQICAgIfAhkiAAAAAlwSFlzAAAMTQAADE0B0s6tTgAAADl0RVh0U29mdHdhcmUAbWF0cGxvdGxpYiB2ZXJzaW9uIDMuMC4zLCBodHRwOi8vbWF0cGxvdGxpYi5vcmcvnQurowAAAV1JREFUeJzt3aFNNFEYRuFvCQ75o6gGgwDzd4GjD4KlBRwBR8Ch6IAySJYOFo3eu+GI5/HzZpKTKyYzyWx2u93QcfTXN8BvgsQIEiNIjCAxgsQIEnN8yPHLr7ulDznbi7eVczMzc372b+ne7cvjZp/rnZAYQWIEiREkRpAYQWIEiREkRpAYQWIEiREkRpAYQWIEiREkRpAYQWIO+gr3afu6dO9+d710b2Zm+/65fHMfTkiMIDGCxAgSI0iMIDGCxAgSI0iMIDGCxAgSI0iMIDGCxAgSI0iMIDGCxAgSc9CPHG4+HpbufT//X7o3M3NyerV8cx9OSIwgMYLECBIjSIwgMYLECBIjSIwgMYLECBIjSIwgMYLECBIjSIwgMYLEbPyDqsUJiREkRpAYQWIEiREkRpAYQWIEiREkRpAYQWIEiREkRpAYQWIEiREkRpAYQWIEiREkRpAYQWIEifkBF0wYtKHd6UAAAAAASUVORK5CYII=\n",
      "text/plain": [
       "<Figure size 80x80 with 1 Axes>"
      ]
     },
     "metadata": {
      "needs_background": "light"
     },
     "output_type": "display_data"
    },
    {
     "data": {
      "image/png": "iVBORw0KGgoAAAANSUhEUgAAAGQAAABeCAYAAADVA7GfAAAABHNCSVQICAgIfAhkiAAAAAlwSFlzAAAMTQAADE0B0s6tTgAAADl0RVh0U29mdHdhcmUAbWF0cGxvdGxpYiB2ZXJzaW9uIDMuMC4zLCBodHRwOi8vbWF0cGxvdGxpYi5vcmcvnQurowAAAWtJREFUeJzt2iFOHVEYhuH/NhhWwAK6jXrW0GBBIZrgm9Q3Ka6CLVTjECQItkIr0DXNVCMJ54Y3N8/j58skb0ZMztlt2zZ0fHjvF+AlQWIEiREkRpAYQWIEiTna5/jln19Lf3J+nnxZOTczM9vN97WDF2e7tzzuC4kRJEaQGEFiBIkRJEaQGEFiBIkRJEaQGEFiBIkRJEaQGEFiBIkRJGa3z6uk/25Pl47fnX9bOTczM5+frpbuPW+PjnAPiSAxgsQIEiNIjCAxgsQIEiNIjCAxgsQIEiNIjCAxgsQIEiNIjCAxgsQIErPXSw7XN3+Xjv/4/Wnl3MzM3H99WLr3cY5dcjgkgsQIEiNIjCAxgsQIEiNIjCAxgsQIEiNIjCAxgsQIEiNIjCAxgsQIErPXM3VezxcSI0iMIDGCxAgSI0iMIDGCxAgSI0iMIDGCxAgSI0iMIDGCxAgSI0iMIDGCxAgSI0iMIDGCxAgS8x8KZyOvWVSjEgAAAABJRU5ErkJggg==\n",
      "text/plain": [
       "<Figure size 80x80 with 1 Axes>"
      ]
     },
     "metadata": {
      "needs_background": "light"
     },
     "output_type": "display_data"
    },
    {
     "name": "stdout",
     "output_type": "stream",
     "text": [
      "Accuracy: 100.00%\n"
     ]
    },
    {
     "data": {
      "image/png": "iVBORw0KGgoAAAANSUhEUgAAAGQAAABeCAYAAADVA7GfAAAABHNCSVQICAgIfAhkiAAAAAlwSFlzAAAMTQAADE0B0s6tTgAAADl0RVh0U29mdHdhcmUAbWF0cGxvdGxpYiB2ZXJzaW9uIDMuMC4zLCBodHRwOi8vbWF0cGxvdGxpYi5vcmcvnQurowAAAWFJREFUeJzt3KFNBEEAhtE5Qhe0gAN9wRI6oA4cngIoAI3CYjAIWqAETqJRg0aSmwtfyHt+/1zyZcRmb3cz5xx0HP31D+AnQWIEiREkRpAYQWIEiTk+5Pjtx8vSm5y7k6uVc2OMMebr29rB7flmn8udkBhBYgSJESRGkBhBYgSJESRGkBhBYgSJESRGkBhBYgSJESRGkBhBYjaH/CvpfLhcOv5+c79ybowxxunndunenDuPcP8TQWIEiREkRpAYQWIEiREkRpAYQWIEiREkRpAYQWIEiREkRpAYQWIEiREk5qDvqT9+PS/du744W7o3xhjzabd8cx9OSIwgMYLECBIjSIwgMYLECBIjSIwgMYLECBIjSIwgMYLECBIjSIwgMYLEHPTDAfyeExIjSIwgMYLECBIjSIwgMYLECBIjSIwgMYLECBIjSIwgMYLECBIjSIwgMYLECBIjSIwgMYLECBLzDRyDH26m7H4/AAAAAElFTkSuQmCC\n",
      "text/plain": [
       "<Figure size 80x80 with 1 Axes>"
      ]
     },
     "metadata": {
      "needs_background": "light"
     },
     "output_type": "display_data"
    },
    {
     "name": "stdout",
     "output_type": "stream",
     "text": [
      "Accuracy: 99.82%\n"
     ]
    },
    {
     "data": {
      "image/png": "iVBORw0KGgoAAAANSUhEUgAAAGQAAABeCAYAAADVA7GfAAAABHNCSVQICAgIfAhkiAAAAAlwSFlzAAAMTQAADE0B0s6tTgAAADl0RVh0U29mdHdhcmUAbWF0cGxvdGxpYiB2ZXJzaW9uIDMuMC4zLCBodHRwOi8vbWF0cGxvdGxpYi5vcmcvnQurowAAAV9JREFUeJzt3KFNBEEAhtE5Qhk4BApzNIDF0g0OqoAycDgSCsDjUBTANTBoJGE2fCHv+f1zyZcRm73d3Zxz0HH01z+A7wSJESRGkBhBYgSJESTmeMvx24+XpTc5dyeXK+fGGGPM17e1g/uz3W8ud0JiBIkRJEaQGEFiBIkRJEaQGEFiBIkRJEaQGEFiBIkRJEaQGEFiBInZbflX0nl/tXT8/eZh5dwYY4zTz/Ole3MePML9TwSJESRGkBhBYgSJESRGkBhBYgSJESRGkBhBYgSJESRGkBhBYgSJESRGkJhN31N/HE9L9673F0v3xhhjPh+Wb/6GExIjSIwgMYLECBIjSIwgMYLECBIjSIwgMYLECBIjSIwgMYLECBIjSIwgMZt+OICfc0JiBIkRJEaQGEFiBIkRJEaQGEFiBIkRJEaQGEFiBIkRJEaQGEFiBIkRJEaQGEFiBIkRJEaQGEFivgD/Kx6CX/9ezwAAAABJRU5ErkJggg==\n",
      "text/plain": [
       "<Figure size 80x80 with 1 Axes>"
      ]
     },
     "metadata": {
      "needs_background": "light"
     },
     "output_type": "display_data"
    },
    {
     "name": "stdout",
     "output_type": "stream",
     "text": [
      "Accuracy: 100.00%\n"
     ]
    },
    {
     "data": {
      "image/png": "iVBORw0KGgoAAAANSUhEUgAAAGQAAABeCAYAAADVA7GfAAAABHNCSVQICAgIfAhkiAAAAAlwSFlzAAAMTQAADE0B0s6tTgAAADl0RVh0U29mdHdhcmUAbWF0cGxvdGxpYiB2ZXJzaW9uIDMuMC4zLCBodHRwOi8vbWF0cGxvdGxpYi5vcmcvnQurowAAAWJJREFUeJzt3LFJBEEAhtG5wzIMBBMTTcwtwMh6TAR7MLANAxvQBsyNBBsQLh5jQ7k5/JD38v05+Jhg2dvdzDkHHdu//gH8JEiMIDGCxAgSI0iMIDFHhxy//3xZepNzd3y1cm6MMcZ8e187eHG62edyJyRGkBhBYgSJESRGkBhBYgSJESRGkBhBYgSJESRGkBhBYgSJESRGkJjNIf9KOh+ul45/3D6unBtjjHHydbZ0b86dR7j/iSAxgsQIEiNIjCAxgsQIEiNIjCAxgsQIEiNIjCAxgsQIEiNIjCAxgsQIEnPQ99Sfts9L927OL5fujTHGfN0t39yHExIjSIwgMYLECBIjSIwgMYLECBIjSIwgMYLECBIjSIwgMYLECBIjSIwgMQf9cAC/54TECBIjSIwgMYLECBIjSIwgMYLECBIjSIwgMYLECBIjSIwgMYLECBIjSIwgMYLECBIjSIwgMYLEfANl8x6Hoje3tgAAAABJRU5ErkJggg==\n",
      "text/plain": [
       "<Figure size 80x80 with 1 Axes>"
      ]
     },
     "metadata": {
      "needs_background": "light"
     },
     "output_type": "display_data"
    },
    {
     "name": "stdout",
     "output_type": "stream",
     "text": [
      "Accuracy: 100.00%\n"
     ]
    },
    {
     "data": {
      "image/png": "iVBORw0KGgoAAAANSUhEUgAAAGQAAABeCAYAAADVA7GfAAAABHNCSVQICAgIfAhkiAAAAAlwSFlzAAAMTQAADE0B0s6tTgAAADl0RVh0U29mdHdhcmUAbWF0cGxvdGxpYiB2ZXJzaW9uIDMuMC4zLCBodHRwOi8vbWF0cGxvdGxpYi5vcmcvnQurowAAAWFJREFUeJzt3LFJBEEAhtE5tQxBMDDSyNgGTCzIQLAGI9sQrEAbMDcSGzC4dIwN5ebwQ97L9+fgY4Jlb3cz5xx0HPz1D+AnQWIEiREkRpAYQWIEiTna5/j958vSm5y746uVc2OMMebb+9rBi9PNLpc7ITGCxAgSI0iMIDGCxAgSI0iMIDGCxAgSI0iMIDGCxAgSI0iMIDGCxGz2+VfS+XC9dPzj9nHl3BhjjJOvs6V7c249wv1PBIkRJEaQGEFiBIkRJEaQGEFiBIkRJEaQGEFiBIkRJEaQGEFiBIkRJEaQmL2+p/50+Lx07+b8cuneGGPM1+3yzV04ITGCxAgSI0iMIDGCxAgSI0iMIDGCxAgSI0iMIDGCxAgSI0iMIDGCxAgSs9cPB/B7TkiMIDGCxAgSI0iMIDGCxAgSI0iMIDGCxAgSI0iMIDGCxAgSI0iMIDGCxAgSI0iMIDGCxAgSI0jMN/WiHolEUCIFAAAAAElFTkSuQmCC\n",
      "text/plain": [
       "<Figure size 80x80 with 1 Axes>"
      ]
     },
     "metadata": {
      "needs_background": "light"
     },
     "output_type": "display_data"
    },
    {
     "name": "stdout",
     "output_type": "stream",
     "text": [
      "Accuracy: 100.00%\n"
     ]
    },
    {
     "data": {
      "image/png": "iVBORw0KGgoAAAANSUhEUgAAAGQAAABeCAYAAADVA7GfAAAABHNCSVQICAgIfAhkiAAAAAlwSFlzAAAMTQAADE0B0s6tTgAAADl0RVh0U29mdHdhcmUAbWF0cGxvdGxpYiB2ZXJzaW9uIDMuMC4zLCBodHRwOi8vbWF0cGxvdGxpYi5vcmcvnQurowAAARlJREFUeJzt3TEKw0AMAMEo5P9fVurU9pENmeltDhYV5gSe3X3Q8fz2AfgkSIwgMYLECBIjSIwgMa+TL5+Zv/vI2d258rwJiREkRpAYQWIEiREkRpAYQWIEiREkRpAYQWIEiREkRpAYQWIEiREk5ugV7t1OrL3OXLpxvZ0JiREkRpAYQWIEiREkRpAYQWIEiREkRpAYQWIEiREkRpAYQWIEiREkRpAYQWJ+asmhtpBwggmJESRGkBhBYgSJESRGkBhBYgSJESRGkBhBYgSJESRGkBhBYgSJESRGkJjxD6oWExIjSIwgMYLECBIjSIwgMYLECBIjSIwgMYLECBIjSIwgMYLECBIjSIwgMYLECBIjSIwgMYLECBLzBhDbDb7FUudnAAAAAElFTkSuQmCC\n",
      "text/plain": [
       "<Figure size 80x80 with 1 Axes>"
      ]
     },
     "metadata": {
      "needs_background": "light"
     },
     "output_type": "display_data"
    },
    {
     "name": "stdout",
     "output_type": "stream",
     "text": [
      "Accuracy: 94.82%\n",
      "Accuracy: 100.00%\n"
     ]
    },
    {
     "data": {
      "image/png": "iVBORw0KGgoAAAANSUhEUgAAAGQAAABeCAYAAADVA7GfAAAABHNCSVQICAgIfAhkiAAAAAlwSFlzAAAMTQAADE0B0s6tTgAAADl0RVh0U29mdHdhcmUAbWF0cGxvdGxpYiB2ZXJzaW9uIDMuMC4zLCBodHRwOi8vbWF0cGxvdGxpYi5vcmcvnQurowAAAWVJREFUeJzt3DEuBGEAhuF/0StERJxClFSOoHUAUUv2BlRKDuAMnESlcwRHGLVS9t94I8/Tz5dN3vzFZHZmtSzLoGPnr38APwkSI0iMIDGCxAgSI0jM3jbHX5fdqTc5l3c3M+fGGGPcX1xP3Xu4Ol9tcr0TEiNIjCAxgsQIEiNIjCAxgsQIEiNIjCAxgsQIEiNIjCAxgsQIEiNIzGqbfyU9Wd9OHT99Ops5N8YY4+Docerey+eHR7j/iSAxgsQIEiNIjCAxgsQIEiNIjCAxgsQIEiNIjCAxgsQIEiNIjCAxgsQIErPV99Sf99+n7r19HU/dG2OMw/P19M1NOCExgsQIEiNIjCAxgsQIEiNIjCAxgsQIEiNIjCAxgsQIEiNIjCAxgsQIErPVDwfwe05IjCAxgsQIEiNIjCAxgsQIEiNIjCAxgsQIEiNIjCAxgsQIEiNIjCAxgsQIEiNIjCAxgsQIEiNIzDd5RBmtL2LcUQAAAABJRU5ErkJggg==\n",
      "text/plain": [
       "<Figure size 80x80 with 1 Axes>"
      ]
     },
     "metadata": {
      "needs_background": "light"
     },
     "output_type": "display_data"
    },
    {
     "data": {
      "image/png": "iVBORw0KGgoAAAANSUhEUgAAAGQAAABeCAYAAADVA7GfAAAABHNCSVQICAgIfAhkiAAAAAlwSFlzAAAMTQAADE0B0s6tTgAAADl0RVh0U29mdHdhcmUAbWF0cGxvdGxpYiB2ZXJzaW9uIDMuMC4zLCBodHRwOi8vbWF0cGxvdGxpYi5vcmcvnQurowAAAWBJREFUeJzt3bFN3WAYhtHPEAoWoIF0tGxAAxtQp80e2SRigczAIDDBFWID5NTU97/iKc7p/crSo7+wbMnbvu9Dx9l33wBfCRIjSIwgMYLECBIjSMyPU45/zs3Sh5zD08PKuZmZef/3d+ne3dnFdsz1TkiMIDGCxAgSI0iMIDGCxAgSI0iMIDGCxAgSI0iMIDGCxAgSI0iMIDEnfYV79Xi/dO/j5Xrp3szM7fnazdf9cNT1TkiMIDGCxAgSI0iMIDGCxAgSI0iMIDGCxAgSI0iMIDGCxAgSI0iMIDGCxAgSc9KPHH7/fFu692t/Xro3M/Nnu1y+eQwnJEaQGEFiBIkRJEaQGEFiBIkRJEaQGEFiBIkRJEaQGEFiBIkRJEaQGEFiNv+ganFCYgSJESRGkBhBYgSJESRGkBhBYgSJESRGkBhBYgSJESRGkBhBYgSJESRGkBhBYgSJESRGkBhBYv4DfaUV/S7kficAAAAASUVORK5CYII=\n",
      "text/plain": [
       "<Figure size 80x80 with 1 Axes>"
      ]
     },
     "metadata": {
      "needs_background": "light"
     },
     "output_type": "display_data"
    },
    {
     "name": "stdout",
     "output_type": "stream",
     "text": [
      "Accuracy: 98.00%\n"
     ]
    },
    {
     "data": {
      "image/png": "iVBORw0KGgoAAAANSUhEUgAAAGQAAABeCAYAAADVA7GfAAAABHNCSVQICAgIfAhkiAAAAAlwSFlzAAAMTQAADE0B0s6tTgAAADl0RVh0U29mdHdhcmUAbWF0cGxvdGxpYiB2ZXJzaW9uIDMuMC4zLCBodHRwOi8vbWF0cGxvdGxpYi5vcmcvnQurowAAAVRJREFUeJzt3TFKxFAYRtE/g4WF4BLEchqXILbuVBvX4C60EfcggmWsrecN3uKcPh+ByytCAtn2fR86Dv99A/wlSIwgMYLECBIjSIwgMRfnnT8ufcj5fLhbOTczMzevz0v3DjPbiddTIkiMIDGCxAgSI0iMIDGCxAgSI0iMIDGCxAgSI0iMIDGCxAgSI0jMWV/hXh+PS/e+3q+X7s3MXG5XS/d+9u+TrndCYgSJESRGkBhBYgSJESRGkBhBYgSJESRGkBhBYgSJESRGkBhBYgSJESRGkJizfuTwePuxdO/p7WXp3szM/eKPHE7lhMQIEiNIjCAxgsQIEiNIjCAxgsQIEiNIjCAxgsQIEiNIjCAxgsQIEiNIzOYfVC1OSIwgMYLECBIjSIwgMYLECBIjSIwgMYLECBIjSIwgMYLECBIjSIwgMYLECBIjSIwgMYLECBIjSMwvdmYTsxLij70AAAAASUVORK5CYII=\n",
      "text/plain": [
       "<Figure size 80x80 with 1 Axes>"
      ]
     },
     "metadata": {
      "needs_background": "light"
     },
     "output_type": "display_data"
    },
    {
     "name": "stdout",
     "output_type": "stream",
     "text": [
      "Accuracy: 99.27%\n"
     ]
    },
    {
     "data": {
      "image/png": "iVBORw0KGgoAAAANSUhEUgAAAGQAAABeCAYAAADVA7GfAAAABHNCSVQICAgIfAhkiAAAAAlwSFlzAAAMTQAADE0B0s6tTgAAADl0RVh0U29mdHdhcmUAbWF0cGxvdGxpYiB2ZXJzaW9uIDMuMC4zLCBodHRwOi8vbWF0cGxvdGxpYi5vcmcvnQurowAAAVJJREFUeJzt3TFKxFAYRtE/YqMwi3CwsLG2sHDBtm7BDVgL4yIEy1hbzxu8xTl9PgKXV4QEsu37PnRc/fcN8JcgMYLECBIjSIwgMYLEXF92/nHpQ87n88PKuZmZuX9/XT25nXOxExIjSIwgMYLECBIjSIwgMYLECBIjSIwgMYLECBIjSIwgMYLECBIjSMxFX+Ee7o5L976/bpfuzczMdrN0bt9/zrreCYkRJEaQGEFiBIkRJEaQGEFiBIkRJEaQGEFiBIkRJEaQGEFiBIkRJEaQGEFiLvqRw8vxtHTv7fSxdG9m5mk7LN88hxMSI0iMIDGCxAgSI0iMIDGCxAgSI0iMIDGCxAgSI0iMIDGCxAgSI0iMIDGbf1C1OCExgsQIEiNIjCAxgsQIEiNIjCAxgsQIEiNIjCAxgsQIEiNIjCAxgsQIEiNIjCAxgsQIEiNIjCAxv4YzE9LI92mIAAAAAElFTkSuQmCC\n",
      "text/plain": [
       "<Figure size 80x80 with 1 Axes>"
      ]
     },
     "metadata": {
      "needs_background": "light"
     },
     "output_type": "display_data"
    },
    {
     "name": "stdout",
     "output_type": "stream",
     "text": [
      "Accuracy: 99.64%\n"
     ]
    },
    {
     "data": {
      "image/png": "iVBORw0KGgoAAAANSUhEUgAAAGQAAABeCAYAAADVA7GfAAAABHNCSVQICAgIfAhkiAAAAAlwSFlzAAAMTQAADE0B0s6tTgAAADl0RVh0U29mdHdhcmUAbWF0cGxvdGxpYiB2ZXJzaW9uIDMuMC4zLCBodHRwOi8vbWF0cGxvdGxpYi5vcmcvnQurowAAAVRJREFUeJzt3TFKxFAYRtE/YqGgWxARprayEFyyC3AHLsBSsNA1CHaxtp43eItz+nwELq8ICWTb933oOPvvG+AvQWIEiREkRpAYQWIEiTk/7fz90oec98fDyrmZmTm8Pq+e3I652AmJESRGkBhBYgSJESRGkBhBYgSJESRGkBhBYgSJESRGkBhBYgSJESTmpK9wr25ul+59f10u3ZuZme1i6dy+/xx1vRMSI0iMIDGCxAgSI0iMIDGCxAgSI0iMIDGCxAgSI0iMIDGCxAgSI0iMIDGCxJz0I4enu4+ley+fb0v3ZmYetuvlm8dwQmIEiREkRpAYQWIEiREkRpAYQWIEiREkRpAYQWIEiREkRpAYQWIEiREkZvMPqhYnJEaQGEFiBIkRJEaQGEFiBIkRJEaQGEFiBIkRJEaQGEFiBIkRJEaQGEFiBIkRJEaQGEFiBIkRJOYX2J8T0Q6MTlcAAAAASUVORK5CYII=\n",
      "text/plain": [
       "<Figure size 80x80 with 1 Axes>"
      ]
     },
     "metadata": {
      "needs_background": "light"
     },
     "output_type": "display_data"
    },
    {
     "name": "stdout",
     "output_type": "stream",
     "text": [
      "Accuracy: 99.82%\n"
     ]
    },
    {
     "data": {
      "image/png": "iVBORw0KGgoAAAANSUhEUgAAAGQAAABeCAYAAADVA7GfAAAABHNCSVQICAgIfAhkiAAAAAlwSFlzAAAMTQAADE0B0s6tTgAAADl0RVh0U29mdHdhcmUAbWF0cGxvdGxpYiB2ZXJzaW9uIDMuMC4zLCBodHRwOi8vbWF0cGxvdGxpYi5vcmcvnQurowAAAVRJREFUeJzt3TFKxVAURdEbERQEZ6AgiLWFhc7ZITgAB2BlYaNjELtYW//3cRdr9TkENq8ICWTb933oOPnvG+AvQWIEiREkRpAYQWIEiTk97vz90oec98fblXMzM3P3+rx6cjvkYickRpAYQWIEiREkRpAYQWIEiREkRpAYQWIEiREkRpAYQWIEiREkRpCYo77Cvbi6Xrr3/XW2dG9mZrbzpXP7/nPQ9U5IjCAxgsQIEiNIjCAxgsQIEiNIjCAxgsQIEiNIjCAxgsQIEiNIjCAxgsQIEnPUjxyebj6W7r18vi3dm5l52C6Xbx7CCYkRJEaQGEFiBIkRJEaQGEFiBIkRJEaQGEFiBIkRJEaQGEFiBIkRJEaQmM0/qFqckBhBYgSJESRGkBhBYgSJESRGkBhBYgSJESRGkBhBYgSJESRGkBhBYgSJESRGkBhBYgSJESRGkJhfw2YTz8aqNMoAAAAASUVORK5CYII=\n",
      "text/plain": [
       "<Figure size 80x80 with 1 Axes>"
      ]
     },
     "metadata": {
      "needs_background": "light"
     },
     "output_type": "display_data"
    },
    {
     "name": "stdout",
     "output_type": "stream",
     "text": [
      "Accuracy: 99.18%\n"
     ]
    },
    {
     "data": {
      "image/png": "iVBORw0KGgoAAAANSUhEUgAAAGQAAABeCAYAAADVA7GfAAAABHNCSVQICAgIfAhkiAAAAAlwSFlzAAAMTQAADE0B0s6tTgAAADl0RVh0U29mdHdhcmUAbWF0cGxvdGxpYiB2ZXJzaW9uIDMuMC4zLCBodHRwOi8vbWF0cGxvdGxpYi5vcmcvnQurowAAAWZJREFUeJzt3SFOJFEYRtG/ySQYlsJaWvYGEJMgEBgSzNhJ2MCEBYwYwSbQuDZoHBY/jUb363DFOb6+VHLzRKUqqc3hcBg6zr77BvhKkBhBYgSJESRGkBhBYn6ccvx8+7r0Iefp5f/KuZmZeb77t3Tv982vzTHXOyExgsQIEiNIjCAxgsQIEiNIjCAxgsQIEiNIjCAxgsQIEiNIjCAxgsSc9BXuw8V+6d7P+8elezMz+4/d8s1jOCExgsQIEiNIjCAxgsQIEiNIjCAxgsQIEiNIjCAxgsQIEiNIjCAxgsQIEiNIzEk/cnjfbZfuXd6+Ld2bmbne/lm693eujrreCYkRJEaQGEFiBIkRJEaQGEFiBIkRJEaQGEFiBIkRJEaQGEFiBIkRJEaQmI1/ULU4ITGCxAgSI0iMIDGCxAgSI0iMIDGCxAgSI0iMIDGCxAgSI0iMIDGCxAgSI0iMIDGCxAgSI0iMIDGfHM8ZJneDyxsAAAAASUVORK5CYII=\n",
      "text/plain": [
       "<Figure size 80x80 with 1 Axes>"
      ]
     },
     "metadata": {
      "needs_background": "light"
     },
     "output_type": "display_data"
    },
    {
     "data": {
      "image/png": "iVBORw0KGgoAAAANSUhEUgAAAGQAAABeCAYAAADVA7GfAAAABHNCSVQICAgIfAhkiAAAAAlwSFlzAAAMTQAADE0B0s6tTgAAADl0RVh0U29mdHdhcmUAbWF0cGxvdGxpYiB2ZXJzaW9uIDMuMC4zLCBodHRwOi8vbWF0cGxvdGxpYi5vcmcvnQurowAAAWBJREFUeJzt3TFKxFAARdEfsXcLwiAWVmMt2LmF2YA7cD1uwNJdCKKVncLALCTW1vMHb3FOn0fg8ouQQJZ1XQcdZ/99A/wlSIwgMYLECBIjSIwgMeenHF82r1MfcvZXDzPnxhhj3B/upu7tv96XY653QmIEiREkRpAYQWIEiREkRpAYQWIEiREkRpAYQWIEiREkRpAYQWIEiTnpK9yXx5upe5fP26l7Y4yxfrxN3zyGExIjSIwgMYLECBIjSIwgMYLECBIjSIwgMYLECBIjSIwgMYLECBIjSIwgMYLEnPQjh8P1Zure7udp6t4YY2wvbqfufa7fR13vhMQIEiNIjCAxgsQIEiNIjCAxgsQIEiNIjCAxgsQIEiNIjCAxgsQIEiNIzOIfVC1OSIwgMYLECBIjSIwgMYLECBIjSIwgMYLECBIjSIwgMYLECBIjSIwgMYLECBIjSIwgMYLECBIjSMwvxJYYaBeXZ0gAAAAASUVORK5CYII=\n",
      "text/plain": [
       "<Figure size 80x80 with 1 Axes>"
      ]
     },
     "metadata": {
      "needs_background": "light"
     },
     "output_type": "display_data"
    },
    {
     "name": "stdout",
     "output_type": "stream",
     "text": [
      "Accuracy: 100.00%\n"
     ]
    },
    {
     "data": {
      "image/png": "iVBORw0KGgoAAAANSUhEUgAAAGQAAABeCAYAAADVA7GfAAAABHNCSVQICAgIfAhkiAAAAAlwSFlzAAAMTQAADE0B0s6tTgAAADl0RVh0U29mdHdhcmUAbWF0cGxvdGxpYiB2ZXJzaW9uIDMuMC4zLCBodHRwOi8vbWF0cGxvdGxpYi5vcmcvnQurowAAAVlJREFUeJzt3SFOxFAYRtG/BD0ELCGsCMEGQLEWFItAsAVWgyF4BBsoGj1vwhXn+H5pcvNE0ybd9n0fOs7++wb4S5AYQWIEiREkRpAYQWLOTzm+Xbwufcj5uXtcOTczM4e3q6V7+/69HXO9ExIjSIwgMYLECBIjSIwgMYLECBIjSIwgMYLECBIjSIwgMYLECBIjSMxJX+G+v9wv3Ts8XS/dm5nZ9+/lm8dwQmIEiREkRpAYQWIEiREkRpAYQWIEiREkRpAYQWIEiREkRpAYQWIEiREkRpCYk37k8HF5WLr3MM9L92ZmbrebpXuf+9dR1zshMYLECBIjSIwgMYLECBIjSIwgMYLECBIjSIwgMYLECBIjSIwgMYLECBKz+QdVixMSI0iMIDGCxAgSI0iMIDGCxAgSI0iMIDGCxAgSI0iMIDGCxAgSI0iMIDGCxAgSI0iMIDGCxAgS8wu9yhepL7wAOwAAAABJRU5ErkJggg==\n",
      "text/plain": [
       "<Figure size 80x80 with 1 Axes>"
      ]
     },
     "metadata": {
      "needs_background": "light"
     },
     "output_type": "display_data"
    },
    {
     "name": "stdout",
     "output_type": "stream",
     "text": [
      "Accuracy: 100.00%\n"
     ]
    },
    {
     "data": {
      "image/png": "iVBORw0KGgoAAAANSUhEUgAAAGQAAABeCAYAAADVA7GfAAAABHNCSVQICAgIfAhkiAAAAAlwSFlzAAAMTQAADE0B0s6tTgAAADl0RVh0U29mdHdhcmUAbWF0cGxvdGxpYiB2ZXJzaW9uIDMuMC4zLCBodHRwOi8vbWF0cGxvdGxpYi5vcmcvnQurowAAAV5JREFUeJzt3DFKQ0EARdH5IpgsQSxcjmuwESxcjiuwsHAXbsVaxB3EaqwtJRO8yDn9PAKXKcL/yTbnHHSc/fUH4CdBYgSJESRGkBhBYgSJOT/l+LZ/Wvol53D7sHJujDHG7vli6d6cX9sx592QGEFiBIkRJEaQGEFiBIkRJEaQGEFiBIkRJEaQGEFiBIkRJEaQGEFitlO+Svr6clg6fnN3vXJujDHGnJ+rJz3C/U8EiREkRpAYQWIEiREkRpAYQWIEiREkRpAYQWIEiREkRpAYQWIEiREkRpCYk/5O/W2/W7p3Px6X7o0xxuV2tXTvY74fdd4NiREkRpAYQWIEiREkRpAYQWIEiREkRpAYQWIEiREkRpAYQWIEiREkRpCYk/5xAL/nhsQIEiNIjCAxgsQIEiNIjCAxgsQIEiNIjCAxgsQIEiNIjCAxgsQIEiNIjCAxgsQIEiNIjCAxgsR8A+NfHI807UwDAAAAAElFTkSuQmCC\n",
      "text/plain": [
       "<Figure size 80x80 with 1 Axes>"
      ]
     },
     "metadata": {
      "needs_background": "light"
     },
     "output_type": "display_data"
    },
    {
     "name": "stdout",
     "output_type": "stream",
     "text": [
      "Accuracy: 100.00%\n"
     ]
    },
    {
     "data": {
      "image/png": "iVBORw0KGgoAAAANSUhEUgAAAGQAAABeCAYAAADVA7GfAAAABHNCSVQICAgIfAhkiAAAAAlwSFlzAAAMTQAADE0B0s6tTgAAADl0RVh0U29mdHdhcmUAbWF0cGxvdGxpYiB2ZXJzaW9uIDMuMC4zLCBodHRwOi8vbWF0cGxvdGxpYi5vcmcvnQurowAAAVxJREFUeJzt3LFJxkAYgOGLqP8Igvu4hRZWrmNrYekWLuICgriBCmdtKf8FX+R5+vsIebki5JJtzjnoOPnrC+AnQWIEiREkRpAYQWIEiTndc/h2eFj6kPNxc7dy3BhjjPPHtbdgzq/tmPV2SIwgMYLECBIjSIwgMYLECBIjSIwgMYLECBIjSIwgMYLECBIjSIwgMdueR0mfnz6XDr+6vlw5bowxxpzvq0d6hfufCBIjSIwgMYLECBIjSIwgMYLECBIjSIwgMYLECBIjSIwgMYLECBIjSIwgMbt+p/5yOFs673bcL503xhgX29qDE2/z9aj1dkiMIDGCxAgSI0iMIDGCxAgSI0iMIDGCxAgSI0iMIDGCxAgSI0iMIDGCxOz64wB+zw6JESRGkBhBYgSJESRGkBhBYgSJESRGkBhBYgSJESRGkBhBYgSJESRGkBhBYgSJESRGkBhBYgSJ+QbDVhyLKwgdcAAAAABJRU5ErkJggg==\n",
      "text/plain": [
       "<Figure size 80x80 with 1 Axes>"
      ]
     },
     "metadata": {
      "needs_background": "light"
     },
     "output_type": "display_data"
    },
    {
     "name": "stdout",
     "output_type": "stream",
     "text": [
      "Accuracy: 100.00%\n"
     ]
    },
    {
     "data": {
      "image/png": "iVBORw0KGgoAAAANSUhEUgAAAGQAAABeCAYAAADVA7GfAAAABHNCSVQICAgIfAhkiAAAAAlwSFlzAAAMTQAADE0B0s6tTgAAADl0RVh0U29mdHdhcmUAbWF0cGxvdGxpYiB2ZXJzaW9uIDMuMC4zLCBodHRwOi8vbWF0cGxvdGxpYi5vcmcvnQurowAAAV1JREFUeJzt3L1JBUEARtFZf14Lgv1YhWBgYjumBqZWYSM2IIgdKDLGhvJm8SLn5Pvx4DLBsvt2m3MOOk7++gfwkyAxgsQIEiNIjCAxgsSc7Tm+HR6W3uR83NytnBtjjHF4PF26N+fXdsz1TkiMIDGCxAgSI0iMIDGCxAgSI0iMIDGCxAgSI0iMIDGCxAgSI0iMIDHbnq+SPj99Lh2/ur5cOTfGGGPO99WTHuH+J4LECBIjSIwgMYLECBIjSIwgMYLECBIjSIwgMYLECBIjSIwgMYLECBIjSMyu/1N/OZwv3bsd90v3xhjjYlv74sTbfD3qeickRpAYQWIEiREkRpAYQWIEiREkRpAYQWIEiREkRpAYQWIEiREkRpAYQWJ2/XAAv+eExAgSI0iMIDGCxAgSI0iMIDGCxAgSI0iMIDGCxAgSI0iMIDGCxAgSI0iMIDGCxAgSI0iMIDGCxHwDwrcciw85xhoAAAAASUVORK5CYII=\n",
      "text/plain": [
       "<Figure size 80x80 with 1 Axes>"
      ]
     },
     "metadata": {
      "needs_background": "light"
     },
     "output_type": "display_data"
    },
    {
     "name": "stdout",
     "output_type": "stream",
     "text": [
      "Accuracy: 99.91%\n"
     ]
    },
    {
     "data": {
      "image/png": "iVBORw0KGgoAAAANSUhEUgAAAGQAAABeCAYAAADVA7GfAAAABHNCSVQICAgIfAhkiAAAAAlwSFlzAAAMTQAADE0B0s6tTgAAADl0RVh0U29mdHdhcmUAbWF0cGxvdGxpYiB2ZXJzaW9uIDMuMC4zLCBodHRwOi8vbWF0cGxvdGxpYi5vcmcvnQurowAAARxJREFUeJzt3DEKw0AMAMEo5P9fVurU9pEJ2eltDhYV5oRndx9xPL99gHwqCKYgmIJgCoIpCKYgmNfJl8/M333k7O5ceb4JwRQEUxBMQTAFwRQEUxBMQTAFwRQEUxBMQTAFwRQEUxBMQTAFwRQEc/QK924n1l5nLt243q4JwRQEUxBMQTAFwRQEUxBMQTAFwRQEUxBMQTAFwRQEUxBMQTAFwRQEUxBMQTA/teRwYiFB+19YE4IpCKYgmIJgCoIpCKYgmIJgCoIpCKYgmIJgCoIpCKYgmIJgCoIpCKYgmNHulP9dE4IpCKYgmIJgCoIpCKYgmIJgCoIpCKYgmIJgCoIpCKYgmIJgCoIpCKYgmIJgCoIpCKYgmIJgCoJ5A2wjELvah2bOAAAAAElFTkSuQmCC\n",
      "text/plain": [
       "<Figure size 80x80 with 1 Axes>"
      ]
     },
     "metadata": {
      "needs_background": "light"
     },
     "output_type": "display_data"
    },
    {
     "name": "stdout",
     "output_type": "stream",
     "text": [
      "Accuracy: 94.91%\n",
      "Accuracy: 99.91%\n"
     ]
    },
    {
     "data": {
      "image/png": "iVBORw0KGgoAAAANSUhEUgAAAGQAAABeCAYAAADVA7GfAAAABHNCSVQICAgIfAhkiAAAAAlwSFlzAAAMTQAADE0B0s6tTgAAADl0RVh0U29mdHdhcmUAbWF0cGxvdGxpYiB2ZXJzaW9uIDMuMC4zLCBodHRwOi8vbWF0cGxvdGxpYi5vcmcvnQurowAAAWtJREFUeJzt3DEuRFEAhtE7olVIbEAzjcQC7EKh0GhEZwOzCYm12AIaolRYgR2oGLVS5k58kXP692eSL7d4eW/eYr1eDzp2/voH8JMgMYLECBIjSIwgMYLE7G5z/PzicOpNzuXR/sy5McYYt19nU/fuVqvFJtc7ITGCxAgSI0iMIDGCxAgSI0iMIDGCxAgSI0iMIDGCxAgSI0iMIDGCxCy2+Srp6dty6vjByfPMuTHGGHuPcx8L3yw/PcL9TwSJESRGkBhBYgSJESRGkBhBYgSJESRGkBhBYgSJESRGkBhBYgSJESRGkJit/k/9+uph6t7H69PUvTHGuD9+mTv4vtnlTkiMIDGCxAgSI0iMIDGCxAgSI0iMIDGCxAgSI0iMIDGCxAgSI0iMIDGCxGz1wwH8nhMSI0iMIDGCxAgSI0iMIDGCxAgSI0iMIDGCxAgSI0iMIDGCxAgSI0iMIDGCxAgSI0iMIDGCxAgS8w3gaRyL3anyIAAAAABJRU5ErkJggg==\n",
      "text/plain": [
       "<Figure size 80x80 with 1 Axes>"
      ]
     },
     "metadata": {
      "needs_background": "light"
     },
     "output_type": "display_data"
    },
    {
     "data": {
      "image/png": "iVBORw0KGgoAAAANSUhEUgAAAGQAAABeCAYAAADVA7GfAAAABHNCSVQICAgIfAhkiAAAAAlwSFlzAAAMTQAADE0B0s6tTgAAADl0RVh0U29mdHdhcmUAbWF0cGxvdGxpYiB2ZXJzaW9uIDMuMC4zLCBodHRwOi8vbWF0cGxvdGxpYi5vcmcvnQurowAAAWFJREFUeJzt3bFN5FAYRtHfLAQEZCtKoA4iKkBINEO8yQYQ0AI9UMSmSIiQAujAGxPPG3GDc3J/GunqBZbH8rbv+9Bx8tM/gO8EiREkRpAYQWIEiREk5vSY41e/z5be5Lz/eVg5NzMzN89fS/de//3dDrneCYkRJEaQGEFiBIkRJEaQGEFiBIkRJEaQGEFiBIkRJEaQGEFiBIkRJOaoj3DvPm+X7m3n10v3ZmbePp6Wbx7CCYkRJEaQGEFiBIkRJEaQGEFiBIkRJEaQGEFiBIkRJEaQGEFiBIkRJEaQGEFijvonh7l4XDq375dL92Zm7rdfS/deDnwz3wmJESRGkBhBYgSJESRGkBhBYgSJESRGkBhBYgSJESRGkBhBYgSJESRGkJjNN6hanJAYQWIEiREkRpAYQWIEiREkRpAYQWIEiREkRpAYQWIEiREkRpAYQWIEiREkRpAYQWIEiREkRpCY/2VhFo3cCkU3AAAAAElFTkSuQmCC\n",
      "text/plain": [
       "<Figure size 80x80 with 1 Axes>"
      ]
     },
     "metadata": {
      "needs_background": "light"
     },
     "output_type": "display_data"
    },
    {
     "name": "stdout",
     "output_type": "stream",
     "text": [
      "Accuracy: 99.36%\n"
     ]
    },
    {
     "data": {
      "image/png": "iVBORw0KGgoAAAANSUhEUgAAAGQAAABeCAYAAADVA7GfAAAABHNCSVQICAgIfAhkiAAAAAlwSFlzAAAMTQAADE0B0s6tTgAAADl0RVh0U29mdHdhcmUAbWF0cGxvdGxpYiB2ZXJzaW9uIDMuMC4zLCBodHRwOi8vbWF0cGxvdGxpYi5vcmcvnQurowAAAVhJREFUeJzt3aFNBEEAhtEZgkKQgKEePH0g0SjaoIArAY+gAwqgCIIfNHrnwife8/vnki8jNnubnWutQcfFf/8A/hIkRpAYQWIEiREkRpCYy3OOX8+59Sbn+3TaOTfGGOP+8WPr3vvP6zxyvRMSI0iMIDGCxAgSI0iMIDGCxAgSI0iMIDGCxAgSI0iMIDGCxAgSI0jMWR/hvqynrXtzXm3dG2OM9XWzffMIJyRGkBhBYgSJESRGkBhBYgSJESRGkBhBYgSJESRGkBhBYgSJESRGkBhBYgSJOeufHD7n89a9te627o0xxsO83br3dvDNfCckRpAYQWIEiREkRpAYQWIEiREkRpAYQWIEiREkRpAYQWIEiREkRpAYQWKmb1C1OCExgsQIEiNIjCAxgsQIEiNIjCAxgsQIEiNIjCAxgsQIEiNIjCAxgsQIEiNIjCAxgsQIEiNIjCAxv7nXFxWEAW+ZAAAAAElFTkSuQmCC\n",
      "text/plain": [
       "<Figure size 80x80 with 1 Axes>"
      ]
     },
     "metadata": {
      "needs_background": "light"
     },
     "output_type": "display_data"
    },
    {
     "name": "stdout",
     "output_type": "stream",
     "text": [
      "Accuracy: 100.00%\n"
     ]
    },
    {
     "data": {
      "image/png": "iVBORw0KGgoAAAANSUhEUgAAAGQAAABeCAYAAADVA7GfAAAABHNCSVQICAgIfAhkiAAAAAlwSFlzAAAMTQAADE0B0s6tTgAAADl0RVh0U29mdHdhcmUAbWF0cGxvdGxpYiB2ZXJzaW9uIDMuMC4zLCBodHRwOi8vbWF0cGxvdGxpYi5vcmcvnQurowAAAVhJREFUeJzt3bFJBEEAhtEZEWzBzFJMbcEyTKzCDizA8CLBULEQ67hojI13Dr/gvXx/Dj4mWPaWnWutQcfVf/8A/hIkRpAYQWIEiREkRpCY60uO38y59Sbn/HbaOTfGGOP+8X3r3td6nUeud0JiBIkRJEaQGEFiBIkRJEaQGEFiBIkRJEaQGEFiBIkRJEaQGEFiBIm56CPcl/W8dW/O89a9McZYP3fbN49wQmIEiREkRpAYQWIEiREkRpAYQWIEiREkRpAYQWIEiREkRpAYQWIEiREkRpCYi/7J4Xs+bd1b63br3hhjPMzPrXsfB9/Md0JiBIkRJEaQGEFiBIkRJEaQGEFiBIkRJEaQGEFiBIkRJEaQGEFiBIkRJGb6BlWLExIjSIwgMYLECBIjSIwgMYLECBIjSIwgMYLECBIjSIwgMYLECBIjSIwgMYLECBIjSIwgMYLECBLzC3k+GL8QWGM1AAAAAElFTkSuQmCC\n",
      "text/plain": [
       "<Figure size 80x80 with 1 Axes>"
      ]
     },
     "metadata": {
      "needs_background": "light"
     },
     "output_type": "display_data"
    },
    {
     "name": "stdout",
     "output_type": "stream",
     "text": [
      "Accuracy: 99.73%\n"
     ]
    },
    {
     "data": {
      "image/png": "iVBORw0KGgoAAAANSUhEUgAAAGQAAABeCAYAAADVA7GfAAAABHNCSVQICAgIfAhkiAAAAAlwSFlzAAAMTQAADE0B0s6tTgAAADl0RVh0U29mdHdhcmUAbWF0cGxvdGxpYiB2ZXJzaW9uIDMuMC4zLCBodHRwOi8vbWF0cGxvdGxpYi5vcmcvnQurowAAAVVJREFUeJzt3aFNBUEARdEZQhF4+sDSAl1gaQNPAVhwGEhohCaQJING72y44hy/Lz+5GbHZv9m51hp0XPz3D+AvQWIEiREkRpAYQWIEibk8dXzOrTc5P8+vO+fGGGPc3L1s3ftcT/PI9U5IjCAxgsQIEiNIjCAxgsQIEiNIjCAxgsQIEiNIjCAxgsQIEiNIjCAxpz7CfVwPW/fm/N66N8YY6+t6++YRTkiMIDGCxAgSI0iMIDGCxAgSI0iMIDGCxAgSI0iMIDGCxAgSI0iMIDGCxAgSc+qfHN7n/da9ta627o0xxu382Lr3dvDNfCckRpAYQWIEiREkRpAYQWIEiREkRpAYQWIEiREkRpAYQWIEiREkRpAYQWKmb1C1OCExgsQIEiNIjCAxgsQIEiNIjCAxgsQIEiNIjCAxgsQIEiNIjCAxgsQIEiNIjCAxgsQIEiNIjCAxv65SGL17Tic2AAAAAElFTkSuQmCC\n",
      "text/plain": [
       "<Figure size 80x80 with 1 Axes>"
      ]
     },
     "metadata": {
      "needs_background": "light"
     },
     "output_type": "display_data"
    },
    {
     "name": "stdout",
     "output_type": "stream",
     "text": [
      "Accuracy: 100.00%\n"
     ]
    },
    {
     "data": {
      "image/png": "iVBORw0KGgoAAAANSUhEUgAAAGQAAABeCAYAAADVA7GfAAAABHNCSVQICAgIfAhkiAAAAAlwSFlzAAAMTQAADE0B0s6tTgAAADl0RVh0U29mdHdhcmUAbWF0cGxvdGxpYiB2ZXJzaW9uIDMuMC4zLCBodHRwOi8vbWF0cGxvdGxpYi5vcmcvnQurowAAAVhJREFUeJzt3bFJBEEAhtEZtQgbsA1DW7ALc+swtQGzAzMRBCuxBnMZY+Odwy94L9+fg48Jlr1l51pr0HHx3z+AvwSJESRGkBhBYgSJESTm6pzjl3Nuvcn5eXndOTfGGOP2/rR173M9zyPXOyExgsQIEiNIjCAxgsQIEiNIjCAxgsQIEiNIjCAxgsQIEiNIjCAxgsSc9RHu03rcujfn99a9McZYXzfbN49wQmIEiREkRpAYQWIEiREkRpAYQWIEiREkRpAYQWIEiREkRpAYQWIEiREkRpCYs/7J4X0+bN1b63rr3hhj3M2PrXtvB9/Md0JiBIkRJEaQGEFiBIkRJEaQGEFiBIkRJEaQGEFiBIkRJEaQGEFiBIkRJGb6BlWLExIjSIwgMYLECBIjSIwgMYLECBIjSIwgMYLECBIjSIwgMYLECBIjSIwgMYLECBIjSIwgMYLECBLzC3hhGL7hREptAAAAAElFTkSuQmCC\n",
      "text/plain": [
       "<Figure size 80x80 with 1 Axes>"
      ]
     },
     "metadata": {
      "needs_background": "light"
     },
     "output_type": "display_data"
    },
    {
     "name": "stdout",
     "output_type": "stream",
     "text": [
      "Accuracy: 100.00%\n"
     ]
    },
    {
     "data": {
      "image/png": "iVBORw0KGgoAAAANSUhEUgAAAGQAAABeCAYAAADVA7GfAAAABHNCSVQICAgIfAhkiAAAAAlwSFlzAAAMTQAADE0B0s6tTgAAADl0RVh0U29mdHdhcmUAbWF0cGxvdGxpYiB2ZXJzaW9uIDMuMC4zLCBodHRwOi8vbWF0cGxvdGxpYi5vcmcvnQurowAAAWVJREFUeJzt3CFOA1EARdFfggGJZDdsAIJFEyQrIIEV4ECRrgADCFRXwE7QNaiikaS/4Yac4+elyc0Xk+nMYrPZDDr2/voH8JMgMYLECBIjSIwgMYLE7O9yfP1wN/Um5+LscebcGGOM04/rqXuX5zeLba53QmIEiREkRpAYQWIEiREkRpAYQWIEiREkRpAYQWIEiREkRpAYQWIEiVns8q+kX0dPU8ePX1cz58YYY5ws36buPS/XHuH+J4LECBIjSIwgMYLECBIjSIwgMYLECBIjSIwgMYLECBIjSIwgMYLECBIjSMxO31O/ej+curf6PJi6N8YYL7f30ze34YTECBIjSIwgMYLECBIjSIwgMYLECBIjSIwgMYLECBIjSIwgMYLECBIjSMxOPxzA7zkhMYLECBIjSIwgMYLECBIjSIwgMYLECBIjSIwgMYLECBIjSIwgMYLECBIjSIwgMYLECBIjSIwgMd9gXB1KzWzGdgAAAABJRU5ErkJggg==\n",
      "text/plain": [
       "<Figure size 80x80 with 1 Axes>"
      ]
     },
     "metadata": {
      "needs_background": "light"
     },
     "output_type": "display_data"
    },
    {
     "data": {
      "image/png": "iVBORw0KGgoAAAANSUhEUgAAAGQAAABeCAYAAADVA7GfAAAABHNCSVQICAgIfAhkiAAAAAlwSFlzAAAMTQAADE0B0s6tTgAAADl0RVh0U29mdHdhcmUAbWF0cGxvdGxpYiB2ZXJzaW9uIDMuMC4zLCBodHRwOi8vbWF0cGxvdGxpYi5vcmcvnQurowAAAWFJREFUeJzt3bFJxVAYQOEbERSs3eBh4QRO4CaO4BA2ruEAlm5gr42IhZU4gmisrd8NnuL7+vsTOPxFSEKWdV0HHQf/fQH8JUiMIDGCxAgSI0iMIDGHm05/fZh6k3N+dzlz3BhjjOfrl7kDj3bLPsdtSIwgMYLECBIjSIwgMYLECBIjSIwgMYLECBIjSIwgMYLECBIjSIwgMZs+wn3bPU6d93F7NXXeGGOcHp9Nnfe5/ux13obECBIjSIwgMYLECBIjSIwgMYLECBIjSIwgMYLECBIjSIwgMYLECBIjSIwgMZu+5HDzdDF13v37ydR5Y4zx9T35O/U92ZAYQWIEiREkRpAYQWIEiREkRpAYQWIEiREkRpAYQWIEiREkRpAYQWIEiVn8g6rFhsQIEiNIjCAxgsQIEiNIjCAxgsQIEiNIjCAxgsQIEiNIjCAxgsQIEiNIjCAxgsQIEiNIjCAxgsT8AoYoGZkeZkIvAAAAAElFTkSuQmCC\n",
      "text/plain": [
       "<Figure size 80x80 with 1 Axes>"
      ]
     },
     "metadata": {
      "needs_background": "light"
     },
     "output_type": "display_data"
    },
    {
     "name": "stdout",
     "output_type": "stream",
     "text": [
      "Accuracy: 91.82%\n"
     ]
    },
    {
     "data": {
      "image/png": "iVBORw0KGgoAAAANSUhEUgAAAGQAAABeCAYAAADVA7GfAAAABHNCSVQICAgIfAhkiAAAAAlwSFlzAAAMTQAADE0B0s6tTgAAADl0RVh0U29mdHdhcmUAbWF0cGxvdGxpYiB2ZXJzaW9uIDMuMC4zLCBodHRwOi8vbWF0cGxvdGxpYi5vcmcvnQurowAAAVFJREFUeJzt3aFNwEAUgOFXgiNhDMbBsAGDIFgGgydhBTbAotAEXTRB9hp+8X2+L03+nLjcpd32fR86Lv77BfhNkBhBYgSJESRGkBhBYi7PHf+1dJNzdXO9ctzMzHy/L9+HbUcetkJiBIkRJEaQGEFiBIkRJEaQGEFiBIkRJEaQGEFiBIkRJEaQGEFiBIk59Qj3dXtcO/DuYe28mdm2Qyeufxy9mmuFxAgSI0iMIDGCxAgSI0iMIDGCxAgSI0iMIDGCxAgSI0iMIDGCxAgSI0iMIDGnXnJ4+bxfOu/p7WPpvJmZ2+fW98KskBhBYgSJESRGkBhBYgSJESRGkBhBYgSJESRGkBhBYgSJESRGkBhBYgSJ2fyDqsUKiREkRpAYQWIEiREkRpAYQWIEiREkRpAYQWIEiREkRpAYQWIEiREkRpAYQWIEiREkRpAYQWIEifkB+LoXGXW9Ns8AAAAASUVORK5CYII=\n",
      "text/plain": [
       "<Figure size 80x80 with 1 Axes>"
      ]
     },
     "metadata": {
      "needs_background": "light"
     },
     "output_type": "display_data"
    },
    {
     "name": "stdout",
     "output_type": "stream",
     "text": [
      "Accuracy: 99.27%\n"
     ]
    },
    {
     "data": {
      "image/png": "iVBORw0KGgoAAAANSUhEUgAAAGQAAABeCAYAAADVA7GfAAAABHNCSVQICAgIfAhkiAAAAAlwSFlzAAAMTQAADE0B0s6tTgAAADl0RVh0U29mdHdhcmUAbWF0cGxvdGxpYiB2ZXJzaW9uIDMuMC4zLCBodHRwOi8vbWF0cGxvdGxpYi5vcmcvnQurowAAAUlJREFUeJzt3bFNBDEQQNExOl1bVEEfXBNUQkgRENIIOSnJEhOfV7zgvwJGlr4cWLZ213EcE8fDfy8gfxUEUxBMQTAFwRQEUxDM5eT5Ww8567p2jpuZmeNn+znsrkW2QzAFwRQEUxBMQTAFwRQEUxBMQTAFwRQEUxBMQTAFwRQEUxBMQTAFwZx6hfu2nrfOuz6+bJ03M7PW3mvhe5/mtkMwBcEUBFMQTEEwBcEUBFMQTEEwBcEUBFMQTEEwBcEUBFMQTEEwBcEUBFMQzKmPHD6/b1vnvX58bZ03M/P0bn0vrB2CKQimIJiCYAqCKQimIJiCYAqCKQimIJiCYAqCKQimIJiCYAqCKQimIJjVP6gs7RBMQTAFwRQEUxBMQTAFwRQEUxBMQTAFwRQEUxBMQTAFwRQEUxBMQTAFwRQEUxBMQTAFwRQEUxDMLzuzFi0xacTxAAAAAElFTkSuQmCC\n",
      "text/plain": [
       "<Figure size 80x80 with 1 Axes>"
      ]
     },
     "metadata": {
      "needs_background": "light"
     },
     "output_type": "display_data"
    },
    {
     "name": "stdout",
     "output_type": "stream",
     "text": [
      "Accuracy: 99.55%\n"
     ]
    },
    {
     "data": {
      "image/png": "iVBORw0KGgoAAAANSUhEUgAAAGQAAABeCAYAAADVA7GfAAAABHNCSVQICAgIfAhkiAAAAAlwSFlzAAAMTQAADE0B0s6tTgAAADl0RVh0U29mdHdhcmUAbWF0cGxvdGxpYiB2ZXJzaW9uIDMuMC4zLCBodHRwOi8vbWF0cGxvdGxpYi5vcmcvnQurowAAAUlJREFUeJzt3LFJBUEUQNE3og2JiU2YWoahNdiJTdjND2zAeI0N5c/iRc4p4DFwmWB47K7jOIaOm78+AD8JEiNIjCAxgsQIEiNIzO3J87c+ctZaO8fNzMwJ77CrDumGxAgSI0iMIDGCxAgSI0iMIDGCxAgSI0iMIDGCxAgSI0iMIDGCxAgSc+oK9329bJ139/i2dd7M/rXwtSthNyRGkBhBYgSJESRGkBhBYgSJESRGkBhBYgSJESRGkBhBYgSJESRGkBhBYgSJWWf+L+v167J1+P3H585xMzPz/PSwe6Tv1P8TQWIEiREkRpAYQWIEiREkRpAYQWIEiREkRpAYQWIEiREkRpAYQWIEiTl1p87vuSExgsQIEiNIjCAxgsQIEiNIjCAxgsQIEiNIjCAxgsQIEiNIjCAxgsQIEiNIjCAxgsQIEiNIjCAx31GsGJTtTUKqAAAAAElFTkSuQmCC\n",
      "text/plain": [
       "<Figure size 80x80 with 1 Axes>"
      ]
     },
     "metadata": {
      "needs_background": "light"
     },
     "output_type": "display_data"
    },
    {
     "name": "stdout",
     "output_type": "stream",
     "text": [
      "Accuracy: 98.18%\n"
     ]
    },
    {
     "data": {
      "image/png": "iVBORw0KGgoAAAANSUhEUgAAAGQAAABeCAYAAADVA7GfAAAABHNCSVQICAgIfAhkiAAAAAlwSFlzAAAMTQAADE0B0s6tTgAAADl0RVh0U29mdHdhcmUAbWF0cGxvdGxpYiB2ZXJzaW9uIDMuMC4zLCBodHRwOi8vbWF0cGxvdGxpYi5vcmcvnQurowAAAUlJREFUeJzt3LFJBUEUQNE3ov0IBpZhahXG1mAhFmE/H+zAcI0N5c/iRc4p4DFwmWB47K7jOIaOm78+AD8JEiNIjCAxgsQIEiNIzO3J87c+ctZaO8fNzMwJ77CrDumGxAgSI0iMIDGCxAgSI0iMIDGCxAgSI0iMIDGCxAgSI0iMIDGCxAgSc+oK9329bJ139/i2dd7M/rXwtSthNyRGkBhBYgSJESRGkBhBYgSJESRGkBhBYgSJESRGkBhBYgSJESRGkBhBYgSJWWf+L+v167J1+P3H585xMzPz/PSwe6Tv1P8TQWIEiREkRpAYQWIEiREkRpAYQWIEiREkRpAYQWIEiREkRpAYQWIEiTl1p87vuSExgsQIEiNIjCAxgsQIEiNIjCAxgsQIEiNIjCAxgsQIEiNIjCAxgsQIEiNIjCAxgsQIEiNIjCAx37B0GJDOhM2sAAAAAElFTkSuQmCC\n",
      "text/plain": [
       "<Figure size 80x80 with 1 Axes>"
      ]
     },
     "metadata": {
      "needs_background": "light"
     },
     "output_type": "display_data"
    },
    {
     "name": "stdout",
     "output_type": "stream",
     "text": [
      "Accuracy: 99.09%\n"
     ]
    },
    {
     "data": {
      "image/png": "iVBORw0KGgoAAAANSUhEUgAAAGQAAABeCAYAAADVA7GfAAAABHNCSVQICAgIfAhkiAAAAAlwSFlzAAAMTQAADE0B0s6tTgAAADl0RVh0U29mdHdhcmUAbWF0cGxvdGxpYiB2ZXJzaW9uIDMuMC4zLCBodHRwOi8vbWF0cGxvdGxpYi5vcmcvnQurowAAARNJREFUeJzt3TEKw0AMAMEo+P9fVurU9pGFzPQ2B4sKI8PN7r7oeP/6AHwTJEaQGEFiBIkRJEaQmOvky2fm7z5ydnfuPG9CYgSJESRGkBhBYgSJESRGkBhBYgSJESRGkBhBYgSJESRGkBhBYgSJObrCfdqJ315nbm1cH2dCYgSJESRGkBhBYgSJESRGkBhBYgSJESRGkBhBYgSJESRGkBhBYgSJESRGkBhBYgSJESRGkBhBYgSJESRGkBhBYgSJESRGkBhBYgSJESRGkBhBYgSJESRGkJhxB1WLCYkRJEaQGEFiBIkRJEaQGEFiBIkRJEaQGEFiBIkRJEaQGEFiBIkRJEaQGEFiBIkRJEaQGEFiBIn5AKqBDbk9MSrwAAAAAElFTkSuQmCC\n",
      "text/plain": [
       "<Figure size 80x80 with 1 Axes>"
      ]
     },
     "metadata": {
      "needs_background": "light"
     },
     "output_type": "display_data"
    },
    {
     "name": "stdout",
     "output_type": "stream",
     "text": [
      "Accuracy: 94.00%\n",
      "Accuracy: 100.00%\n"
     ]
    },
    {
     "data": {
      "image/png": "iVBORw0KGgoAAAANSUhEUgAAAGQAAABeCAYAAADVA7GfAAAABHNCSVQICAgIfAhkiAAAAAlwSFlzAAAMTQAADE0B0s6tTgAAADl0RVh0U29mdHdhcmUAbWF0cGxvdGxpYiB2ZXJzaW9uIDMuMC4zLCBodHRwOi8vbWF0cGxvdGxpYi5vcmcvnQurowAAAWVJREFUeJzt3SFKRFEAhtE7osVkVRCToAy4BFcgRqvBBbkKQeyaLC5BsD4wuosxm+cOfuGcfn8GPm54vIG32mw2g469//4B/CVIjCAxgsQIEiNIjCAx+7scf3o/m/qQc3/wNXNujDHG58nD1L31+ctqm/NuSIwgMYLECBIjSIwgMYLECBIjSIwgMYLECBIjSIwgMYLECBIjSIwgMTt9hfvzejV17/D0eOreGGMsF29T99ZbnndDYgSJESRGkBhBYgSJESRGkBhBYgSJESRGkBhBYgSJESRGkBhBYgSJESRGkJid/slhWR6n7n3fHE3dG2OMy7vnqXu3H9dbnXdDYgSJESRGkBhBYgSJESRGkBhBYgSJESRGkBhBYgSJESRGkBhBYgSJESRm5RtULW5IjCAxgsQIEiNIjCAxgsQIEiNIjCAxgsQIEiNIjCAxgsQIEiNIjCAxgsQIEiNIjCAxgsQIEiNIzC+nvBaliCtTjAAAAABJRU5ErkJggg==\n",
      "text/plain": [
       "<Figure size 80x80 with 1 Axes>"
      ]
     },
     "metadata": {
      "needs_background": "light"
     },
     "output_type": "display_data"
    },
    {
     "data": {
      "image/png": "iVBORw0KGgoAAAANSUhEUgAAAGQAAABeCAYAAADVA7GfAAAABHNCSVQICAgIfAhkiAAAAAlwSFlzAAAMTQAADE0B0s6tTgAAADl0RVh0U29mdHdhcmUAbWF0cGxvdGxpYiB2ZXJzaW9uIDMuMC4zLCBodHRwOi8vbWF0cGxvdGxpYi5vcmcvnQurowAAAWJJREFUeJzt3CFKBGEAhuF/ZRHEM5gsBvsGr2DxKgaPYTRavIEIgsWTyBpNHsAyZqPsv/giz9PnY+DlD8Mws1qWZdBx8Nc3wE+CxAgSI0iMIDGCxAgSs97n+MPLydSHnJv1+8y5McYYr8dXU/fONo+rXa53QmIEiREkRpAYQWIEiREkRpAYQWIEiREkRpAYQWIEiREkRpAYQWIEidnrK9zP54upex/b+bd7dLedvrkLJyRGkBhBYgSJESRGkBhBYgSJESRGkBhBYgSJESRGkBhBYgSJESRGkBhBYgSJWe3zf1mXm7ep40/3pzPnxhhjHJ7fTt37Wq59p/6fCBIjSIwgMYLECBIjSIwgMYLECBIjSIwgMYLECBIjSIwgMYLECBIjSMxe36nze05IjCAxgsQIEiNIjCAxgsQIEiNIjCAxgsQIEiNIjCAxgsQIEiNIjCAxgsQIEiNIjCAxgsQIEiNIzDc/nBveaRMP1AAAAABJRU5ErkJggg==\n",
      "text/plain": [
       "<Figure size 80x80 with 1 Axes>"
      ]
     },
     "metadata": {
      "needs_background": "light"
     },
     "output_type": "display_data"
    },
    {
     "name": "stdout",
     "output_type": "stream",
     "text": [
      "Accuracy: 99.55%\n"
     ]
    },
    {
     "data": {
      "image/png": "iVBORw0KGgoAAAANSUhEUgAAAGQAAABeCAYAAADVA7GfAAAABHNCSVQICAgIfAhkiAAAAAlwSFlzAAAMTQAADE0B0s6tTgAAADl0RVh0U29mdHdhcmUAbWF0cGxvdGxpYiB2ZXJzaW9uIDMuMC4zLCBodHRwOi8vbWF0cGxvdGxpYi5vcmcvnQurowAAAWJJREFUeJzt3L1JBFEARtG3sl2IIBgY2YKCof2Ym9uFFRiIP6nYhhiZGdnAGAsmsm/wIufk87FwecHwmN0syzLo2PvrH8B3gsQIEiNIjCAxgsQIErNdc/zmaX/qS87V9n3m3BhjjIftxdS947P7zS7POyExgsQIEiNIjCAxgsQIEiNIjCAxgsQIEiNIjCAxgsQIEiNIjCAxgsSseoX7+Xg+de/tZafb0R8d3H5M39yFExIjSIwgMYLECBIjSIwgMYLECBIjSIwgMYLECBIjSIwgMYLECBIjSIwgMYLEbNb8v6zTk9ep4893RzPnxhhjbA6vp+4ty6Xv1P8TQWIEiREkRpAYQWIEiREkRpAYQWIEiREkRpAYQWIEiREkRpAYQWIEiVn1Tp3fc0JiBIkRJEaQGEFiBIkRJEaQGEFiBIkRJEaQGEFiBIkRJEaQGEFiBIkRJEaQGEFiBIkRJEaQGEFivgAyPRv+7pSX+gAAAABJRU5ErkJggg==\n",
      "text/plain": [
       "<Figure size 80x80 with 1 Axes>"
      ]
     },
     "metadata": {
      "needs_background": "light"
     },
     "output_type": "display_data"
    },
    {
     "name": "stdout",
     "output_type": "stream",
     "text": [
      "Accuracy: 99.91%\n"
     ]
    },
    {
     "data": {
      "image/png": "iVBORw0KGgoAAAANSUhEUgAAAGQAAABeCAYAAADVA7GfAAAABHNCSVQICAgIfAhkiAAAAAlwSFlzAAAMTQAADE0B0s6tTgAAADl0RVh0U29mdHdhcmUAbWF0cGxvdGxpYiB2ZXJzaW9uIDMuMC4zLCBodHRwOi8vbWF0cGxvdGxpYi5vcmcvnQurowAAAV9JREFUeJzt3LFJBEEAhtFZuS40UxBbMNTIhmzAzDKsQdBDY6vQ0FywgDUWTOTm8EPey/fn4GOCZdhb1nUddBz89Q/gO0FiBIkRJEaQGEFiBInZ7HP8bns49SXnZvM+c26MMcb9cjV17/TiYdnleSckRpAYQWIEiREkRpAYQWIEiREkRpAYQWIEiREkRpAYQWIEiREkRpCYvV7hfj5eTt17fdrpdvRHJ9uP6Zu7cEJiBIkRJEaQGEFiBIkRJEaQGEFiBIkRJEaQGEFiBIkRJEaQGEFiBIkRJEaQmGWf/5d1fvY2dfzl+Xjm3BhjjOXodureul77Tv0/ESRGkBhBYgSJESRGkBhBYgSJESRGkBhBYgSJESRGkBhBYgSJESRGkJi93qnze05IjCAxgsQIEiNIjCAxgsQIEiNIjCAxgsQIEiNIjCAxgsQIEiNIjCAxgsQIEiNIjCAxgsQIEiNIzBc9dxwIcwpwsAAAAABJRU5ErkJggg==\n",
      "text/plain": [
       "<Figure size 80x80 with 1 Axes>"
      ]
     },
     "metadata": {
      "needs_background": "light"
     },
     "output_type": "display_data"
    },
    {
     "name": "stdout",
     "output_type": "stream",
     "text": [
      "Accuracy: 100.00%\n"
     ]
    },
    {
     "data": {
      "image/png": "iVBORw0KGgoAAAANSUhEUgAAAGQAAABeCAYAAADVA7GfAAAABHNCSVQICAgIfAhkiAAAAAlwSFlzAAAMTQAADE0B0s6tTgAAADl0RVh0U29mdHdhcmUAbWF0cGxvdGxpYiB2ZXJzaW9uIDMuMC4zLCBodHRwOi8vbWF0cGxvdGxpYi5vcmcvnQurowAAAWBJREFUeJzt3LFJBEEAhtFZuS4uFNQSzDWxISswsgxbMPAEMbYHMbQBLWCNBRO5OfyQ9/L9OfiYYBn2lnVdBx1Hf/0D+E6QGEFiBIkRJEaQGEFiNoccv3vcTn3Judm8z5wbY4xxP66m7p1ePCz7PO+ExAgSI0iMIDGCxAgSI0iMIDGCxAgSI0iMIDGCxAgSI0iMIDGCxAgSc9Ar3M/d5dS9191et6M/Onn6mL65DyckRpAYQWIEiREkRpAYQWIEiREkRpAYQWIEiREkRpAYQWIEiREkRpAYQWIEiVkO+X9Z52dvU8dfno9nzo0xxli2t1P31vXad+r/iSAxgsQIEiNIjCAxgsQIEiNIjCAxgsQIEiNIjCAxgsQIEiNIjCAxgsQc9E6d33NCYgSJESRGkBhBYgSJESRGkBhBYgSJESRGkBhBYgSJESRGkBhBYgSJESRGkBhBYgSJESRGkBhBYr4A3AQcDMHOZ1cAAAAASUVORK5CYII=\n",
      "text/plain": [
       "<Figure size 80x80 with 1 Axes>"
      ]
     },
     "metadata": {
      "needs_background": "light"
     },
     "output_type": "display_data"
    },
    {
     "name": "stdout",
     "output_type": "stream",
     "text": [
      "Accuracy: 99.91%\n"
     ]
    },
    {
     "data": {
      "image/png": "iVBORw0KGgoAAAANSUhEUgAAAGQAAABeCAYAAADVA7GfAAAABHNCSVQICAgIfAhkiAAAAAlwSFlzAAAMTQAADE0B0s6tTgAAADl0RVh0U29mdHdhcmUAbWF0cGxvdGxpYiB2ZXJzaW9uIDMuMC4zLCBodHRwOi8vbWF0cGxvdGxpYi5vcmcvnQurowAAAWBJREFUeJzt3LFJBEEAhtE5uS4uFA5LMNfAiuzAxDJswcAz0NgaBEMb0ALWWDCRm8UPeS/fn4OPCZZhb7Msy6Dj5K9/AN8JEiNIjCAxgsQIEiNIzHbN8bvH3dSXnJvt+8y5McYY9+Nq6t7+4rA55nknJEaQGEFiBIkRJEaQGEFiBIkRJEaQGEFiBIkRJEaQGEFiBIkRJEaQmFWvcD8Pl1P3Xh+Ouh390f7pY/rmMZyQGEFiBIkRJEaQGEFiBIkRJEaQGEFiBIkRJEaQGEFiBIkRJEaQGEFiBIkRJGaz5v9lnZ+9TR1/eT6dOTfGGGOzu526tyzXvlP/TwSJESRGkBhBYgSJESRGkBhBYgSJESRGkBhBYgSJESRGkBhBYgSJESRm1Tt1fs8JiREkRpAYQWIEiREkRpAYQWIEiREkRpAYQWIEiREkRpAYQWIEiREkRpAYQWIEiREkRpAYQWIEifkCc74cC61ySK8AAAAASUVORK5CYII=\n",
      "text/plain": [
       "<Figure size 80x80 with 1 Axes>"
      ]
     },
     "metadata": {
      "needs_background": "light"
     },
     "output_type": "display_data"
    },
    {
     "name": "stdout",
     "output_type": "stream",
     "text": [
      "Accuracy: 100.00%\n"
     ]
    },
    {
     "data": {
      "image/png": "iVBORw0KGgoAAAANSUhEUgAAAGQAAABeCAYAAADVA7GfAAAABHNCSVQICAgIfAhkiAAAAAlwSFlzAAAMTQAADE0B0s6tTgAAADl0RVh0U29mdHdhcmUAbWF0cGxvdGxpYiB2ZXJzaW9uIDMuMC4zLCBodHRwOi8vbWF0cGxvdGxpYi5vcmcvnQurowAAAWdJREFUeJzt3SFOJFEUQNHXE4KYZQweQcKMJ2EphF0gcTgUAscCegHsgKTDOhAsANHo0f07XHGO/y+V3DxRqarUZr/fDx2/fvoC+J8gMYLECBIjSIwgMYLEnBxz+Ouf3dKbnIu355XjZmbm6vN86bzd2c3mkPM2JEaQGEFiBIkRJEaQGEFiBIkRJEaQGEFiBIkRJEaQGEFiBIkRJEaQmKM+wv2aj6Xzrn//XTpvZubpbrt24OPNQcdtSIwgMYLECBIjSIwgMYLECBIjSIwgMYLECBIjSIwgMYLECBIjSIwgMYLECBJz1JccXm7XfgN+/+996byZme3D6dJ5lweetyExgsQIEiNIjCAxgsQIEiNIjCAxgsQIEiNIjCAxgsQIEiNIjCAxgsQIErPxD6oWGxIjSIwgMYLECBIjSIwgMYLECBIjSIwgMYLECBIjSIwgMYLECBIjSIwgMYLECBIjSIwgMYLECBLzDWFjFylNsuIMAAAAAElFTkSuQmCC\n",
      "text/plain": [
       "<Figure size 80x80 with 1 Axes>"
      ]
     },
     "metadata": {
      "needs_background": "light"
     },
     "output_type": "display_data"
    },
    {
     "data": {
      "image/png": "iVBORw0KGgoAAAANSUhEUgAAAGQAAABeCAYAAADVA7GfAAAABHNCSVQICAgIfAhkiAAAAAlwSFlzAAAMTQAADE0B0s6tTgAAADl0RVh0U29mdHdhcmUAbWF0cGxvdGxpYiB2ZXJzaW9uIDMuMC4zLCBodHRwOi8vbWF0cGxvdGxpYi5vcmcvnQurowAAAWVJREFUeJzt3L1JBUEARtFZMTEWC1FBUIuwABNTQbAAq7AFOzA3N/KnAANTsYg1NhTn4UXOyffjwWWCZd/usq7roGPrr38A3wkSI0iMIDGCxAgSI0jM9ibHX5bXqTc5++vjzLkxxhiH9ztT957OLpbfXO+ExAgSI0iMIDGCxAgSI0iMIDGCxAgSI0iMIDGCxAgSI0iMIDGCxAgSs2zyr6Qny/XU8YOPq5lzY4wxjo8up+6dvz94hPufCBIjSIwgMYLECBIjSIwgMYLECBIjSIwgMYLECBIjSIwgMYLECBIjSIwgMRt9T/3m83bq3vPe3dS9McbYfTudvvkbTkiMIDGCxAgSI0iMIDGCxAgSI0iMIDGCxAgSI0iMIDGCxAgSI0iMIDGCxGz0wwH8nBMSI0iMIDGCxAgSI0iMIDGCxAgSI0iMIDGCxAgSI0iMIDGCxAgSI0iMIDGCxAgSI0iMIDGCxAgS8wX1MxtblUIRUwAAAABJRU5ErkJggg==\n",
      "text/plain": [
       "<Figure size 80x80 with 1 Axes>"
      ]
     },
     "metadata": {
      "needs_background": "light"
     },
     "output_type": "display_data"
    },
    {
     "name": "stdout",
     "output_type": "stream",
     "text": [
      "Accuracy: 93.27%\n"
     ]
    },
    {
     "data": {
      "image/png": "iVBORw0KGgoAAAANSUhEUgAAAGQAAABeCAYAAADVA7GfAAAABHNCSVQICAgIfAhkiAAAAAlwSFlzAAAMTQAADE0B0s6tTgAAADl0RVh0U29mdHdhcmUAbWF0cGxvdGxpYiB2ZXJzaW9uIDMuMC4zLCBodHRwOi8vbWF0cGxvdGxpYi5vcmcvnQurowAAAVpJREFUeJzt2rFJBUEYRtF/1S7MDMVAbEWrsQAN7MRiHgZiB2IJhmtsKM7Di5yT78fCZYNlZtv3feg4+esX4DtBYgSJESRGkBhBYgSJOTvm+Nt2WPqTc7l/rJybmZnrh8+ley/3d9tvnveFxAgSI0iMIDGCxAgSI0iMIDGCxAgSI0iMIDGCxAgSI0iMIDGCxAgSsx3zKum2XS0df35/XTk3MzOH85ule4/7wRHufyJIjCAxgsQIEiNIjCAxgsQIEiNIjCAxgsQIEiNIjCAxgsQIEiNIjCAxgsQc9ZLDzCwdv92eVs7NzMzzfrF073RuXXL4TwSJESRGkBhBYgSJESRGkBhBYgSJESRGkBhBYgSJESRGkBhBYgSJESTm2Gfq/JAvJEaQGEFiBIkRJEaQGEFiBIkRJEaQGEFiBIkRJEaQGEFiBIkRJEaQGEFiBIkRJEaQGEFiBIkRJOYL/dofr3o9Xk8AAAAASUVORK5CYII=\n",
      "text/plain": [
       "<Figure size 80x80 with 1 Axes>"
      ]
     },
     "metadata": {
      "needs_background": "light"
     },
     "output_type": "display_data"
    },
    {
     "name": "stdout",
     "output_type": "stream",
     "text": [
      "Accuracy: 100.00%\n"
     ]
    },
    {
     "data": {
      "image/png": "iVBORw0KGgoAAAANSUhEUgAAAGQAAABeCAYAAADVA7GfAAAABHNCSVQICAgIfAhkiAAAAAlwSFlzAAAMTQAADE0B0s6tTgAAADl0RVh0U29mdHdhcmUAbWF0cGxvdGxpYiB2ZXJzaW9uIDMuMC4zLCBodHRwOi8vbWF0cGxvdGxpYi5vcmcvnQurowAAAWJJREFUeJzt2rFJJlEYhtFvxBpMbMBAMDd1C7AbC9jICuzBGsQODAQDGzAx0wbGeEPZ++ODnJPPy8DDBMO9277vQ8fRT78A/xIkRpAYQWIEiREkRpCY40OOv25PS39yzvaPlXMzM3Nx87l07/n2evuf530hMYLECBIjSIwgMYLECBIjSIwgMYLECBIjSIwgMYLECBIjSIwgMYLEbIe8SrptJ0vHH9/eV87NzMz96fnSvbv9xRHubyJIjCAxgsQIEiNIjCAxgsQIEiNIjCAxgsQIEiNIjCAxgsQIEiNIjCAxgsQc9JLDzCwd/7P9XTk3MzMP++XixSuXHH4TQWIEiREkRpAYQWIEiREkRpAYQWIEiREkRpAYQWIEiREkRpAYQWIEiTn0mTrf5AuJESRGkBhBYgSJESRGkBhBYgSJESRGkBhBYgSJESRGkBhBYgSJESRGkBhBYgSJESRGkBhBYgSJ+QL0kh+vzZPbYQAAAABJRU5ErkJggg==\n",
      "text/plain": [
       "<Figure size 80x80 with 1 Axes>"
      ]
     },
     "metadata": {
      "needs_background": "light"
     },
     "output_type": "display_data"
    },
    {
     "name": "stdout",
     "output_type": "stream",
     "text": [
      "Accuracy: 99.82%\n"
     ]
    },
    {
     "data": {
      "image/png": "iVBORw0KGgoAAAANSUhEUgAAAGQAAABeCAYAAADVA7GfAAAABHNCSVQICAgIfAhkiAAAAAlwSFlzAAAMTQAADE0B0s6tTgAAADl0RVh0U29mdHdhcmUAbWF0cGxvdGxpYiB2ZXJzaW9uIDMuMC4zLCBodHRwOi8vbWF0cGxvdGxpYi5vcmcvnQurowAAAV9JREFUeJzt3LFJBUEUQNFZMbcACxATS7AEm7EBG7AB+ViMYGhiIhZgAYL5GBvKn8WLnJPvY+AywTKzu805Bx0nf70AfhIkRpAYQWIEiREkRpCY0z2Hv28vS19yLubXynFjjDGubj+Xznu9v9mOed4OiREkRpAYQWIEiREkRpAYQWIEiREkRpAYQWIEiREkRpAYQWIEiREkZtvzKum2nS0d/vyx9rh1jDEezy+XzjvMN0e4/4kgMYLECBIjSIwgMYLECBIjSIwgMYLECBIjSIwgMYLECBIjSIwgMYLECBKz63fqc669lHC93S2dN8YYT/Nh+cxj2CExgsQIEiNIjCAxgsQIEiNIjCAxgsQIEiNIjCAxgsQIEiNIjCAxgsQIErPrjwP4PTskRpAYQWIEiREkRpAYQWIEiREkRpAYQWIEiREkRpAYQWIEiREkRpAYQWIEiREkRpAYQWIEiREk5htkSB6+S2v2awAAAABJRU5ErkJggg==\n",
      "text/plain": [
       "<Figure size 80x80 with 1 Axes>"
      ]
     },
     "metadata": {
      "needs_background": "light"
     },
     "output_type": "display_data"
    },
    {
     "name": "stdout",
     "output_type": "stream",
     "text": [
      "Accuracy: 99.73%\n"
     ]
    },
    {
     "data": {
      "image/png": "iVBORw0KGgoAAAANSUhEUgAAAGQAAABeCAYAAADVA7GfAAAABHNCSVQICAgIfAhkiAAAAAlwSFlzAAAMTQAADE0B0s6tTgAAADl0RVh0U29mdHdhcmUAbWF0cGxvdGxpYiB2ZXJzaW9uIDMuMC4zLCBodHRwOi8vbWF0cGxvdGxpYi5vcmcvnQurowAAAV9JREFUeJzt3LFJBEEAhtFZMbUCC9DICqzBXqzAEswFrUYwMjHSAswFMR5jQ7lZ/JD38vtZ+Jjg2Lnb5pyDjqO/fgB+EiRGkBhBYgSJESRGkJjjPcfftuelX3LO5tfKuTHGGBfXH0v3Xm6vtkM+74TECBIjSIwgMYLECBIjSIwgMYLECBIjSIwgMYLECBIjSIwgMYLECBKz7XmVdNtOlo4/vX+unBtjjHF3er5072G+eoX7nwgSI0iMIDGCxAgSI0iMIDGCxAgSI0iMIDGCxAgSI0iMIDGCxAgSI0iMIDG7/k59zrWXEi63m6V7Y4zxOO+Xbx7CCYkRJEaQGEFiBIkRJEaQGEFiBIkRJEaQGEFiBIkRJEaQGEFiBIkRJEaQmF3/OIDfc0JiBIkRJEaQGEFiBIkRJEaQGEFiBIkRJEaQGEFiBIkRJEaQGEFiBIkRJEaQGEFiBIkRJEaQGEFivgF/mx7CB9QAzAAAAABJRU5ErkJggg==\n",
      "text/plain": [
       "<Figure size 80x80 with 1 Axes>"
      ]
     },
     "metadata": {
      "needs_background": "light"
     },
     "output_type": "display_data"
    },
    {
     "name": "stdout",
     "output_type": "stream",
     "text": [
      "Accuracy: 100.00%\n"
     ]
    },
    {
     "data": {
      "image/png": "iVBORw0KGgoAAAANSUhEUgAAAGQAAABeCAYAAADVA7GfAAAABHNCSVQICAgIfAhkiAAAAAlwSFlzAAAMTQAADE0B0s6tTgAAADl0RVh0U29mdHdhcmUAbWF0cGxvdGxpYiB2ZXJzaW9uIDMuMC4zLCBodHRwOi8vbWF0cGxvdGxpYi5vcmcvnQurowAAARpJREFUeJzt3DEKw0AMAMEo5P9fVurU9pEJ2eltDhYVRodndx9xPL99gHwqCKYgmIJgCoIpCKYgmNfJl8/M333k7O5ceb4JwRQEUxBMQTAFwRQEUxBMQTAFwRQEUxBMQTAFwRQEUxBMQTAFwRQEc3SFe7cT115nLm1cb9eEYAqCKQimIJiCYAqCKQimIJiCYAqCKQimIJiCYAqCKQimIJiCYAqCKQimIJifuuRwgva/sCYEUxBMQTAFwRQEUxBMQTAFwRQEUxBMQTAFwRQEUxBMQTAFwRQEUxBMQTCj7ZT/XROCKQimIJiCYAqCKQimIJiCYAqCKQimIJiCYAqCKQimIJiCYAqCKQimIJiCYAqCKQimIJiCYAqCeQOV9BC4gEbl9gAAAABJRU5ErkJggg==\n",
      "text/plain": [
       "<Figure size 80x80 with 1 Axes>"
      ]
     },
     "metadata": {
      "needs_background": "light"
     },
     "output_type": "display_data"
    },
    {
     "name": "stdout",
     "output_type": "stream",
     "text": [
      "Accuracy: 94.82%\n",
      "Accuracy: 100.00%\n"
     ]
    },
    {
     "data": {
      "image/png": "iVBORw0KGgoAAAANSUhEUgAAAGQAAABeCAYAAADVA7GfAAAABHNCSVQICAgIfAhkiAAAAAlwSFlzAAAMTQAADE0B0s6tTgAAADl0RVh0U29mdHdhcmUAbWF0cGxvdGxpYiB2ZXJzaW9uIDMuMC4zLCBodHRwOi8vbWF0cGxvdGxpYi5vcmcvnQurowAAAWNJREFUeJzt3TFKA0EAhtGJBCSHECwEL2CZOrUXsQ2CFha5gI2lpfcQvIOnEL3BWltngl/xXj8/gY8plg3salmWQcfZf/8A/hIkRpAYQWIEiREkRpCY9SnHbx4/pz7kvG7fZs6NMca4+/iauvd+eFkdc94NiREkRpAYQWIEiREkRpAYQWIEiREkRpAYQWIEiREkRpAYQWIEiREk5qSvcPebn6l7V7vzqXtjjPF9v5s7eDjuuBsSI0iMIDGCxAgSI0iMIDGCxAgSI0iMIDGCxAgSI0iMIDGCxAgSI0iMIDGCxJz0Tw7XF9upe5eb56l7Y4yxfniavHh71Gk3JEaQGEFiBIkRJEaQGEFiBIkRJEaQGEFiBIkRJEaQGEFiBIkRJEaQGEFiVr5B1eKGxAgSI0iMIDGCxAgSI0iMIDGCxAgSI0iMIDGCxAgSI0iMIDGCxAgSI0iMIDGCxAgSI0iMIDGCxPwCYbsVVQZ3XzMAAAAASUVORK5CYII=\n",
      "text/plain": [
       "<Figure size 80x80 with 1 Axes>"
      ]
     },
     "metadata": {
      "needs_background": "light"
     },
     "output_type": "display_data"
    },
    {
     "data": {
      "image/png": "iVBORw0KGgoAAAANSUhEUgAAAGQAAABeCAYAAADVA7GfAAAABHNCSVQICAgIfAhkiAAAAAlwSFlzAAAMTQAADE0B0s6tTgAAADl0RVh0U29mdHdhcmUAbWF0cGxvdGxpYiB2ZXJzaW9uIDMuMC4zLCBodHRwOi8vbWF0cGxvdGxpYi5vcmcvnQurowAAAWNJREFUeJzt3DFKxFAARdEfsXEVIojLcCNOIS7BUnAT2llMObWd67AVsXcFlmNtKfODFzmnz2Pg8ouQSZb9fj/oOPrrH8BPgsQIEiNIjCAxgsQIEnO85vjp1dvUm5y7s4eZc2OMMZ4/lql7L7vHgwadkBhBYgSJESRGkBhBYgSJESRGkBhBYgSJESRGkBhBYgSJESRGkBhBYpY1/0p6c76dOr59v545N8YY42TZTd372m88wv1PBIkRJEaQGEFiBIkRJEaQGEFiBIkRJEaQGEFiBIkRJEaQGEFiBIkRJEaQmFXfU3+6v526tyyfU/fGGOPi8nXy4uagq52QGEFiBIkRJEaQGEFiBIkRJEaQGEFiBIkRJEaQGEFiBIkRJEaQGEFiBIlZ9cMB/J4TEiNIjCAxgsQIEiNIjCAxgsQIEiNIjCAxgsQIEiNIjCAxgsQIEiNIjCAxgsQIEiNIjCAxgsQIEvMNWmMbugvAh3MAAAAASUVORK5CYII=\n",
      "text/plain": [
       "<Figure size 80x80 with 1 Axes>"
      ]
     },
     "metadata": {
      "needs_background": "light"
     },
     "output_type": "display_data"
    },
    {
     "name": "stdout",
     "output_type": "stream",
     "text": [
      "Accuracy: 96.82%\n"
     ]
    },
    {
     "data": {
      "image/png": "iVBORw0KGgoAAAANSUhEUgAAAGQAAABeCAYAAADVA7GfAAAABHNCSVQICAgIfAhkiAAAAAlwSFlzAAAMTQAADE0B0s6tTgAAADl0RVh0U29mdHdhcmUAbWF0cGxvdGxpYiB2ZXJzaW9uIDMuMC4zLCBodHRwOi8vbWF0cGxvdGxpYi5vcmcvnQurowAAAVpJREFUeJzt3aFNxlAARtH3CAYPnoQFGIURmIQFCAqDRWFAwBTsgGABLAZTNPp/DVec4/ulyc0TTZt0bts26Dj67xvgL0FiBIkRJEaQGEFiBIk53nP87Opj6UPO9cnNyrkxxhif36dL957f7uch1zshMYLECBIjSIwgMYLECBIjSIwgMYLECBIjSIwgMYLECBIjSIwgMYLE7PoK9+L1Zene7fa0dG+MMeZ8WL55CCckRpAYQWIEiREkRpAYQWIEiREkRpAYQWIEiREkRpAYQWIEiREkRpAYQWIEidn1I4f3x7ule3P+LN0bY4zL86/lm4dwQmIEiREkRpAYQWIEiREkRpAYQWIEiREkRpAYQWIEiREkRpAYQWIEiREkZvoHVYsTEiNIjCAxgsQIEiNIjCAxgsQIEiNIjCAxgsQIEiNIjCAxgsQIEiNIjCAxgsQIEiNIjCAxgsQIEvML+EEWNVRbLXQAAAAASUVORK5CYII=\n",
      "text/plain": [
       "<Figure size 80x80 with 1 Axes>"
      ]
     },
     "metadata": {
      "needs_background": "light"
     },
     "output_type": "display_data"
    },
    {
     "name": "stdout",
     "output_type": "stream",
     "text": [
      "Accuracy: 99.91%\n"
     ]
    },
    {
     "data": {
      "image/png": "iVBORw0KGgoAAAANSUhEUgAAAGQAAABeCAYAAADVA7GfAAAABHNCSVQICAgIfAhkiAAAAAlwSFlzAAAMTQAADE0B0s6tTgAAADl0RVh0U29mdHdhcmUAbWF0cGxvdGxpYiB2ZXJzaW9uIDMuMC4zLCBodHRwOi8vbWF0cGxvdGxpYi5vcmcvnQurowAAAV1JREFUeJzt3LFJBEEAhtGZwwpMBFswtA1zm7AAIwNbUAswtAE7ucgejAyFNTYUZ/FD3svvZ+FjgmPnbm7bNug4/PUD8J0gMYLECBIjSIwgMYLEnOw5fnr1tvRLzvXhduXcGGOM98/zpXsvrw/zN593QmIEiREkRpAYQWIEiREkRpAYQWIEiREkRpAYQWIEiREkRpAYQWIEiZl7XiW9mPdLx4/b3cq5McYYcz4u3du2G69w/xNBYgSJESRGkBhBYgSJESRGkBhBYgSJESRGkBhBYgSJESRGkBhBYgSJESRm19+pH5+flu7Nuf5CxuXZx/LN33BCYgSJESRGkBhBYgSJESRGkBhBYgSJESRGkBhBYgSJESRGkBhBYgSJESRm1z8O4OeckBhBYgSJESRGkBhBYgSJESRGkBhBYgSJESRGkBhBYgSJESRGkBhBYgSJESRGkBhBYgSJESRGkJgvnXAb/2rofd0AAAAASUVORK5CYII=\n",
      "text/plain": [
       "<Figure size 80x80 with 1 Axes>"
      ]
     },
     "metadata": {
      "needs_background": "light"
     },
     "output_type": "display_data"
    },
    {
     "name": "stdout",
     "output_type": "stream",
     "text": [
      "Accuracy: 100.00%\n"
     ]
    },
    {
     "data": {
      "image/png": "iVBORw0KGgoAAAANSUhEUgAAAGQAAABeCAYAAADVA7GfAAAABHNCSVQICAgIfAhkiAAAAAlwSFlzAAAMTQAADE0B0s6tTgAAADl0RVh0U29mdHdhcmUAbWF0cGxvdGxpYiB2ZXJzaW9uIDMuMC4zLCBodHRwOi8vbWF0cGxvdGxpYi5vcmcvnQurowAAAV5JREFUeJzt3LFJREEARdEZsQHB1NQKLMPMPozMxRY0MjWxBWtZbEMw2m8smMjO4kXOyffx4TLB8md3bts26Dj56wfgO0FiBIkRJEaQGEFiBIk5Peb42fX70i85N/u7lXNjjDE+9hdL917fnuYhn3dCYgSJESRGkBhBYgSJESRGkBhBYgSJESRGkBhBYgSJESRGkBhBYgSJmce8Sno575eO77aHlXNjjDHmfFy6t223XuH+J4LECBIjSIwgMYLECBIjSIwgMYLECBIjSIwgMYLECBIjSIwgMYLECBIjSMxRf6e+e3leujfnQfcHfnR1/rl88xBOSIwgMYLECBIjSIwgMYLECBIjSIwgMYLECBIjSIwgMYLECBIjSIwgMYLEHPWPA/g9JyRGkBhBYgSJESRGkBhBYgSJESRGkBhBYgSJESRGkBhBYgSJESRGkBhBYgSJESRGkBhBYgSJESTmCy0BHA2y4aTbAAAAAElFTkSuQmCC\n",
      "text/plain": [
       "<Figure size 80x80 with 1 Axes>"
      ]
     },
     "metadata": {
      "needs_background": "light"
     },
     "output_type": "display_data"
    },
    {
     "name": "stdout",
     "output_type": "stream",
     "text": [
      "Accuracy: 99.91%\n"
     ]
    },
    {
     "data": {
      "image/png": "iVBORw0KGgoAAAANSUhEUgAAAGQAAABeCAYAAADVA7GfAAAABHNCSVQICAgIfAhkiAAAAAlwSFlzAAAMTQAADE0B0s6tTgAAADl0RVh0U29mdHdhcmUAbWF0cGxvdGxpYiB2ZXJzaW9uIDMuMC4zLCBodHRwOi8vbWF0cGxvdGxpYi5vcmcvnQurowAAAVtJREFUeJzt3LFJBEEAhtEZsQExN7IFuzCxERNzA0s4M0MTW7CY60MEYY0N5WbxQ97L9+fguwmWvb25bdug4+yvPwA/CRIjSIwgMYLECBIjSMz5nuMXt8elNzl3Xw8r58YYY3yMq6V7b+/P85TrnZAYQWIEiREkRpAYQWIEiREkRpAYQWIEiREkRpAYQWIEiREkRpAYQWLmnj8lvZ6PS8eP29PKuTHGGHMelu5t271HuP+JIDGCxAgSI0iMIDGCxAgSI0iMIDGCxAgSI0iMIDGCxAgSI0iMIDGCxAgSs+t76sfXl6V7c67//txcfi7fPIUTEiNIjCAxgsQIEiNIjCAxgsQIEiNIjCAxgsQIEiNIjCAxgsQIEiNIjCAxu/5xAL/nhMQIEiNIjCAxgsQIEiNIjCAxgsQIEiNIjCAxgsQIEiNIjCAxgsQIEiNIjCAxgsQIEiNIjCAxgsR8A9QeGxK3W/MWAAAAAElFTkSuQmCC\n",
      "text/plain": [
       "<Figure size 80x80 with 1 Axes>"
      ]
     },
     "metadata": {
      "needs_background": "light"
     },
     "output_type": "display_data"
    },
    {
     "name": "stdout",
     "output_type": "stream",
     "text": [
      "Accuracy: 98.82%\n"
     ]
    },
    {
     "data": {
      "image/png": "iVBORw0KGgoAAAANSUhEUgAAAGQAAABeCAYAAADVA7GfAAAABHNCSVQICAgIfAhkiAAAAAlwSFlzAAAMTQAADE0B0s6tTgAAADl0RVh0U29mdHdhcmUAbWF0cGxvdGxpYiB2ZXJzaW9uIDMuMC4zLCBodHRwOi8vbWF0cGxvdGxpYi5vcmcvnQurowAAAWNJREFUeJzt3SFKBVEAhtE74gKMFosbsJrNBtdgtLoDQbHbbBYRs+AGLDaju9ANyDOb3x38wjl9fgY+bhhmYJbNZjPo2PnvG+AvQWIEiREkRpAYQWIEidldc/zg7GbqQ87J3dvMuTHGGJ/PF1P33i9Pl22ud0JiBIkRJEaQGEFiBIkRJEaQGEFiBIkRJEaQGEFiBIkRJEaQGEFiBIlZ9RXu68f11L3j+5epe2OM8fO9N31zG05IjCAxgsQIEiNIjCAxgsQIEiNIjCAxgsQIEiNIjCAxgsQIEiNIjCAxgsQIErPqRw6PV09T974O96fujTHG+dHt5MWHra52QmIEiREkRpAYQWIEiREkRpAYQWIEiREkRpAYQWIEiREkRpAYQWIEiREkZvEPqhYnJEaQGEFiBIkRJEaQGEFiBIkRJEaQGEFiBIkRJEaQGEFiBIkRJEaQGEFiBIkRJEaQGEFiBIkRJOYXIs8X/SN3Tw4AAAAASUVORK5CYII=\n",
      "text/plain": [
       "<Figure size 80x80 with 1 Axes>"
      ]
     },
     "metadata": {
      "needs_background": "light"
     },
     "output_type": "display_data"
    },
    {
     "data": {
      "image/png": "iVBORw0KGgoAAAANSUhEUgAAAGQAAABeCAYAAADVA7GfAAAABHNCSVQICAgIfAhkiAAAAAlwSFlzAAAMTQAADE0B0s6tTgAAADl0RVh0U29mdHdhcmUAbWF0cGxvdGxpYiB2ZXJzaW9uIDMuMC4zLCBodHRwOi8vbWF0cGxvdGxpYi5vcmcvnQurowAAAWNJREFUeJzt3CFKRFEAhtE7MkFsGuyuQauuwG6dXYjFRZhNYjEKLkhs7sAiz2AyytzBDzmn35+BjxuG92ZWy7IMOvb++gPwkyAxgsQIEiNIjCAxgsSsdzm+2r+d+iXn8eN05twYY4yby6Ope28v56ttzrshMYLECBIjSIwgMYLECBIjSIwgMYLECBIjSIwgMYLECBIjSIwgMYLErHb5Kunr+nDq+Mnn88y5b8dnU+eW9wOPcP8TQWIEiREkRpAYQWIEiREkRpAYQWIEiREkRpAYQWIEiREkRpAYQWIEiREkZqe/U7/e3E3dW+4vpu6NMcbm4Wry4tNWp92QGEFiBIkRJEaQGEFiBIkRJEaQGEFiBIkRJEaQGEFiBIkRJEaQGEFiBInZ6R8H8HtuSIwgMYLECBIjSIwgMYLECBIjSIwgMYLECBIjSIwgMYLECBIjSIwgMYLECBIjSIwgMYLECBIjSMwXER0a+Y6XhroAAAAASUVORK5CYII=\n",
      "text/plain": [
       "<Figure size 80x80 with 1 Axes>"
      ]
     },
     "metadata": {
      "needs_background": "light"
     },
     "output_type": "display_data"
    },
    {
     "name": "stdout",
     "output_type": "stream",
     "text": [
      "Accuracy: 99.55%\n"
     ]
    },
    {
     "data": {
      "image/png": "iVBORw0KGgoAAAANSUhEUgAAAGQAAABeCAYAAADVA7GfAAAABHNCSVQICAgIfAhkiAAAAAlwSFlzAAAMTQAADE0B0s6tTgAAADl0RVh0U29mdHdhcmUAbWF0cGxvdGxpYiB2ZXJzaW9uIDMuMC4zLCBodHRwOi8vbWF0cGxvdGxpYi5vcmcvnQurowAAAV9JREFUeJzt3CFKBVEAhtE74hZMrsFuMxgtdsHoHgSruzG4AKsrcA+CySVci8Uo7w5+yDl9fh583DDMvNnmnIOOo7/+AfwkSIwgMYLECBIjSIwgMcd7jm/b/dKbnNd5t3JujDHG1dnH0r3Pt/PtkOudkBhBYgSJESRGkBhBYgSJESRGkBhBYgSJESRGkBhBYgSJESRGkBhBYrY9XyV9306Wjp+Op5Vz3y6Wrs05PML9TwSJESRGkBhBYgSJESRGkBhBYgSJESRGkBhBYgSJESRGkBhBYgSJESRGkJhd/6d+c/m4dG++rH0hYYwxbh+uFy8+H3S1ExIjSIwgMYLECBIjSIwgMYLECBIjSIwgMYLECBIjSIwgMYLECBIjSIwgMbt+OIDfc0JiBIkRJEaQGEFiBIkRJEaQGEFiBIkRJEaQGEFiBIkRJEaQGEFiBIkRJEaQGEFiBIkRJEaQGEFivgAEyxqsBg1EkQAAAABJRU5ErkJggg==\n",
      "text/plain": [
       "<Figure size 80x80 with 1 Axes>"
      ]
     },
     "metadata": {
      "needs_background": "light"
     },
     "output_type": "display_data"
    },
    {
     "name": "stdout",
     "output_type": "stream",
     "text": [
      "Accuracy: 99.27%\n"
     ]
    },
    {
     "data": {
      "image/png": "iVBORw0KGgoAAAANSUhEUgAAAGQAAABeCAYAAADVA7GfAAAABHNCSVQICAgIfAhkiAAAAAlwSFlzAAAMTQAADE0B0s6tTgAAADl0RVh0U29mdHdhcmUAbWF0cGxvdGxpYiB2ZXJzaW9uIDMuMC4zLCBodHRwOi8vbWF0cGxvdGxpYi5vcmcvnQurowAAAV1JREFUeJzt3LFJBEEAhtFZsQcxtggRk6tAsAFbMNTQdkwtwtxUMDe3gDExMRRn8UPey+fn4GOCY/dum3MOOo7++gPwnSAxgsQIEiNIjCAxgsQc7zm+bfdLv+S8zLuVc2OMMS7PXpfufbydb78574bECBIjSIwgMYLECBIjSIwgMYLECBIjSIwgMYLECBIjSIwgMYLECBKz7fkq6ft2snT8dDyunPtyWLo25/AI9z8RJEaQGEFiBIkRJEaQGEFiBIkRJEaQGEFiBIkRJEaQGEFiBIkRJEaQGEFidv2d+vXFw9K9+XxYujfGGDe3V4sXn3512g2JESRGkBhBYgSJESRGkBhBYgSJESRGkBhBYgSJESRGkBhBYgSJESRGkJhd/ziAn3NDYgSJESRGkBhBYgSJESRGkBhBYgSJESRGkBhBYgSJESRGkBhBYgSJESRGkBhBYgSJESRGkBhBYj4Bfr0akWzRUQcAAAAASUVORK5CYII=\n",
      "text/plain": [
       "<Figure size 80x80 with 1 Axes>"
      ]
     },
     "metadata": {
      "needs_background": "light"
     },
     "output_type": "display_data"
    },
    {
     "name": "stdout",
     "output_type": "stream",
     "text": [
      "Accuracy: 99.82%\n"
     ]
    },
    {
     "data": {
      "image/png": "iVBORw0KGgoAAAANSUhEUgAAAGQAAABeCAYAAADVA7GfAAAABHNCSVQICAgIfAhkiAAAAAlwSFlzAAAMTQAADE0B0s6tTgAAADl0RVh0U29mdHdhcmUAbWF0cGxvdGxpYiB2ZXJzaW9uIDMuMC4zLCBodHRwOi8vbWF0cGxvdGxpYi5vcmcvnQurowAAAV1JREFUeJzt3LFJBUEARdFZsQcxsgo1tgDtwAZswESwHXO7MBZzMxswHhMTQ/mzeJFz8n18uEyw7P7d5pyDjqO//gH8JEiMIDGCxAgSI0iMIDHHe45v2/3Sm5zX+bBybowxxsXZ29K9z/fL7ZDrnZAYQWIEiREkRpAYQWIEiREkRpAYQWIEiREkRpAYQWIEiREkRpAYQWK2PV8l/dhOlo6fjqeVc9+ulq7NOTzC/U8EiREkRpAYQWIEiREkRpAYQWIEiREkRpAYQWIEiREkRpAYQWIEiREkRpCYXf+nfnP+uHRvvqx9IWGMMW7vrhcvPh90tRMSI0iMIDGCxAgSI0iMIDGCxAgSI0iMIDGCxAgSI0iMIDGCxAgSI0iMIDG7fjiA33NCYgSJESRGkBhBYgSJESRGkBhBYgSJESRGkBhBYgSJESRGkBhBYgSJESRGkBhBYgSJESRGkBhBYr4A+xwaiGWhAsIAAAAASUVORK5CYII=\n",
      "text/plain": [
       "<Figure size 80x80 with 1 Axes>"
      ]
     },
     "metadata": {
      "needs_background": "light"
     },
     "output_type": "display_data"
    },
    {
     "name": "stdout",
     "output_type": "stream",
     "text": [
      "Accuracy: 100.00%\n"
     ]
    },
    {
     "data": {
      "image/png": "iVBORw0KGgoAAAANSUhEUgAAAGQAAABeCAYAAADVA7GfAAAABHNCSVQICAgIfAhkiAAAAAlwSFlzAAAMTQAADE0B0s6tTgAAADl0RVh0U29mdHdhcmUAbWF0cGxvdGxpYiB2ZXJzaW9uIDMuMC4zLCBodHRwOi8vbWF0cGxvdGxpYi5vcmcvnQurowAAAVxJREFUeJzt3LFNxDAYgFEHMcRVTHESNT2MwABMQMc6NwBj0CIGoGMAatPQUKJzxCf0Xu9fkT65iGJnm3MOOi7++gH4SZAYQWIEiREkRpAYQWIu9xy+bY9LX3Le5tPKcWOMMY5Xr0vnfb5fb+est0NiBIkRJEaQGEFiBIkRJEaQGEFiBIkRJEaQGEFiBIkRJEaQGEFiBInZ9jxK+rEdlg4/jNPKcd9ulk6bc/iE+58IEiNIjCAxgsQIEiNIjCAxgsQIEiNIjCAxgsQIEiNIjCAxgsQIEiNIjCAxu95Tvz2uvVc+X9YeSBhjjPuHu8UTn89abYfECBIjSIwgMYLECBIjSIwgMYLECBIjSIwgMYLECBIjSIwgMYLECBIjSMyuPw7g9+yQGEFiBIkRJEaQGEFiBIkRJEaQGEFiBIkRJEaQGEFiBIkRJEaQGEFiBIkRJEaQGEFiBIkRJEaQmC/eQBqEprdsFAAAAABJRU5ErkJggg==\n",
      "text/plain": [
       "<Figure size 80x80 with 1 Axes>"
      ]
     },
     "metadata": {
      "needs_background": "light"
     },
     "output_type": "display_data"
    },
    {
     "name": "stdout",
     "output_type": "stream",
     "text": [
      "Accuracy: 100.00%\n"
     ]
    },
    {
     "data": {
      "image/png": "iVBORw0KGgoAAAANSUhEUgAAAGQAAABeCAYAAADVA7GfAAAABHNCSVQICAgIfAhkiAAAAAlwSFlzAAAMTQAADE0B0s6tTgAAADl0RVh0U29mdHdhcmUAbWF0cGxvdGxpYiB2ZXJzaW9uIDMuMC4zLCBodHRwOi8vbWF0cGxvdGxpYi5vcmcvnQurowAAAR5JREFUeJzt3DEKw0AMAMEo5P9fVurU9pEB7/Q2B4sKc8Kzu6843v8+QH4VBFMQTEEwBcEUBFMQzOfky2fmcR85uztXnm9CMAXBFARTEExBMAXBFARTEExBMAXBFARTEExBMAXBFARTEExBMAXBHL3CvduJtdeZSzeut2tCMAXBFARTEExBMAXBFARTEExBMAXBFARTEExBMAXBFARTEExBMAXBFARTEMzRJYe7lxJOLCRo/wtrQjAFwRQEUxBMQTAFwRQEUxBMQTAFwRQEUxBMQTAFwRQEUxBMQTAFwRQEM9qd8tM1IZiCYAqCKQimIJiCYAqCKQimIJiCYAqCKQimIJiCYAqCKQimIJiCYAqCKQimIJiCYAqCKQimIJgvsZ0TuF5CuFkAAAAASUVORK5CYII=\n",
      "text/plain": [
       "<Figure size 80x80 with 1 Axes>"
      ]
     },
     "metadata": {
      "needs_background": "light"
     },
     "output_type": "display_data"
    },
    {
     "name": "stdout",
     "output_type": "stream",
     "text": [
      "Accuracy: 94.09%\n",
      "Accuracy: 99.82%\n"
     ]
    },
    {
     "data": {
      "image/png": "iVBORw0KGgoAAAANSUhEUgAAAGQAAABeCAYAAADVA7GfAAAABHNCSVQICAgIfAhkiAAAAAlwSFlzAAAMTQAADE0B0s6tTgAAADl0RVh0U29mdHdhcmUAbWF0cGxvdGxpYiB2ZXJzaW9uIDMuMC4zLCBodHRwOi8vbWF0cGxvdGxpYi5vcmcvnQurowAAAWdJREFUeJzt3KFKBFEAhtG7ss2yJps2g9FstonZZBW2CT6CYcFs9g3M4iv4Dj7Kmo2yd/FDzunzM/BxwzDMLLbb7aDj4K9vgJ8EiREkRpAYQWIEiREkZrnP8buXm6kPOWcX1zPnxhhjrN5Opu6tN1eLXa53QmIEiREkRpAYQWIEiREkRpAYQWIEiREkRpAYQWIEiREkRpAYQWIEidnrK9yjh8epe7f371P3xhjj8up06t56x+udkBhBYgSJESRGkBhBYgSJESRGkBhBYgSJESRGkBhBYgSJESRGkBhBYgSJESRmsc//ZX1tllPHn14/Zs6NMcZ4Pjyfurf6PPad+n8iSIwgMYLECBIjSIwgMYLECBIjSIwgMYLECBIjSIwgMYLECBIjSIwgMXt9p87vOSExgsQIEiNIjCAxgsQIEiNIjCAxgsQIEiNIjCAxgsQIEiNIjCAxgsQIEiNIjCAxgsQIEiNIjCAx329LGDMcpu6RAAAAAElFTkSuQmCC\n",
      "text/plain": [
       "<Figure size 80x80 with 1 Axes>"
      ]
     },
     "metadata": {
      "needs_background": "light"
     },
     "output_type": "display_data"
    },
    {
     "data": {
      "image/png": "iVBORw0KGgoAAAANSUhEUgAAAGQAAABeCAYAAADVA7GfAAAABHNCSVQICAgIfAhkiAAAAAlwSFlzAAAMTQAADE0B0s6tTgAAADl0RVh0U29mdHdhcmUAbWF0cGxvdGxpYiB2ZXJzaW9uIDMuMC4zLCBodHRwOi8vbWF0cGxvdGxpYi5vcmcvnQurowAAAWBJREFUeJzt3KFNBEEAhtEZgqIBNAaFoQAcFkMRJDSAQyPIdYHAISmDQEOLRpKbC1/Ie37/XPJlxGZvd27bNug4+usfwE+CxAgSI0iMIDGCxAgSc3zI8fvXu6U3OfPkYuXcGGOM28+bpXvXj2dzn+udkBhBYgSJESRGkBhBYgSJESRGkBhBYgSJESRGkBhBYgSJESRGkBhBYuYh/0o659PS8e39auXcGGOM+fC2dG/72nmE+58IEiNIjCAxgsQIEiNIjCAxgsQIEiNIjCAxgsQIEiNIjCAxgsQIEiNIjCAxB31Pfft4Wbp3fnm6dG+MMbbn3fLNfTghMYLECBIjSIwgMYLECBIjSIwgMYLECBIjSIwgMYLECBIjSIwgMYLECBJz0A8H8HtOSIwgMYLECBIjSIwgMYLECBIjSIwgMYLECBIjSIwgMYLECBIjSIwgMYLECBIjSIwgMYLECBIjSMw3VuIarIczrnwAAAAASUVORK5CYII=\n",
      "text/plain": [
       "<Figure size 80x80 with 1 Axes>"
      ]
     },
     "metadata": {
      "needs_background": "light"
     },
     "output_type": "display_data"
    },
    {
     "name": "stdout",
     "output_type": "stream",
     "text": [
      "Accuracy: 97.64%\n"
     ]
    },
    {
     "data": {
      "image/png": "iVBORw0KGgoAAAANSUhEUgAAAGQAAABeCAYAAADVA7GfAAAABHNCSVQICAgIfAhkiAAAAAlwSFlzAAAMTQAADE0B0s6tTgAAADl0RVh0U29mdHdhcmUAbWF0cGxvdGxpYiB2ZXJzaW9uIDMuMC4zLCBodHRwOi8vbWF0cGxvdGxpYi5vcmcvnQurowAAAV1JREFUeJzt3CFKRUEAhtG5os1is7sC92QSmxiM7sUuD9yMweICTGIds1Gcix9yTn8/Fz4mPOa+t805Bx1Hf/0AfCdIjCAxgsQIEiNIjCAxx3uO3zzdLv2S8/55vnJujDHG3dvV0r3L+7PtN593QmIEiREkRpAYQWIEiREkRpAYQWIEiREkRpAYQWIEiREkRpAYQWIEidn2fJV0266Xjs/Xh5VzY4wxtou1V7hzHlzh/ieCxAgSI0iMIDGCxAgSI0iMIDGCxAgSI0iMIDGCxAgSI0iMIDGCxAgSI0jMrr9Tnx8vS/dOTh+X7o0xxnw+LN/8DSckRpAYQWIEiREkRpAYQWIEiREkRpAYQWIEiREkRpAYQWIEiREkRpAYQWJ2/eMAfs4JiREkRpAYQWIEiREkRpAYQWIEiREkRpAYQWIEiREkRpAYQWIEiREkRpAYQWIEiREkRpAYQWIEifkC1v0dmpEf5bkAAAAASUVORK5CYII=\n",
      "text/plain": [
       "<Figure size 80x80 with 1 Axes>"
      ]
     },
     "metadata": {
      "needs_background": "light"
     },
     "output_type": "display_data"
    },
    {
     "name": "stdout",
     "output_type": "stream",
     "text": [
      "Accuracy: 98.18%\n"
     ]
    },
    {
     "data": {
      "image/png": "iVBORw0KGgoAAAANSUhEUgAAAGQAAABeCAYAAADVA7GfAAAABHNCSVQICAgIfAhkiAAAAAlwSFlzAAAMTQAADE0B0s6tTgAAADl0RVh0U29mdHdhcmUAbWF0cGxvdGxpYiB2ZXJzaW9uIDMuMC4zLCBodHRwOi8vbWF0cGxvdGxpYi5vcmcvnQurowAAAVtJREFUeJzt3LFJBEEAhtEZMTUwsAlLsQpjA1ONLcHIOizgwGYEObCFMTYU5/BD3sv35+BjgmVvd661Bh1nf/0D+E6QGEFiBIkRJEaQGEFizk85fv/6uPUm5/3zcufcGGOMp4+7rXvXDxfzN9c7ITGCxAgSI0iMIDGCxAgSI0iMIDGCxAgSI0iMIDGCxAgSI0iMIDGCxMxT/pV0ztut4+v4snNujDHGvLrZurfWwSPc/0SQGEFiBIkRJEaQGEFiBIkRJEaQGEFiBIkRJEaQGEFiBIkRJEaQGEFiBIk56Xvqax237s35vHVvjDHW22H75m84ITGCxAgSI0iMIDGCxAgSI0iMIDGCxAgSI0iMIDGCxAgSI0iMIDGCxAgSc9IPB/BzTkiMIDGCxAgSI0iMIDGCxAgSI0iMIDGCxAgSI0iMIDGCxAgSI0iMIDGCxAgSI0iMIDGCxAgSI0jMF/6mHbAs4n5JAAAAAElFTkSuQmCC\n",
      "text/plain": [
       "<Figure size 80x80 with 1 Axes>"
      ]
     },
     "metadata": {
      "needs_background": "light"
     },
     "output_type": "display_data"
    },
    {
     "name": "stdout",
     "output_type": "stream",
     "text": [
      "Accuracy: 100.00%\n"
     ]
    },
    {
     "data": {
      "image/png": "iVBORw0KGgoAAAANSUhEUgAAAGQAAABeCAYAAADVA7GfAAAABHNCSVQICAgIfAhkiAAAAAlwSFlzAAAMTQAADE0B0s6tTgAAADl0RVh0U29mdHdhcmUAbWF0cGxvdGxpYiB2ZXJzaW9uIDMuMC4zLCBodHRwOi8vbWF0cGxvdGxpYi5vcmcvnQurowAAAVxJREFUeJzt3LFJBEEAhtEZMTMQu7AO+7AETcUGzKzBHizhAisxU9AOxthQnMMPeS/fn4OPCZa93bnWGnSc/PUP4DtBYgSJESRGkBhBYgSJOT3m+O3z/dabnNf3851zY4wxHt5utu5d3p3N31zvhMQIEiNIjCAxgsQIEiNIjCAxgsQIEiNIjCAxgsQIEiNIjCAxgsQIEjOP+VfSOa+3jq+Pp51zY4wx5sXV1r21Dh7h/ieCxAgSI0iMIDGCxAgSI0iMIDGCxAgSI0iMIDGCxAgSI0iMIDGCxAgSI0jMUd9TX+tz696cj1v3xhhjvRy2b/6GExIjSIwgMYLECBIjSIwgMYLECBIjSIwgMYLECBIjSIwgMYLECBIjSIwgMUf9cAA/54TECBIjSIwgMYLECBIjSIwgMYLECBIjSIwgMYLECBIjSIwgMYLECBIjSIwgMYLECBIjSIwgMYLEfAGAJx25yOW/wQAAAABJRU5ErkJggg==\n",
      "text/plain": [
       "<Figure size 80x80 with 1 Axes>"
      ]
     },
     "metadata": {
      "needs_background": "light"
     },
     "output_type": "display_data"
    },
    {
     "name": "stdout",
     "output_type": "stream",
     "text": [
      "Accuracy: 98.91%\n"
     ]
    },
    {
     "data": {
      "image/png": "iVBORw0KGgoAAAANSUhEUgAAAGQAAABeCAYAAADVA7GfAAAABHNCSVQICAgIfAhkiAAAAAlwSFlzAAAMTQAADE0B0s6tTgAAADl0RVh0U29mdHdhcmUAbWF0cGxvdGxpYiB2ZXJzaW9uIDMuMC4zLCBodHRwOi8vbWF0cGxvdGxpYi5vcmcvnQurowAAAVtJREFUeJzt3LFJBEEAhtEZMROxDLuwEmu40MAKxDJswRYusA9DTbSBMTYU5/BD3sv35+BjgmVvd661Bh1nf/0D+E6QGEFiBIkRJEaQGEFizk85fni+33qT8/p2uXNujDHGw/th69713cX8zfVOSIwgMYLECBIjSIwgMYLECBIjSIwgMYLECBIjSIwgMYLECBIjSIwgMfOUfyWd83br+Pp42jk3xhhjXt1s3Vvr6BHufyJIjCAxgsQIEiNIjCAxgsQIEiNIjCAxgsQIEiNIjCAxgsQIEiNIjCAxgsSc9D31tT637s35uHVvjDHWy3H75m84ITGCxAgSI0iMIDGCxAgSI0iMIDGCxAgSI0iMIDGCxAgSI0iMIDGCxAgSc9IPB/BzTkiMIDGCxAgSI0iMIDGCxAgSI0iMIDGCxAgSI0iMIDGCxAgSI0iMIDGCxAgSI0iMIDGCxAgSI0jMF1adHbyoO49oAAAAAElFTkSuQmCC\n",
      "text/plain": [
       "<Figure size 80x80 with 1 Axes>"
      ]
     },
     "metadata": {
      "needs_background": "light"
     },
     "output_type": "display_data"
    },
    {
     "name": "stdout",
     "output_type": "stream",
     "text": [
      "Accuracy: 99.91%\n"
     ]
    },
    {
     "data": {
      "image/png": "iVBORw0KGgoAAAANSUhEUgAAAGQAAABeCAYAAADVA7GfAAAABHNCSVQICAgIfAhkiAAAAAlwSFlzAAAMTQAADE0B0s6tTgAAADl0RVh0U29mdHdhcmUAbWF0cGxvdGxpYiB2ZXJzaW9uIDMuMC4zLCBodHRwOi8vbWF0cGxvdGxpYi5vcmcvnQurowAAAV5JREFUeJzt3StOBEEUQNEaPoatgCTsgAWgCPuYfSCRkxAMQSFYAQoJm0CCwA8a3dXhinN8vXRy80SnK+nNfr8fdBz89wPwlyAxgsQIEiNIjCAxgsQcrTn89uRp6kvO9vt45rgxxhg357up8x4+njdLztuQGEFiBIkRJEaQGEFiBIkRJEaQGEFiBIkRJEaQGEFiBIkRJEaQGEFiVv2E+/n6NnXe2dfl1HljjPHzfjh95hI2JEaQGEFiBIkRJEaQGEFiBIkRJEaQGEFiBIkRJEaQGEFiBIkRJEaQGEFiBIlZ9ZLDy+PF1Hm7u/mXHE6vrucOvF923IbECBIjSIwgMYLECBIjSIwgMYLECBIjSIwgMYLECBIjSIwgMYLECBIjSMzGP6habEiMIDGCxAgSI0iMIDGCxAgSI0iMIDGCxAgSI0iMIDGCxAgSI0iMIDGCxAgSI0iMIDGCxAgSI0jMLxOBF9rLjoURAAAAAElFTkSuQmCC\n",
      "text/plain": [
       "<Figure size 80x80 with 1 Axes>"
      ]
     },
     "metadata": {
      "needs_background": "light"
     },
     "output_type": "display_data"
    },
    {
     "data": {
      "image/png": "iVBORw0KGgoAAAANSUhEUgAAAGQAAABeCAYAAADVA7GfAAAABHNCSVQICAgIfAhkiAAAAAlwSFlzAAAMTQAADE0B0s6tTgAAADl0RVh0U29mdHdhcmUAbWF0cGxvdGxpYiB2ZXJzaW9uIDMuMC4zLCBodHRwOi8vbWF0cGxvdGxpYi5vcmcvnQurowAAAWBJREFUeJzt3DFK7kAARtGJiK3rsLUR3Ik7sHIHIpa2dm7ILYiVtq+ztxhrsXr8E7zIOX0+ApcpQki2Oeeg4+i3b4DvBIkRJEaQGEFiBIkRJOZ4z/GL7XHpQ842b1bOjTHGeNsul+79m8/bIdc7ITGCxAgSI0iMIDGCxAgSI0iMIDGCxAgSI0iMIDGCxAgSI0iMIDGCxOz6Cvf2/Xzp3tXT69K9McZ4mNfLNw/hhMQIEiNIjCAxgsQIEiNIjCAxgsQIEiNIjCAxgsQIEiNIjCAxgsQIEiNIjCAx257/y9pO7peOz8+7lXNjjDFeTg/6rPyHs4/pO/W/RJAYQWIEiREkRpAYQWIEiREkRpAYQWIEiREkRpAYQWIEiREkRpAYQWJ2fafO/3NCYgSJESRGkBhBYgSJESRGkBhBYgSJESRGkBhBYgSJESRGkBhBYgSJESRGkBhBYgSJESRGkBhBYr4AJyIc/zhLgfcAAAAASUVORK5CYII=\n",
      "text/plain": [
       "<Figure size 80x80 with 1 Axes>"
      ]
     },
     "metadata": {
      "needs_background": "light"
     },
     "output_type": "display_data"
    },
    {
     "name": "stdout",
     "output_type": "stream",
     "text": [
      "Accuracy: 91.82%\n"
     ]
    },
    {
     "data": {
      "image/png": "iVBORw0KGgoAAAANSUhEUgAAAGQAAABeCAYAAADVA7GfAAAABHNCSVQICAgIfAhkiAAAAAlwSFlzAAAMTQAADE0B0s6tTgAAADl0RVh0U29mdHdhcmUAbWF0cGxvdGxpYiB2ZXJzaW9uIDMuMC4zLCBodHRwOi8vbWF0cGxvdGxpYi5vcmcvnQurowAAAVpJREFUeJzt3LFJxlAYhtEv4hwO4BjOYSVuoaVjWNq7gZ0rOICdtQNca7GSP8EHOafPS+DhFiEk21pr6Dj76xvgO0FiBIkRJEaQGEFiBIk5P3J82+53fci5Xg97zs3MzNN2ueveWm/bKdc7ITGCxAgSI0iMIDGCxAgSI0iMIDGCxAgSI0iMIDGCxAgSI0iMIDGCxBz6Cvf9827XvYubj133ZmZe1/Pum6dwQmIEiREkRpAYQWIEiREkRpAYQWIEiREkRpAYQWIEiREkRpAYQWIEiREkRpCY7cj/ZW3b7a7jax73nJuZmZc56bPyH67W8p36fyJIjCAxgsQIEiNIjCAxgsQIEiNIjCAxgsQIEiNIjCAxgsQIEiNIjCAxh75T5/eckBhBYgSJESRGkBhBYgSJESRGkBhBYgSJESRGkBhBYgSJESRGkBhBYgSJESRGkBhBYgSJESRGkJgvt7Yc4d5/9QwAAAAASUVORK5CYII=\n",
      "text/plain": [
       "<Figure size 80x80 with 1 Axes>"
      ]
     },
     "metadata": {
      "needs_background": "light"
     },
     "output_type": "display_data"
    },
    {
     "name": "stdout",
     "output_type": "stream",
     "text": [
      "Accuracy: 99.82%\n"
     ]
    },
    {
     "data": {
      "image/png": "iVBORw0KGgoAAAANSUhEUgAAAGQAAABeCAYAAADVA7GfAAAABHNCSVQICAgIfAhkiAAAAAlwSFlzAAAMTQAADE0B0s6tTgAAADl0RVh0U29mdHdhcmUAbWF0cGxvdGxpYiB2ZXJzaW9uIDMuMC4zLCBodHRwOi8vbWF0cGxvdGxpYi5vcmcvnQurowAAAWJJREFUeJzt3LFJBFEYRtF/RDDczA6Mth8TG7ABq7ABGzA3sxEzezAwFGGMxUh2Bi9yTr4fC5cXLPtmlnVdh46zv/4CfCdIjCAxgsQIEiNIjCAx53uOL8vdpj9ybtf7LedmZuZhudp0b11fl1M+74TECBIjSIwgMYLECBIjSIwgMYLECBIjSIwgMYLECBIjSIwgMYLECBKz7HmV9P1jNh0/XL9tOTczMy9Pn5vuHefSX7j/iSAxgsQIEiNIjCAxgsQIEiNIjCAxgsQIEiNIjCAxgsQIEiNIjCAxgsQIErPrc+qHi5tN99Z53HRvZuZ5OelOwg/HEy+NOCExgsQIEiNIjCAxgsQIEiNIjCAxgsQIEiNIjCAxgsQIEiNIjCAxgsQIErPriwP4PSckRpAYQWIEiREkRpAYQWIEiREkRpAYQWIEiREkRpAYQWIEiREkRpAYQWIEiREkRpAYQWIEiREk5gvl+BysXpJd3wAAAABJRU5ErkJggg==\n",
      "text/plain": [
       "<Figure size 80x80 with 1 Axes>"
      ]
     },
     "metadata": {
      "needs_background": "light"
     },
     "output_type": "display_data"
    },
    {
     "name": "stdout",
     "output_type": "stream",
     "text": [
      "Accuracy: 99.91%\n"
     ]
    },
    {
     "data": {
      "image/png": "iVBORw0KGgoAAAANSUhEUgAAAGQAAABeCAYAAADVA7GfAAAABHNCSVQICAgIfAhkiAAAAAlwSFlzAAAMTQAADE0B0s6tTgAAADl0RVh0U29mdHdhcmUAbWF0cGxvdGxpYiB2ZXJzaW9uIDMuMC4zLCBodHRwOi8vbWF0cGxvdGxpYi5vcmcvnQurowAAAV1JREFUeJzt3LFJBUEUQNG38qOfWIRYjrlFmFmHmUVYgFiMYA9mRrLGYiR/Pl7knHwfA5cJlpndbd/3oePirxfAd4LECBIjSIwgMYLECBJzOOfwbbtf+pJztz+sHDczM4/b1dJ5+/62nfK8HRIjSIwgMYLECBIjSIwgMYLECBIjSIwgMYLECBIjSIwgMYLECBIjSMx2zqukH5+zdPjx5n3luJmZeX056cT1h+u5dIT7nwgSI0iMIDGCxAgSI0iMIDGCxAgSI0iMIDGCxAgSI0iMIDGCxAgSI0iMIDFn/U79eLhdOm+fp6XzZmaet8WXHE68NGKHxAgSI0iMIDGCxAgSI0iMIDGCxAgSI0iMIDGCxAgSI0iMIDGCxAgSI0jMWX8cwO/ZITGCxAgSI0iMIDGCxAgSI0iMIDGCxAgSI0iMIDGCxAgSI0iMIDGCxAgSI0iMIDGCxAgSI0iMIDFfOOobm2lb6+gAAAAASUVORK5CYII=\n",
      "text/plain": [
       "<Figure size 80x80 with 1 Axes>"
      ]
     },
     "metadata": {
      "needs_background": "light"
     },
     "output_type": "display_data"
    },
    {
     "name": "stdout",
     "output_type": "stream",
     "text": [
      "Accuracy: 100.00%\n"
     ]
    },
    {
     "data": {
      "image/png": "iVBORw0KGgoAAAANSUhEUgAAAGQAAABeCAYAAADVA7GfAAAABHNCSVQICAgIfAhkiAAAAAlwSFlzAAAMTQAADE0B0s6tTgAAADl0RVh0U29mdHdhcmUAbWF0cGxvdGxpYiB2ZXJzaW9uIDMuMC4zLCBodHRwOi8vbWF0cGxvdGxpYi5vcmcvnQurowAAAV1JREFUeJzt3LFNw1AYRtHfhCINS4RpmIAtKBiEgi1o6RgmO9DSYGpEhWKLK3ROn0+Rrl4R5dnLuq5Dx9VffwG+EyRGkBhBYgSJESRGkJjrPceX5XHTHzkP69OWczMz87zcbrq3ruflks87ITGCxAgSI0iMIDGCxAgSI0iMIDGCxAgSI0iMIDGCxAgSI0iMIDGCxCx7XiX9+JxNx49371vOzczM+e2w6d5pbvyF+58IEiNIjCAxgsQIEiNIjCAxgsQIEiNIjCAxgsQIEiNIjCAxgsQIEiNIjCAxuz6nfjzcb7q3zsumezMzr8tFdxJ+OF14acQJiREkRpAYQWIEiREkRpAYQWIEiREkRpAYQWIEiREkRpAYQWIEiREkRpCYXV8cwO85ITGCxAgSI0iMIDGCxAgSI0iMIDGCxAgSI0iMIDGCxAgSI0iMIDGCxAgSI0iMIDGCxAgSI0iMIDFfAPUbkxLXbAsAAAAASUVORK5CYII=\n",
      "text/plain": [
       "<Figure size 80x80 with 1 Axes>"
      ]
     },
     "metadata": {
      "needs_background": "light"
     },
     "output_type": "display_data"
    },
    {
     "name": "stdout",
     "output_type": "stream",
     "text": [
      "Accuracy: 99.91%\n"
     ]
    },
    {
     "data": {
      "image/png": "iVBORw0KGgoAAAANSUhEUgAAAGQAAABeCAYAAADVA7GfAAAABHNCSVQICAgIfAhkiAAAAAlwSFlzAAAMTQAADE0B0s6tTgAAADl0RVh0U29mdHdhcmUAbWF0cGxvdGxpYiB2ZXJzaW9uIDMuMC4zLCBodHRwOi8vbWF0cGxvdGxpYi5vcmcvnQurowAAASBJREFUeJzt3DEOwjAQAEEf4v9fNjV1YrHATJ8o0spFZJ9n773oeHz6A3gnSIwgMYLECBIjSIwgMc+TL5+Zv/vJ2XvPleetkBhBYgSJESRGkBhBYgSJESRGkBhBYgSJESRGkBhBYgSJESRGkBhBYo5u4d7txLHXmUs7rrezQmIEiREkRpAYQWIEiREkRpAYQWIEiREkRpAYQWIEiREkRpAYQWIEiREkRpCYOXxf1t/Nqa+1zKn/EkFiBIkRJEaQGEFiBIkRJEaQGEFiBIkRJEaQGEFiBIkRJEaQGEFiBIk5fXFAayr/C1ghMYLECBIjSIwgMYLECBIjSIwgMYLECBIjSIwgMYLECBIjSIwgMYLECBIjSIwgMYLECBIjSIwgMS9ZxQ68Wbta0AAAAABJRU5ErkJggg==\n",
      "text/plain": [
       "<Figure size 80x80 with 1 Axes>"
      ]
     },
     "metadata": {
      "needs_background": "light"
     },
     "output_type": "display_data"
    },
    {
     "name": "stdout",
     "output_type": "stream",
     "text": [
      "Accuracy: 94.18%\n",
      "Accuracy: 100.00%\n"
     ]
    },
    {
     "data": {
      "image/png": "iVBORw0KGgoAAAANSUhEUgAAAGQAAABeCAYAAADVA7GfAAAABHNCSVQICAgIfAhkiAAAAAlwSFlzAAAMTQAADE0B0s6tTgAAADl0RVh0U29mdHdhcmUAbWF0cGxvdGxpYiB2ZXJzaW9uIDMuMC4zLCBodHRwOi8vbWF0cGxvdGxpYi5vcmcvnQurowAAAWdJREFUeJzt3KFKBFEAhtG7IvoMRm028Q3EZrWazfsAgnXxESxGg8VgsVlt+jqWNRtl7+KHnNPnZ+DjhmGYWazX60HHzl/fAD8JEiNIjCAxgsQIEiNIzO42x8/eL6c+5Fzvn8+cG2OMsXq7n7r3ufxYbHK9ExIjSIwgMYLECBIjSIwgMYLECBIjSIwgMYLECBIjSIwgMYLECBIjSMxWX+Hevh5O3Vs9P03dG2OMm4PHuYPLzS53QmIEiREkRpAYQWIEiREkRpAYQWIEiREkRpAYQWIEiREkRpAYQWIEiREkRpCYxTb/l3V6dDF1fO/raubcGGOM45e7qXsPJ75T/1cEiREkRpAYQWIEiREkRpAYQWIEiREkRpAYQWIEiREkRpAYQWIEiREkZqvv1Pk9JyRGkBhBYgSJESRGkBhBYgSJESRGkBhBYgSJESRGkBhBYgSJESRGkBhBYgSJESRGkBhBYgSJESTmGzMTG501Bd0+AAAAAElFTkSuQmCC\n",
      "text/plain": [
       "<Figure size 80x80 with 1 Axes>"
      ]
     },
     "metadata": {
      "needs_background": "light"
     },
     "output_type": "display_data"
    },
    {
     "data": {
      "image/png": "iVBORw0KGgoAAAANSUhEUgAAAGQAAABeCAYAAADVA7GfAAAABHNCSVQICAgIfAhkiAAAAAlwSFlzAAAMTQAADE0B0s6tTgAAADl0RVh0U29mdHdhcmUAbWF0cGxvdGxpYiB2ZXJzaW9uIDMuMC4zLCBodHRwOi8vbWF0cGxvdGxpYi5vcmcvnQurowAAAWNJREFUeJzt3SFKBVEAhtE7ahDcghgMFqNbEOPLVjG5AZNBcBcWm7twGRazm3ggjNn87sMvnNPnZ+DjhmEGZlnXddBx8N83wF+CxAgSI0iMIDGCxAgSc7TP8eXxZupDzvryNnNujDHG5d351L3P9+2yy/VOSIwgMYLECBIjSIwgMYLECBIjSIwgMYLECBIjSIwgMYLECBIjSIwgMXt9hft99TR17/B4M3VvjDF+HrbTN3fhhMQIEiNIjCAxgsQIEiNIjCAxgsQIEiNIjCAxgsQIEiNIjCAxgsQIEiNIjCAxe/3I4fT2eere/cnr1L0xxrg+u5i69zG+drreCYkRJEaQGEFiBIkRJEaQGEFiBIkRJEaQGEFiBIkRJEaQGEFiBIkRJEaQmMU/qFqckBhBYgSJESRGkBhBYgSJESRGkBhBYgSJESRGkBhBYgSJESRGkBhBYgSJESRGkBhBYgSJESRGkJhfHpsWIAtBMvgAAAAASUVORK5CYII=\n",
      "text/plain": [
       "<Figure size 80x80 with 1 Axes>"
      ]
     },
     "metadata": {
      "needs_background": "light"
     },
     "output_type": "display_data"
    },
    {
     "name": "stdout",
     "output_type": "stream",
     "text": [
      "Accuracy: 99.82%\n"
     ]
    },
    {
     "data": {
      "image/png": "iVBORw0KGgoAAAANSUhEUgAAAGQAAABeCAYAAADVA7GfAAAABHNCSVQICAgIfAhkiAAAAAlwSFlzAAAMTQAADE0B0s6tTgAAADl0RVh0U29mdHdhcmUAbWF0cGxvdGxpYiB2ZXJzaW9uIDMuMC4zLCBodHRwOi8vbWF0cGxvdGxpYi5vcmcvnQurowAAAVlJREFUeJzt3SFKBlEYRuFvRAxuw2Sw2wSL1ewS7OKK7LoBweYOTG7jr2M2e3884Xn6vAwcbhhmYLZ934eOk/++AX4TJEaQGEFiBIkRJEaQmNNjjm/3N0sfcvbXj5VzMzNzebst3ft63/806ITECBIjSIwgMYLECBIjSIwgMYLECBIjSIwgMYLECBIjSIwgMYLECBJz1Fe4h8eXpXvbdrV0b2Zmf2p9SuuExAgSI0iMIDGCxAgSI0iMIDGCxAgSI0iMIDGCxAgSI0iMIDGCxAgSI0iMIDFH/cjh/O5h6d7z2dvSvZmZ68PF0r3P+f7T9U5IjCAxgsQIEiNIjCAxgsQIEiNIjCAxgsQIEiNIjCAxgsQIEiNIjCAxgsRs/kHV4oTECBIjSIwgMYLECBIjSIwgMYLECBIjSIwgMYLECBIjSIwgMYLECBIjSIwgMYLECBIjSIwgMYLE/ADichcxhmEu8QAAAABJRU5ErkJggg==\n",
      "text/plain": [
       "<Figure size 80x80 with 1 Axes>"
      ]
     },
     "metadata": {
      "needs_background": "light"
     },
     "output_type": "display_data"
    },
    {
     "name": "stdout",
     "output_type": "stream",
     "text": [
      "Accuracy: 100.00%\n"
     ]
    },
    {
     "data": {
      "image/png": "iVBORw0KGgoAAAANSUhEUgAAAGQAAABeCAYAAADVA7GfAAAABHNCSVQICAgIfAhkiAAAAAlwSFlzAAAMTQAADE0B0s6tTgAAADl0RVh0U29mdHdhcmUAbWF0cGxvdGxpYiB2ZXJzaW9uIDMuMC4zLCBodHRwOi8vbWF0cGxvdGxpYi5vcmcvnQurowAAAVZJREFUeJzt3SFOxFAYRtG/ZFaCImgcQRA8+0HMpnAIFMGxABSePZAUjZ434YpzfL80uXmiaZNu+74PHRf/fQP8JUiMIDGCxAgSI0iMIDGHc45vD3dLH3L217eVczMzc3W7Ld37fN9PGnRCYgSJESRGkBhBYgSJESRGkBhBYgSJESRGkBhBYgSJESRGkBhBYgSJOesr3J/j89K9bbteujczsz+1PqV1QmIEiREkRpAYQWIEiREkRpAYQWIEiREkRpAYQWIEiREkRpAYQWIEiREkRpCYs37kcLh/XLp3PLws3ZuZufm+XLr3MV8nXe+ExAgSI0iMIDGCxAgSI0iMIDGCxAgSI0iMIDGCxAgSI0iMIDGCxAgSI0jM5h9ULU5IjCAxgsQIEiNIjCAxgsQIEiNIjCAxgsQIEiNIjCAxgsQIEiNIjCAxgsQIEiNIjCAxgsQIEiNIzC/LsBc/eAwfeAAAAABJRU5ErkJggg==\n",
      "text/plain": [
       "<Figure size 80x80 with 1 Axes>"
      ]
     },
     "metadata": {
      "needs_background": "light"
     },
     "output_type": "display_data"
    },
    {
     "name": "stdout",
     "output_type": "stream",
     "text": [
      "Accuracy: 99.91%\n"
     ]
    },
    {
     "data": {
      "image/png": "iVBORw0KGgoAAAANSUhEUgAAAGQAAABeCAYAAADVA7GfAAAABHNCSVQICAgIfAhkiAAAAAlwSFlzAAAMTQAADE0B0s6tTgAAADl0RVh0U29mdHdhcmUAbWF0cGxvdGxpYiB2ZXJzaW9uIDMuMC4zLCBodHRwOi8vbWF0cGxvdGxpYi5vcmcvnQurowAAAVZJREFUeJzt3aFKBVEYRtF/rr6ISawmQdDqO1kMvpTBYBBMdpPB93DMZs/FFfbq8zGwOWGYgdn2fZ84Dv99A/mtIJiCYAqCKQimIJiCYE6POb7dXi99yNlfXlfOzczM+dW2dO/jbf/TYCcEUxBMQTAFwRQEUxBMQTAFwRQEUxBMQTAFwRQEUxBMQTAFwRQEUxDMUV/hfj8+Ld3btoulezMz+731KW0nBFMQTEEwBcEUBFMQTEEwBcEUBFMQTEEwBcEUBFMQTEEwBcEUBFMQTEEwBcEc9SOHw83d0r2Hk+elezMzl19nS/fe5/NP13dCMAXBFARTEExBMAXBFARTEExBMAXBFARTEExBMAXBFARTEExBMAXBFASz9Q8qSycEUxBMQTAFwRQEUxBMQTAFwRQEUxBMQTAFwRQEUxBMQTAFwRQEUxBMQTAFwRQEUxBMQTAFwRQE8wOmMBdFMhxV5wAAAABJRU5ErkJggg==\n",
      "text/plain": [
       "<Figure size 80x80 with 1 Axes>"
      ]
     },
     "metadata": {
      "needs_background": "light"
     },
     "output_type": "display_data"
    },
    {
     "name": "stdout",
     "output_type": "stream",
     "text": [
      "Accuracy: 100.00%\n"
     ]
    },
    {
     "data": {
      "image/png": "iVBORw0KGgoAAAANSUhEUgAAAGQAAABeCAYAAADVA7GfAAAABHNCSVQICAgIfAhkiAAAAAlwSFlzAAAMTQAADE0B0s6tTgAAADl0RVh0U29mdHdhcmUAbWF0cGxvdGxpYiB2ZXJzaW9uIDMuMC4zLCBodHRwOi8vbWF0cGxvdGxpYi5vcmcvnQurowAAAVRJREFUeJzt3SFOxFAYRtG/wEZQoDEIApZNYcawKASCBIHBowgrKRo9b8IR9/h+meTmiabTdNv3feI4++8fkL8KgikIpiCYgmAKgikI5uKU49vD3dKbnP3tfeXczMxc3W5L974+9qMGOyGYgmAKgikIpiCYgmAKgikIpiCYgmAKgikIpiCYgmAKgikIpiCYgmBO+gh3f35Zurdt10v3Zmb2J+uvtJ0QTEEwBcEUBFMQTEEwBcEUBFMQTEEwBcEUBFMQTEEwBcEUBFMQTEEwBcEUBHPa99TvH5fuHc5fl+7NzNz8XC7d+5zvo67vhGAKgikIpiCYgmAKgikIpiCYgmAKgikIpiCYgmAKgikIpiCYgmAKgikIZusbVJZOCKYgmIJgCoIpCKYgmIJgCoIpCKYgmIJgCoIpCKYgmIJgCoIpCKYgmIJgCoIpCKYgmIJgCoIpCOYXcTgXRg0Uft4AAAAASUVORK5CYII=\n",
      "text/plain": [
       "<Figure size 80x80 with 1 Axes>"
      ]
     },
     "metadata": {
      "needs_background": "light"
     },
     "output_type": "display_data"
    },
    {
     "name": "stdout",
     "output_type": "stream",
     "text": [
      "Accuracy: 99.64%\n"
     ]
    },
    {
     "data": {
      "image/png": "iVBORw0KGgoAAAANSUhEUgAAAGQAAABeCAYAAADVA7GfAAAABHNCSVQICAgIfAhkiAAAAAlwSFlzAAAMTQAADE0B0s6tTgAAADl0RVh0U29mdHdhcmUAbWF0cGxvdGxpYiB2ZXJzaW9uIDMuMC4zLCBodHRwOi8vbWF0cGxvdGxpYi5vcmcvnQurowAAAWZJREFUeJzt3KFKBFEAhtG7Ytdus5uMPpP6BharYtliMfkQgs+gGARBg1Z9iTUbZe/ih5zT52fg44ZhmFmsVqtBx9Zf3wA/CRIjSIwgMYLECBIjSMz2JsdfFldTH3I+zh9mzo0xxnjb2Z26d3K8XKxzvRMSI0iMIDGCxAgSI0iMIDGCxAgSI0iMIDGCxAgSI0iMIDGCxAgSI0jMRl/hHj7dTd17v76cujfGGI+nB5MXl2td7YTECBIjSIwgMYLECBIjSIwgMYLECBIjSIwgMYLECBIjSIwgMYLECBIjSIwgMYtN/i/r9vVi6vjz59HMuTHGGDf791P3vvbOfKf+nwgSI0iMIDGCxAgSI0iMIDGCxAgSI0iMIDGCxAgSI0iMIDGCxAgSI0jMRt+p83tOSIwgMYLECBIjSIwgMYLECBIjSIwgMYLECBIjSIwgMYLECBIjSIwgMYLECBIjSIwgMYLECBIjSMw3WbQec5lgXmkAAAAASUVORK5CYII=\n",
      "text/plain": [
       "<Figure size 80x80 with 1 Axes>"
      ]
     },
     "metadata": {
      "needs_background": "light"
     },
     "output_type": "display_data"
    },
    {
     "data": {
      "image/png": "iVBORw0KGgoAAAANSUhEUgAAAGQAAABeCAYAAADVA7GfAAAABHNCSVQICAgIfAhkiAAAAAlwSFlzAAAMTQAADE0B0s6tTgAAADl0RVh0U29mdHdhcmUAbWF0cGxvdGxpYiB2ZXJzaW9uIDMuMC4zLCBodHRwOi8vbWF0cGxvdGxpYi5vcmcvnQurowAAAVVJREFUeJzt3TFKxUAUQNEXcRuC+7BzDbbaugBxCbY2v7Z2I4Kd4IpiLdhlPt7inD6PwGWKMJNk2/d96Lj47xvgN0FiBIkRJEaQGEFiBIm5POv07XXpQ87n/dvKcTMz83F1u3Te88tpO3K9FRIjSIwgMYLECBIjSIwgMYLECBIjSIwgMYLECBIjSIwgMYLECBIjSMxZt3C3eVo6b79ef+z1/ebQjusfToeutkJiBIkRJEaQGEFiBIkRJEaQGEFiBIkRJEaQGEFiBIkRJEaQGEFiBIkRJEaQmLMeclj9La7Hu++l82Zmvh7Wv/t+hBUSI0iMIDGCxAgSI0iMIDGCxAgSI0iMIDGCxAgSI0iMIDGCxAgSI0iMIDGbf1C1WCExgsQIEiNIjCAxgsQIEiNIjCAxgsQIEiNIjCAxgsQIEiNIjCAxgsQIEiNIjCAxgsQIEiNIjCAxP6wlFxUu0L9eAAAAAElFTkSuQmCC\n",
      "text/plain": [
       "<Figure size 80x80 with 1 Axes>"
      ]
     },
     "metadata": {
      "needs_background": "light"
     },
     "output_type": "display_data"
    },
    {
     "name": "stdout",
     "output_type": "stream",
     "text": [
      "Accuracy: 87.27%\n"
     ]
    },
    {
     "data": {
      "image/png": "iVBORw0KGgoAAAANSUhEUgAAAGQAAABeCAYAAADVA7GfAAAABHNCSVQICAgIfAhkiAAAAAlwSFlzAAAMTQAADE0B0s6tTgAAADl0RVh0U29mdHdhcmUAbWF0cGxvdGxpYiB2ZXJzaW9uIDMuMC4zLCBodHRwOi8vbWF0cGxvdGxpYi5vcmcvnQurowAAAVdJREFUeJzt3aFNBUEUQNEZgsTTAJUg6QGqwGDxiJ/80AUdIPBoiqCKRZPgdjZccY6fl01uRmxmsju3bRt0XPz3A/CbIDGCxAgSI0iMIDGCxFweOn2+LH3J+bx7XjlujDHG+8390nlPp/Pcs94OiREkRpAYQWIEiREkRpAYQWIEiREkRpAYQWIEiREkRpAYQWIEiREk5tAj3Dkel87bbtdfe3292nXi+ofzrtV2SIwgMYLECBIjSIwgMYLECBIjSIwgMYLECBIjSIwgMYLECBIjSIwgMYLECBJz6CWH1d/ierj+WjpvjDG+P96Wz9zDDokRJEaQGEFiBIkRJEaQGEFiBIkRJEaQGEFiBIkRJEaQGEFiBIkRJEaQmOkfVC12SIwgMYLECBIjSIwgMYLECBIjSIwgMYLECBIjSIwgMYLECBIjSIwgMYLECBIjSIwgMYLECBIjSMwPAOYXRKzr42EAAAAASUVORK5CYII=\n",
      "text/plain": [
       "<Figure size 80x80 with 1 Axes>"
      ]
     },
     "metadata": {
      "needs_background": "light"
     },
     "output_type": "display_data"
    },
    {
     "name": "stdout",
     "output_type": "stream",
     "text": [
      "Accuracy: 99.91%\n"
     ]
    },
    {
     "data": {
      "image/png": "iVBORw0KGgoAAAANSUhEUgAAAGQAAABeCAYAAADVA7GfAAAABHNCSVQICAgIfAhkiAAAAAlwSFlzAAAMTQAADE0B0s6tTgAAADl0RVh0U29mdHdhcmUAbWF0cGxvdGxpYiB2ZXJzaW9uIDMuMC4zLCBodHRwOi8vbWF0cGxvdGxpYi5vcmcvnQurowAAAVZJREFUeJzt3LFJBUEUQNEZsRjbsAyxARsQsQizjx1YgqENWMAvRcM1FiPZWbzIOfk+Bi4TLDO7c9u2QcfFXy+A7wSJESRGkBhBYgSJESTm8tDp82npS8779cPKcWOMMd6u7pbOe3w+zT3P2yExgsQIEiNIjCAxgsQIEiNIjCAxgsQIEiNIjCAxgsQIEiNIjCAxgsTMI6+SzjmXDt9O69d6+7HrxPWHl/vNEe5/IkiMIDGCxAgSI0iMIDGCxAgSI0iMIDGCxAgSI0iMIDGCxAgSI0iMIDGCxBz6nfrqCxQ387x03hhjfJ5fl8/cww6JESRGkBhBYgSJESRGkBhBYgSJESRGkBhBYgSJESRGkBhBYgSJESRGkJhDfxzA79khMYLECBIjSIwgMYLECBIjSIwgMYLECBIjSIwgMYLECBIjSIwgMYLECBIjSIwgMYLECBIjSIwgMV9dCx1kHpoTjgAAAABJRU5ErkJggg==\n",
      "text/plain": [
       "<Figure size 80x80 with 1 Axes>"
      ]
     },
     "metadata": {
      "needs_background": "light"
     },
     "output_type": "display_data"
    },
    {
     "name": "stdout",
     "output_type": "stream",
     "text": [
      "Accuracy: 98.73%\n"
     ]
    },
    {
     "data": {
      "image/png": "iVBORw0KGgoAAAANSUhEUgAAAGQAAABeCAYAAADVA7GfAAAABHNCSVQICAgIfAhkiAAAAAlwSFlzAAAMTQAADE0B0s6tTgAAADl0RVh0U29mdHdhcmUAbWF0cGxvdGxpYiB2ZXJzaW9uIDMuMC4zLCBodHRwOi8vbWF0cGxvdGxpYi5vcmcvnQurowAAAVhJREFUeJzt3LFNxTAUQFH7i2mYgTkQO9BSULACHQViAmagomQCmIEpQo2oUBxxhc7p82TpykVkJ3PbtkHH6a8XwHeCxAgSI0iMIDGCxAgSc3bo9NP90pect4ublePGGGO8nl8vnXf7+DD3PG+HxAgSI0iMIDGCxAgSI0iMIDGCxAgSI0iMIDGCxAgSI0iMIDGCxAgSM4+8SjrnXDp8e1q/1qvPXSeuPzzfbY5w/xNBYgSJESRGkBhBYgSJESRGkBhBYgSJESRGkBhBYgSJESRGkBhBYgSJESTm0O/UV1+guJwfS+eNMcb2/rJ85h52SIwgMYLECBIjSIwgMYLECBIjSIwgMYLECBIjSIwgMYLECBIjSIwgMYLEHPrjAH7PDokRJEaQGEFiBIkRJEaQGEFiBIkRJEaQGEFiBIkRJEaQGEFiBIkRJEaQGEFiBIkRJEaQGEFiBIn5AmX3HW/iyt++AAAAAElFTkSuQmCC\n",
      "text/plain": [
       "<Figure size 80x80 with 1 Axes>"
      ]
     },
     "metadata": {
      "needs_background": "light"
     },
     "output_type": "display_data"
    },
    {
     "name": "stdout",
     "output_type": "stream",
     "text": [
      "Accuracy: 98.36%\n"
     ]
    },
    {
     "data": {
      "image/png": "iVBORw0KGgoAAAANSUhEUgAAAGQAAABeCAYAAADVA7GfAAAABHNCSVQICAgIfAhkiAAAAAlwSFlzAAAMTQAADE0B0s6tTgAAADl0RVh0U29mdHdhcmUAbWF0cGxvdGxpYiB2ZXJzaW9uIDMuMC4zLCBodHRwOi8vbWF0cGxvdGxpYi5vcmcvnQurowAAAVhJREFUeJzt3LFNxTAUQFH7i23YgD0QQ9BSULEBHQ0SC7ADBSUb/AmYI9SICsURV+icPk+WrlxEdjK3bRt0nP56AXwnSIwgMYLECBIjSIwgMReHTj89Ln3J+bi6WzlujDHG++Xt0nn3z09zz/N2SIwgMYLECBIjSIwgMYLECBIjSIwgMYLECBIjSIwgMYLECBIjSIwgMfPIq6RzzqXDt5f1a7353HXi+sPrw+YI9z8RJEaQGEFiBIkRJEaQGEFiBIkRJEaQGEFiBIkRJEaQGEFiBIkRJEaQGEFiDv1OffUFiut5XjpvjDFO57flM/ewQ2IEiREkRpAYQWIEiREkRpAYQWIEiREkRpAYQWIEiREkRpAYQWIEiREk5tAfB/B7dkiMIDGCxAgSI0iMIDGCxAgSI0iMIDGCxAgSI0iMIDGCxAgSI0iMIDGCxAgSI0iMIDGCxAgSI0jMF7aFHHQUolsaAAAAAElFTkSuQmCC\n",
      "text/plain": [
       "<Figure size 80x80 with 1 Axes>"
      ]
     },
     "metadata": {
      "needs_background": "light"
     },
     "output_type": "display_data"
    },
    {
     "name": "stdout",
     "output_type": "stream",
     "text": [
      "Accuracy: 100.00%\n"
     ]
    },
    {
     "data": {
      "image/png": "iVBORw0KGgoAAAANSUhEUgAAAGQAAABeCAYAAADVA7GfAAAABHNCSVQICAgIfAhkiAAAAAlwSFlzAAAMTQAADE0B0s6tTgAAADl0RVh0U29mdHdhcmUAbWF0cGxvdGxpYiB2ZXJzaW9uIDMuMC4zLCBodHRwOi8vbWF0cGxvdGxpYi5vcmcvnQurowAAARtJREFUeJzt2zEKwzAQAMFcyP+/rNQhpSKyxjO9jWG5wug0a60HHc9/fwCfBIkRJEaQGEFiBIkRJOZ18uUzc7ufnLXW7DxvQmIEiREkRpAYQWIEiREkRpAYQWIEiREkRpAYQWIEiREkRpAYQWIEiTl6hPtrd1h7NSExgsQIEiNIjCAxgsQIEiNIjCAxgsQIEiNIjCAxgsQIEiNIjCAxgsQIEiNIzKWWHE6Y2bpW/mV3EcOExAgSI0iMIDGCxAgSI0iMIDGCxAgSI0iMIDGCxAgSI0iMIDGCxAgSI0jM3OEy/pWYkBhBYgSJESRGkBhBYgSJESRGkBhBYgSJESRGkBhBYgSJESRGkBhBYgSJESRGkBhBYgSJESRGkJg3RCYQuAde2poAAAAASUVORK5CYII=\n",
      "text/plain": [
       "<Figure size 80x80 with 1 Axes>"
      ]
     },
     "metadata": {
      "needs_background": "light"
     },
     "output_type": "display_data"
    },
    {
     "name": "stdout",
     "output_type": "stream",
     "text": [
      "Accuracy: 94.91%\n",
      "Accuracy: 99.82%\n"
     ]
    },
    {
     "data": {
      "image/png": "iVBORw0KGgoAAAANSUhEUgAAAGQAAABeCAYAAADVA7GfAAAABHNCSVQICAgIfAhkiAAAAAlwSFlzAAAMTQAADE0B0s6tTgAAADl0RVh0U29mdHdhcmUAbWF0cGxvdGxpYiB2ZXJzaW9uIDMuMC4zLCBodHRwOi8vbWF0cGxvdGxpYi5vcmcvnQurowAAAWVJREFUeJzt3CFOA0EYgNEp6RnoUbgAqaRXgBAUrhLDJVBcgKPACTAYEhwCS1BFI0mn4Qt5z8+f3XwZsZndXex2u0HH0V9fAD8JEiNIjCAxgsQIEiNIzPKQw28uzqc+5KwutzPHjTHGeDo7nTrv4eN9sc96OyRGkBhBYgSJESRGkBhBYgSJESRGkBhBYgSJESRGkBhBYgSJESRGkJjFIV8lfX3+mjp8czX/xPn+du79n6yXjnD/E0FiBIkRJEaQGEFiBIkRJEaQGEFiBIkRJEaQGEFiBIkRJEaQGEFiBIkRJOag36mvti9T571dH0+dN8YYn3ePcweuN3stt0NiBIkRJEaQGEFiBIkRJEaQGEFiBIkRJEaQGEFiBIkRJEaQGEFiBIkRJOagPw7g9+yQGEFiBIkRJEaQGEFiBIkRJEaQGEFiBIkRJEaQGEFiBIkRJEaQGEFiBIkRJEaQGEFiBIkRJEaQmG94YR1kUErR7wAAAABJRU5ErkJggg==\n",
      "text/plain": [
       "<Figure size 80x80 with 1 Axes>"
      ]
     },
     "metadata": {
      "needs_background": "light"
     },
     "output_type": "display_data"
    },
    {
     "data": {
      "image/png": "iVBORw0KGgoAAAANSUhEUgAAAGQAAABeCAYAAADVA7GfAAAABHNCSVQICAgIfAhkiAAAAAlwSFlzAAAMTQAADE0B0s6tTgAAADl0RVh0U29mdHdhcmUAbWF0cGxvdGxpYiB2ZXJzaW9uIDMuMC4zLCBodHRwOi8vbWF0cGxvdGxpYi5vcmcvnQurowAAAWpJREFUeJzt3CFKREEcwOFZ8QaCyVN4AWGTJm+wNuNG8QYWT2H0GAbvoNViEQSjYc2CRXYWf8j39fnz4MeEx8x7i81mM+jY++sH4DtBYgSJESRGkBhBYgSJ2d/l8OuL1dSXnKPLq5njxhhjPJyeTJ13//G22Ga9HRIjSIwgMYLECBIjSIwgMYLECBIjSIwgMYLECBIjSIwgMYLECBIjSMxil1dJX54+pw4/W211Ovqju5u5p9jHy+EI9z8RJEaQGEFiBIkRJEaQGEFiBIkRJEaQGEFiBIkRJEaQGEFiBIkRJEaQGEFidvqd+sH6eeq81/Xh1HljjPF++zh34PJ8q+V2SIwgMYLECBIjSIwgMYLECBIjSIwgMYLECBIjSIwgMYLECBIjSIwgMYLE7PTHAfyeHRIjSIwgMYLECBIjSIwgMYLECBIjSIwgMYLECBIjSIwgMYLECBIjSIwgMYLECBIjSIwgMYLECBLzBayjHE+YsXCvAAAAAElFTkSuQmCC\n",
      "text/plain": [
       "<Figure size 80x80 with 1 Axes>"
      ]
     },
     "metadata": {
      "needs_background": "light"
     },
     "output_type": "display_data"
    },
    {
     "name": "stdout",
     "output_type": "stream",
     "text": [
      "Accuracy: 99.09%\n"
     ]
    },
    {
     "data": {
      "image/png": "iVBORw0KGgoAAAANSUhEUgAAAGQAAABeCAYAAADVA7GfAAAABHNCSVQICAgIfAhkiAAAAAlwSFlzAAAMTQAADE0B0s6tTgAAADl0RVh0U29mdHdhcmUAbWF0cGxvdGxpYiB2ZXJzaW9uIDMuMC4zLCBodHRwOi8vbWF0cGxvdGxpYi5vcmcvnQurowAAAWxJREFUeJzt3DEuRFEAhtE7Qqu1AO0sQCMRK9Co2IAoKVV2YB9iA1p7UGlFo1AqGLVS3Ikvck5//0zy5RaT92YWq9Vq0LHx1x+A7wSJESRGkBhBYgSJESRmc53jl6cnU7/k7J5fzZwbY4xxf7A3de/u/W3xm/NuSIwgMYLECBIjSIwgMYLECBIjSIwgMYLECBIjSIwgMYLECBIjSIwgMYt1vkr6/PQ5dfzw+GPm3BhjjNubral7y/3hEe5/IkiMIDGCxAgSI0iMIDGCxAgSI0iMIDGCxAgSI0iMIDGCxAgSI0iMIDGCxKz1d+rbZ49T914vdqbujTHGy/XD1L3l/dGvzrshMYLECBIjSIwgMYLECBIjSIwgMYLECBIjSIwgMYLECBIjSIwgMYLECBKz1j8O4OfckBhBYgSJESRGkBhBYgSJESRGkBhBYgSJESRGkBhBYgSJESRGkBhBYgSJESRGkBhBYgSJESRGkJgvtcod36XC8qsAAAAASUVORK5CYII=\n",
      "text/plain": [
       "<Figure size 80x80 with 1 Axes>"
      ]
     },
     "metadata": {
      "needs_background": "light"
     },
     "output_type": "display_data"
    },
    {
     "name": "stdout",
     "output_type": "stream",
     "text": [
      "Accuracy: 99.91%\n"
     ]
    },
    {
     "data": {
      "image/png": "iVBORw0KGgoAAAANSUhEUgAAAGQAAABeCAYAAADVA7GfAAAABHNCSVQICAgIfAhkiAAAAAlwSFlzAAAMTQAADE0B0s6tTgAAADl0RVh0U29mdHdhcmUAbWF0cGxvdGxpYiB2ZXJzaW9uIDMuMC4zLCBodHRwOi8vbWF0cGxvdGxpYi5vcmcvnQurowAAAWpJREFUeJzt3CFOo1EYhtGvhIxgA6wAgUYMCVvAjKxnAygs+2AZY8YOi0CS4PCgMB2NJL0NTybn+PumyZMrmv9vN7vdbug4+u4PwGeCxAgSI0iMIDGCxAgSc3zI8dvtdumXnPPb+5VzMzPz++fF2r3d+2af825IjCAxgsQIEiNIjCAxgsQIEiNIjCAxgsQIEiNIjCAxgsQIEiNIjCAxm0O+Svr6MkvHr64/Vs7NzMyfhx9L984uxyPc/4kgMYLECBIjSIwgMYLECBIjSIwgMYLECBIjSIwgMYLECBIjSIwgMYLECBJz0N+pn9w8Ld17uztdujcz83z3uHTv7O+vvc67ITGCxAgSI0iMIDGCxAgSI0iMIDGCxAgSI0iMIDGCxAgSI0iMIDGCxAgSc9A/DuDr3JAYQWIEiREkRpAYQWIEiREkRpAYQWIEiREkRpAYQWIEiREkRpAYQWIEiREkRpAYQWIEiREkRpCYf7RsHMja9S8fAAAAAElFTkSuQmCC\n",
      "text/plain": [
       "<Figure size 80x80 with 1 Axes>"
      ]
     },
     "metadata": {
      "needs_background": "light"
     },
     "output_type": "display_data"
    },
    {
     "name": "stdout",
     "output_type": "stream",
     "text": [
      "Accuracy: 99.27%\n"
     ]
    },
    {
     "data": {
      "image/png": "iVBORw0KGgoAAAANSUhEUgAAAGQAAABeCAYAAADVA7GfAAAABHNCSVQICAgIfAhkiAAAAAlwSFlzAAAMTQAADE0B0s6tTgAAADl0RVh0U29mdHdhcmUAbWF0cGxvdGxpYiB2ZXJzaW9uIDMuMC4zLCBodHRwOi8vbWF0cGxvdGxpYi5vcmcvnQurowAAAWxJREFUeJzt3DFKJFEYRtG/1cAliGsQZgJzFyGDkaGpoeGEs5kxFfdgYugOjFyAA0IbG4qv8TKck9dHw+UFRVXXZrvdDh173/0D+EiQGEFiBIkRJEaQGEFiDnY5fn3xa+lNzs+bPyvnZmbm7+nJ0r377b/NV653QmIEiREkRpAYQWIEiREkRpAYQWIEiREkRpAYQWIEiREkRpAYQWIEidns8lXSl+dZ+wj37HXl3MzMPNweLt07/jEe4f5PBIkRJEaQGEFiBIkRJEaQGEFiBIkRJEaQGEFiBIkRJEaQGEFiBIkRJEaQmJ3+T33/8mnp3tvvo6V7MzOPV3dL944fzr90vRMSI0iMIDGCxAgSI0iMIDGCxAgSI0iMIDGCxAgSI0iMIDGCxAgSI0iMIDE7/XAAn+eExAgSI0iMIDGCxAgSI0iMIDGCxAgSI0iMIDGCxAgSI0iMIDGCxAgSI0iMIDGCxAgSI0iMIDGCxLwDCdAcnkuQduAAAAAASUVORK5CYII=\n",
      "text/plain": [
       "<Figure size 80x80 with 1 Axes>"
      ]
     },
     "metadata": {
      "needs_background": "light"
     },
     "output_type": "display_data"
    },
    {
     "name": "stdout",
     "output_type": "stream",
     "text": [
      "Accuracy: 99.09%\n"
     ]
    },
    {
     "data": {
      "image/png": "iVBORw0KGgoAAAANSUhEUgAAAGQAAABeCAYAAADVA7GfAAAABHNCSVQICAgIfAhkiAAAAAlwSFlzAAAMTQAADE0B0s6tTgAAADl0RVh0U29mdHdhcmUAbWF0cGxvdGxpYiB2ZXJzaW9uIDMuMC4zLCBodHRwOi8vbWF0cGxvdGxpYi5vcmcvnQurowAAAWlJREFUeJzt3KFNQ1EAhtFbgsIj2ICkkhCmQAECwQRMgMYxCBuAYAIUAsMMGCQG8dBI0tvwhZzj758mX65o3mtXy7IMOnb++gPwkyAxgsQIEiNIjCAxgsTsbnP8+uJs6pec45u7mXNjjDHujw6n7j0tX6tNzrshMYLECBIjSIwgMYLECBIjSIwgMYLECBIjSIwgMYLECBIjSIwgMYLErLb5KunH+5g6vj75nDk3xhjj9WFv6t7+eniE+58IEiNIjCAxgsQIEiNIjCAxgsQIEiNIjCAxgsQIEiNIjCAxgsQIEiNIjCAxW/2d+nL5Nnfw9mDu3hjj+epx6t7py/lG592QGEFiBIkRJEaQGEFiBIkRJEaQGEFiBIkRJEaQGEFiBIkRJEaQGEFiBInZ6h8H8HtuSIwgMYLECBIjSIwgMYLECBIjSIwgMYLECBIjSIwgMYLECBIjSIwgMYLECBIjSIwgMYLECBIjSMw3fGEcyqrveTIAAAAASUVORK5CYII=\n",
      "text/plain": [
       "<Figure size 80x80 with 1 Axes>"
      ]
     },
     "metadata": {
      "needs_background": "light"
     },
     "output_type": "display_data"
    },
    {
     "name": "stdout",
     "output_type": "stream",
     "text": [
      "Accuracy: 99.64%\n"
     ]
    },
    {
     "data": {
      "image/png": "iVBORw0KGgoAAAANSUhEUgAAAGQAAABeCAYAAADVA7GfAAAABHNCSVQICAgIfAhkiAAAAAlwSFlzAAAMTQAADE0B0s6tTgAAADl0RVh0U29mdHdhcmUAbWF0cGxvdGxpYiB2ZXJzaW9uIDMuMC4zLCBodHRwOi8vbWF0cGxvdGxpYi5vcmcvnQurowAAAWBJREFUeJzt3aFNBEEAhtE5Qg9g6ASBvAZQNIHnKrg6CAkOgQRNDyCQKASesGj0zYZPvOfnzyVfRmz2kt0syzLoOPrvH8BfgsQIEiNIjCAxgsQIEnO85vjd58vUh5z33cnMuTHGGF8fr1P39g/bzSHn3ZAYQWIEiREkRpAYQWIEiREkRpAYQWIEiREkRpAYQWIEiREkRpAYQWJWfYW7PM/dezw9nzs4xri4Ppu8uD3otBsSI0iMIDGCxAgSI0iMIDGCxAgSI0iMIDGCxAgSI0iMIDGCxAgSI0iMIDGCxKz6J4fvn/upe1dPN1P3xhjj8m03d/D2sONuSIwgMYLECBIjSIwgMYLECBIjSIwgMYLECBIjSIwgMYLECBIjSIwgMYLEbHyDqsUNiREkRpAYQWIEiREkRpAYQWIEiREkRpAYQWIEiREkRpAYQWIEiREkRpAYQWIEiREkRpAYQWIEifkFJ4oaGVlXbosAAAAASUVORK5CYII=\n",
      "text/plain": [
       "<Figure size 80x80 with 1 Axes>"
      ]
     },
     "metadata": {
      "needs_background": "light"
     },
     "output_type": "display_data"
    },
    {
     "data": {
      "image/png": "iVBORw0KGgoAAAANSUhEUgAAAGQAAABeCAYAAADVA7GfAAAABHNCSVQICAgIfAhkiAAAAAlwSFlzAAAMTQAADE0B0s6tTgAAADl0RVh0U29mdHdhcmUAbWF0cGxvdGxpYiB2ZXJzaW9uIDMuMC4zLCBodHRwOi8vbWF0cGxvdGxpYi5vcmcvnQurowAAAVtJREFUeJzt3aFNBVEQQNFZgoB6qIOEBqARBIoqcBRAEAgqQKCwUAYGuWj0fz9ccY5/k01uRmzeJrvt+z50nPz3A/CXIDGCxAgSI0iMIDGCxJwec/j7/Cx9yXm9PF85bmZmPr4el857+rzZDjlvQ2IEiREkRpAYQWIEiREkRpAYQWIEiREkRpAYQWIEiREkRpAYQWIEiTnqFe73/dor17uXs6XzZmb2/WH5zEPYkBhBYgSJESRGkBhBYgSJESRGkBhBYgSJESRGkBhBYgSJESRGkBhBYgSJESTmqB85zNwunbZfvS2dNzPzvF0snXe1Xx903obECBIjSIwgMYLECBIjSIwgMYLECBIjSIwgMYLECBIjSIwgMYLECBIjSMzmH1QtNiRGkBhBYgSJESRGkBhBYgSJESRGkBhBYgSJESRGkBhBYgSJESRGkBhBYgSJESRGkBhBYgSJESTmFxNSGS81ACR0AAAAAElFTkSuQmCC\n",
      "text/plain": [
       "<Figure size 80x80 with 1 Axes>"
      ]
     },
     "metadata": {
      "needs_background": "light"
     },
     "output_type": "display_data"
    },
    {
     "name": "stdout",
     "output_type": "stream",
     "text": [
      "Accuracy: 99.55%\n"
     ]
    },
    {
     "data": {
      "image/png": "iVBORw0KGgoAAAANSUhEUgAAAGQAAABeCAYAAADVA7GfAAAABHNCSVQICAgIfAhkiAAAAAlwSFlzAAAMTQAADE0B0s6tTgAAADl0RVh0U29mdHdhcmUAbWF0cGxvdGxpYiB2ZXJzaW9uIDMuMC4zLCBodHRwOi8vbWF0cGxvdGxpYi5vcmcvnQurowAAAVhJREFUeJzt3aFNBUEUQNFZQge0RCE0gEFhoQAMRVDEDxZDAzgqIAEPGQSKBLfzwxXn+H3Z5OaJzWx2tznnoOPkv2+A3wSJESRGkBhBYgSJESTm9JjDX8ZY+pDzcL5y2o/D8/3SeU8fl9ue621IjCAxgsQIEiNIjCAxgsQIEiNIjCAxgsQIEiNIjCAxgsQIEiNIjCAxRz3Cfb9eO+/2cdfp6J/mfF0+cw8bEiNIjCAxgsQIEiNIjCAxgsQIEiNIjCAxgsQIEiNIjCAxgsQIEiNIjCAxgsQc9SWHr8+bpfPmxdvSeWOMcbedLZ13tfP7YzYkRpAYQWIEiREkRpAYQWIEiREkRpAYQWIEiREkRpAYQWIEiREkRpAYQWI2/6BqsSExgsQIEiNIjCAxgsQIEiNIjCAxgsQIEiNIjCAxgsQIEiNIjCAxgsQIEiNIjCAxgsQIEiNIjCAx38zLGxgnpRWKAAAAAElFTkSuQmCC\n",
      "text/plain": [
       "<Figure size 80x80 with 1 Axes>"
      ]
     },
     "metadata": {
      "needs_background": "light"
     },
     "output_type": "display_data"
    },
    {
     "name": "stdout",
     "output_type": "stream",
     "text": [
      "Accuracy: 99.91%\n"
     ]
    },
    {
     "data": {
      "image/png": "iVBORw0KGgoAAAANSUhEUgAAAGQAAABeCAYAAADVA7GfAAAABHNCSVQICAgIfAhkiAAAAAlwSFlzAAAMTQAADE0B0s6tTgAAADl0RVh0U29mdHdhcmUAbWF0cGxvdGxpYiB2ZXJzaW9uIDMuMC4zLCBodHRwOi8vbWF0cGxvdGxpYi5vcmcvnQurowAAAVVJREFUeJzt3bFJxlAUgNEXsXAth3EBsbX6e4dwBgewsnQChxArReFZWAl2ecGvOKfPJfBxi/BCss05Bx1n/30D/CZIjCAxgsQIEiNIjCAx50cOfxlj6UPO/eXKaT8enu6Wznv+uN72XG9DYgSJESRGkBhBYgSJESRGkBhBYgSJESRGkBhBYgSJESRGkBhBYgSJOfQI9/Vm7bzT467T0T/N+bZ85h42JEaQGEFiBIkRJEaQGEFiBIkRJEaQGEFiBIkRJEaQGEFiBIkRJEaQGEFiBIk59CWHr8/T0nnz6n3pvDHGOG0XS+fd7vz+mA2JESRGkBhBYgSJESRGkBhBYgSJESRGkBhBYgSJESRGkBhBYgSJESRGkJjNP6habEiMIDGCxAgSI0iMIDGCxAgSI0iMIDGCxAgSI0iMIDGCxAgSI0iMIDGCxAgSI0iMIDGCxAgSI0jMN+FMGzB0hs2wAAAAAElFTkSuQmCC\n",
      "text/plain": [
       "<Figure size 80x80 with 1 Axes>"
      ]
     },
     "metadata": {
      "needs_background": "light"
     },
     "output_type": "display_data"
    },
    {
     "name": "stdout",
     "output_type": "stream",
     "text": [
      "Accuracy: 100.00%\n"
     ]
    },
    {
     "data": {
      "image/png": "iVBORw0KGgoAAAANSUhEUgAAAGQAAABeCAYAAADVA7GfAAAABHNCSVQICAgIfAhkiAAAAAlwSFlzAAAMTQAADE0B0s6tTgAAADl0RVh0U29mdHdhcmUAbWF0cGxvdGxpYiB2ZXJzaW9uIDMuMC4zLCBodHRwOi8vbWF0cGxvdGxpYi5vcmcvnQurowAAAVZJREFUeJzt3bFJBFEUQNE/on1ZjQ1sASIbW4QlWILBFmAB9mAorvANjASz+Ys3OCefx8DlBcMfZrY556Dj6r9vgN8EiREkRpAYQWIEiREk5vqSw9/GWPqQ83S7ctqP59Pj0nmv58O253obEiNIjCAxgsQIEiNIjCAxgsQIEiNIjCAxgsQIEiNIjCAxgsQIEiNIzEWPcN8Pa+cdX3adjv5pzo/lM/ewITGCxAgSI0iMIDGCxAgSI0iMIDGCxAgSI0iMIDGCxAgSI0iMIDGCxAgSI0jMRV9y+Po8Lp03785L540xxv12s3Tew87vj9mQGEFiBIkRJEaQGEFiBIkRJEaQGEFiBIkRJEaQGEFiBIkRJEaQGEFiBInZ/IOqxYbECBIjSIwgMYLECBIjSIwgMYLECBIjSIwgMYLECBIjSIwgMYLECBIjSIwgMYLECBIjSIwgMYLEfANOURs2tXiHRAAAAABJRU5ErkJggg==\n",
      "text/plain": [
       "<Figure size 80x80 with 1 Axes>"
      ]
     },
     "metadata": {
      "needs_background": "light"
     },
     "output_type": "display_data"
    },
    {
     "name": "stdout",
     "output_type": "stream",
     "text": [
      "Accuracy: 99.73%\n"
     ]
    },
    {
     "data": {
      "image/png": "iVBORw0KGgoAAAANSUhEUgAAAGQAAABeCAYAAADVA7GfAAAABHNCSVQICAgIfAhkiAAAAAlwSFlzAAAMTQAADE0B0s6tTgAAADl0RVh0U29mdHdhcmUAbWF0cGxvdGxpYiB2ZXJzaW9uIDMuMC4zLCBodHRwOi8vbWF0cGxvdGxpYi5vcmcvnQurowAAAVRJREFUeJzt3bFNxEAQQNE1UBjdkCNiAi6lCEqghZOogAKogZgDLQEREpn3xA/eyz2y9DWBtZa9zTkHHRf/fQP8JkiMIDGCxAgSI0iMIDFX5xz+NsbSh5yn65XTfjy/PC6d9/p5t+253obECBIjSIwgMYLECBIjSIwgMYLECBIjSIwgMYLECBIjSIwgMYLECBJz1iPc99u18w7HXaejf5rzY/nMPWxIjCAxgsQIEiNIjCAxgsQIEiNIjCAxgsQIEiNIjCAxgsQIEiNIjCAxgsQIEnPWlxxOp8PSefPma+m8Mca43y6XznvY+f0xGxIjSIwgMYLECBIjSIwgMYLECBIjSIwgMYLECBIjSIwgMYLECBIjSIwgMZt/ULXYkBhBYgSJESRGkBhBYgSJESRGkBhBYgSJESRGkBhBYgSJESRGkBhBYgSJESRGkBhBYgSJESRGkJhv/LMbOGl8rdgAAAAASUVORK5CYII=\n",
      "text/plain": [
       "<Figure size 80x80 with 1 Axes>"
      ]
     },
     "metadata": {
      "needs_background": "light"
     },
     "output_type": "display_data"
    },
    {
     "name": "stdout",
     "output_type": "stream",
     "text": [
      "Accuracy: 100.00%\n"
     ]
    },
    {
     "data": {
      "image/png": "iVBORw0KGgoAAAANSUhEUgAAAGQAAABeCAYAAADVA7GfAAAABHNCSVQICAgIfAhkiAAAAAlwSFlzAAAMTQAADE0B0s6tTgAAADl0RVh0U29mdHdhcmUAbWF0cGxvdGxpYiB2ZXJzaW9uIDMuMC4zLCBodHRwOi8vbWF0cGxvdGxpYi5vcmcvnQurowAAAQ9JREFUeJzt2zEOwjAQAEEO8f8vHzV1iFjkmd5WpNUVlp3Z3Qcdz19/AJ8EiREkRpAYQWIEiREk5nXn5jNz3CFnd+fKehMSI0iMIDGCxAgSI0iMIDGCxAgSI0iMIDGCxAgSI0iMIDGCxAgSI0jMrVe433bCs1cTEiNIjCAxgsQIEiNIjCAxgsQIEiNIjCAxgsQIEiNIjCAxgsQIEiNIjCAxgsQIEiNIjCAxgsQIEiNIjCAxgsQIEiNIjCAxgsQIEiNIjCAxgsQIEiNIjCAxgsTMCT/j/xMTEiNIjCAxgsQIEiNIjCAxgsQIEiNIjCAxgsQIEiNIjCAxgsQIEiNIjCAxgsQIEiNIjCAxgsQIEvMGcp8NtvksoY0AAAAASUVORK5CYII=\n",
      "text/plain": [
       "<Figure size 80x80 with 1 Axes>"
      ]
     },
     "metadata": {
      "needs_background": "light"
     },
     "output_type": "display_data"
    },
    {
     "name": "stdout",
     "output_type": "stream",
     "text": [
      "Accuracy: 95.18%\n",
      "Accuracy: 99.91%\n"
     ]
    },
    {
     "data": {
      "image/png": "iVBORw0KGgoAAAANSUhEUgAAAGQAAABeCAYAAADVA7GfAAAABHNCSVQICAgIfAhkiAAAAAlwSFlzAAAMTQAADE0B0s6tTgAAADl0RVh0U29mdHdhcmUAbWF0cGxvdGxpYiB2ZXJzaW9uIDMuMC4zLCBodHRwOi8vbWF0cGxvdGxpYi5vcmcvnQurowAAAWFJREFUeJzt3SFKBVEAhtE7YnYRVjchmDTYBMEFuAR3IbaXRDBbBDGrO7EK4hKe2Tz34RfO6fMz8HHDMAOzbLfbQcfef98AfwkSI0iMIDGCxAgSI0jM/i7HL+8Ppz7knFxcz5wbY4zxfPM+de9l87qsud4JiREkRpAYQWIEiREkRpAYQWIEiREkRpAYQWIEiREkRpAYQWIEiREkZqevcH/uzqbufR1/Tt0bY4zzp8e5g5t1lzshMYLECBIjSIwgMYLECBIjSIwgMYLECBIjSIwgMYLECBIjSIwgMYLECBIjSMxOP3J4ODqduvd9+zZ1b4wxPq4Opm+u4YTECBIjSIwgMYLECBIjSIwgMYLECBIjSIwgMYLECBIjSIwgMYLECBIjSMziH1QtTkiMIDGCxAgSI0iMIDGCxAgSI0iMIDGCxAgSI0iMIDGCxAgSI0iMIDGCxAgSI0iMIDGCxAgSI0jML2kzGDtcu34SAAAAAElFTkSuQmCC\n",
      "text/plain": [
       "<Figure size 80x80 with 1 Axes>"
      ]
     },
     "metadata": {
      "needs_background": "light"
     },
     "output_type": "display_data"
    },
    {
     "data": {
      "image/png": "iVBORw0KGgoAAAANSUhEUgAAAGQAAABeCAYAAADVA7GfAAAABHNCSVQICAgIfAhkiAAAAAlwSFlzAAAMTQAADE0B0s6tTgAAADl0RVh0U29mdHdhcmUAbWF0cGxvdGxpYiB2ZXJzaW9uIDMuMC4zLCBodHRwOi8vbWF0cGxvdGxpYi5vcmcvnQurowAAAV9JREFUeJzt3LFJBEEAhtFZsY2LzY2MtABLMNfcWO1AMLUGsQUFwdDQCixkjQ3lZvFD3svv5+BjgmN3blnXddBx8NdfgJ8EiREkRpAYQWIEiREk5nDL8Yub86k/ci5vr2bOjTHGuD5+mLr38fmy7PN5JyRGkBhBYgSJESRGkBhBYgSJESRGkBhBYgSJESRGkBhBYgSJESRGkJhly1dJl+V06vj7193MuTHGGM+7o6l79+vOI9z/RJAYQWIEiREkRpAYQWIEiREkRpAYQWIEiREkRpAYQWIEiREkRpAYQWIEidn0nvr69DZ17/Vs/j31k9vH6Zv7cEJiBIkRJEaQGEFiBIkRJEaQGEFiBIkRJEaQGEFiBIkRJEaQGEFiBIkRJGbTPw7g95yQGEFiBIkRJEaQGEFiBIkRJEaQGEFiBIkRJEaQGEFiBIkRJEaQGEFiBIkRJEaQGEFiBIkRJEaQmG8GfxvUnkJ0GQAAAABJRU5ErkJggg==\n",
      "text/plain": [
       "<Figure size 80x80 with 1 Axes>"
      ]
     },
     "metadata": {
      "needs_background": "light"
     },
     "output_type": "display_data"
    },
    {
     "name": "stdout",
     "output_type": "stream",
     "text": [
      "Accuracy: 99.82%\n"
     ]
    },
    {
     "data": {
      "image/png": "iVBORw0KGgoAAAANSUhEUgAAAGQAAABeCAYAAADVA7GfAAAABHNCSVQICAgIfAhkiAAAAAlwSFlzAAAMTQAADE0B0s6tTgAAADl0RVh0U29mdHdhcmUAbWF0cGxvdGxpYiB2ZXJzaW9uIDMuMC4zLCBodHRwOi8vbWF0cGxvdGxpYi5vcmcvnQurowAAAWRJREFUeJzt3DEuBVEAhtE7Yg0aDQuwF63QqJQarYbaEsQWdGoLUCm0Gq0tjFop7sQXOaefPy/53i0m8+Yt67oOOnb++gPwnSAxgsQIEiNIjCAxgsTsbjl+dnk69Sbn6u5i5twYY4yTveupe2+fz8tvrndCYgSJESRGkBhBYgSJESRGkBhBYgSJESRGkBhBYgSJESRGkBhBYgSJWbb8KemyHE0df/94nDk3xhjjZn/ud/J+PfQI9z8RJEaQGEFiBIkRJEaQGEFiBIkRJEaQGEFiBIkRJEaQGEFiBIkRJEaQGEFiNn1PfX15nbr3dHA+dW+MMY5vH6Zv/oYTEiNIjCAxgsQIEiNIjCAxgsQIEiNIjCAxgsQIEiNIjCAxgsQIEiNIjCAxm/5xAD/nhMQIEiNIjCAxgsQIEiNIjCAxgsQIEiNIjCAxgsQIEiNIjCAxgsQIEiNIjCAxgsQIEiNIjCAxgsR8AcpTG/6076VqAAAAAElFTkSuQmCC\n",
      "text/plain": [
       "<Figure size 80x80 with 1 Axes>"
      ]
     },
     "metadata": {
      "needs_background": "light"
     },
     "output_type": "display_data"
    },
    {
     "name": "stdout",
     "output_type": "stream",
     "text": [
      "Accuracy: 100.00%\n"
     ]
    },
    {
     "data": {
      "image/png": "iVBORw0KGgoAAAANSUhEUgAAAGQAAABeCAYAAADVA7GfAAAABHNCSVQICAgIfAhkiAAAAAlwSFlzAAAMTQAADE0B0s6tTgAAADl0RVh0U29mdHdhcmUAbWF0cGxvdGxpYiB2ZXJzaW9uIDMuMC4zLCBodHRwOi8vbWF0cGxvdGxpYi5vcmcvnQurowAAAWRJREFUeJzt3LFJBFEARdE/YmoDG5rYj4mJwWaCuWgBdmADYg0WIDYhWoBYgYZjbCj7Fy9yTj6PhcsPhtmZZV3XQcfBX/8AfhIkRpAYQWIEiREkRpCYw32On19up97k3NxdzJwbY4xxenQ9de/t83nZ5XonJEaQGEFiBIkRJEaQGEFiBIkRJEaQGEFiBIkRJEaQGEFiBIkRJEaQmGWffyVdlpOp4x/vTzPnxhhjXG2+pu49rMce4f4ngsQIEiNIjCAxgsQIEiNIjCAxgsQIEiNIjCAxgsQIEiNIjCAxgsQIEiNIzF7fU19fXqfuPW62U/fGGOPs9n765i6ckBhBYgSJESRGkBhBYgSJESRGkBhBYgSJESRGkBhBYgSJESRGkBhBYgSJ2euHA/g9JyRGkBhBYgSJESRGkBhBYgSJESRGkBhBYgSJESRGkBhBYgSJESRGkBhBYgSJESRGkBhBYgSJESTmG/NVHQ1HaesHAAAAAElFTkSuQmCC\n",
      "text/plain": [
       "<Figure size 80x80 with 1 Axes>"
      ]
     },
     "metadata": {
      "needs_background": "light"
     },
     "output_type": "display_data"
    },
    {
     "name": "stdout",
     "output_type": "stream",
     "text": [
      "Accuracy: 99.91%\n"
     ]
    },
    {
     "data": {
      "image/png": "iVBORw0KGgoAAAANSUhEUgAAAGQAAABeCAYAAADVA7GfAAAABHNCSVQICAgIfAhkiAAAAAlwSFlzAAAMTQAADE0B0s6tTgAAADl0RVh0U29mdHdhcmUAbWF0cGxvdGxpYiB2ZXJzaW9uIDMuMC4zLCBodHRwOi8vbWF0cGxvdGxpYi5vcmcvnQurowAAAWRJREFUeJzt3KFNBFEARdE/BEcHKxG0g0YQggNJgqEAOqABQgmUQGiC9RgkBjdoJNm/4Yac4+dlk5svJrMzy7qug46Dv/4B/CRIjCAxgsQIEiNIjCAxh/scP7++nHqTc/dwNXNujDHG6dHt1L3t18uyy/VOSIwgMYLECBIjSIwgMYLECBIjSIwgMYLECBIjSIwgMYLECBIjSIwgMcs+/0q6LCdTxz/eX2fOjTHGuNl8Tt17Wo89wv1PBIkRJEaQGEFiBIkRJEaQGEFiBIkRJEaQGEFiBIkRJEaQGEFiBIkRJEaQmL2+p75u36buPW8upu6NMcbZ/eP0zV04ITGCxAgSI0iMIDGCxAgSI0iMIDGCxAgSI0iMIDGCxAgSI0iMIDGCxAgSs9cPB/B7TkiMIDGCxAgSI0iMIDGCxAgSI0iMIDGCxAgSI0iMIDGCxAgSI0iMIDGCxAgSI0iMIDGCxAgSI0jMN+lfHRTpZVLyAAAAAElFTkSuQmCC\n",
      "text/plain": [
       "<Figure size 80x80 with 1 Axes>"
      ]
     },
     "metadata": {
      "needs_background": "light"
     },
     "output_type": "display_data"
    },
    {
     "name": "stdout",
     "output_type": "stream",
     "text": [
      "Accuracy: 100.00%\n"
     ]
    },
    {
     "data": {
      "image/png": "iVBORw0KGgoAAAANSUhEUgAAAGQAAABeCAYAAADVA7GfAAAABHNCSVQICAgIfAhkiAAAAAlwSFlzAAAMTQAADE0B0s6tTgAAADl0RVh0U29mdHdhcmUAbWF0cGxvdGxpYiB2ZXJzaW9uIDMuMC4zLCBodHRwOi8vbWF0cGxvdGxpYi5vcmcvnQurowAAAWVJREFUeJzt3CFKBGEAhuF/xOQRNgqexy6IYBGbweIBvIEXELyBRzB4iDVbbDbTmI2y/+KLPE+fj4WXPwyzM8u6roOOg7/+AfwkSIwgMYLECBIjSIwgMYf7HD+/vpx6k3P3cDVzbowxxunR7dS97dfLssv1TkiMIDGCxAgSI0iMIDGCxAgSI0iMIDGCxAgSI0iMIDGCxAgSI0iMIDHLPv9KuiwnU8c/3l9nzo0xxrjZfE7de1qPPcL9TwSJESRGkBhBYgSJESRGkBhBYgSJESRGkBhBYgSJESRGkBhBYgSJESRGkJi9vqe+vm2n7j1vLqbujTHG2f3j9M1dOCExgsQIEiNIjCAxgsQIEiNIjCAxgsQIEiNIjCAxgsQIEiNIjCAxgsQIErPXDwfwe05IjCAxgsQIEiNIjCAxgsQIEiNIjCAxgsQIEiNIjCAxgsQIEiNIjCAxgsQIEiNIjCAxgsQIEiNIzDe/jh0X4U+h9QAAAABJRU5ErkJggg==\n",
      "text/plain": [
       "<Figure size 80x80 with 1 Axes>"
      ]
     },
     "metadata": {
      "needs_background": "light"
     },
     "output_type": "display_data"
    },
    {
     "name": "stdout",
     "output_type": "stream",
     "text": [
      "Accuracy: 100.00%\n"
     ]
    },
    {
     "data": {
      "image/png": "iVBORw0KGgoAAAANSUhEUgAAAGQAAABeCAYAAADVA7GfAAAABHNCSVQICAgIfAhkiAAAAAlwSFlzAAAMTQAADE0B0s6tTgAAADl0RVh0U29mdHdhcmUAbWF0cGxvdGxpYiB2ZXJzaW9uIDMuMC4zLCBodHRwOi8vbWF0cGxvdGxpYi5vcmcvnQurowAAAWRJREFUeJzt3SFOA0EAhtEpYCAEi+MAiFpA16AISY9AegNOgeMm3IBj4DgBDolYNLrT8In3/Pxp8mXEZpvsalmWQcfRf/8A/hIkRpAYQWIEiREkRpCYk0OOnz9eTn3IuX5+mDk3xhjjbn0/de/1Yrva57wbEiNIjCAxgsQIEiNIjCAxgsQIEiNIjCAxgsQIEiNIjCAxgsQIEiNIzEFf4W5u36burX92U/fGGOP443Tu4M12r+NuSIwgMYLECBIjSIwgMYLECBIjSIwgMYLECBIjSIwgMYLECBIjSIwgMYLECBJz0D857DZPU/e+Xz6n7o0xxtX72dzBr/2OuyExgsQIEiNIjCAxgsQIEiNIjCAxgsQIEiNIjCAxgsQIEiNIjCAxgsQIErPyDaoWNyRGkBhBYgSJESRGkBhBYgSJESRGkBhBYgSJESRGkBhBYgSJESRGkBhBYgSJESRGkBhBYgSJESTmFz73FBq1Z65eAAAAAElFTkSuQmCC\n",
      "text/plain": [
       "<Figure size 80x80 with 1 Axes>"
      ]
     },
     "metadata": {
      "needs_background": "light"
     },
     "output_type": "display_data"
    },
    {
     "data": {
      "image/png": "iVBORw0KGgoAAAANSUhEUgAAAGQAAABeCAYAAADVA7GfAAAABHNCSVQICAgIfAhkiAAAAAlwSFlzAAAMTQAADE0B0s6tTgAAADl0RVh0U29mdHdhcmUAbWF0cGxvdGxpYiB2ZXJzaW9uIDMuMC4zLCBodHRwOi8vbWF0cGxvdGxpYi5vcmcvnQurowAAAWpJREFUeJzt2rFJZFEYhuF/BsUaNhY2NLeFDQwsYAVz421BMDKyA2uwhO3BaEFswMhojA3FM+zL8Dz5/bjwcoPLOZvdbjd0bP/3C/CZIDGCxAgSI0iMIDGCxBztc3xzsl36k3NyfbNybmZmHh/ul+5dzmy+87wvJEaQGEFiBIkRJEaQGEFiBIkRJEaQGEFiBIkRJEaQGEFiBIkRJEaQmM0+r5LePf1bOn728nvl3MzMvB//Wrp3cfXHEe4hESRGkBhBYgSJESRGkBhBYgSJESRGkBhBYgSJESRGkBhBYgSJESRGkBhBYvZ6yeHt+Xzp+O3PvyvnZmbmen4s3TvdvbrkcEgEiREkRpAYQWIEiREkRpAYQWIEiREkRpAYQWIEiREkRpAYQWIEiREkZq9n6nydLyRGkBhBYgSJESRGkBhBYgSJESRGkBhBYgSJESRGkBhBYgSJESRGkBhBYgSJESRGkBhBYgSJESTmA4DKHq9Wxja0AAAAAElFTkSuQmCC\n",
      "text/plain": [
       "<Figure size 80x80 with 1 Axes>"
      ]
     },
     "metadata": {
      "needs_background": "light"
     },
     "output_type": "display_data"
    },
    {
     "name": "stdout",
     "output_type": "stream",
     "text": [
      "Accuracy: 90.82%\n"
     ]
    },
    {
     "data": {
      "image/png": "iVBORw0KGgoAAAANSUhEUgAAAGQAAABeCAYAAADVA7GfAAAABHNCSVQICAgIfAhkiAAAAAlwSFlzAAAMTQAADE0B0s6tTgAAADl0RVh0U29mdHdhcmUAbWF0cGxvdGxpYiB2ZXJzaW9uIDMuMC4zLCBodHRwOi8vbWF0cGxvdGxpYi5vcmcvnQurowAAAWBJREFUeJzt2jFKJFEYRtG/1MBc9zBrMDcxdANGk7sKcxcx4BZ6N6aCYKqI0BMbiq/xIufk9VFwqaB4b9vv90PH0U+/AJ8JEiNIjCAxgsQIEiNIzMkhx7dtW/uTc3y7dG5m5vnjfune+cz2ned9ITGCxAgSI0iMIDGCxAgSI0iMIDGCxAgSI0iMIDGCxAgSI0iMIDGCxGyHvEq6e3xfOn7x72bl3MzMPL1dLt37c/fXEe5vIkiMIDGCxAgSI0iMIDGCxAgSI0iMIDGCxAgSI0iMIDGCxAgSI0iMIDGCxBz0ksO8XC0dvz7brZybmZmHOV26d7p/dcnhNxEkRpAYQWIEiREkRpAYQWIEiREkRpAYQWIEiREkRpAYQWIEiREkRpCYw56p82W+kBhBYgSJESRGkBhBYgSJESRGkBhBYgSJESRGkBhBYgSJESRGkBhBYgSJESRGkBhBYgSJESRGkJj/78Yer9E4ikMAAAAASUVORK5CYII=\n",
      "text/plain": [
       "<Figure size 80x80 with 1 Axes>"
      ]
     },
     "metadata": {
      "needs_background": "light"
     },
     "output_type": "display_data"
    },
    {
     "name": "stdout",
     "output_type": "stream",
     "text": [
      "Accuracy: 96.00%\n"
     ]
    },
    {
     "data": {
      "image/png": "iVBORw0KGgoAAAANSUhEUgAAAGQAAABeCAYAAADVA7GfAAAABHNCSVQICAgIfAhkiAAAAAlwSFlzAAAMTQAADE0B0s6tTgAAADl0RVh0U29mdHdhcmUAbWF0cGxvdGxpYiB2ZXJzaW9uIDMuMC4zLCBodHRwOi8vbWF0cGxvdGxpYi5vcmcvnQurowAAAVVJREFUeJzt2rFJBUEYRtF/1dQKbEUEO7ADA3N7USuxAhNbMTIxMBTW2FCch5fHOfl+LFw2WGa2fd+HjpP/fgF+EiRGkBhBYgSJESRGkJizQ45v27b4J+d+7dzM7PvD6sntLw/7QmIEiREkRpAYQWIEiREkRpAYQWIEiREkRpAYQWIEiREkRpAYQWIEidkOeZX09X2Wjl8+3a2cm5mZt4+rpXsXj7eOcI+JIDGCxAgSI0iMIDGCxAgSI0iMIDGCxAgSI0iMIDGCxAgSI0iMIDGCxAgSc9BLDvN5s3T8+vx55dzMzLzM6drB/cslh2MiSIwgMYLECBIjSIwgMYLECBIjSIwgMYLECBIjSIwgMYLECBIjSIwgMYc9U+fXfCExgsQIEiNIjCAxgsQIEiNIjCAxgsQIEiNIjCAxgsQIEiNIjCAxgsQIEiNIjCAxgsQIEiNIjCAx32viHa8zc7dXAAAAAElFTkSuQmCC\n",
      "text/plain": [
       "<Figure size 80x80 with 1 Axes>"
      ]
     },
     "metadata": {
      "needs_background": "light"
     },
     "output_type": "display_data"
    },
    {
     "name": "stdout",
     "output_type": "stream",
     "text": [
      "Accuracy: 100.00%\n"
     ]
    },
    {
     "data": {
      "image/png": "iVBORw0KGgoAAAANSUhEUgAAAGQAAABeCAYAAADVA7GfAAAABHNCSVQICAgIfAhkiAAAAAlwSFlzAAAMTQAADE0B0s6tTgAAADl0RVh0U29mdHdhcmUAbWF0cGxvdGxpYiB2ZXJzaW9uIDMuMC4zLCBodHRwOi8vbWF0cGxvdGxpYi5vcmcvnQurowAAAVdJREFUeJzt26FNxWAYhtGvBMcAjIK5UzAAEscoGARrsASGUTDgkBRNUOT+Nzwh5/i+afKkounfbd/3oePsr2+A7wSJESRGkBhBYgSJESTm/JTj27Ytfsm5Wzs3M/v+sHpyO+ZiT0iMIDGCxAgSI0iMIDGCxAgSI0iMIDGCxAgSI0iMIDGCxAgSI0iMIDHbKY+SvrzP0vGr+9uVczMz8/p2WLp3+XjjE+5/IkiMIDGCxAgSI0iMIDGCxAgSI0iMIDGCxAgSI0iMIDGCxAgSI0iMIDGCxJz0kMN8XC8dP1w8rZybmZnn434r/2n/dMjhPxEkRpAYQWIEiREkRpAYQWIEiREkRpAYQWIEiREkRpAYQWIEiREkRpCY035T59c8ITGCxAgSI0iMIDGCxAgSI0iMIDGCxAgSI0iMIDGCxAgSI0iMIDGCxAgSI0iMIDGCxAgSI0iMIDFfbf4dr06V7Y8AAAAASUVORK5CYII=\n",
      "text/plain": [
       "<Figure size 80x80 with 1 Axes>"
      ]
     },
     "metadata": {
      "needs_background": "light"
     },
     "output_type": "display_data"
    },
    {
     "name": "stdout",
     "output_type": "stream",
     "text": [
      "Accuracy: 100.00%\n"
     ]
    },
    {
     "data": {
      "image/png": "iVBORw0KGgoAAAANSUhEUgAAAGQAAABeCAYAAADVA7GfAAAABHNCSVQICAgIfAhkiAAAAAlwSFlzAAAMTQAADE0B0s6tTgAAADl0RVh0U29mdHdhcmUAbWF0cGxvdGxpYiB2ZXJzaW9uIDMuMC4zLCBodHRwOi8vbWF0cGxvdGxpYi5vcmcvnQurowAAAVdJREFUeJzt26FNxlAYRuGvBMUAjIKAMfBYFJPgMGzBGAhGQRAcjqIJinD/cPLneXzfNDmpaHq77fs+dJz89w3wnSAxgsQIEiNIjCAxgsScHnJ827bFLzl3a+dmZt8fVk9uf7nYExIjSIwgMYLECBIjSIwgMYLECBIjSIwgMYLECBIjSIwgMYLECBIjSMx2yKOkL++zdPzi/nbl3MzMvL5dLd07f7zxCfeYCBIjSIwgMYLECBIjSIwgMYLECBIjSIwgMYLECBIjSIwgMYLECBIjSIwgMQc95DAf10vHL8+eVs7NzMzz334r/2n/dMjhmAgSI0iMIDGCxAgSI0iMIDGCxAgSI0iMIDGCxAgSI0iMIDGCxAgSI0jMYb+p82uekBhBYgSJESRGkBhBYgSJESRGkBhBYgSJESRGkBhBYgSJESRGkBhBYgSJESRGkBhBYgSJESRGkJgvbpYdr7E+Gq4AAAAASUVORK5CYII=\n",
      "text/plain": [
       "<Figure size 80x80 with 1 Axes>"
      ]
     },
     "metadata": {
      "needs_background": "light"
     },
     "output_type": "display_data"
    },
    {
     "name": "stdout",
     "output_type": "stream",
     "text": [
      "Accuracy: 99.91%\n"
     ]
    },
    {
     "data": {
      "image/png": "iVBORw0KGgoAAAANSUhEUgAAAGQAAABeCAYAAADVA7GfAAAABHNCSVQICAgIfAhkiAAAAAlwSFlzAAAMTQAADE0B0s6tTgAAADl0RVh0U29mdHdhcmUAbWF0cGxvdGxpYiB2ZXJzaW9uIDMuMC4zLCBodHRwOi8vbWF0cGxvdGxpYi5vcmcvnQurowAAARxJREFUeJzt2zEOgzAQAMFclP9/2alTGycbMdODQKsrEOdZaz3oeP76AfgkSIwgMYLECBIjSIwgMa+TN5+Z233krLVm53oTEiNIjCAxgsQIEiNIjCAxgsQIEiNIjCAxgsQIEiNIjCAxgsQIEiNIzNFfuFe7w9qrCYkRJEaQGEFiBIkRJEaQGEFiBIkRJEaQGEFiBIkRJEaQGEFiBIkRJEaQGEFiji45XL2UMLN1BPwrdt/ZhMQIEiNIjCAxgsQIEiNIjCAxgsQIEiNIjCAxgsQIEiNIjCAxgsQIEiNIzNzhMP4/MSExgsQIEiNIjCAxgsQIEiNIjCAxgsQIEiNIjCAxgsQIEiNIjCAxgsQIEiNIjCAxgsQIEiNIjCAxb4qcE7Vy2t+GAAAAAElFTkSuQmCC\n",
      "text/plain": [
       "<Figure size 80x80 with 1 Axes>"
      ]
     },
     "metadata": {
      "needs_background": "light"
     },
     "output_type": "display_data"
    },
    {
     "name": "stdout",
     "output_type": "stream",
     "text": [
      "Accuracy: 95.73%\n",
      "Accuracy: 100.00%\n"
     ]
    },
    {
     "data": {
      "image/png": "iVBORw0KGgoAAAANSUhEUgAAAGQAAABeCAYAAADVA7GfAAAABHNCSVQICAgIfAhkiAAAAAlwSFlzAAAMTQAADE0B0s6tTgAAADl0RVh0U29mdHdhcmUAbWF0cGxvdGxpYiB2ZXJzaW9uIDMuMC4zLCBodHRwOi8vbWF0cGxvdGxpYi5vcmcvnQurowAAAWJJREFUeJzt3SFKBVEAhtH7xGTUYBCTYHAhbwWCVUwuQDcg2O2aLa7FRbwVKLiAZzbPHfzCOX1+Bj5uGGZgNvv9ftBx8N83wF+CxAgSI0iMIDGCxAgSc7jm+O32depDzuX2eubcGGOM++fHqXvHX2+bJdc7ITGCxAgSI0iMIDGCxAgSI0iMIDGCxAgSI0iMIDGCxAgSI0iMIDGCxKz6Cvfh4mPq3u7kfOreGGO8XH1P3XtaeL0TEiNIjCAxgsQIEiNIjCAxgsQIEiNIjCAxgsQIEiNIjCAxgsQIEiNIjCAxgsSs+pHDze5s6t7n0c/UvTHGeD+9m765hBMSI0iMIDGCxAgSI0iMIDGCxAgSI0iMIDGCxAgSI0iMIDGCxAgSI0iMIDEb/6BqcUJiBIkRJEaQGEFiBIkRJEaQGEFiBIkRJEaQGEFiBIkRJEaQGEFiBIkRJEaQGEFiBIkRJEaQGEFifgESERV2SagNWQAAAABJRU5ErkJggg==\n",
      "text/plain": [
       "<Figure size 80x80 with 1 Axes>"
      ]
     },
     "metadata": {
      "needs_background": "light"
     },
     "output_type": "display_data"
    },
    {
     "data": {
      "image/png": "iVBORw0KGgoAAAANSUhEUgAAAGQAAABeCAYAAADVA7GfAAAABHNCSVQICAgIfAhkiAAAAAlwSFlzAAAMTQAADE0B0s6tTgAAADl0RVh0U29mdHdhcmUAbWF0cGxvdGxpYiB2ZXJzaW9uIDMuMC4zLCBodHRwOi8vbWF0cGxvdGxpYi5vcmcvnQurowAAAVxJREFUeJzt3bFJLVEYRtF/xApsw24EC7ACmzAyMzAUYwNN7ECsQ4zUIoR5sfE9l7eDtfL5GNicYBiG2fZ9HzpO/vcN8JcgMYLECBIjSIwgMYLEnB5zfNuulz7kvL3frZybmZnzy6ule2dfj9sh1zshMYLECBIjSIwgMYLECBIjSIwgMYLECBIjSIwgMYLECBIjSIwgMYLEHPUV7v7yu3Tv/uFm6d7MzO3359K91wOvd0JiBIkRJEaQGEFiBIkRJEaQGEFiBIkRJEaQGEFiBIkRJEaQGEFiBIkRJEaQmON+p37xvHRvf/tZujcz8/RxvnzzEE5IjCAxgsQIEiNIjCAxgsQIEiNIjCAxgsQIEiNIjCAxgsQIEiNIjCAxgsRs/kHV4oTECBIjSIwgMYLECBIjSIwgMYLECBIjSIwgMYLECBIjSIwgMYLECBIjSIwgMYLECBIjSIwgMYLE/ANQyRl5TaxyXAAAAABJRU5ErkJggg==\n",
      "text/plain": [
       "<Figure size 80x80 with 1 Axes>"
      ]
     },
     "metadata": {
      "needs_background": "light"
     },
     "output_type": "display_data"
    },
    {
     "name": "stdout",
     "output_type": "stream",
     "text": [
      "Accuracy: 99.82%\n"
     ]
    },
    {
     "data": {
      "image/png": "iVBORw0KGgoAAAANSUhEUgAAAGQAAABeCAYAAADVA7GfAAAABHNCSVQICAgIfAhkiAAAAAlwSFlzAAAMTQAADE0B0s6tTgAAADl0RVh0U29mdHdhcmUAbWF0cGxvdGxpYiB2ZXJzaW9uIDMuMC4zLCBodHRwOi8vbWF0cGxvdGxpYi5vcmcvnQurowAAAWBJREFUeJzt3KtNBkEARtEZgsVQAg3QAA3QAIaEYCmDTjAYKqADBAYsioekiEUjCfOHG3KO3y+b3IzYbHbntm2Djr2/vgG+EyRGkBhBYgSJESRGkJj9XY7Peb70Ief17Xbl3BhjjIOTy6V7h+838zfXOyExgsQIEiNIjCAxgsQIEiNIjCAxgsQIEiNIjCAxgsQIEiNIjCAxgsTs9BXu9nS0dO/64mrp3hhj3H+8LN17+OX1TkiMIDGCxAgSI0iMIDGCxAgSI0iMIDGCxAgSI0iMIDGCxAgSI0iMIDGCxAgSM3f5v6w559Lx7XP9vR6f3i3de3488536fyJIjCAxgsQIEiNIjCAxgsQIEiNIjCAxgsQIEiNIjCAxgsQIEiNIjCAxO32nzs85ITGCxAgSI0iMIDGCxAgSI0iMIDGCxAgSI0iMIDGCxAgSI0iMIDGCxAgSI0iMIDGCxAgSI0iMIDFf7jwdKhVj7/YAAAAASUVORK5CYII=\n",
      "text/plain": [
       "<Figure size 80x80 with 1 Axes>"
      ]
     },
     "metadata": {
      "needs_background": "light"
     },
     "output_type": "display_data"
    },
    {
     "name": "stdout",
     "output_type": "stream",
     "text": [
      "Accuracy: 99.18%\n"
     ]
    },
    {
     "data": {
      "image/png": "iVBORw0KGgoAAAANSUhEUgAAAGQAAABeCAYAAADVA7GfAAAABHNCSVQICAgIfAhkiAAAAAlwSFlzAAAMTQAADE0B0s6tTgAAADl0RVh0U29mdHdhcmUAbWF0cGxvdGxpYiB2ZXJzaW9uIDMuMC4zLCBodHRwOi8vbWF0cGxvdGxpYi5vcmcvnQurowAAAV1JREFUeJzt3DEuBVEAhtF7sQLL0KgUtqCWKNmH1SglFmATlCIqWivQjVop7774Iuf082eSL7eYTGbmtm2DjoO/vgF+EiRGkBhBYgSJESRGkJijfY7Pebn0Iefz82Hl3BhjjMOz66V7x+93c5frnZAYQWIEiREkRpAYQWIEiREkRpAYQWIEiREkRpAYQWIEiREkRpAYQWL2+gp3eztdund7cbN0b4wxHj9el+497Xi9ExIjSIwgMYLECBIjSIwgMYLECBIjSIwgMYLECBIjSIwgMYLECBIjSIwgMYLEzH3+L2vOuXR8+1p/ryfn90v3Xp6vfKf+nwgSI0iMIDGCxAgSI0iMIDGCxAgSI0iMIDGCxAgSI0iMIDGCxAgSI0jMXt+p83tOSIwgMYLECBIjSIwgMYLECBIjSIwgMYLECBIjSIwgMYLECBIjSIwgMYLECBIjSIwgMYLECBIjSMw35cQdILu+2K8AAAAASUVORK5CYII=\n",
      "text/plain": [
       "<Figure size 80x80 with 1 Axes>"
      ]
     },
     "metadata": {
      "needs_background": "light"
     },
     "output_type": "display_data"
    },
    {
     "name": "stdout",
     "output_type": "stream",
     "text": [
      "Accuracy: 99.91%\n"
     ]
    },
    {
     "data": {
      "image/png": "iVBORw0KGgoAAAANSUhEUgAAAGQAAABeCAYAAADVA7GfAAAABHNCSVQICAgIfAhkiAAAAAlwSFlzAAAMTQAADE0B0s6tTgAAADl0RVh0U29mdHdhcmUAbWF0cGxvdGxpYiB2ZXJzaW9uIDMuMC4zLCBodHRwOi8vbWF0cGxvdGxpYi5vcmcvnQurowAAAVxJREFUeJzt3DEuBVEAhtF7xQ5sQitWYAsqjdiG7ehUequgpBE2wAoYtVLeffFFzunnzyRfbjGZzMxt2wYdB399A/wkSIwgMYLECBIjSIwgMYf7HJ/zfOlDzsf73cq5McYYnydXS/eOXm/mLtc7ITGCxAgSI0iMIDGCxAgSI0iMIDGCxAgSI0iMIDGCxAgSI0iMIDGCxOz1Fe72crp07/rscuneGGPcvz0v3XvY8XonJEaQGEFiBIkRJEaQGEFiBIkRJEaQGEFiBIkRJEaQGEFiBIkRJEaQGEFiBImZ+/xf1pxz6fj2tf5ej09ul+49PV74Tv0/ESRGkBhBYgSJESRGkBhBYgSJESRGkBhBYgSJESRGkBhBYgSJESRGkJi9vlPn95yQGEFiBIkRJEaQGEFiBIkRJEaQGEFiBIkRJEaQGEFiBIkRJEaQGEFiBIkRJEaQGEFiBIkRJEaQmG9suh4dvtQGHwAAAABJRU5ErkJggg==\n",
      "text/plain": [
       "<Figure size 80x80 with 1 Axes>"
      ]
     },
     "metadata": {
      "needs_background": "light"
     },
     "output_type": "display_data"
    },
    {
     "name": "stdout",
     "output_type": "stream",
     "text": [
      "Accuracy: 100.00%\n"
     ]
    },
    {
     "data": {
      "image/png": "iVBORw0KGgoAAAANSUhEUgAAAGQAAABeCAYAAADVA7GfAAAABHNCSVQICAgIfAhkiAAAAAlwSFlzAAAMTQAADE0B0s6tTgAAADl0RVh0U29mdHdhcmUAbWF0cGxvdGxpYiB2ZXJzaW9uIDMuMC4zLCBodHRwOi8vbWF0cGxvdGxpYi5vcmcvnQurowAAAVtJREFUeJzt3DEuBVEAhtF7xQ4sQkeltAilRGzDfjRKtV2IjgY7oFY8tVLenfgi5/TzZ5Ivt5hMZuZutxt0HPz1DfCTIDGCxAgSI0iMIDGCxBxuOT7nxdKHnM+P+5VzY4wxvk6vl+4dvd3Ofa53QmIEiREkRpAYQWIEiREkRpAYQWIEiREkRpAYQWIEiREkRpAYQWIEidn0Fe7u9Wzp3s351dK9McZ4eH9Zuve45/VOSIwgMYLECBIjSIwgMYLECBIjSIwgMYLECBIjSIwgMYLECBIjSIwgMYLECBIzt/xf1pxz6fgW93p8crd07/np0nfq/4kgMYLECBIjSIwgMYLECBIjSIwgMYLECBIjSIwgMYLECBIjSIwgMYLEbPpOnd9zQmIEiREkRpAYQWIEiREkRpAYQWIEiREkRpAYQWIEiREkRpAYQWIEiREkRpAYQWIEiREkRpAYQWK+AQQvHhyZehgTAAAAAElFTkSuQmCC\n",
      "text/plain": [
       "<Figure size 80x80 with 1 Axes>"
      ]
     },
     "metadata": {
      "needs_background": "light"
     },
     "output_type": "display_data"
    },
    {
     "name": "stdout",
     "output_type": "stream",
     "text": [
      "Accuracy: 100.00%\n"
     ]
    },
    {
     "data": {
      "image/png": "iVBORw0KGgoAAAANSUhEUgAAAGQAAABeCAYAAADVA7GfAAAABHNCSVQICAgIfAhkiAAAAAlwSFlzAAAMTQAADE0B0s6tTgAAADl0RVh0U29mdHdhcmUAbWF0cGxvdGxpYiB2ZXJzaW9uIDMuMC4zLCBodHRwOi8vbWF0cGxvdGxpYi5vcmcvnQurowAAAWNJREFUeJzt3SFKRFEAhtE74goskwUNBqvFPQjCZBFc0CATrYZpBlciuAKDK7A/s3nu4BfO6fdn4OOGxxt4q2VZBh0n//0D+EuQGEFiBIkRJEaQGEFiTo85vn/eTX3I2T8+zZwbY4xx/n0zdW979bk65LwbEiNIjCAxgsQIEiNIjCAxgsQIEiNIjCAxgsQIEiNIjCAxgsQIEiNIzFFf4b6+n03d217eTd0bY4yft4u5gy+HHXdDYgSJESRGkBhBYgSJESRGkBhBYgSJESRGkBhBYgSJESRGkBhBYgSJESRGkJij/snh/vph6t56vZu6N8YYm6/bqXsfB553Q2IEiREkRpAYQWIEiREkRpAYQWIEiREkRpAYQWIEiREkRpAYQWIEiREkZuUbVC1uSIwgMYLECBIjSIwgMYLECBIjSIwgMYLECBIjSIwgMYLECBIjSIwgMYLECBIjSIwgMYLECBIjSMwvansWZ3bVhP0AAAAASUVORK5CYII=\n",
      "text/plain": [
       "<Figure size 80x80 with 1 Axes>"
      ]
     },
     "metadata": {
      "needs_background": "light"
     },
     "output_type": "display_data"
    },
    {
     "data": {
      "image/png": "iVBORw0KGgoAAAANSUhEUgAAAGQAAABeCAYAAADVA7GfAAAABHNCSVQICAgIfAhkiAAAAAlwSFlzAAAMTQAADE0B0s6tTgAAADl0RVh0U29mdHdhcmUAbWF0cGxvdGxpYiB2ZXJzaW9uIDMuMC4zLCBodHRwOi8vbWF0cGxvdGxpYi5vcmcvnQurowAAAV9JREFUeJzt3SFOxFAUQNFfgh12gmQHGCRI1kBwswccCYIlsAESFBKHJOxjBL5o9PyGK87xffnJzRNNm3ZZ13XQcfLfB+AvQWIEiREkRpAYQWIEiTndcvjry/vUm5zv28uZ48YYYxw+z6fOe7j4Wo653obECBIjSIwgMYLECBIjSIwgMYLECBIjSIwgMYLECBIjSIwgMYLECBKz6SPcx/3P1Hk3z7up88YY4/7sau7At+MutyExgsQIEiNIjCAxgsQIEiNIjCAxgsQIEiNIjCAxgsQIEiNIjCAxgsQIEiNIzKYvOewO11Pn3X3M/7bXsjxNnXfsCW1IjCAxgsQIEiNIjCAxgsQIEiNIjCAxgsQIEiNIjCAxgsQIEiNIjCAxgsQs/kHVYkNiBIkRJEaQGEFiBIkRJEaQGEFiBIkRJEaQGEFiBIkRJEaQGEFiBIkRJEaQGEFiBIkRJEaQGEFifgH8hBgzAHtx3AAAAABJRU5ErkJggg==\n",
      "text/plain": [
       "<Figure size 80x80 with 1 Axes>"
      ]
     },
     "metadata": {
      "needs_background": "light"
     },
     "output_type": "display_data"
    },
    {
     "name": "stdout",
     "output_type": "stream",
     "text": [
      "Accuracy: 100.00%\n"
     ]
    },
    {
     "data": {
      "image/png": "iVBORw0KGgoAAAANSUhEUgAAAGQAAABeCAYAAADVA7GfAAAABHNCSVQICAgIfAhkiAAAAAlwSFlzAAAMTQAADE0B0s6tTgAAADl0RVh0U29mdHdhcmUAbWF0cGxvdGxpYiB2ZXJzaW9uIDMuMC4zLCBodHRwOi8vbWF0cGxvdGxpYi5vcmcvnQurowAAAV5JREFUeJzt3LFJBUEUQNEdsRrBRMNfhiBGVmELBh8EKzG1AMHQSBBbMLCGNRZM5M/iRc7J5zFwmWAZZse6rgsdR3+9Ab4TJEaQGEFiBIkRJEaQmOMthz8+vEz9yPm8OJ85blmWZXl/Pp0673b3Og5Z74TECBIjSIwgMYLECBIjSIwgMYLECBIjSIwgMYLECBIjSIwgMYLECBKz6RXu/vpj6ryzy4NuR390v7uaO/DpsOVOSIwgMYLECBIjSIwgMYLECBIjSIwgMYLECBIjSIwgMYLECBIjSIwgMYLECBIztvxf1skYU4e/bbDXMW6mzlvXO+/U/xNBYgSJESRGkBhBYgSJESRGkBhBYgSJESRGkBhBYgSJESRGkBhBYgSJ2fROnd9zQmIEiREkRpAYQWIEiREkRpAYQWIEiREkRpAYQWIEiREkRpAYQWIEiREkRpAYQWIEiREkRpAYQWK+ACeMHPIAH47wAAAAAElFTkSuQmCC\n",
      "text/plain": [
       "<Figure size 80x80 with 1 Axes>"
      ]
     },
     "metadata": {
      "needs_background": "light"
     },
     "output_type": "display_data"
    },
    {
     "name": "stdout",
     "output_type": "stream",
     "text": [
      "Accuracy: 99.27%\n"
     ]
    },
    {
     "data": {
      "image/png": "iVBORw0KGgoAAAANSUhEUgAAAGQAAABeCAYAAADVA7GfAAAABHNCSVQICAgIfAhkiAAAAAlwSFlzAAAMTQAADE0B0s6tTgAAADl0RVh0U29mdHdhcmUAbWF0cGxvdGxpYiB2ZXJzaW9uIDMuMC4zLCBodHRwOi8vbWF0cGxvdGxpYi5vcmcvnQurowAAAVxJREFUeJzt3bFJxVAUgOEbcRgbrS2cwMpKcAbXEN4OTmFnL4K1vAUsHMHuFbG2zg3+xff1OVz4OUVISJZ1XQcdZ/99AP4SJEaQGEFiBIkRJEaQmPM9h7++HKfe5PzcXc4cN8YY4/N97synm+Oy5XobEiNIjCAxgsQIEiNIjCAxgsQIEiNIjCAxgsQIEiNIjCAxgsQIEiNIzK6PcA/331PnXZyups4bY4zn64e5Az+2XW5DYgSJESRGkBhBYgSJESRGkBhBYgSJESRGkBhBYgSJESRGkBhBYgSJESRGkJhdX3L4Ot1Onfe2w7e9luVx6rytJ7QhMYLECBIjSIwgMYLECBIjSIwgMYLECBIjSIwgMYLECBIjSIwgMYLECBKz+AdViw2JESRGkBhBYgSJESRGkBhBYgSJESRGkBhBYgSJESRGkBhBYgSJESRGkBhBYgSJESRGkBhBYgSJ+QU4shoQmzUn7QAAAABJRU5ErkJggg==\n",
      "text/plain": [
       "<Figure size 80x80 with 1 Axes>"
      ]
     },
     "metadata": {
      "needs_background": "light"
     },
     "output_type": "display_data"
    },
    {
     "name": "stdout",
     "output_type": "stream",
     "text": [
      "Accuracy: 100.00%\n"
     ]
    },
    {
     "data": {
      "image/png": "iVBORw0KGgoAAAANSUhEUgAAAGQAAABeCAYAAADVA7GfAAAABHNCSVQICAgIfAhkiAAAAAlwSFlzAAAMTQAADE0B0s6tTgAAADl0RVh0U29mdHdhcmUAbWF0cGxvdGxpYiB2ZXJzaW9uIDMuMC4zLCBodHRwOi8vbWF0cGxvdGxpYi5vcmcvnQurowAAAV1JREFUeJzt3CFKAEEAhtEZ8RJmq2abZ7AYPIEXETyDySvY7CaTySMIHsEirNkozuKHvNf3Z+FjwrLszm3bBh0Hf30DfCdIjCAxgsQIEiNIjCAxh3uOPz68Ln3I+bg4WTk3xhjj5Wnt5s356/zN9U5IjCAxgsQIEiNIjCAxgsQIEiNIjCAxgsQIEiNIjCAxgsQIEiNIjCAxu77Cvb18W7p3/Hm6dG+MMe7PrtYOPv/ucickRpAYQWIEiREkRpAYQWIEiREkRpAYQWIEiREkRpAYQWIEiREkRpAYQWIEiZl7/i/raM6l4+873Ouc10v3tu3Od+r/iSAxgsQIEiNIjCAxgsQIEiNIjCAxgsQIEiNIjCAxgsQIEiNIjCAxgsTs+k6dn3NCYgSJESRGkBhBYgSJESRGkBhBYgSJESRGkBhBYgSJESRGkBhBYgSJESRGkBhBYgSJESRGkBhBYr4AwREduMsJtjcAAAAASUVORK5CYII=\n",
      "text/plain": [
       "<Figure size 80x80 with 1 Axes>"
      ]
     },
     "metadata": {
      "needs_background": "light"
     },
     "output_type": "display_data"
    },
    {
     "name": "stdout",
     "output_type": "stream",
     "text": [
      "Accuracy: 99.91%\n"
     ]
    },
    {
     "data": {
      "image/png": "iVBORw0KGgoAAAANSUhEUgAAAGQAAABeCAYAAADVA7GfAAAABHNCSVQICAgIfAhkiAAAAAlwSFlzAAAMTQAADE0B0s6tTgAAADl0RVh0U29mdHdhcmUAbWF0cGxvdGxpYiB2ZXJzaW9uIDMuMC4zLCBodHRwOi8vbWF0cGxvdGxpYi5vcmcvnQurowAAAVxJREFUeJzt3KFNwEAAhtE7wghoPAl4LCugCJZdEOyAxGIYAMkCJEyAYwNE0UjCNXwh7/n+afLlRNO0c9u2QcfBX98A3wkSI0iMIDGCxAgSI0jM4Z7jT4+vax9yLk+Xzo0xxsvzydK924u3+ZvrnZAYQWIEiREkRpAYQWIEiREkRpAYQWIEiREkRpAYQWIEiREkRpAYQWJ2fYV7d/W+dO/482zp3hhjPJxfrx18+d3lTkiMIDGCxAgSI0iMIDGCxAgSI0iMIDGCxAgSI0iMIDGCxAgSI0iMIDGCxAgSM/f8X9bRnEvHP3a41zlvlu5t273v1P8TQWIEiREkRpAYQWIEiREkRpAYQWIEiREkRpAYQWIEiREkRpAYQWIEidn1nTo/54TECBIjSIwgMYLECBIjSIwgMYLECBIjSIwgMYLECBIjSIwgMYLECBIjSIwgMYLECBIjSIwgMYLEfAHtNhzAZ2hHAAAAAABJRU5ErkJggg==\n",
      "text/plain": [
       "<Figure size 80x80 with 1 Axes>"
      ]
     },
     "metadata": {
      "needs_background": "light"
     },
     "output_type": "display_data"
    },
    {
     "name": "stdout",
     "output_type": "stream",
     "text": [
      "Accuracy: 99.91%\n"
     ]
    },
    {
     "data": {
      "image/png": "iVBORw0KGgoAAAANSUhEUgAAAGQAAABeCAYAAADVA7GfAAAABHNCSVQICAgIfAhkiAAAAAlwSFlzAAAMTQAADE0B0s6tTgAAADl0RVh0U29mdHdhcmUAbWF0cGxvdGxpYiB2ZXJzaW9uIDMuMC4zLCBodHRwOi8vbWF0cGxvdGxpYi5vcmcvnQurowAAARxJREFUeJzt2zEKwzAQAMFcyP+/rNQBd7bIgHZ6G8FyhdF51lqvON7/PkB+FQRTEExBMAXBFARTEMxn58tn5riPnLXW3Hm+CcEUBFMQTEEwBcEUBFMQTEEwBcEUBFMQTEEwBcEUBFMQTEEwBcEUBLP1CvdpJ6y9NiGYgmAKgikIpiCYgmAKgikIpiCYgmAKgikIpiCYgmAKgikIpiCYgmAKgikIZuuSw9NLCTO3fgG/pC1ONCGYgmAKgikIpiCYgmAKgikIpiCYgmAKgikIpiCYgmAKgikIpiCYgmAKghntTvl0TQimIJiCYAqCKQimIJiCYAqCKQimIJiCYAqCKQimIJiCYAqCKQimIJiCYAqCKQimIJiCYAqCKQjmC3m7E7UyWE3PAAAAAElFTkSuQmCC\n",
      "text/plain": [
       "<Figure size 80x80 with 1 Axes>"
      ]
     },
     "metadata": {
      "needs_background": "light"
     },
     "output_type": "display_data"
    },
    {
     "name": "stdout",
     "output_type": "stream",
     "text": [
      "Accuracy: 94.91%\n",
      "Accuracy: 99.73%\n"
     ]
    },
    {
     "data": {
      "image/png": "iVBORw0KGgoAAAANSUhEUgAAAGQAAABeCAYAAADVA7GfAAAABHNCSVQICAgIfAhkiAAAAAlwSFlzAAAMTQAADE0B0s6tTgAAADl0RVh0U29mdHdhcmUAbWF0cGxvdGxpYiB2ZXJzaW9uIDMuMC4zLCBodHRwOi8vbWF0cGxvdGxpYi5vcmcvnQurowAAAWhJREFUeJzt3TFKJFEYRtG/ByPzSQbcgbFLcAkuQCYRTExMzETENQgmLkSYdQzmZoK5tLFxv8YbnJPXR8HlBUUV1Ga73Q4dv376BvhOkBhBYgSJESRGkBhBYg72OX7+8rn0Iefw3+3KuZmZ+Ti6XLr3/Pf3ZpfrnZAYQWIEiREkRpAYQWIEiREkRpAYQWIEiREkRpAYQWIEiREkRpAYQWL2+gr39P1s6d7dw+PSvZmZ1/9PS/ee53qn652QGEFiBIkRJEaQGEFiBIkRJEaQGEFiBIkRJEaQGEFiBIkRJEaQGEFiBIkRJGavHzlc/blfundx/LZ0b2bm5uRj7eCOt+iExAgSI0iMIDGCxAgSI0iMIDGCxAgSI0iMIDGCxAgSI0iMIDGCxAgSI0jMxj+oWpyQGEFiBIkRJEaQGEFiBIkRJEaQGEFiBIkRJEaQGEFiBIkRJEaQGEFiBIkRJEaQGEFiBIkRJEaQmC8zvhlyE+PxnAAAAABJRU5ErkJggg==\n",
      "text/plain": [
       "<Figure size 80x80 with 1 Axes>"
      ]
     },
     "metadata": {
      "needs_background": "light"
     },
     "output_type": "display_data"
    },
    {
     "data": {
      "image/png": "iVBORw0KGgoAAAANSUhEUgAAAGQAAABeCAYAAADVA7GfAAAABHNCSVQICAgIfAhkiAAAAAlwSFlzAAAMTQAADE0B0s6tTgAAADl0RVh0U29mdHdhcmUAbWF0cGxvdGxpYiB2ZXJzaW9uIDMuMC4zLCBodHRwOi8vbWF0cGxvdGxpYi5vcmcvnQurowAAAWRJREFUeJzt3SFKBGEAhuF/xeQh9g7eQLB7BNMGs+AJBA1mL2AzegCDYPUomjSPWbDNv/giz9PnY+HlD8PMMptlWQYdB3/9A/hJkBhBYgSJESRGkBhBYg73Of40xtSbnOuTu5lzY4wxLh6upu7ttmOz5nonJEaQGEFiBIkRJEaQGEFiBIkRJEaQGEFiBIkRJEaQGEFiBIkRJEaQmL0+wn09P5u69/ZyOXVvjDHuP56n7u22p6uud0JiBIkRJEaQGEFiBIkRJEaQGEFiBIkRJEaQGEFiBIkRJEaQGEFiBIkRJEaQmL2+5PB++zh17+tz1V/Af3V0fDN3cPGSw78iSIwgMYLECBIjSIwgMYLECBIjSIwgMYLECBIjSIwgMYLECBIjSIwgMRvfoGpxQmIEiREkRpAYQWIEiREkRpAYQWIEiREkRpAYQWIEiREkRpAYQWIEiREkRpAYQWIEiREkRpAYQWK+AR82GDqfuUNJAAAAAElFTkSuQmCC\n",
      "text/plain": [
       "<Figure size 80x80 with 1 Axes>"
      ]
     },
     "metadata": {
      "needs_background": "light"
     },
     "output_type": "display_data"
    },
    {
     "name": "stdout",
     "output_type": "stream",
     "text": [
      "Accuracy: 82.91%\n"
     ]
    },
    {
     "data": {
      "image/png": "iVBORw0KGgoAAAANSUhEUgAAAGQAAABeCAYAAADVA7GfAAAABHNCSVQICAgIfAhkiAAAAAlwSFlzAAAMTQAADE0B0s6tTgAAADl0RVh0U29mdHdhcmUAbWF0cGxvdGxpYiB2ZXJzaW9uIDMuMC4zLCBodHRwOi8vbWF0cGxvdGxpYi5vcmcvnQurowAAAWJJREFUeJzt3aFNREEYRtF/CR5PAXQAlgYQ1EANUAAaQh04DA2gsdSAJaBALRq9s+GKc/x82eRmxMvb5G222+3QcfDfP4C/BIkRJEaQGEFiBIkRJOZwn+MfM0sfco6P7lfOzczMy+f10r2zmc0u592QGEFiBIkRJEaQGEFiBIkRJEaQGEFiBIkRJEaQGEFiBIkRJEaQGEFi9voK9+rkYune99fl0r2ZmYfX96V7j6fHO513Q2IEiREkRpAYQWIEiREkRpAYQWIEiREkRpAYQWIEiREkRpAYQWIEiREkRpCYvf7J4fzteene0+3SuZmZ+Tm7WTu4vdvpuBsSI0iMIDGCxAgSI0iMIDGCxAgSI0iMIDGCxAgSI0iMIDGCxAgSI0iMIDEb36BqcUNiBIkRJEaQGEFiBIkRJEaQGEFiBIkRJEaQGEFiBIkRJEaQGEFiBIkRJEaQGEFiBIkRJEaQGEFifgHZhxgkN5yohgAAAABJRU5ErkJggg==\n",
      "text/plain": [
       "<Figure size 80x80 with 1 Axes>"
      ]
     },
     "metadata": {
      "needs_background": "light"
     },
     "output_type": "display_data"
    },
    {
     "name": "stdout",
     "output_type": "stream",
     "text": [
      "Accuracy: 96.09%\n"
     ]
    },
    {
     "data": {
      "image/png": "iVBORw0KGgoAAAANSUhEUgAAAGQAAABeCAYAAADVA7GfAAAABHNCSVQICAgIfAhkiAAAAAlwSFlzAAAMTQAADE0B0s6tTgAAADl0RVh0U29mdHdhcmUAbWF0cGxvdGxpYiB2ZXJzaW9uIDMuMC4zLCBodHRwOi8vbWF0cGxvdGxpYi5vcmcvnQurowAAAVdJREFUeJzt3aFNBFEYRtF/CJbQA1WARdMDNWDogU0Imj7QaJqgCIJADhq9b8MV5/j3ZZObJyazyWz7vg8dZ//9A/hLkBhBYgSJESRGkBhBYs5PvL/0IWfbDivnZmbmc39cunc1sx1z3g2JESRGkBhBYgSJESRGkBhBYgSJESRGkBhBYgSJESRGkBhBYgSJESTmpK9wby/vVi8u3pt5+vheuvd6fXHUeTckRpAYQWIEiREkRpAYQWIEiREkRpAYQWIEiREkRpAYQWIEiREkRpAYQWIEiTnpnxzuv96W7r0/L52bmZmfm4e1g/vLUcfdkBhBYgSJESRGkBhBYgSJESRGkBhBYgSJESRGkBhBYgSJESRGkBhBYgSJ2XyDqsUNiREkRpAYQWIEiREkRpAYQWIEiREkRpAYQWIEiREkRpAYQWIEiREkRpAYQWIEiREkRpAYQWIEifkFegwVOtCgEWYAAAAASUVORK5CYII=\n",
      "text/plain": [
       "<Figure size 80x80 with 1 Axes>"
      ]
     },
     "metadata": {
      "needs_background": "light"
     },
     "output_type": "display_data"
    },
    {
     "name": "stdout",
     "output_type": "stream",
     "text": [
      "Accuracy: 98.27%\n"
     ]
    },
    {
     "data": {
      "image/png": "iVBORw0KGgoAAAANSUhEUgAAAGQAAABeCAYAAADVA7GfAAAABHNCSVQICAgIfAhkiAAAAAlwSFlzAAAMTQAADE0B0s6tTgAAADl0RVh0U29mdHdhcmUAbWF0cGxvdGxpYiB2ZXJzaW9uIDMuMC4zLCBodHRwOi8vbWF0cGxvdGxpYi5vcmcvnQurowAAAVdJREFUeJzt3CFOxUAARdHpDwkCzVoQfwl4toDD40nQIFkC+2AzeARqECgk+dNwQ87xfWlyM6Jp2m3OOeg4/PUN8JMgMYLECBIjSIwgMYLEnO28v/QhZ9seV86NMcZ4n/dL9y7H2E653gmJESRGkBhBYgSJESRGkBhBYgSJESRGkBhBYgSJESRGkBhBYgSJESRm11e4V4frxYvHxXtjPLx9Lt17Op6fdL0TEiNIjCAxgsQIEiNIjCAxgsQIEiNIjCAxgsQIEiNIjCAxgsQIEiNIjCAxgsRse/4v63Xxd+o3LyvXvn3c3i3du5jPvlP/TwSJESRGkBhBYgSJESRGkBhBYgSJESRGkBhBYgSJESRGkBhBYgSJESRm13fq/J4TEiNIjCAxgsQIEiNIjCAxgsQIEiNIjCAxgsQIEiNIjCAxgsQIEiNIjCAxgsQIEiNIjCAxgsQIEvMFT9QXifHb31AAAAAASUVORK5CYII=\n",
      "text/plain": [
       "<Figure size 80x80 with 1 Axes>"
      ]
     },
     "metadata": {
      "needs_background": "light"
     },
     "output_type": "display_data"
    },
    {
     "name": "stdout",
     "output_type": "stream",
     "text": [
      "Accuracy: 97.82%\n"
     ]
    },
    {
     "data": {
      "image/png": "iVBORw0KGgoAAAANSUhEUgAAAGQAAABeCAYAAADVA7GfAAAABHNCSVQICAgIfAhkiAAAAAlwSFlzAAAMTQAADE0B0s6tTgAAADl0RVh0U29mdHdhcmUAbWF0cGxvdGxpYiB2ZXJzaW9uIDMuMC4zLCBodHRwOi8vbWF0cGxvdGxpYi5vcmcvnQurowAAAVdJREFUeJzt3LFJxVAAhtF71e5NY2fjAnZu4ACOINi80tIFnMAhXElLiYWVpbwb/JBz+vwEPm4RQjK3bRt0nP31DfCTIDGCxAgSI0iMIDGCxFzsvL/0IWfO48q5McYY79vD0r3DGPOU652QGEFiBIkRJEaQGEFiBIkRJEaQGEFiBIkRJEaQGEFiBIkRJEaQGEFidn2FezlvFi9eLd4b4/Htc+ne0/X5Sdc7ITGCxAgSI0iMIDGCxAgSI0iMIDGCxAgSI0iMIDGCxAgSI0iMIDGCxAgSI0jM3PN/Wa+Lv1O/fVm59u3j7n7p3mF79p36fyJIjCAxgsQIEiNIjCAxgsQIEiNIjCAxgsQIEiNIjCAxgsQIEiNIjCAxu75T5/eckBhBYgSJESRGkBhBYgSJESRGkBhBYgSJESRGkBhBYgSJESRGkBhBYgSJESRGkBhBYgSJESRGkJgvyfAXdGNm9C4AAAAASUVORK5CYII=\n",
      "text/plain": [
       "<Figure size 80x80 with 1 Axes>"
      ]
     },
     "metadata": {
      "needs_background": "light"
     },
     "output_type": "display_data"
    },
    {
     "name": "stdout",
     "output_type": "stream",
     "text": [
      "Accuracy: 98.82%\n"
     ]
    },
    {
     "data": {
      "image/png": "iVBORw0KGgoAAAANSUhEUgAAAGQAAABeCAYAAADVA7GfAAAABHNCSVQICAgIfAhkiAAAAAlwSFlzAAAMTQAADE0B0s6tTgAAADl0RVh0U29mdHdhcmUAbWF0cGxvdGxpYiB2ZXJzaW9uIDMuMC4zLCBodHRwOi8vbWF0cGxvdGxpYi5vcmcvnQurowAAAWNJREFUeJzt3aFNLVEUQNHzCCGhCAwJggJoAUkBUAUWSHB0AF3gv0ViMVhwdPHQX7/7whZr+Xsyyc4Rk7nJbLbb7dBx8NcPwP8EiREkRpAYQWIEiREk5nCfw7++f5a+5Fxcn6wcNzMzd5evS+fdPl5tdjlvQ2IEiREkRpAYQWIEiREkRpAYQWIEiREkRpAYQWIEiREkRpAYQWIEidnrJ9zzt4el825e3pfOm5mZo/vFA692Om1DYgSJESRGkBhBYgSJESRGkBhBYgSJESRGkBhBYgSJESRGkBhBYgSJESRGkJi9XnJ4OD1bOu/549/SeTMzx5+LL0487XbchsQIEiNIjCAxgsQIEiNIjCAxgsQIEiNIjCAxgsQIEiNIjCAxgsQIEiNIzMY/qFpsSIwgMYLECBIjSIwgMYLECBIjSIwgMYLECBIjSIwgMYLECBIjSIwgMYLECBIjSIwgMYLECBIjSMwvY48Wux5R4A8AAAAASUVORK5CYII=\n",
      "text/plain": [
       "<Figure size 80x80 with 1 Axes>"
      ]
     },
     "metadata": {
      "needs_background": "light"
     },
     "output_type": "display_data"
    },
    {
     "data": {
      "image/png": "iVBORw0KGgoAAAANSUhEUgAAAGQAAABeCAYAAADVA7GfAAAABHNCSVQICAgIfAhkiAAAAAlwSFlzAAAMTQAADE0B0s6tTgAAADl0RVh0U29mdHdhcmUAbWF0cGxvdGxpYiB2ZXJzaW9uIDMuMC4zLCBodHRwOi8vbWF0cGxvdGxpYi5vcmcvnQurowAAAVlJREFUeJzt3K1NREEARtEZQlWPSnBoBBXQwSpog+Bw6A0FEJBYylg0kjAv3JBz/H55yc2IzfuZp9Np0HH21xfAd4LECBIjSIwgMYLECBJzvvP+0j85c86Vc2OMMY43x6V72932q4t0QmIEiREkRpAYQWIEiREkRpAYQWIEiREkRpAYQWIEiREkRpAYQWIEidn1Fu68uF269/y+/rHXj7fLpXvb2H71eyckRpAYQWIEiREkRpAYQWIEiREkRpAYQWIEiREkRpAYQWIEiREkRpAYQWIEiZl7fi/r4eVp6fjV4XXl3BhjjOt5v3Tv8PjpPfX/RJAYQWIEiREkRpAYQWIEiREkRpAYQWIEiREkRpAYQWIEiREkRpAYQWJ2vafOzzkhMYLECBIjSIwgMYLECBIjSIwgMYLECBIjSIwgMYLECBIjSIwgMYLECBIjSIwgMYLECBIjSIwgMV8W4Rt9Ejg9NAAAAABJRU5ErkJggg==\n",
      "text/plain": [
       "<Figure size 80x80 with 1 Axes>"
      ]
     },
     "metadata": {
      "needs_background": "light"
     },
     "output_type": "display_data"
    },
    {
     "name": "stdout",
     "output_type": "stream",
     "text": [
      "Accuracy: 99.91%\n"
     ]
    },
    {
     "data": {
      "image/png": "iVBORw0KGgoAAAANSUhEUgAAAGQAAABeCAYAAADVA7GfAAAABHNCSVQICAgIfAhkiAAAAAlwSFlzAAAMTQAADE0B0s6tTgAAADl0RVh0U29mdHdhcmUAbWF0cGxvdGxpYiB2ZXJzaW9uIDMuMC4zLCBodHRwOi8vbWF0cGxvdGxpYi5vcmcvnQurowAAAV1JREFUeJzt3a1NBUEUgNFZgkbiMK8DaqAADAUgXwOU8BI6wFIHPxJLAwRLG4tG72z4xDl+byb5csVmJ9llXddBx9l/H4C/BIkRJEaQGEFiBIkRJOZ85/lTX3KWZZk5bowxxvfxc+q8w9P1pkPakBhBYgSJESRGkBhBYgSJESRGkBhBYgSJESRGkBhBYgSJESRGkBhBYnb9hLtcnKbO+/maf+314+1+6rzDeN70vA2JESRGkBhBYgSJESRGkBhBYgSJESRGkBhBYgSJESRGkBhBYgSJESRGkBhBYna95PD6cjN13tXt49R5Y4zxcPk+dd7dcdvzNiRGkBhBYgSJESRGkBhBYgSJESRGkBhBYgSJESRGkBhBYgSJESRGkBhBYhb/oGqxITGCxAgSI0iMIDGCxAgSI0iMIDGCxAgSI0iMIDGCxAgSI0iMIDGCxAgSI0iMIDGCxAgSI0iMIDG/dd8VYiTLKMEAAAAASUVORK5CYII=\n",
      "text/plain": [
       "<Figure size 80x80 with 1 Axes>"
      ]
     },
     "metadata": {
      "needs_background": "light"
     },
     "output_type": "display_data"
    },
    {
     "name": "stdout",
     "output_type": "stream",
     "text": [
      "Accuracy: 100.00%\n"
     ]
    },
    {
     "data": {
      "image/png": "iVBORw0KGgoAAAANSUhEUgAAAGQAAABeCAYAAADVA7GfAAAABHNCSVQICAgIfAhkiAAAAAlwSFlzAAAMTQAADE0B0s6tTgAAADl0RVh0U29mdHdhcmUAbWF0cGxvdGxpYiB2ZXJzaW9uIDMuMC4zLCBodHRwOi8vbWF0cGxvdGxpYi5vcmcvnQurowAAAV1JREFUeJzt3aFNBUEUQNEZgqIDFBVQAhr/S8Bg0VTwS0DRAwqFQOEpAEkJ2EWj/2y44hy/L5PcPLHZSXZu2zboOPvvA/CXIDGCxAgSI0iMIDGCxJzvPH/pS86cc+W4McYY3/efS+ddPl2fdEgbEiNIjCAxgsQIEiNIjCAxgsQIEiNIjCAxgsQIEiNIjCAxgsQIEiNIzK6fcOc8Lp3387X+2uvry93SeYfxfNLzNiRGkBhBYgSJESRGkBhBYgSJESRGkBhBYgSJESRGkBhBYgSJESRGkBhBYgSJ2fWSw/vH7dJ5FzdrL02MMcbj1dvSeYeH0563ITGCxAgSI0iMIDGCxAgSI0iMIDGCxAgSI0iMIDGCxAgSI0iMIDGCxAgSM/2DqsWGxAgSI0iMIDGCxAgSI0iMIDGCxAgSI0iMIDGCxAgSI0iMIDGCxAgSI0iMIDGCxAgSI0iMIDGCxPwCFTUViBKWmUgAAAAASUVORK5CYII=\n",
      "text/plain": [
       "<Figure size 80x80 with 1 Axes>"
      ]
     },
     "metadata": {
      "needs_background": "light"
     },
     "output_type": "display_data"
    },
    {
     "name": "stdout",
     "output_type": "stream",
     "text": [
      "Accuracy: 99.73%\n"
     ]
    },
    {
     "data": {
      "image/png": "iVBORw0KGgoAAAANSUhEUgAAAGQAAABeCAYAAADVA7GfAAAABHNCSVQICAgIfAhkiAAAAAlwSFlzAAAMTQAADE0B0s6tTgAAADl0RVh0U29mdHdhcmUAbWF0cGxvdGxpYiB2ZXJzaW9uIDMuMC4zLCBodHRwOi8vbWF0cGxvdGxpYi5vcmcvnQurowAAAV5JREFUeJzt3aFNBUEUQNEZ8mugADSaHrC/BAwFIGmAEr6iAgwNYBAUQANYeiBZNPrPhivO8fsyyc0Tm51k57Ztg46L/z4AfwkSI0iMIDGCxAgSI0jMYef5S19y5pwrx40xxvi+/1w67/J0fdYhbUiMIDGCxAgSI0iMIDGCxAgSI0iMIDGCxAgSI0iMIDGCxAgSI0iMIDG7fsKd82npvJ+v9ddeX1/uls47jueznrchMYLECBIjSIwgMYLECBIjSIwgMYLECBIjSIwgMYLECBIjSIwgMYLECBIjSMyulxzeP26XzjvcrL00McYYj1dvS+cdH8573obECBIjSIwgMYLECBIjSIwgMYLECBIjSIwgMYLECBIjSIwgMYLECBIjSMz0D6oWGxIjSIwgMYLECBIjSIwgMYLECBIjSIwgMYLECBIjSIwgMYLECBIjSIwgMYLECBIjSIwgMYLECBLzC5duFYSZtKPyAAAAAElFTkSuQmCC\n",
      "text/plain": [
       "<Figure size 80x80 with 1 Axes>"
      ]
     },
     "metadata": {
      "needs_background": "light"
     },
     "output_type": "display_data"
    },
    {
     "name": "stdout",
     "output_type": "stream",
     "text": [
      "Accuracy: 100.00%\n"
     ]
    },
    {
     "data": {
      "image/png": "iVBORw0KGgoAAAANSUhEUgAAAGQAAABeCAYAAADVA7GfAAAABHNCSVQICAgIfAhkiAAAAAlwSFlzAAAMTQAADE0B0s6tTgAAADl0RVh0U29mdHdhcmUAbWF0cGxvdGxpYiB2ZXJzaW9uIDMuMC4zLCBodHRwOi8vbWF0cGxvdGxpYi5vcmcvnQurowAAAVtJREFUeJzt3aFNBUEUQNEZQguUgMLRBu6XgKEBJB5KQFEAghJwJBRAA1iaWDR6Z8MV5/h9meTmic1OsnPbtkHH2X8fgL8EiREkRpAYQWIEiREk5vzg+UtfcuacK8eNMcb4uftaOu/i+WrXIW1IjCAxgsQIEiNIjCAxgsQIEiNIjCAxgsQIEiNIjCAxgsQIEiNIjCAxh37CnfNp6bzte/2117fX26XzTuNl1/M2JEaQGEFiBIkRJEaQGEFiBIkRJEaQGEFiBIkRJEaQGEFiBIkRJEaQGEFiBIk59JLDx+fN0nnz+nHpvDHGeLh8XzrvdL/veRsSI0iMIDGCxAgSI0iMIDGCxAgSI0iMIDGCxAgSI0iMIDGCxAgSI0iMIDHTP6habEiMIDGCxAgSI0iMIDGCxAgSI0iMIDGCxAgSI0iMIDGCxAgSI0iMIDGCxAgSI0iMIDGCxAgSI0jML7/IFYXMXAi+AAAAAElFTkSuQmCC\n",
      "text/plain": [
       "<Figure size 80x80 with 1 Axes>"
      ]
     },
     "metadata": {
      "needs_background": "light"
     },
     "output_type": "display_data"
    },
    {
     "name": "stdout",
     "output_type": "stream",
     "text": [
      "Accuracy: 100.00%\n"
     ]
    },
    {
     "data": {
      "image/png": "iVBORw0KGgoAAAANSUhEUgAAAGQAAABeCAYAAADVA7GfAAAABHNCSVQICAgIfAhkiAAAAAlwSFlzAAAMTQAADE0B0s6tTgAAADl0RVh0U29mdHdhcmUAbWF0cGxvdGxpYiB2ZXJzaW9uIDMuMC4zLCBodHRwOi8vbWF0cGxvdGxpYi5vcmcvnQurowAAAR1JREFUeJzt2zEOgzAQAMFclP9/2amjlI6VRcz0INDqCuRj1loPOp7/fgA+CRIjSIwgMYLECBIjSMzr5M1n5nYfOWut2bnehMQIEiNIjCAxgsQIEiNIjCAxgsQIEiNIjCAxgsQIEiNIjCAxgsQIEnP0CPfX7rD2akJiBIkRJEaQGEFiBIkRJEaQGEFiBIkRJEaQGEFiBIkRJEaQGEFiBIkRJEaQmKNLDldYSpjZ+q38y+47m5AYQWIEiREkRpAYQWIEiREkRpAYQWIEiREkRpAYQWIEiREkRpAYQWIEiZkrnHvfiQmJESRGkBhBYgSJESRGkBhBYgSJESRGkBhBYgSJESRGkBhBYgSJESRGkBhBYgSJESRGkBhBYgSJeQOJoBO1PFbADQAAAABJRU5ErkJggg==\n",
      "text/plain": [
       "<Figure size 80x80 with 1 Axes>"
      ]
     },
     "metadata": {
      "needs_background": "light"
     },
     "output_type": "display_data"
    },
    {
     "name": "stdout",
     "output_type": "stream",
     "text": [
      "Accuracy: 95.55%\n",
      "Accuracy: 100.00%\n"
     ]
    },
    {
     "data": {
      "image/png": "iVBORw0KGgoAAAANSUhEUgAAAGQAAABeCAYAAADVA7GfAAAABHNCSVQICAgIfAhkiAAAAAlwSFlzAAAMTQAADE0B0s6tTgAAADl0RVh0U29mdHdhcmUAbWF0cGxvdGxpYiB2ZXJzaW9uIDMuMC4zLCBodHRwOi8vbWF0cGxvdGxpYi5vcmcvnQurowAAAWFJREFUeJzt3aFNLVEYRtH/EnrAPU8DhICgAep4kgZoAkmCwtECniaABP0KeAhAXDT6nhu2WMvPl0l2jpjMJLPZbrdDx8Fv3wA/CRIjSIwgMYLECBIjSMzhPsev/x4tfch5eL1fOTczM+9PV0v3/n29bHa53gmJESRGkBhBYgSJESRGkBhBYgSJESRGkBhBYgSJESRGkBhBYgSJESRmr69wjz9ul+7d/P+zdG9m5uL8ZPnmLpyQGEFiBIkRJEaQGEFiBIkRJEaQGEFiBIkRJEaQGEFiBIkRJEaQGEFiBIkRJGavHzk8P94t3Tt7u1y6NzPz+Xa6fHMXTkiMIDGCxAgSI0iMIDGCxAgSI0iMIDGCxAgSI0iMIDGCxAgSI0iMIDGCxGz8g6rFCYkRJEaQGEFiBIkRJEaQGEFiBIkRJEaQGEFiBIkRJEaQGEFiBIkRJEaQGEFiBIkRJEaQGEFiBIn5BqhlGWjFYO8jAAAAAElFTkSuQmCC\n",
      "text/plain": [
       "<Figure size 80x80 with 1 Axes>"
      ]
     },
     "metadata": {
      "needs_background": "light"
     },
     "output_type": "display_data"
    },
    {
     "data": {
      "image/png": "iVBORw0KGgoAAAANSUhEUgAAAGQAAABeCAYAAADVA7GfAAAABHNCSVQICAgIfAhkiAAAAAlwSFlzAAAMTQAADE0B0s6tTgAAADl0RVh0U29mdHdhcmUAbWF0cGxvdGxpYiB2ZXJzaW9uIDMuMC4zLCBodHRwOi8vbWF0cGxvdGxpYi5vcmcvnQurowAAAVdJREFUeJzt3bFJxVAAhtEbERzA0sbeSazcw+aBpbzODdzAGbQQrVzBbayutfW7wa84p89P4OMWIYFsc85Bx9l/3wB/CRIjSIwgMYLECBIjSMz5nuM319vSh5yru/XPTJ/P29K9OedJg05IjCAxgsQIEiNIjCAxgsQIEiNIjCAxgsQIEiNIjCAxgsQIEiNIjCAxu77CfXn4Xrr3evhaujfGGB+3j8s3T+GExAgSI0iMIDGCxAgSI0iMIDGCxAgSI0iMIDGCxAgSI0iMIDGCxAgSI0iMIDG7fuRwPNwv3XufT0v3xhjj5+1y6d7Fidc7ITGCxAgSI0iMIDGCxAgSI0iMIDGCxAgSI0iMIDGCxAgSI0iMIDGCxAgSs/kHVYsTEiNIjCAxgsQIEiNIjCAxgsQIEiNIjCAxgsQIEiNIjCAxgsQIEiNIjCAxgsQIEiNIjCAxgsQIEvMLpkMYVleoR/MAAAAASUVORK5CYII=\n",
      "text/plain": [
       "<Figure size 80x80 with 1 Axes>"
      ]
     },
     "metadata": {
      "needs_background": "light"
     },
     "output_type": "display_data"
    },
    {
     "name": "stdout",
     "output_type": "stream",
     "text": [
      "Accuracy: 99.91%\n"
     ]
    },
    {
     "data": {
      "image/png": "iVBORw0KGgoAAAANSUhEUgAAAGQAAABeCAYAAADVA7GfAAAABHNCSVQICAgIfAhkiAAAAAlwSFlzAAAMTQAADE0B0s6tTgAAADl0RVh0U29mdHdhcmUAbWF0cGxvdGxpYiB2ZXJzaW9uIDMuMC4zLCBodHRwOi8vbWF0cGxvdGxpYi5vcmcvnQurowAAAVJJREFUeJzt3TFKxUAARdGJWrg5LQThr8bCSlzC7wULF+AyxMIFuA8Za+tM8Bbn9HkELlOEBLLNOQcdF/99A/wlSIwgMYLECBIjSIwgMVdHjl9v29KHnJvH9c9Mbw/b0r05565BJyRGkBhBYgSJESRGkBhBYgSJESRGkBhBYgSJESRGkBhBYgSJESRGkJhDX+F+vX4v3Xs+vS/dG2OMefu0fHMPJyRGkBhBYgSJESRGkBhBYgSJESRGkBhBYgSJESRGkBhBYgSJESRGkBhBYgSJOfQjh7vT/dK9j3leujfGGD8vn0v3Lnde74TECBIjSIwgMYLECBIjSIwgMYLECBIjSIwgMYLECBIjSIwgMYLECBIjSMzmH1QtTkiMIDGCxAgSI0iMIDGCxAgSI0iMIDGCxAgSI0iMIDGCxAgSI0iMIDGCxAgSI0iMIDGCxAgSI0jML7/MGWkY1u2JAAAAAElFTkSuQmCC\n",
      "text/plain": [
       "<Figure size 80x80 with 1 Axes>"
      ]
     },
     "metadata": {
      "needs_background": "light"
     },
     "output_type": "display_data"
    },
    {
     "name": "stdout",
     "output_type": "stream",
     "text": [
      "Accuracy: 99.91%\n"
     ]
    },
    {
     "data": {
      "image/png": "iVBORw0KGgoAAAANSUhEUgAAAGQAAABeCAYAAADVA7GfAAAABHNCSVQICAgIfAhkiAAAAAlwSFlzAAAMTQAADE0B0s6tTgAAADl0RVh0U29mdHdhcmUAbWF0cGxvdGxpYiB2ZXJzaW9uIDMuMC4zLCBodHRwOi8vbWF0cGxvdGxpYi5vcmcvnQurowAAAVBJREFUeJzt3SFOxUAARdEZwtLQkC/ZCYIFIFgEwXyJYicIPIJdMGh054crzlnAS5PbEU2bdK61Bh1X/30B/CVIjCAxgsQIEiNIjCAx15ccn3Nufci5f9r/zHR+mFv31lqHBp2QGEFiBIkRJEaQGEFiBIkRJEaQGEFiBIkRJEaQGEFiBIkRJEaQGEFiLvoK9+vte+ve4+l9694YY6y75+2bRzghMYLECBIjSIwgMYLECBIjSIwgMYLECBIjSIwgMYLECBIjSIwgMYLECBIjSMxFP3K4Od1u3ftcr1v3xhjj5+Vj697RO9wJiREkRpAYQWIEiREkRpAYQWIEiREkRpAYQWIEiREkRpAYQWIEiREkRpCY6R9ULU5IjCAxgsQIEiNIjCAxgsQIEiNIjCAxgsQIEiNIjCAxgsQIEiNIjCAxgsQIEiNIjCAxgsQIEiNIzC8Czxlg2SP0dwAAAABJRU5ErkJggg==\n",
      "text/plain": [
       "<Figure size 80x80 with 1 Axes>"
      ]
     },
     "metadata": {
      "needs_background": "light"
     },
     "output_type": "display_data"
    },
    {
     "name": "stdout",
     "output_type": "stream",
     "text": [
      "Accuracy: 100.00%\n"
     ]
    },
    {
     "data": {
      "image/png": "iVBORw0KGgoAAAANSUhEUgAAAGQAAABeCAYAAADVA7GfAAAABHNCSVQICAgIfAhkiAAAAAlwSFlzAAAMTQAADE0B0s6tTgAAADl0RVh0U29mdHdhcmUAbWF0cGxvdGxpYiB2ZXJzaW9uIDMuMC4zLCBodHRwOi8vbWF0cGxvdGxpYi5vcmcvnQurowAAAVBJREFUeJzt3bFNxEAARcFdRF80gE7k1AFNENAB2TVw1EJETEATLDGx98QLZgr4svS8gWVLnmutQcfNf18AfwkSI0iMIDGCxAgSI0jM7TXH55xbH3IeX/Y/M52f5ta9tdahQSckRpAYQWIEiREkRpAYQWIEiREkRpAYQWIEiREkRpAYQWIEiREkRpCYq77C/bp8b917Pr1v3RtjjPXwun3zCCckRpAYQWIEiREkRpAYQWIEiREkRpAYQWIEiREkRpAYQWIEiREkRpAYQWIEibnqRw53p/ute5/rvHVvjDF+3j627h29w52QGEFiBIkRJEaQGEFiBIkRJEaQGEFiBIkRJEaQGEFiBIkRJEaQGEFiBImZ/kHV4oTECBIjSIwgMYLECBIjSIwgMYLECBIjSIwgMYLECBIjSIwgMYLECBIjSIwgMYLECBIjSIwgMYLE/AKdfhlbGJKBZAAAAABJRU5ErkJggg==\n",
      "text/plain": [
       "<Figure size 80x80 with 1 Axes>"
      ]
     },
     "metadata": {
      "needs_background": "light"
     },
     "output_type": "display_data"
    },
    {
     "name": "stdout",
     "output_type": "stream",
     "text": [
      "Accuracy: 99.55%\n"
     ]
    },
    {
     "data": {
      "image/png": "iVBORw0KGgoAAAANSUhEUgAAAGQAAABeCAYAAADVA7GfAAAABHNCSVQICAgIfAhkiAAAAAlwSFlzAAAMTQAADE0B0s6tTgAAADl0RVh0U29mdHdhcmUAbWF0cGxvdGxpYiB2ZXJzaW9uIDMuMC4zLCBodHRwOi8vbWF0cGxvdGxpYi5vcmcvnQurowAAAVBJREFUeJzt3bFNxEAARcFdRFl0gC4gp4urA4kGyBAFHL2QkRJQBEtM7D3xgpkCviw9b2DZkudaa9Bx898XwF+CxAgSI0iMIDGCxAgSc3vN8Tnn1oecx6f9z0yv57l1b611aNAJiREkRpAYQWIEiREkRpAYQWIEiREkRpAYQWIEiREkRpAYQWIEiREk5qqvcL/ev7funU+XrXtjjLEenrdvHuGExAgSI0iMIDGCxAgSI0iMIDGCxAgSI0iMIDGCxAgSI0iMIDGCxAgSI0iMIDFX/cjh7nS/de9zvW3dG2OMn5ePrXtH73AnJEaQGEFiBIkRJEaQGEFiBIkRJEaQGEFiBIkRJEaQGEFiBIkRJEaQGEFipn9QtTghMYLECBIjSIwgMYLECBIjSIwgMYLECBIjSIwgMYLECBIjSIwgMYLECBIjSIwgMYLECBIjSIwgMb8ObRlZV28ubQAAAABJRU5ErkJggg==\n",
      "text/plain": [
       "<Figure size 80x80 with 1 Axes>"
      ]
     },
     "metadata": {
      "needs_background": "light"
     },
     "output_type": "display_data"
    },
    {
     "name": "stdout",
     "output_type": "stream",
     "text": [
      "Accuracy: 100.00%\n"
     ]
    },
    {
     "data": {
      "image/png": "iVBORw0KGgoAAAANSUhEUgAAAGQAAABeCAYAAADVA7GfAAAABHNCSVQICAgIfAhkiAAAAAlwSFlzAAAMTQAADE0B0s6tTgAAADl0RVh0U29mdHdhcmUAbWF0cGxvdGxpYiB2ZXJzaW9uIDMuMC4zLCBodHRwOi8vbWF0cGxvdGxpYi5vcmcvnQurowAAAV1JREFUeJzt3bFJBFEYRtF/VQQTA21BQ0uwEzuwBSPF2BZswMBcMDewAIuwBNfYeN/iDc7J52Pg8oJhBmaz3W6HjoP/vgH+EiRGkBhBYgSJESRGkJijfY7fnj4vfci5f7teOTczM5evz0v3vh8fNrtc74TECBIjSIwgMYLECBIjSIwgMYLECBIjSIwgMYLECBIjSIwgMYLECBKz11e4TyfHS/d+vj6W7s3M3Fx9Lt/chRMSI0iMIDGCxAgSI0iMIDGCxAgSI0iMIDGCxAgSI0iMIDGCxAgSI0iMIDGCxOz1I4e7s/Oley+Xh0v3ZmY+3y+Wb+7CCYkRJEaQGEFiBIkRJEaQGEFiBIkRJEaQGEFiBIkRJEaQGEFiBIkRJEaQmI1/ULU4ITGCxAgSI0iMIDGCxAgSI0iMIDGCxAgSI0iMIDGCxAgSI0iMIDGCxAgSI0iMIDGCxAgSI0iMIDG/My4VeSC/0WQAAAAASUVORK5CYII=\n",
      "text/plain": [
       "<Figure size 80x80 with 1 Axes>"
      ]
     },
     "metadata": {
      "needs_background": "light"
     },
     "output_type": "display_data"
    },
    {
     "data": {
      "image/png": "iVBORw0KGgoAAAANSUhEUgAAAGQAAABeCAYAAADVA7GfAAAABHNCSVQICAgIfAhkiAAAAAlwSFlzAAAMTQAADE0B0s6tTgAAADl0RVh0U29mdHdhcmUAbWF0cGxvdGxpYiB2ZXJzaW9uIDMuMC4zLCBodHRwOi8vbWF0cGxvdGxpYi5vcmcvnQurowAAAVhJREFUeJzt3aFNBFEYRtF/CE3QAD1QARaLZT3F4ClgBQmWIhBIDBJJC4NG79twxTl+vkxy88RkJplt3/eh4+K/b4C/BIkRJEaQGEFiBIkRJObynOPbdlj6kLPvzyvnZmZmu3tcure/Pm2nXO+ExAgSI0iMIDGCxAgSI0iMIDGCxAgSI0iMIDGCxAgSI0iMIDGCxAgSc9ZXuPvt2tej34fj0r2Zmfvrr+Wbp3BCYgSJESRGkBhBYgSJESRGkBhBYgSJESRGkBhBYgSJESRGkBhBYgSJESRGkJizfuTw8Pa5dO/95Wrp3szMx8/N8s1TOCExgsQIEiNIjCAxgsQIEiNIjCAxgsQIEiNIjCAxgsQIEiNIjCAxgsQIErP5B1WLExIjSIwgMYLECBIjSIwgMYLECBIjSIwgMYLECBIjSIwgMYLECBIjSIwgMYLECBIjSIwgMYLECBLzCwAYGD0d4SwhAAAAAElFTkSuQmCC\n",
      "text/plain": [
       "<Figure size 80x80 with 1 Axes>"
      ]
     },
     "metadata": {
      "needs_background": "light"
     },
     "output_type": "display_data"
    },
    {
     "name": "stdout",
     "output_type": "stream",
     "text": [
      "Accuracy: 96.36%\n"
     ]
    },
    {
     "data": {
      "image/png": "iVBORw0KGgoAAAANSUhEUgAAAGQAAABeCAYAAADVA7GfAAAABHNCSVQICAgIfAhkiAAAAAlwSFlzAAAMTQAADE0B0s6tTgAAADl0RVh0U29mdHdhcmUAbWF0cGxvdGxpYiB2ZXJzaW9uIDMuMC4zLCBodHRwOi8vbWF0cGxvdGxpYi5vcmcvnQurowAAAVZJREFUeJzt3SFOxFAYRtG/ZDYyOyFBIDAoJJ4VIXDjWACW4FkDIWEjRaPnTbjiHN8vTW6eaNqk277vQ8fVf98AfwkSI0iMIDGCxAgSI0jM4ZLj23a39CFn399Wzs3MzHb9tHRv/3jezrneCYkRJEaQGEFiBIkRJEaQGEFiBIkRJEaQGEFiBIkRJEaQGEFiBIkRJOair3D3x5ele1+3r0v3Zmbujz/LN8/hhMQIEiNIjCAxgsQIEiNIjCAxgsQIEiNIjCAxgsQIEiNIjCAxgsQIEiNIjCAxF/3I4eH0vnTv+3Rcujcz83m4Wb55DickRpAYQWIEiREkRpAYQWIEiREkRpAYQWIEiREkRpAYQWIEiREkRpAYQWI2/6BqcUJiBIkRJEaQGEFiBIkRJEaQGEFiBIkRJEaQGEFiBIkRJEaQGEFiBIkRJEaQGEFiBIkRJEaQGEFifgGRLBc9gYzMqAAAAABJRU5ErkJggg==\n",
      "text/plain": [
       "<Figure size 80x80 with 1 Axes>"
      ]
     },
     "metadata": {
      "needs_background": "light"
     },
     "output_type": "display_data"
    },
    {
     "name": "stdout",
     "output_type": "stream",
     "text": [
      "Accuracy: 100.00%\n"
     ]
    },
    {
     "data": {
      "image/png": "iVBORw0KGgoAAAANSUhEUgAAAGQAAABeCAYAAADVA7GfAAAABHNCSVQICAgIfAhkiAAAAAlwSFlzAAAMTQAADE0B0s6tTgAAADl0RVh0U29mdHdhcmUAbWF0cGxvdGxpYiB2ZXJzaW9uIDMuMC4zLCBodHRwOi8vbWF0cGxvdGxpYi5vcmcvnQurowAAAVZJREFUeJzt3SFOxFAYRtG/BMkiMCwCgUEhUCxiFjUGTYLDYwlbQMM6ikbPm3DFOb5fmtw80bRJt33fh46L/74B/hIkRpAYQWIEiREkRpCYy3OOb9v90oecfX9fOTczM9vtYene/nHcTrneCYkRJEaQGEFiBIkRJEaQGEFiBIkRJEaQGEFiBIkRJEaQGEFiBIkRJOasr3D3w+vSva+7l6V7MzOP19/LN0/hhMQIEiNIjCAxgsQIEiNIjCAxgsQIEiNIjCAxgsQIEiNIjCAxgsQIEiNIjCAxZ/3I4en4tnTv5/lm6d7MzOfVw/LNUzghMYLECBIjSIwgMYLECBIjSIwgMYLECBIjSIwgMYLECBIjSIwgMYLECBKz+QdVixMSI0iMIDGCxAgSI0iMIDGCxAgSI0iMIDGCxAgSI0iMIDGCxAgSI0iMIDGCxAgSI0iMIDGCxAgS8wvOzxdB2V774gAAAABJRU5ErkJggg==\n",
      "text/plain": [
       "<Figure size 80x80 with 1 Axes>"
      ]
     },
     "metadata": {
      "needs_background": "light"
     },
     "output_type": "display_data"
    },
    {
     "name": "stdout",
     "output_type": "stream",
     "text": [
      "Accuracy: 100.00%\n"
     ]
    },
    {
     "data": {
      "image/png": "iVBORw0KGgoAAAANSUhEUgAAAGQAAABeCAYAAADVA7GfAAAABHNCSVQICAgIfAhkiAAAAAlwSFlzAAAMTQAADE0B0s6tTgAAADl0RVh0U29mdHdhcmUAbWF0cGxvdGxpYiB2ZXJzaW9uIDMuMC4zLCBodHRwOi8vbWF0cGxvdGxpYi5vcmcvnQurowAAAVhJREFUeJzt3bFJxWAYhtEvYu8Ido4gdva3cgnBkQTB3kpwAztxAhcQ3CLW1ve/+BTn9HkJPPxFSCDbvu9Dx9l/3wB/CRIjSIwgMYLECBIjSMz5Kce37XbpQ86+v6+cm5mZ7fp+6d7++bQdc70TEiNIjCAxgsQIEiNIjCAxgsQIEiNIjCAxgsQIEiNIjCAxgsQIEiNIzElf4e4Pb0v3vm5elu7NzBwuv5dvHsMJiREkRpAYQWIEiREkRpAYQWIEiREkRpAYQWIEiREkRpAYQWIEiREkRpAYQWJO+pHD3ePr0r2f56ulezMzHxeH5ZvHcEJiBIkRJEaQGEFiBIkRJEaQGEFiBIkRJEaQGEFiBIkRJEaQGEFiBIkRJGbzD6oWJyRGkBhBYgSJESRGkBhBYgSJESRGkBhBYgSJESRGkBhBYgSJESRGkBhBYgSJESRGkBhBYgSJESTmFxxIFz8lH2hIAAAAAElFTkSuQmCC\n",
      "text/plain": [
       "<Figure size 80x80 with 1 Axes>"
      ]
     },
     "metadata": {
      "needs_background": "light"
     },
     "output_type": "display_data"
    },
    {
     "name": "stdout",
     "output_type": "stream",
     "text": [
      "Accuracy: 99.91%\n"
     ]
    },
    {
     "data": {
      "image/png": "iVBORw0KGgoAAAANSUhEUgAAAGQAAABeCAYAAADVA7GfAAAABHNCSVQICAgIfAhkiAAAAAlwSFlzAAAMTQAADE0B0s6tTgAAADl0RVh0U29mdHdhcmUAbWF0cGxvdGxpYiB2ZXJzaW9uIDMuMC4zLCBodHRwOi8vbWF0cGxvdGxpYi5vcmcvnQurowAAAVpJREFUeJzt3aFNxlAYRuGvhAHYAMcEBIknGJZAMBGChAEQKCbAYPBMgGCKotH//cMRz+P7psnJFU2bdNv3feg4+e8b4C9BYgSJESRGkBhBYgSJOT3m+LZdL33I2ff3lXMzM7Nd3i/d2z+ftkOud0JiBIkRJEaQGEFiBIkRJEaQGEFiBIkRJEaQGEFiBIkRJEaQGEFiBIk56ivc/eFt6d7X1cvSvZmZm/Pv5ZuHcEJiBIkRJEaQGEFiBIkRJEaQGEFiBIkRJEaQGEFiBIkRJEaQGEFiBIkRJEaQmKN+5HD3+Lp07+f5YunezMzH2e3yzUM4ITGCxAgSI0iMIDGCxAgSI0iMIDGCxAgSI0iMIDGCxAgSI0iMIDGCxAgSs/kHVYsTEiNIjCAxgsQIEiNIjCAxgsQIEiNIjCAxgsQIEiNIjCAxgsQIEiNIjCAxgsQIEiNIjCAxgsQIEvMLG6MXP5Sha6EAAAAASUVORK5CYII=\n",
      "text/plain": [
       "<Figure size 80x80 with 1 Axes>"
      ]
     },
     "metadata": {
      "needs_background": "light"
     },
     "output_type": "display_data"
    },
    {
     "name": "stdout",
     "output_type": "stream",
     "text": [
      "Accuracy: 98.73%\n"
     ]
    },
    {
     "data": {
      "image/png": "iVBORw0KGgoAAAANSUhEUgAAAGQAAABeCAYAAADVA7GfAAAABHNCSVQICAgIfAhkiAAAAAlwSFlzAAAMTQAADE0B0s6tTgAAADl0RVh0U29mdHdhcmUAbWF0cGxvdGxpYiB2ZXJzaW9uIDMuMC4zLCBodHRwOi8vbWF0cGxvdGxpYi5vcmcvnQurowAAASFJREFUeJzt2zEKwzAQAMFcyP+/rNQBd7LIgHd6C8FyhZE0a61XHO9/byC/CoIpCKYgmIJgCoIpCOZzcvGZedxPzlprdr5vQjAFwRQEUxBMQTAFwRQEUxBMQTAFwRQEUxBMQTAFwRQEUxBMQTAFwRw9wr37murM1unoJe0qbROCKQimIJiCYAqCKQimIJiCYAqCKQimIJiCYAqCKQimIJiCYAqCKQimIJiCYE6/Uz+5/C3u3uPupYkmBFMQTEEwBcEUBFMQTEEwBcEUBFMQTEEwBcEUBFMQTEEwBcEUBFMQTEEwoz2cf7omBFMQTEEwBcEUBFMQTEEwBcEUBFMQTEEwBcEUBFMQTEEwBcEUBFMQTEEwBcEUBFMQTEEwBcEUBPMF8JkTuxLO+2UAAAAASUVORK5CYII=\n",
      "text/plain": [
       "<Figure size 80x80 with 1 Axes>"
      ]
     },
     "metadata": {
      "needs_background": "light"
     },
     "output_type": "display_data"
    },
    {
     "name": "stdout",
     "output_type": "stream",
     "text": [
      "Accuracy: 95.55%\n",
      "Accuracy: 99.73%\n"
     ]
    },
    {
     "data": {
      "image/png": "iVBORw0KGgoAAAANSUhEUgAAAGQAAABeCAYAAADVA7GfAAAABHNCSVQICAgIfAhkiAAAAAlwSFlzAAAMTQAADE0B0s6tTgAAADl0RVh0U29mdHdhcmUAbWF0cGxvdGxpYiB2ZXJzaW9uIDMuMC4zLCBodHRwOi8vbWF0cGxvdGxpYi5vcmcvnQurowAAAWlJREFUeJzt2iFKRFEAhtE7YjFOG4sgmAw2k9VtGGwWq+IWBIvRbHUJbsIFiFuwaRqzUbyDH3JOfz8PPl543LtYr9eDjq2/fgG+EyRGkBhBYgSJESRGkJjtTY6/rc6n/uRcvp7PnBtjjLG/3Jm6d/95vPjN876QGEFiBIkRJEaQGEFiBIkRJEaQGEFiBIkRJEaQGEFiBIkRJEaQGEFiFpu8Svr48T53/OZs6twYY7zsPkzdu71aOcL9TwSJESRGkBhBYgSJESRGkBhBYgSJESRGkBhBYgSJESRGkBhBYgSJESRGkJiNXnI4uDuaOn699zRzbowxxuHyeereyemFSw7/iSAxgsQIEiNIjCAxgsQIEiNIjCAxgsQIEiNIjCAxgsQIEiNIjCAxgsRs9Eydn/OFxAgSI0iMIDGCxAgSI0iMIDGCxAgSI0iMIDGCxAgSI0iMIDGCxAgSI0iMIDGCxAgSI0iMIDGCxHwBIrwer5kwD9oAAAAASUVORK5CYII=\n",
      "text/plain": [
       "<Figure size 80x80 with 1 Axes>"
      ]
     },
     "metadata": {
      "needs_background": "light"
     },
     "output_type": "display_data"
    },
    {
     "data": {
      "image/png": "iVBORw0KGgoAAAANSUhEUgAAAGQAAABeCAYAAADVA7GfAAAABHNCSVQICAgIfAhkiAAAAAlwSFlzAAAMTQAADE0B0s6tTgAAADl0RVh0U29mdHdhcmUAbWF0cGxvdGxpYiB2ZXJzaW9uIDMuMC4zLCBodHRwOi8vbWF0cGxvdGxpYi5vcmcvnQurowAAAV9JREFUeJzt3DFKJFEYRtG/VAzcjdChixEGDNyGa5hwwMTERRgZCsJswlVIGRuKr/Ei5+Tvo+Hygqaqe9v3feg4+ekPwGeCxAgSI0iMIDGCxAgSc3bM8bvtsPRLzvn+snJuZmYetvule//36+07592QGEFiBIkRJEaQGEFiBIkRJEaQGEFiBIkRJEaQGEFiBIkRJEaQGEFitiO/Srp0/Ga7Wjk3MzOHv89L925uxyPc30SQGEFiBIkRJEaQGEFiBIkRJEaQGEFiBIkRJEaQGEFiBIkRJEaQGEFiBIk56u/UTy8ul+69P74u3ZuZeXr7t3jxz7dOuyExgsQIEiNIjCAxgsQIEiNIjCAxgsQIEiNIjCAxgsQIEiNIjCAxgsQIEnPsPw7gi9yQGEFiBIkRJEaQGEFiBIkRJEaQGEFiBIkRJEaQGEFiBIkRJEaQGEFiBIkRJEaQGEFiBIkRJEaQmA+YdxoObdc/EgAAAABJRU5ErkJggg==\n",
      "text/plain": [
       "<Figure size 80x80 with 1 Axes>"
      ]
     },
     "metadata": {
      "needs_background": "light"
     },
     "output_type": "display_data"
    },
    {
     "name": "stdout",
     "output_type": "stream",
     "text": [
      "Accuracy: 100.00%\n"
     ]
    },
    {
     "data": {
      "image/png": "iVBORw0KGgoAAAANSUhEUgAAAGQAAABeCAYAAADVA7GfAAAABHNCSVQICAgIfAhkiAAAAAlwSFlzAAAMTQAADE0B0s6tTgAAADl0RVh0U29mdHdhcmUAbWF0cGxvdGxpYiB2ZXJzaW9uIDMuMC4zLCBodHRwOi8vbWF0cGxvdGxpYi5vcmcvnQurowAAAVtJREFUeJzt3bFNJEEQQNHqE4mQwumi2BDwiACJQHDPwMDDIANyQDgEQATEMNjY2yu+8Z7fpZG+yhj1SLOO4xg6/vz2A/CTIDGCxAgSI0iMIDGCxFxdcvjNut76knM6PneOm5mZu/Wwdd7Xcb/OOW9DYgSJESRGkBhBYgSJESRGkBhBYgSJESRGkBhBYgSJESRGkBhBYgSJuegV7vPmK9fT+rd13szM/8e37TPPYUNiBIkRJEaQGEFiBIkRJEaQGEFiBIkRJEaQGEFiBIkRJEaQGEFiBIkRJEaQmIt+5LDW363zjpf3rfNmZl4/njZPvD3rtA2JESRGkBhBYgSJESRGkBhBYgSJESRGkBhBYgSJESRGkBhBYgSJESRGkJjlH1QtNiRGkBhBYgSJESRGkBhBYgSJESRGkBhBYgSJESRGkBhBYgSJESRGkBhBYgSJESRGkBhBYgSJESTmGyrDF/Mi9n0fAAAAAElFTkSuQmCC\n",
      "text/plain": [
       "<Figure size 80x80 with 1 Axes>"
      ]
     },
     "metadata": {
      "needs_background": "light"
     },
     "output_type": "display_data"
    },
    {
     "name": "stdout",
     "output_type": "stream",
     "text": [
      "Accuracy: 100.00%\n"
     ]
    },
    {
     "data": {
      "image/png": "iVBORw0KGgoAAAANSUhEUgAAAGQAAABeCAYAAADVA7GfAAAABHNCSVQICAgIfAhkiAAAAAlwSFlzAAAMTQAADE0B0s6tTgAAADl0RVh0U29mdHdhcmUAbWF0cGxvdGxpYiB2ZXJzaW9uIDMuMC4zLCBodHRwOi8vbWF0cGxvdGxpYi5vcmcvnQurowAAAVVJREFUeJzt3bFJBUEUQNEZsQur0A7MrUG0C0uwCfmRibGBTYhV2ILpGBvvfLzBOfk+Fi4vWGZg51pr0HHx3y/AX4LECBIjSIwgMYLECBJzec7hd/Nq60fOw/reOW6MMcb9fN4672c9zSPP25AYQWIEiREkRpAYQWIEiREkRpAYQWIEiREkRpAYQWIEiREkRpAYQWLOeoT7vvnI9XZeb503xhivL1/bZx5hQ2IEiREkRpAYQWIEiREkRpAYQWIEiREkRpAYQWIEiREkRpAYQWIEiREkRpCYs15ymPNm67z1tv9CwsfnafPEx0NP25AYQWIEiREkRpAYQWIEiREkRpAYQWIEiREkRpAYQWIEiREkRpAYQWIEiZn+QdViQ2IEiREkRpAYQWIEiREkRpAYQWIEiREkRpAYQWIEiREkRpAYQWIEiREkRpAYQWIEiREkRpAYQWJ+AXhcGAiO9zfnAAAAAElFTkSuQmCC\n",
      "text/plain": [
       "<Figure size 80x80 with 1 Axes>"
      ]
     },
     "metadata": {
      "needs_background": "light"
     },
     "output_type": "display_data"
    },
    {
     "name": "stdout",
     "output_type": "stream",
     "text": [
      "Accuracy: 100.00%\n"
     ]
    },
    {
     "data": {
      "image/png": "iVBORw0KGgoAAAANSUhEUgAAAGQAAABeCAYAAADVA7GfAAAABHNCSVQICAgIfAhkiAAAAAlwSFlzAAAMTQAADE0B0s6tTgAAADl0RVh0U29mdHdhcmUAbWF0cGxvdGxpYiB2ZXJzaW9uIDMuMC4zLCBodHRwOi8vbWF0cGxvdGxpYi5vcmcvnQurowAAAVVJREFUeJzt3bFNxTAUQFEbsQRbIBagZQRaKnZgAMbg17AA7EDDFsxAZWrq+ItbnNPnKdLVKyJbylxrDTou/vsF+EuQGEFiBIkRJEaQGEFiLs85/G5ebf3IeVzfO8eNMca4n89b5/2sp3nkeRsSI0iMIDGCxAgSI0iMIDGCxAgSI0iMIDGCxAgSI0iMIDGCxAgSI0jMWY9wPzYfud7O663zxhjj9eVr+8wjbEiMIDGCxAgSI0iMIDGCxAgSI0iMIDGCxAgSI0iMIDGCxAgSI0iMIDGCxAgSc9ZLDnPebJ233vZfSHj/PG2e+HDoaRsSI0iMIDGCxAgSI0iMIDGCxAgSI0iMIDGCxAgSI0iMIDGCxAgSI0iMIDHTP6habEiMIDGCxAgSI0iMIDGCxAgSI0iMIDGCxAgSI0iMIDGCxAgSI0iMIDGCxAgSI0iMIDGCxAgSI0jML5KoGA8ymkCxAAAAAElFTkSuQmCC\n",
      "text/plain": [
       "<Figure size 80x80 with 1 Axes>"
      ]
     },
     "metadata": {
      "needs_background": "light"
     },
     "output_type": "display_data"
    },
    {
     "name": "stdout",
     "output_type": "stream",
     "text": [
      "Accuracy: 100.00%\n"
     ]
    },
    {
     "data": {
      "image/png": "iVBORw0KGgoAAAANSUhEUgAAAGQAAABeCAYAAADVA7GfAAAABHNCSVQICAgIfAhkiAAAAAlwSFlzAAAMTQAADE0B0s6tTgAAADl0RVh0U29mdHdhcmUAbWF0cGxvdGxpYiB2ZXJzaW9uIDMuMC4zLCBodHRwOi8vbWF0cGxvdGxpYi5vcmcvnQurowAAAVVJREFUeJzt3aFNBUEUQNEZQhF0QUIBWEpAI6kBTRt8DwUQSkDSBS2gBo3e+eGKc/y+bHLzxGYm2bnWGnRc/PcL8JcgMYLECBIjSIwgMYLEXJ5z+N282vqR87i+d44bY4xxP5+3zvtZT/PI8zYkRpAYQWIEiREkRpAYQWIEiREkRpAYQWIEiREkRpAYQWIEiREkRpCYsx7hfmw+cr2d11vnjTHG68vX9plH2JAYQWIEiREkRpAYQWIEiREkRpAYQWIEiREkRpAYQWIEiREkRpAYQWIEiREk5qyXHOa82Tpvve2/kPD+edo88eHQ0zYkRpAYQWIEiREkRpAYQWIEiREkRpAYQWIEiREkRpAYQWIEiREkRpAYQWKmf1C12JAYQWIEiREkRpAYQWIEiREkRpAYQWIEiREkRpAYQWIEiREkRpAYQWIEiREkRpAYQWIEiREkRpCYX2NEGBG15mtLAAAAAElFTkSuQmCC\n",
      "text/plain": [
       "<Figure size 80x80 with 1 Axes>"
      ]
     },
     "metadata": {
      "needs_background": "light"
     },
     "output_type": "display_data"
    },
    {
     "name": "stdout",
     "output_type": "stream",
     "text": [
      "Accuracy: 100.00%\n"
     ]
    },
    {
     "data": {
      "image/png": "iVBORw0KGgoAAAANSUhEUgAAAGQAAABeCAYAAADVA7GfAAAABHNCSVQICAgIfAhkiAAAAAlwSFlzAAAMTQAADE0B0s6tTgAAADl0RVh0U29mdHdhcmUAbWF0cGxvdGxpYiB2ZXJzaW9uIDMuMC4zLCBodHRwOi8vbWF0cGxvdGxpYi5vcmcvnQurowAAAWhJREFUeJzt3DFKQ0EARdGJCIKI2NukshVcgkK2IC7BzsI1uC4RwcbCRregC7A21paSCV7knH4egcsU4f9ksV6vBx07f/0B+EmQGEFiBIkRJEaQGEFidrc5frHzPPVLztP518y5McYYH+9HU/cOX08Wm5x3Q2IEiREkRpAYQWIEiREkRpAYQWIEiREkRpAYQWIEiREkRpAYQWIEiVls81XS+9Xn1PG904eZc2OMMa5v3qbuvRzfeoT7nwgSI0iMIDGCxAgSI0iMIDGCxAgSI0iMIDGCxAgSI0iMIDGCxAgSI0iMIDFb/Z36cn81de/sajl1b4wx7i4P5g4+bnbcDYkRJEaQGEFiBIkRJEaQGEFiBIkRJEaQGEFiBIkRJEaQGEFiBIkRJEaQmK3+cQC/54bECBIjSIwgMYLECBIjSIwgMYLECBIjSIwgMYLECBIjSIwgMYLECBIjSIwgMYLECBIjSIwgMYLEfANitBp9XUAhdQAAAABJRU5ErkJggg==\n",
      "text/plain": [
       "<Figure size 80x80 with 1 Axes>"
      ]
     },
     "metadata": {
      "needs_background": "light"
     },
     "output_type": "display_data"
    },
    {
     "data": {
      "image/png": "iVBORw0KGgoAAAANSUhEUgAAAGQAAABeCAYAAADVA7GfAAAABHNCSVQICAgIfAhkiAAAAAlwSFlzAAAMTQAADE0B0s6tTgAAADl0RVh0U29mdHdhcmUAbWF0cGxvdGxpYiB2ZXJzaW9uIDMuMC4zLCBodHRwOi8vbWF0cGxvdGxpYi5vcmcvnQurowAAAWBJREFUeJzt3LFJxVAAhtEbdQcLCxEsBKdwDOH1TmBna2Np4wLuYGnjDmKvc8TaUt4Nfsg5fX4CH7cIeS/Luq6DjoO/vgF+EiRGkBhBYgSJESRGkJijLccvlvepDzkf42nm3BhjjPX2ce7gw1j2udwJiREkRpAYQWIEiREkRpAYQWIEiREkRpAYQWIEiREkRpAYQWIEiREkZtnyp6Sv12Pq+NXN/Hs9+bybuve1u/cK9z8RJEaQGEFiBIkRJEaQGEFiBIkRJEaQGEFiBIkRJEaQGEFiBIkRJEaQGEFiNv2f+vHb5dS9w9OzqXtjjPH8cj53cLff5U5IjCAxgsQIEiNIjCAxgsQIEiNIjCAxgsQIEiNIjCAxgsQIEiNIjCAxgsRs+uEAfs8JiREkRpAYQWIEiREkRpAYQWIEiREkRpAYQWIEiREkRpAYQWIEiREkRpAYQWIEiREkRpAYQWIEifkGA8QZ2fjwzFkAAAAASUVORK5CYII=\n",
      "text/plain": [
       "<Figure size 80x80 with 1 Axes>"
      ]
     },
     "metadata": {
      "needs_background": "light"
     },
     "output_type": "display_data"
    },
    {
     "name": "stdout",
     "output_type": "stream",
     "text": [
      "Accuracy: 80.73%\n"
     ]
    },
    {
     "data": {
      "image/png": "iVBORw0KGgoAAAANSUhEUgAAAGQAAABeCAYAAADVA7GfAAAABHNCSVQICAgIfAhkiAAAAAlwSFlzAAAMTQAADE0B0s6tTgAAADl0RVh0U29mdHdhcmUAbWF0cGxvdGxpYiB2ZXJzaW9uIDMuMC4zLCBodHRwOi8vbWF0cGxvdGxpYi5vcmcvnQurowAAAWBJREFUeJzt3bFJBVEQQNFZsQERLEArsAcbEW3ADgzMTQUTI3NbsA9NDQws4Rsb//fxBufkb1i4TLC8hd12u93QcfTfD8BfgsQIEiNIjCAxgsQIEnN8yOFn28fSl5zvuV45bmZmds/vawfezrbPcRsSI0iMIDGCxAgSI0iMIDGCxAgSI0iMIDGCxAgSI0iMIDGCxAgSI0jMQa9wX28uls67elh83TozJ093S+f9zONe521IjCAxgsQIEiNIjCAxgsQIEiNIjCAxgsQIEiNIjCAxgsQIEiNIjCAxgsQIEnPQjxxOX9Z+5LB9nS+dNzPz9nm5duD9fsdtSIwgMYLECBIjSIwgMYLECBIjSIwgMYLECBIjSIwgMYLECBIjSIwgMYLEbP5B1WJDYgSJESRGkBhBYgSJESRGkBhBYgSJESRGkBhBYgSJESRGkBhBYgSJESRGkBhBYgSJESRGkBhBYn4Bz4QWKZrk9R8AAAAASUVORK5CYII=\n",
      "text/plain": [
       "<Figure size 80x80 with 1 Axes>"
      ]
     },
     "metadata": {
      "needs_background": "light"
     },
     "output_type": "display_data"
    },
    {
     "name": "stdout",
     "output_type": "stream",
     "text": [
      "Accuracy: 97.91%\n"
     ]
    },
    {
     "data": {
      "image/png": "iVBORw0KGgoAAAANSUhEUgAAAGQAAABeCAYAAADVA7GfAAAABHNCSVQICAgIfAhkiAAAAAlwSFlzAAAMTQAADE0B0s6tTgAAADl0RVh0U29mdHdhcmUAbWF0cGxvdGxpYiB2ZXJzaW9uIDMuMC4zLCBodHRwOi8vbWF0cGxvdGxpYi5vcmcvnQurowAAAVxJREFUeJzt3DFKxFAARdEfmVI7N+AqZguCpZsQLNyMU7gHW3EX1pbuwEKsY2FlKfODFzmnz2Pg8ouQSZZ1XQcdJ3/9A/hJkBhBYgSJESRGkBhBYnZbjp8ub1Nvcj7H5cy5McYY6+Pr3MHrsRxzuRMSI0iMIDGCxAgSI0iMIDGCxAgSI0iMIDGCxAgSI0iMIDGCxAgSI0jMsuVfSZ9uxtTxq8PMtW9nd7dT9z7uDx7h/ieCxAgSI0iMIDGCxAgSI0iMIDGCxAgSI0iMIDGCxAgSI0iMIDGCxAgSI0jMpu+pnz9cTN1bXubujTHG8/t++uYxnJAYQWIEiREkRpAYQWIEiREkRpAYQWIEiREkRpAYQWIEiREkRpAYQWIEidn0wwH8nhMSI0iMIDGCxAgSI0iMIDGCxAgSI0iMIDGCxAgSI0iMIDGCxAgSI0iMIDGCxAgSI0iMIDGCxAgS8wXjGRlQTB97hgAAAABJRU5ErkJggg==\n",
      "text/plain": [
       "<Figure size 80x80 with 1 Axes>"
      ]
     },
     "metadata": {
      "needs_background": "light"
     },
     "output_type": "display_data"
    },
    {
     "name": "stdout",
     "output_type": "stream",
     "text": [
      "Accuracy: 93.55%\n"
     ]
    },
    {
     "data": {
      "image/png": "iVBORw0KGgoAAAANSUhEUgAAAGQAAABeCAYAAADVA7GfAAAABHNCSVQICAgIfAhkiAAAAAlwSFlzAAAMTQAADE0B0s6tTgAAADl0RVh0U29mdHdhcmUAbWF0cGxvdGxpYiB2ZXJzaW9uIDMuMC4zLCBodHRwOi8vbWF0cGxvdGxpYi5vcmcvnQurowAAAVtJREFUeJzt3DFKxFAARdEfGbCwdgEuYwpXYOEerHRFTuUeBDtLV6J7EMEmFlaWMj94kXP6PAYuvwiZZFnXddBx8tc/gJ8EiREkRpAYQWIEiREkZrfl+OnyOvUm53NczpwbY4yxPr3NHbwayzGXOyExgsQIEiNIjCAxgsQIEiNIjCAxgsQIEiNIjCAxgsQIEiNIjCAxgsQsW/6V9PFuTB2/vp+59u3s5nbq3vvDwSPc/0SQGEFiBIkRJEaQGEFiBIkRJEaQGEFiBIkRJEaQGEFiBIkRJEaQGEFiBInZ9D3188PF1L3lZe7eGGM8f+ynbx7DCYkRJEaQGEFiBIkRJEaQGEFiBIkRJEaQGEFiBIkRJEaQGEFiBIkRJEaQmE0/HMDvOSExgsQIEiNIjCAxgsQIEiNIjCAxgsQIEiNIjCAxgsQIEiNIjCAxgsQIEiNIjCAxgsQIEiNIjCAxX64HGVPmcKFFAAAAAElFTkSuQmCC\n",
      "text/plain": [
       "<Figure size 80x80 with 1 Axes>"
      ]
     },
     "metadata": {
      "needs_background": "light"
     },
     "output_type": "display_data"
    },
    {
     "name": "stdout",
     "output_type": "stream",
     "text": [
      "Accuracy: 99.55%\n"
     ]
    },
    {
     "data": {
      "image/png": "iVBORw0KGgoAAAANSUhEUgAAAGQAAABeCAYAAADVA7GfAAAABHNCSVQICAgIfAhkiAAAAAlwSFlzAAAMTQAADE0B0s6tTgAAADl0RVh0U29mdHdhcmUAbWF0cGxvdGxpYiB2ZXJzaW9uIDMuMC4zLCBodHRwOi8vbWF0cGxvdGxpYi5vcmcvnQurowAAAVpJREFUeJzt3CFOxFAARdFfgmIBaFjFGBaARqNJWBEEPRqLgc1g2AEOikAhyfyGG3KO78skN180nXZZ13XQcfTXP4CfBIkRJEaQGEFiBIkRJOZ40/HldepNzsfYzZwbY4yxPr3NHbwcyyGXOyExgsQIEiNIjCAxgsQIEiNIjCAxgsQIEiNIjCAxgsQIEiNIjCAxgsQsW/6V9PF2TB2/upu59u3k+mbq3vv+wSPc/0SQGEFiBIkRJEaQGEFiBIkRJEaQGEFiBIkRJEaQGEFiBIkRJEaQGEFiBInZ9D310/vzqXvL89nUvTHGePm8mL55CCckRpAYQWIEiREkRpAYQWIEiREkRpAYQWIEiREkRpAYQWIEiREkRpAYQWI2/XAAv+eExAgSI0iMIDGCxAgSI0iMIDGCxAgSI0iMIDGCxAgSI0iMIDGCxAgSI0iMIDGCxAgSI0iMIDGCxHwBClIZWHhGVj8AAAAASUVORK5CYII=\n",
      "text/plain": [
       "<Figure size 80x80 with 1 Axes>"
      ]
     },
     "metadata": {
      "needs_background": "light"
     },
     "output_type": "display_data"
    },
    {
     "name": "stdout",
     "output_type": "stream",
     "text": [
      "Accuracy: 99.55%\n"
     ]
    },
    {
     "data": {
      "image/png": "iVBORw0KGgoAAAANSUhEUgAAAGQAAABeCAYAAADVA7GfAAAABHNCSVQICAgIfAhkiAAAAAlwSFlzAAAMTQAADE0B0s6tTgAAADl0RVh0U29mdHdhcmUAbWF0cGxvdGxpYiB2ZXJzaW9uIDMuMC4zLCBodHRwOi8vbWF0cGxvdGxpYi5vcmcvnQurowAAARtJREFUeJzt20EKAjEQAEFH/P+Xx7PgbQ0W2nXfEGjmsCSZ3b3Fcf/2BvKqIJiCYAqCKQimIJiCYB4nF5+Zv/vJ2d258n0TgikIpiCYgmAKgikIpiCYgmAKgikIpiCYgmAKgikIpiCYgmAKgikI5ugR7qevqc5cOh19S7tK24RgCoIpCKYgmIJgCoIpCKYgmIJgCoIpCKYgmIJgCoIpCKYgmIJgCoIpCKYgmNPv1E8u/5OaEExBMAXBFARTEExBMAXBFARTEExBMAXBFARTEExBMAXBFARTEExBMAXBjPZw/t81IZiCYAqCKQimIJiCYAqCKQimIJiCYAqCKQimIJiCYAqCKQimIJiCYAqCKQimIJiCYAqCKQimIJgnrz0QuyY2kGUAAAAASUVORK5CYII=\n",
      "text/plain": [
       "<Figure size 80x80 with 1 Axes>"
      ]
     },
     "metadata": {
      "needs_background": "light"
     },
     "output_type": "display_data"
    },
    {
     "name": "stdout",
     "output_type": "stream",
     "text": [
      "Accuracy: 95.09%\n",
      "Accuracy: 100.00%\n"
     ]
    },
    {
     "data": {
      "image/png": "iVBORw0KGgoAAAANSUhEUgAAAGQAAABeCAYAAADVA7GfAAAABHNCSVQICAgIfAhkiAAAAAlwSFlzAAAMTQAADE0B0s6tTgAAADl0RVh0U29mdHdhcmUAbWF0cGxvdGxpYiB2ZXJzaW9uIDMuMC4zLCBodHRwOi8vbWF0cGxvdGxpYi5vcmcvnQurowAAAWdJREFUeJzt3LFJBFEARdE/YqahYB2C2IUFGBpqtImBFViCICam1mADJgZah7GIwhobin/xIufk81i4/GCYnVnW6/WgY+uvfwDfCRIjSIwgMYLECBIjSMz2JseP9p+m3uTsnB7PnBtjjPG8XEzde71aLb+53gmJESRGkBhBYgSJESRGkBhBYgSJESRGkBhBYgSJESRGkBhBYgSJESRm2eRfSe/OLqeOX5/vzZwbY4yxe/A4de/h894j3P9EkBhBYgSJESRGkBhBYgSJESRGkBhBYgSJESRGkBhBYgSJESRGkBhBYgSJ2eh76i83b1P3Tj7ep+6NMcbt6nD65m84ITGCxAgSI0iMIDGCxAgSI0iMIDGCxAgSI0iMIDGCxAgSI0iMIDGCxAgSs9EPB/BzTkiMIDGCxAgSI0iMIDGCxAgSI0iMIDGCxAgSI0iMIDGCxAgSI0iMIDGCxAgSI0iMIDGCxAgSI0jMFwCyHKYUq/IYAAAAAElFTkSuQmCC\n",
      "text/plain": [
       "<Figure size 80x80 with 1 Axes>"
      ]
     },
     "metadata": {
      "needs_background": "light"
     },
     "output_type": "display_data"
    },
    {
     "data": {
      "image/png": "iVBORw0KGgoAAAANSUhEUgAAAGQAAABeCAYAAADVA7GfAAAABHNCSVQICAgIfAhkiAAAAAlwSFlzAAAMTQAADE0B0s6tTgAAADl0RVh0U29mdHdhcmUAbWF0cGxvdGxpYiB2ZXJzaW9uIDMuMC4zLCBodHRwOi8vbWF0cGxvdGxpYi5vcmcvnQurowAAAWRJREFUeJzt3DFKA0EAhtFZEc+gZ9HCzgvYWdp6CD1BqvRWHkAQK8HWg3gDuxSxtpTM4oe81+dn4WOKMJss+/1+0HH01w/AT4LECBIjSIwgMYLECBJzvOb4smymfsk5v9zOnBtjjLE7e5i69/F0sxzyeSckRpAYQWIEiREkRpAYQWIEiREkRpAYQWIEiREkRpAYQWIEiREkRpCYZc1XSXfb96nj99dfM+fGGGM8ns69Fv7cv7rC/U8EiREkRpAYQWIEiREkRpAYQWIEiREkRpAYQWIEiREkRpAYQWIEiREkRpCYVX+nfnJ3O3Xv7WUzdW+MMZ6vLqZvHsIJiREkRpAYQWIEiREkRpAYQWIEiREkRpAYQWIEiREkRpAYQWIEiREkRpCYVf84gN9zQmIEiREkRpAYQWIEiREkRpAYQWIEiREkRpAYQWIEiREkRpAYQWIEiREkRpAYQWIEiREkRpAYQWK+AWa9HMDd8kZpAAAAAElFTkSuQmCC\n",
      "text/plain": [
       "<Figure size 80x80 with 1 Axes>"
      ]
     },
     "metadata": {
      "needs_background": "light"
     },
     "output_type": "display_data"
    },
    {
     "name": "stdout",
     "output_type": "stream",
     "text": [
      "Accuracy: 94.73%\n"
     ]
    },
    {
     "data": {
      "image/png": "iVBORw0KGgoAAAANSUhEUgAAAGQAAABeCAYAAADVA7GfAAAABHNCSVQICAgIfAhkiAAAAAlwSFlzAAAMTQAADE0B0s6tTgAAADl0RVh0U29mdHdhcmUAbWF0cGxvdGxpYiB2ZXJzaW9uIDMuMC4zLCBodHRwOi8vbWF0cGxvdGxpYi5vcmcvnQurowAAAWNJREFUeJzt3KFNxVAAhtFbgiIMwAIIFB4UAo1gBBQjsABzMAMJCQo8CyDRDEGKRpJ3G76Qc3z/vOTLFU1fu6zrOujY++sfwE+CxAgSI0iMIDGCxAgSs7/l+LLcTr3JOT9+mTk3xhjj8Ph+6t7z0/Wyy/VOSIwgMYLECBIjSIwgMYLECBIjSIwgMYLECBIjSIwgMYLECBIjSIwgMcumfyV9/Jw6/nD5MXNujDHGzcHd1L2v9dUj3P9EkBhBYgSJESRGkBhBYgSJESRGkBhBYgSJESRGkBhBYgSJESRGkBhBYgSJ2fY99aujqXvvZ29T98YY4+T0YvrmLpyQGEFiBIkRJEaQGEFiBIkRJEaQGEFiBIkRJEaQGEFiBIkRJEaQGEFiBInZ9sMB/JoTEiNIjCAxgsQIEiNIjCAxgsQIEiNIjCAxgsQIEiNIjCAxgsQIEiNIjCAxgsQIEiNIjCAxgsQIEvMNswMZkTnXBaAAAAAASUVORK5CYII=\n",
      "text/plain": [
       "<Figure size 80x80 with 1 Axes>"
      ]
     },
     "metadata": {
      "needs_background": "light"
     },
     "output_type": "display_data"
    },
    {
     "name": "stdout",
     "output_type": "stream",
     "text": [
      "Accuracy: 99.09%\n"
     ]
    },
    {
     "data": {
      "image/png": "iVBORw0KGgoAAAANSUhEUgAAAGQAAABeCAYAAADVA7GfAAAABHNCSVQICAgIfAhkiAAAAAlwSFlzAAAMTQAADE0B0s6tTgAAADl0RVh0U29mdHdhcmUAbWF0cGxvdGxpYiB2ZXJzaW9uIDMuMC4zLCBodHRwOi8vbWF0cGxvdGxpYi5vcmcvnQurowAAAWBJREFUeJzt3CFKBVEAhtE7IljN7kDEYjYqyHMHBnflGlyAwWIWF2GwuAnLmI3y7uCHnNPn58HHDcO8mWVd10HHwV//AH4SJEaQGEFiBIkRJEaQmMMtx5flbupNzvnx68y5McYYZ5cPU/cen26Xfa53QmIEiREkRpAYQWIEiREkRpAYQWIEiREkRpAYQWIEiREkRpAYQWIEiVk2/Svpy9fU8eerj5lzY4wxdsv91L11ffMI9z8RJEaQGEFiBIkRJEaQGEFiBIkRJEaQGEFiBIkRJEaQGEFiBIkRJEaQGEFitn1P/fpo6t7nxfvUvTHGOD25mb65DyckRpAYQWIEiREkRpAYQWIEiREkRpAYQWIEiREkRpAYQWIEiREkRpAYQWK2/XAAv+aExAgSI0iMIDGCxAgSI0iMIDGCxAgSI0iMIDGCxAgSI0iMIDGCxAgSI0iMIDGCxAgSI0iMIDGCxHwD/OYZgOIlrj0AAAAASUVORK5CYII=\n",
      "text/plain": [
       "<Figure size 80x80 with 1 Axes>"
      ]
     },
     "metadata": {
      "needs_background": "light"
     },
     "output_type": "display_data"
    },
    {
     "name": "stdout",
     "output_type": "stream",
     "text": [
      "Accuracy: 99.27%\n"
     ]
    },
    {
     "data": {
      "image/png": "iVBORw0KGgoAAAANSUhEUgAAAGQAAABeCAYAAADVA7GfAAAABHNCSVQICAgIfAhkiAAAAAlwSFlzAAAMTQAADE0B0s6tTgAAADl0RVh0U29mdHdhcmUAbWF0cGxvdGxpYiB2ZXJzaW9uIDMuMC4zLCBodHRwOi8vbWF0cGxvdGxpYi5vcmcvnQurowAAAVxJREFUeJzt3DFKA1EYRtF/RLB3Eylt7dRGxFaXZ+EaXIGW4iq0dBNjLVaSCV7knD4fA5dXhDfJsq7r0HH01w/Ad4LECBIjSIwgMYLECBJzfMjxZbnb9EvO7uR1y7mZmTm/fth07/HpZtnn805IjCAxgsQIEiNIjCAxgsQIEiNIjCAxgsQIEiNIjCAxgsQIEiNIjCAxy0FfJX2ZTcefL963nJuZmavlftO9dX1zhfufCBIjSIwgMYLECBIjSIwgMYLECBIjSIwgMYLECBIjSIwgMYLECBIjSIwgMYf9nfrlXvf9P3yefWy6NzOzO73dfHMfTkiMIDGCxAgSI0iMIDGCxAgSI0iMIDGCxAgSI0iMIDGCxAgSI0iMIDGCxBz2jwP4NSckRpAYQWIEiREkRpAYQWIEiREkRpAYQWIEiREkRpAYQWIEiREkRpAYQWIEiREkRpAYQWIEiREk5gtTdhh1GgjUmAAAAABJRU5ErkJggg==\n",
      "text/plain": [
       "<Figure size 80x80 with 1 Axes>"
      ]
     },
     "metadata": {
      "needs_background": "light"
     },
     "output_type": "display_data"
    },
    {
     "name": "stdout",
     "output_type": "stream",
     "text": [
      "Accuracy: 99.82%\n"
     ]
    },
    {
     "data": {
      "image/png": "iVBORw0KGgoAAAANSUhEUgAAAGQAAABeCAYAAADVA7GfAAAABHNCSVQICAgIfAhkiAAAAAlwSFlzAAAMTQAADE0B0s6tTgAAADl0RVh0U29mdHdhcmUAbWF0cGxvdGxpYiB2ZXJzaW9uIDMuMC4zLCBodHRwOi8vbWF0cGxvdGxpYi5vcmcvnQurowAAAVtJREFUeJzt3D1KA1EYhtFvJL2rECt34E8paKMbzB7cgliJy9DOPYy1WEkm+CDn9HkZeLhFuJMs67oOHSd//QB8J0iMIDGCxAgSI0iMIDG7Y44vy+OmX3LOdq9bzs3MzOXdftO9/dPtcsjnnZAYQWIEiREkRpAYQWIEiREkRpAYQWIEiREkRpAYQWIEiREkRpAYQWKWo75K+jybjr9cv285NzMzV8vDpnvr+uYK9z8RJEaQGEFiBIkRJEaQGEFiBIkRJEaQGEFiBIkRJEaQGEFiBIkRJEaQGEFijvs79ZuD7vt/+Lz42HRvZub89H7zzUM4ITGCxAgSI0iMIDGCxAgSI0iMIDGCxAgSI0iMIDGCxAgSI0iMIDGCxAgSc9w/DuDXnJAYQWIEiREkRpAYQWIEiREkRpAYQWIEiREkRpAYQWIEiREkRpAYQWIEiREkRpAYQWIEiREkRpCYL1TAGHUy25gAAAAAAElFTkSuQmCC\n",
      "text/plain": [
       "<Figure size 80x80 with 1 Axes>"
      ]
     },
     "metadata": {
      "needs_background": "light"
     },
     "output_type": "display_data"
    },
    {
     "name": "stdout",
     "output_type": "stream",
     "text": [
      "Accuracy: 97.64%\n"
     ]
    },
    {
     "data": {
      "image/png": "iVBORw0KGgoAAAANSUhEUgAAAGQAAABeCAYAAADVA7GfAAAABHNCSVQICAgIfAhkiAAAAAlwSFlzAAAMTQAADE0B0s6tTgAAADl0RVh0U29mdHdhcmUAbWF0cGxvdGxpYiB2ZXJzaW9uIDMuMC4zLCBodHRwOi8vbWF0cGxvdGxpYi5vcmcvnQurowAAAWNJREFUeJzt3bFJxVAAhtH7ROxtBYewsrARBHELbSydQPvnAnaCW7iDvNrCKXSDWFvnPvyKc/r8BD5uERLIZlmWQcfBf98AfwkSI0iMIDGCxAgSI0jM4T7Hz752Ux9y7t+fZs6NMcZ4vDuZuvd9/LZZc70TEiNIjCAxgsQIEiNIjCAxgsQIEiNIjCAxgsQIEiNIjCAxgsQIEiNIzF5f4e6251P3Lq5up+6NMcbPzeXcwY91lzshMYLECBIjSIwgMYLECBIjSIwgMYLECBIjSIwgMYLECBIjSIwgMYLECBIjSMxeP3I4ej2duve5fZm6N8YYz9cPkxfXfYjhhMQIEiNIjCAxgsQIEiNIjCAxgsQIEiNIjCAxgsQIEiNIjCAxgsQIEiNIzMY/qFqckBhBYgSJESRGkBhBYgSJESRGkBhBYgSJESRGkBhBYgSJESRGkBhBYgSJESRGkBhBYgSJESRGkJhfK6cWrD8eZAcAAAAASUVORK5CYII=\n",
      "text/plain": [
       "<Figure size 80x80 with 1 Axes>"
      ]
     },
     "metadata": {
      "needs_background": "light"
     },
     "output_type": "display_data"
    },
    {
     "data": {
      "image/png": "iVBORw0KGgoAAAANSUhEUgAAAGQAAABeCAYAAADVA7GfAAAABHNCSVQICAgIfAhkiAAAAAlwSFlzAAAMTQAADE0B0s6tTgAAADl0RVh0U29mdHdhcmUAbWF0cGxvdGxpYiB2ZXJzaW9uIDMuMC4zLCBodHRwOi8vbWF0cGxvdGxpYi5vcmcvnQurowAAAV5JREFUeJzt3KFNBEEAhtFZgkVgaIIKMBfwCDrAXhUkFEAZdIA/iQaBpZRFoJDkZsMX8p6fP5d8GXHZvVvWdR10nPz1B+AnQWIEiREkRpAYQWIEiTndcvzq7XXql5ynw/PMuTHGGPv7i6l77+cPyzHn3ZAYQWIEiREkRpAYQWIEiREkRpAYQWIEiREkRpAYQWIEiREkRpAYQWKWTV8lvV2mji+f1zPnvn08Tp1b151HuP+JIDGCxAgSI0iMIDGCxAgSI0iMIDGCxAgSI0iMIDGCxAgSI0iMIDGCxAgSs+nv1JebuXvry2Hu4Bjj8uxu8uLuqNNuSIwgMYLECBIjSIwgMYLECBIjSIwgMYLECBIjSIwgMYLECBIjSIwgMYLEbPvHAfyaGxIjSIwgMYLECBIjSIwgMYLECBIjSIwgMYLECBIjSIwgMYLECBIjSIwgMYLECBIjSIwgMYLECBLzBYSDGi9ts9pRAAAAAElFTkSuQmCC\n",
      "text/plain": [
       "<Figure size 80x80 with 1 Axes>"
      ]
     },
     "metadata": {
      "needs_background": "light"
     },
     "output_type": "display_data"
    },
    {
     "name": "stdout",
     "output_type": "stream",
     "text": [
      "Accuracy: 98.36%\n"
     ]
    },
    {
     "data": {
      "image/png": "iVBORw0KGgoAAAANSUhEUgAAAGQAAABeCAYAAADVA7GfAAAABHNCSVQICAgIfAhkiAAAAAlwSFlzAAAMTQAADE0B0s6tTgAAADl0RVh0U29mdHdhcmUAbWF0cGxvdGxpYiB2ZXJzaW9uIDMuMC4zLCBodHRwOi8vbWF0cGxvdGxpYi5vcmcvnQurowAAAVhJREFUeJzt3LFJBEEAhtFZsQHhQosQTM0M7EJrsB/BMsTERMFEaxoTE0O5WfyQ9/L5OfiY4Ni92+acg46Tv/4A/CRIjCAxgsQIEiNIjCAxp3uOX32+Lf2S8/j6tHJujDHG7d1h6d772f12zHk3JEaQGEFiBIkRJEaQGEFiBIkRJEaQGEFiBIkRJEaQGEFiBIkRJEaQmG3XV0mvt6Xj28vlyrlvD0vX5rzwCPc/ESRGkBhBYgSJESRGkBhBYgSJESRGkBhBYgSJESRGkBhBYgSJESRGkBhBYnb9nfp2vnZvzo+1g2OMw3azePH5qNNuSIwgMYLECBIjSIwgMYLECBIjSIwgMYLECBIjSIwgMYLECBIjSIwgMYLE7PvHAfyaGxIjSIwgMYLECBIjSIwgMYLECBIjSIwgMYLECBIjSIwgMYLECBIjSIwgMYLECBIjSIwgMYLECBLzBYNZGbHlMSfGAAAAAElFTkSuQmCC\n",
      "text/plain": [
       "<Figure size 80x80 with 1 Axes>"
      ]
     },
     "metadata": {
      "needs_background": "light"
     },
     "output_type": "display_data"
    },
    {
     "name": "stdout",
     "output_type": "stream",
     "text": [
      "Accuracy: 99.91%\n"
     ]
    },
    {
     "data": {
      "image/png": "iVBORw0KGgoAAAANSUhEUgAAAGQAAABeCAYAAADVA7GfAAAABHNCSVQICAgIfAhkiAAAAAlwSFlzAAAMTQAADE0B0s6tTgAAADl0RVh0U29mdHdhcmUAbWF0cGxvdGxpYiB2ZXJzaW9uIDMuMC4zLCBodHRwOi8vbWF0cGxvdGxpYi5vcmcvnQurowAAAVZJREFUeJzt3LFJBEEAhtFZMbxIy9ASjLQKA0uwr2tCBQUTQwsaExNDuVn8kPfy+Tn4mODYvdvmnIOOs7/+APwkSIwgMYLECBIjSIwgMed7jt98vC79knN8f145N8YY4/7hcune28Xjdsp5NyRGkBhBYgSJESRGkBhBYgSJESRGkBhBYgSJESRGkBhBYgSJESRGkJht11dJb7el49vL9cq5b8ela3NeeYT7nwgSI0iMIDGCxAgSI0iMIDGCxAgSI0iMIDGCxAgSI0iMIDGCxAgSI0iMIDG7/k59O6zdm/Nz7eAY47DdLV58Oum0GxIjSIwgMYLECBIjSIwgMYLECBIjSIwgMYLECBIjSIwgMYLECBIjSIwgMfv+cQC/5obECBIjSIwgMYLECBIjSIwgMYLECBIjSIwgMYLECBIjSIwgMYLECBIjSIwgMYLECBIjSIwgMYLEfAHGzxmgWkFfMwAAAABJRU5ErkJggg==\n",
      "text/plain": [
       "<Figure size 80x80 with 1 Axes>"
      ]
     },
     "metadata": {
      "needs_background": "light"
     },
     "output_type": "display_data"
    },
    {
     "name": "stdout",
     "output_type": "stream",
     "text": [
      "Accuracy: 98.45%\n"
     ]
    },
    {
     "data": {
      "image/png": "iVBORw0KGgoAAAANSUhEUgAAAGQAAABeCAYAAADVA7GfAAAABHNCSVQICAgIfAhkiAAAAAlwSFlzAAAMTQAADE0B0s6tTgAAADl0RVh0U29mdHdhcmUAbWF0cGxvdGxpYiB2ZXJzaW9uIDMuMC4zLCBodHRwOi8vbWF0cGxvdGxpYi5vcmcvnQurowAAAVVJREFUeJzt3DFKA0EAhtFZEcFWb5Ez2OQSVt7Ao+kdNFZi73nGxsZSMosf8l4/P4GPKcJuss05Bx0Xf/0B+EmQGEFiBIkRJEaQGEFiLvccv/s4Lf2S8/x+Wjk3xhjj/uF26d7bzeN2znk3JEaQGEFiBIkRJEaQGEFiBIkRJEaQGEFiBIkRJEaQGEFiBIkRJEaQmG3XV0mP29Lx7fWwcu7b09K1OQ8e4f4ngsQIEiNIjCAxgsQIEiNIjCAxgsQIEiNIjCAxgsQIEiNIjCAxgsQIEiNIzK6/U9+u1u7N+bl2cIxxvR0XL76cddoNiREkRpAYQWIEiREkRpAYQWIEiREkRpAYQWIEiREkRpAYQWIEiREkRpCYff84gF9zQ2IEiREkRpAYQWIEiREkRpAYQWIEiREkRpAYQWIEiREkRpAYQWIEiREkRpAYQWIEiREkRpAYQWK+ANN8GZmgi+e4AAAAAElFTkSuQmCC\n",
      "text/plain": [
       "<Figure size 80x80 with 1 Axes>"
      ]
     },
     "metadata": {
      "needs_background": "light"
     },
     "output_type": "display_data"
    },
    {
     "name": "stdout",
     "output_type": "stream",
     "text": [
      "Accuracy: 99.82%\n"
     ]
    },
    {
     "data": {
      "image/png": "iVBORw0KGgoAAAANSUhEUgAAAGQAAABeCAYAAADVA7GfAAAABHNCSVQICAgIfAhkiAAAAAlwSFlzAAAMTQAADE0B0s6tTgAAADl0RVh0U29mdHdhcmUAbWF0cGxvdGxpYiB2ZXJzaW9uIDMuMC4zLCBodHRwOi8vbWF0cGxvdGxpYi5vcmcvnQurowAAAVRJREFUeJzt3LFNA0EARcE9ICCGJhA1EEAVJFRAb+7hJCJXQDlLQkKIvCee0Ey+X5aeNrDu7G3OOei4+usPwE+CxAgSI0iMIDGCxAgSc3Pk+NN5X/ol53T+WDk3xhjj9e1+6d5+975dct4NiREkRpAYQWIEiREkRpAYQWIEiREkRpAYQWIEiREkRpAYQWIEiREkZjv0VdKXben4tj+snPt2Wro256NHuP+JIDGCxAgSI0iMIDGCxAgSI0iMIDGCxAgSI0iMIDGCxAgSI0iMIDGCxAgSc+jv1LfrtXtzfq4dHGPcbs+LF/eLTrshMYLECBIjSIwgMYLECBIjSIwgMYLECBIjSIwgMYLECBIjSIwgMYLECBJz7B8H8GtuSIwgMYLECBIjSIwgMYLECBIjSIwgMYLECBIjSIwgMYLECBIjSIwgMYLECBIjSIwgMYLECBIjSMwXRB0Zl0Qi/+8AAAAASUVORK5CYII=\n",
      "text/plain": [
       "<Figure size 80x80 with 1 Axes>"
      ]
     },
     "metadata": {
      "needs_background": "light"
     },
     "output_type": "display_data"
    },
    {
     "name": "stdout",
     "output_type": "stream",
     "text": [
      "Accuracy: 99.09%\n"
     ]
    },
    {
     "data": {
      "image/png": "iVBORw0KGgoAAAANSUhEUgAAAGQAAABeCAYAAADVA7GfAAAABHNCSVQICAgIfAhkiAAAAAlwSFlzAAAMTQAADE0B0s6tTgAAADl0RVh0U29mdHdhcmUAbWF0cGxvdGxpYiB2ZXJzaW9uIDMuMC4zLCBodHRwOi8vbWF0cGxvdGxpYi5vcmcvnQurowAAAR9JREFUeJzt2zEKwzAQAMFcyP+/fKkD6WyRgez0FoLlCiNpdvcRx/PXG8ingmAKgikIpiCYgmAKgnmdXHxm/u4nZ3fnyvdNCKYgmIJgCoIpCKYgmIJgCoIpCKYgmIJgCoIpCKYgmIJgCoIpCKYgmKNHuHdfU525dDr6lXaVtgnBFARTEExBMAXBFARTEExBMAXBFARTEExBMAXBFARTEExBMAXBFARTEExBMKffqd+63okLCdoemxBMQTAFwRQEUxBMQTAFwRQEUxBMQTAFwRQEUxBMQTAFwRQEUxBMQTAFwYz2cP7fNSGYgmAKgikIpiCYgmAKgikIpiCYgmAKgikIpiCYgmAKgikIpiCYgmAKgikIpiCYgmAKgikIpiCYN0cDFrgGV93fAAAAAElFTkSuQmCC\n",
      "text/plain": [
       "<Figure size 80x80 with 1 Axes>"
      ]
     },
     "metadata": {
      "needs_background": "light"
     },
     "output_type": "display_data"
    },
    {
     "name": "stdout",
     "output_type": "stream",
     "text": [
      "Accuracy: 94.09%\n",
      "Accuracy: 100.00%\n"
     ]
    },
    {
     "data": {
      "image/png": "iVBORw0KGgoAAAANSUhEUgAAAGQAAABeCAYAAADVA7GfAAAABHNCSVQICAgIfAhkiAAAAAlwSFlzAAAMTQAADE0B0s6tTgAAADl0RVh0U29mdHdhcmUAbWF0cGxvdGxpYiB2ZXJzaW9uIDMuMC4zLCBodHRwOi8vbWF0cGxvdGxpYi5vcmcvnQurowAAAV9JREFUeJzt3TFKJFEYRtG/xcTMwHw0mWWYmZkZmQ6ItPsQF+BCXIRgKG7D1AVMGxv3a7zBOXl9FFxeUFRBbXa73dBx9Ns3wE+CxAgSI0iMIDGCxAgSc3zI8cvbP0sfcp5PTlfOzczM9v1+6d7bx8Nmn+udkBhBYgSJESRGkBhBYgSJESRGkBhBYgSJESRGkBhBYgSJESRGkBhBYg76Cvfq/3bp3svN69K9mZm/JxfLN/fhhMQIEiNIjCAxgsQIEiNIjCAxgsQIEiNIjCAxgsQIEiNIjCAxgsQIEiNIjCAxB/3I4ev6fOnev7PHpXszM59Pd8s39+GExAgSI0iMIDGCxAgSI0iMIDGCxAgSI0iMIDGCxAgSI0iMIDGCxAgSI0jMxj+oWpyQGEFiBIkRJEaQGEFiBIkRJEaQGEFiBIkRJEaQGEFiBIkRJEaQGEFiBIkRJEaQGEFiBIkRJEaQmG/z4BSqTL2fmgAAAABJRU5ErkJggg==\n",
      "text/plain": [
       "<Figure size 80x80 with 1 Axes>"
      ]
     },
     "metadata": {
      "needs_background": "light"
     },
     "output_type": "display_data"
    },
    {
     "data": {
      "image/png": "iVBORw0KGgoAAAANSUhEUgAAAGQAAABeCAYAAADVA7GfAAAABHNCSVQICAgIfAhkiAAAAAlwSFlzAAAMTQAADE0B0s6tTgAAADl0RVh0U29mdHdhcmUAbWF0cGxvdGxpYiB2ZXJzaW9uIDMuMC4zLCBodHRwOi8vbWF0cGxvdGxpYi5vcmcvnQurowAAAVZJREFUeJzt3SFOxVAQQNEpwSDQSAKSYGEdGCRbQCBQKCSrYwFsgBUgi0b/98MV5/hOmtyMaN5Luu37PnSc/PcL8JcgMYLECBIjSIwgMYLEnB5z+MXN2dKPnO/Hh5XjZmZme79bOm/fX7ZDnrchMYLECBIjSIwgMYLECBIjSIwgMYLECBIjSIwgMYLECBIjSIwgMYLEHPUI9+n6bem8j/OvpfNmZi6ndZXWhsQIEiNIjCAxgsQIEiNIjCAxgsQIEiNIjCAxgsQIEiNIjCAxgsQIEiNIjCAxR73kcPV8v3Te7efaSxMzM6/7z/KZh7AhMYLECBIjSIwgMYLECBIjSIwgMYLECBIjSIwgMYLECBIjSIwgMYLECBKz+QdViw2JESRGkBhBYgSJESRGkBhBYgSJESRGkBhBYgSJESRGkBhBYgSJESRGkBhBYgSJESRGkBhBYgSJ+QWr6BTwVCeFHAAAAABJRU5ErkJggg==\n",
      "text/plain": [
       "<Figure size 80x80 with 1 Axes>"
      ]
     },
     "metadata": {
      "needs_background": "light"
     },
     "output_type": "display_data"
    },
    {
     "name": "stdout",
     "output_type": "stream",
     "text": [
      "Accuracy: 57.64%\n"
     ]
    },
    {
     "data": {
      "image/png": "iVBORw0KGgoAAAANSUhEUgAAAGQAAABeCAYAAADVA7GfAAAABHNCSVQICAgIfAhkiAAAAAlwSFlzAAAMTQAADE0B0s6tTgAAADl0RVh0U29mdHdhcmUAbWF0cGxvdGxpYiB2ZXJzaW9uIDMuMC4zLCBodHRwOi8vbWF0cGxvdGxpYi5vcmcvnQurowAAAVFJREFUeJzt3KFNxkAAhuE7wjRMwQAEhWIHPIKwB+aXTMAiODbAscIhUFi4hifhfXy/NHlzomnTudYacZz99Q3ku4JgCoIpCKYgmIJgCoI5P3J8zrn1IWe9PO2cG2OMMa8+tu6tdT9/c30nBFMQTEEwBcEUBFMQTEEwBcEUBFMQTEEwBcEUBFMQTEEwBcEUBFMQzKGvcK8vH7buPZ7et+59eT1g8+c6IZiCYAqCKQimIJiCYAqCKQimIJiCYAqCKQimIJiCYAqCKQimIJiCYAqCKQjm0I8c7p5vt+693Vxs3RtjDO1/YZ0QTEEwBcEUBFMQTEEwBcEUBFMQTEEwBcEUBFMQTEEwBcEUBFMQTEEwBcFM7Z3yf9cJwRQEUxBMQTAFwRQEUxBMQTAFwRQEUxBMQTAFwRQEUxBMQTAFwRQEUxBMQTAFwRQEUxBMQTAFwXwC0GkXWRd4f5oAAAAASUVORK5CYII=\n",
      "text/plain": [
       "<Figure size 80x80 with 1 Axes>"
      ]
     },
     "metadata": {
      "needs_background": "light"
     },
     "output_type": "display_data"
    },
    {
     "name": "stdout",
     "output_type": "stream",
     "text": [
      "Accuracy: 95.09%\n"
     ]
    },
    {
     "data": {
      "image/png": "iVBORw0KGgoAAAANSUhEUgAAAGQAAABeCAYAAADVA7GfAAAABHNCSVQICAgIfAhkiAAAAAlwSFlzAAAMTQAADE0B0s6tTgAAADl0RVh0U29mdHdhcmUAbWF0cGxvdGxpYiB2ZXJzaW9uIDMuMC4zLCBodHRwOi8vbWF0cGxvdGxpYi5vcmcvnQurowAAAVtJREFUeJzt2rFJBUEARdEZsQMLMLIDzUxsS8EGLMbEwAJ+JAa2oGWYjLGhOB8vck6+j10uGyw7c6016Dj56xvgO0FiBIkRJEaQGEFiBIk5Peb4nHPrR856fdo5N8YYY16+bd1b627+5npvSIwgMYLECBIjSIwgMYLECBIjSIwgMYLECBIjSIwgMYLECBIjSIwgMfOYR0lvrm+3jl/Ns51zY4wxHg6PW/fWOviF+58IEiNIjCAxgsQIEiNIjCAxgsQIEiNIjCAxgsQIEiNIjCAxgsQIEiNIjCAxRz3k8PL5sXX8+eJ859wYY4z79+3P75DDfyJIjCAxgsQIEiNIjCAxgsQIEiNIjCAxgsQIEiNIjCAxgsQIEiNIjCAxR/2nzs95Q2IEiREkRpAYQWIEiREkRpAYQWIEiREkRpAYQWIEiREkRpAYQWIEiREkRpAYQWIEiREkRpAYQWK+AMxWIa9cfGG9AAAAAElFTkSuQmCC\n",
      "text/plain": [
       "<Figure size 80x80 with 1 Axes>"
      ]
     },
     "metadata": {
      "needs_background": "light"
     },
     "output_type": "display_data"
    },
    {
     "name": "stdout",
     "output_type": "stream",
     "text": [
      "Accuracy: 98.27%\n"
     ]
    },
    {
     "data": {
      "image/png": "iVBORw0KGgoAAAANSUhEUgAAAGQAAABeCAYAAADVA7GfAAAABHNCSVQICAgIfAhkiAAAAAlwSFlzAAAMTQAADE0B0s6tTgAAADl0RVh0U29mdHdhcmUAbWF0cGxvdGxpYiB2ZXJzaW9uIDMuMC4zLCBodHRwOi8vbWF0cGxvdGxpYi5vcmcvnQurowAAAVtJREFUeJzt2rFJxlAYRuEv4goW4gJuIOhiFta27mDrEoL1j60T2LiBTawtxfvjQZ6nz0vCIUXI3fZ9HzpO/voG+E6QGEFiBIkRJEaQGEFiTo85vm3b0o+c/e155dzMzGyXL0v39v1u+8313pAYQWIEiREkRpAYQWIEiREkRpAYQWIEiREkRpAYQWIEiREkRpAYQWK2Yx4lvbm+XTp+9Xm+cm5mZh4Oj0v39v3gF+5/IkiMIDGCxAgSI0iMIDGCxAgSI0iMIDGCxAgSI0iMIDGCxAgSI0iMIDGCxBz1kMPrvC8dfzq7WDk3MzP3H8uf3yGH/0SQGEFiBIkRJEaQGEFiBIkRJEaQGEFiBIkRJEaQGEFiBIkRJEaQGEFijvpPnZ/zhsQIEiNIjCAxgsQIEiNIjCAxgsQIEiNIjCAxgsQIEiNIjCAxgsQIEiNIjCAxgsQIEiNIjCAxgsR8AWC5Ia9wHU0hAAAAAElFTkSuQmCC\n",
      "text/plain": [
       "<Figure size 80x80 with 1 Axes>"
      ]
     },
     "metadata": {
      "needs_background": "light"
     },
     "output_type": "display_data"
    },
    {
     "name": "stdout",
     "output_type": "stream",
     "text": [
      "Accuracy: 98.91%\n"
     ]
    },
    {
     "data": {
      "image/png": "iVBORw0KGgoAAAANSUhEUgAAAGQAAABeCAYAAADVA7GfAAAABHNCSVQICAgIfAhkiAAAAAlwSFlzAAAMTQAADE0B0s6tTgAAADl0RVh0U29mdHdhcmUAbWF0cGxvdGxpYiB2ZXJzaW9uIDMuMC4zLCBodHRwOi8vbWF0cGxvdGxpYi5vcmcvnQurowAAAVpJREFUeJzt2iFOxVAURdFbgsYhCYNAkDAwHGPAIDAMhCGg+TPAohDYopGE98MOWcv3pM1ORdO37fs+dJz89Q3wnSAxgsQIEiNIjCAxgsScHnN827alHzn728vKuZmZ2S6el+7t+932m+u9ITGCxAgSI0iMIDGCxAgSI0iMIDGCxAgSI0iMIDGCxAgSI0iMIDGCxGzHPEp6dX27dPzm83Ll3MzMPBwel+7t+6tfuP+JIDGCxAgSI0iMIDGCxAgSI0iMIDGCxAgSI0iMIDGCxAgSI0iMIDGCxAgSc9RDDod5Xzr+dHa+cm5mZu4/lj+/Qw7/iSAxgsQIEiNIjCAxgsQIEiNIjCAxgsQIEiNIjCAxgsQIEiNIjCAxgsQc9Z86P+cNiREkRpAYQWIEiREkRpAYQWIEiREkRpAYQWIEiREkRpAYQWIEiREkRpAYQWIEiREkRpAYQWIEifkCXJkhr4LZdbsAAAAASUVORK5CYII=\n",
      "text/plain": [
       "<Figure size 80x80 with 1 Axes>"
      ]
     },
     "metadata": {
      "needs_background": "light"
     },
     "output_type": "display_data"
    },
    {
     "name": "stdout",
     "output_type": "stream",
     "text": [
      "Accuracy: 100.00%\n"
     ]
    },
    {
     "data": {
      "image/png": "iVBORw0KGgoAAAANSUhEUgAAAGQAAABeCAYAAADVA7GfAAAABHNCSVQICAgIfAhkiAAAAAlwSFlzAAAMTQAADE0B0s6tTgAAADl0RVh0U29mdHdhcmUAbWF0cGxvdGxpYiB2ZXJzaW9uIDMuMC4zLCBodHRwOi8vbWF0cGxvdGxpYi5vcmcvnQurowAAAWRJREFUeJzt3CFKBVEAhtH75GGwiEuwuBWj2WJ7C9FismoWXInJBRhNguACjOKYjfLuww85p8/PwMcNwzCzWpZl0LH31zfAT4LECBIjSIwgMYLECBKz3uX448nt1Ieci5vNzLkxxhjr94+pey+bo9U21zshMYLECBIjSIwgMYLECBIjSIwgMYLECBIjSIwgMYLECBIjSIwgMYLE7PQV7vXZ8dS9p7eDqXtjjPF5/jp9cxtOSIwgMYLECBIjSIwgMYLECBIjSIwgMYLECBIjSIwgMYLECBIjSIwgMYLECBKz2uX/sva/LqeOP3+czpwbY4zxcHg/de9qufOd+n8iSIwgMYLECBIjSIwgMYLECBIjSIwgMYLECBIjSIwgMYLECBIjSIwgMTt9p87vOSExgsQIEiNIjCAxgsQIEiNIjCAxgsQIEiNIjCAxgsQIEiNIjCAxgsQIEiNIjCAxgsQIEiNIjCAx3yHEHZruO3tyAAAAAElFTkSuQmCC\n",
      "text/plain": [
       "<Figure size 80x80 with 1 Axes>"
      ]
     },
     "metadata": {
      "needs_background": "light"
     },
     "output_type": "display_data"
    },
    {
     "data": {
      "image/png": "iVBORw0KGgoAAAANSUhEUgAAAGQAAABeCAYAAADVA7GfAAAABHNCSVQICAgIfAhkiAAAAAlwSFlzAAAMTQAADE0B0s6tTgAAADl0RVh0U29mdHdhcmUAbWF0cGxvdGxpYiB2ZXJzaW9uIDMuMC4zLCBodHRwOi8vbWF0cGxvdGxpYi5vcmcvnQurowAAAWFJREFUeJzt3LFJxlAUgNEXcRXB3t4BFKztrd3AUhAsdQLFwgUcwAEcQFzBHWIt2Mj/gh9yTp9L4OMV4SZZ1nUddOz99Q3wnSAxgsQIEiNIjCAxgsTsbzn84fB+6kPOzePlzHFjjDHe796mzlufjpZdrndCYgSJESRGkBhBYgSJESRGkBhBYgSJESRGkBhBYgSJESRGkBhBYgSJ2XSF+3pxPHXe2clO29Ef3X62XqV1QmIEiREkRpAYQWIEiREkRpAYQWIEiREkRpAYQWIEiREkRpAYQWIEiREkRpCYZcv/ZS0f11OHrwdXM8eNMcY4X06nznteX3yn/p8IEiNIjCAxgsQIEiNIjCAxgsQIEiNIjCAxgsQIEiNIjCAxgsQIEiNIzKY7dX7PCYkRJEaQGEFiBIkRJEaQGEFiBIkRJEaQGEFiBIkRJEaQGEFiBIkRJEaQGEFiBIkRJEaQGEFiBIn5ArbSHSXTJvGEAAAAAElFTkSuQmCC\n",
      "text/plain": [
       "<Figure size 80x80 with 1 Axes>"
      ]
     },
     "metadata": {
      "needs_background": "light"
     },
     "output_type": "display_data"
    },
    {
     "name": "stdout",
     "output_type": "stream",
     "text": [
      "Accuracy: 97.27%\n"
     ]
    },
    {
     "data": {
      "image/png": "iVBORw0KGgoAAAANSUhEUgAAAGQAAABeCAYAAADVA7GfAAAABHNCSVQICAgIfAhkiAAAAAlwSFlzAAAMTQAADE0B0s6tTgAAADl0RVh0U29mdHdhcmUAbWF0cGxvdGxpYiB2ZXJzaW9uIDMuMC4zLCBodHRwOi8vbWF0cGxvdGxpYi5vcmcvnQurowAAAVlJREFUeJzt3bFJxkAYgOGLuIMrWNja/pVg4ySCuIoWdv8ANg4g2OgM2rlLrAW7XPAp3qe/j8DLFeGOZFnXdcRx8t8PkN8KgikIpiCYgmAKgikI5nTP4Q/nj1Nfco4v9zPHjTHG+Lp9mzpvfb9atqxvh2AKgikIpiCYgmAKgikIpiCYgmAKgikIpiCYgmAKgikIpiCYgmAKgtn1CPf77mbqvLOLTaejf/rErtK2QzAFwRQEUxBMQTAFwRQEUxBMQTAFwRQEUxBMQTAFwRQEUxBMQTAFwRQEUxDMrpccni6fp87b49te18th6rzX9WPT+nYIpiCYgmAKgikIpiCYgmAKgikIpiCYgmAKgikIpiCYgmAKgikIpiCYgmCW/kFlaYdgCoIpCKYgmIJgCoIpCKYgmIJgCoIpCKYgmIJgCoIpCKYgmIJgCoIpCKYgmIJgCoIpCKYgmIJgfgDFkBrVhLj7hAAAAABJRU5ErkJggg==\n",
      "text/plain": [
       "<Figure size 80x80 with 1 Axes>"
      ]
     },
     "metadata": {
      "needs_background": "light"
     },
     "output_type": "display_data"
    },
    {
     "name": "stdout",
     "output_type": "stream",
     "text": [
      "Accuracy: 99.45%\n"
     ]
    },
    {
     "data": {
      "image/png": "iVBORw0KGgoAAAANSUhEUgAAAGQAAABeCAYAAADVA7GfAAAABHNCSVQICAgIfAhkiAAAAAlwSFlzAAAMTQAADE0B0s6tTgAAADl0RVh0U29mdHdhcmUAbWF0cGxvdGxpYiB2ZXJzaW9uIDMuMC4zLCBodHRwOi8vbWF0cGxvdGxpYi5vcmcvnQurowAAAVVJREFUeJzt26FNBUEUQNFZQi380AIOjcTQBhSB/aEHBAWAxuFQdEET+zUJbmfDSbjH78smN09sZnZZ13XEcfbXL5CfCoIpCKYgmIJgCoIpCOZ8z+GPh+PUj5yX1/uZ48YYY3zdvU2dt37eLFueb0MwBcEUBFMQTEEwBcEUBFMQTEEwBcEUBFMQTEEwBcEUBFMQTEEwBcHseoT7/XA7d+DFptPRX2lXadsQTEEwBcEUBFMQTEEwBcEUBFMQTEEwBcEUBFMQTEEwBcEUBFMQTEEwBcEUBLPrJYeny+ep8/a4kHC9XE2d975+bHq+DcEUBFMQTEEwBcEUBFMQTEEwBcEUBFMQTEEwBcEUBFMQTEEwBcEUBFMQzKL9OP/ftSGYgmAKgikIpiCYgmAKgikIpiCYgmAKgikIpiCYgmAKgikIpiCYgmAKgikIpiCYgmAKgikIpiCYE2bcGun1HSTuAAAAAElFTkSuQmCC\n",
      "text/plain": [
       "<Figure size 80x80 with 1 Axes>"
      ]
     },
     "metadata": {
      "needs_background": "light"
     },
     "output_type": "display_data"
    },
    {
     "name": "stdout",
     "output_type": "stream",
     "text": [
      "Accuracy: 95.91%\n"
     ]
    },
    {
     "data": {
      "image/png": "iVBORw0KGgoAAAANSUhEUgAAAGQAAABeCAYAAADVA7GfAAAABHNCSVQICAgIfAhkiAAAAAlwSFlzAAAMTQAADE0B0s6tTgAAADl0RVh0U29mdHdhcmUAbWF0cGxvdGxpYiB2ZXJzaW9uIDMuMC4zLCBodHRwOi8vbWF0cGxvdGxpYi5vcmcvnQurowAAAVhJREFUeJzt2zFKxUAUQNGJuBR1DXZ/BxYWLkRwAy5AXIP1r2ys7WzFhVhbxVqwywQPeE+fR+DyijCTZV3XEcfJX79AfioIpiCYgmAKgikIpiCY0z2H3188TP3IOb7czhw3xhjj4/p56rz1/WrZ8nwbgikIpiCYgmAKgikIpiCYgmAKgikIpiCYgmAKgikIpiCYgmAKgikIZtcj3M+7m6nzvs42nY7+SrtK24ZgCoIpCKYgmIJgCoIpCKYgmIJgCoIpCKYgmIJgCoIpCKYgmIJgCoIpCKYgmF0vOTyeP02dt8eFhMNyOXXe6/q26fk2BFMQTEEwBcEUBFMQTEEwBcEUBFMQTEEwBcEUBFMQTEEwBcEUBFMQTEEwi/bj/H/XhmAKgikIpiCYgmAKgikIpiCYgmAKgikIpiCYgmAKgikIpiCYgmAKgikIpiCYgmAKgikIpiCYgmC+AYxjG+TjW2mvAAAAAElFTkSuQmCC\n",
      "text/plain": [
       "<Figure size 80x80 with 1 Axes>"
      ]
     },
     "metadata": {
      "needs_background": "light"
     },
     "output_type": "display_data"
    },
    {
     "name": "stdout",
     "output_type": "stream",
     "text": [
      "Accuracy: 99.91%\n"
     ]
    },
    {
     "data": {
      "image/png": "iVBORw0KGgoAAAANSUhEUgAAAGQAAABeCAYAAADVA7GfAAAABHNCSVQICAgIfAhkiAAAAAlwSFlzAAAMTQAADE0B0s6tTgAAADl0RVh0U29mdHdhcmUAbWF0cGxvdGxpYiB2ZXJzaW9uIDMuMC4zLCBodHRwOi8vbWF0cGxvdGxpYi5vcmcvnQurowAAAVdJREFUeJzt27FJBUEUQNFZsRERrMHktyBm9mFgbAVagxV8Q3MTY7ESLWCNBbOdxQPek+9j4fKCZWaXdV1HHCd//QL5qSCYgmAKgikIpiCYgmBO9xx+f/Ew9SPn+HI7c9wYY4z3q+ep89aP62XL820IpiCYgmAKgikIpiCYgmAKgikIpiCYgmAKgikIpiCYgmAKgikIpiCYXY9wP+9ups77Ot90Ovor7SptG4IpCKYgmIJgCoIpCKYgmIJgCoIpCKYgmIJgCoIpCKYgmIJgCoIpCKYgmIJgdr3k8Hj2NHXeHhcSDsvl1Hmv69um59sQTEEwBcEUBFMQTEEwBcEUBFMQTEEwBcEUBFMQTEEwBcEUBFMQTEEwBcEs2o/z/10bgikIpiCYgmAKgikIpiCYgmAKgikIpiCYgmAKgikIpiCYgmAKgikIpiCYgmAKgikIpiCYgmAKgvkGDP8b3KUKVqgAAAAASUVORK5CYII=\n",
      "text/plain": [
       "<Figure size 80x80 with 1 Axes>"
      ]
     },
     "metadata": {
      "needs_background": "light"
     },
     "output_type": "display_data"
    },
    {
     "name": "stdout",
     "output_type": "stream",
     "text": [
      "Accuracy: 98.36%\n"
     ]
    },
    {
     "data": {
      "image/png": "iVBORw0KGgoAAAANSUhEUgAAAGQAAABeCAYAAADVA7GfAAAABHNCSVQICAgIfAhkiAAAAAlwSFlzAAAMTQAADE0B0s6tTgAAADl0RVh0U29mdHdhcmUAbWF0cGxvdGxpYiB2ZXJzaW9uIDMuMC4zLCBodHRwOi8vbWF0cGxvdGxpYi5vcmcvnQurowAAAR9JREFUeJzt20EKg0AQAMFMyP+/vJ4DueliBbvuLkIzB9lx1lqvON53v0C+FQRTEExBMAXBFARTEMxn5+Ez87iPnLXWnHm+CcEUBFMQTEEwBcEUBFMQTEEwBcEUBFMQTEEwBcEUBFMQTEEwBcEUBLP1CvfqNdWZU7ejP2mrtE0IpiCYgmAKgikIpiCYgmAKgikIpiCYgmAKgikIpiCYgmAKgikIpiCYgmAKgtn9n/ql52kLCTs0IZiCYAqCKQimIJiCYAqCKQimIJiCYAqCKQimIJiCYAqCKQimIJiCYAqCmSfcU/+TJgRTEExBMAXBFARTEExBMAXBFARTEExBMAXBFARTEExBMAXBFARTEExBMAXBFARTEExBMAXBFARzAAWnE7jODxHkAAAAAElFTkSuQmCC\n",
      "text/plain": [
       "<Figure size 80x80 with 1 Axes>"
      ]
     },
     "metadata": {
      "needs_background": "light"
     },
     "output_type": "display_data"
    },
    {
     "name": "stdout",
     "output_type": "stream",
     "text": [
      "Accuracy: 94.91%\n",
      "Accuracy: 100.00%\n"
     ]
    },
    {
     "data": {
      "image/png": "iVBORw0KGgoAAAANSUhEUgAAAGQAAABeCAYAAADVA7GfAAAABHNCSVQICAgIfAhkiAAAAAlwSFlzAAAMTQAADE0B0s6tTgAAADl0RVh0U29mdHdhcmUAbWF0cGxvdGxpYiB2ZXJzaW9uIDMuMC4zLCBodHRwOi8vbWF0cGxvdGxpYi5vcmcvnQurowAAAWpJREFUeJzt3LFJQ1EAhtGbYGVnrYhuIDqErZVriI2FOwh2ruAAFi5g6wYuIOlFEGJtKbnBDzmnvz+Bj1uE95LFer0edCz/+gPwkyAxgsQIEiNIjCAxgsTsbHP88fZs6pecg+uTmXNjjDH2X86n7h1fXC42Oe+GxAgSI0iMIDGCxAgSI0iMIDGCxAgSI0iMIDGCxAgSI0iMIDGCxAgSs9jmq6Q3nx9Txw+X9zPnxhhjPO9fTd17et/1CPc/ESRGkBhBYgSJESRGkBhBYgSJESRGkBhBYgSJESRGkBhBYgSJESRGkBhBYrb6O/XV1+nUvde9t6l7Y4zxcHQ3eXG10Wk3JEaQGEFiBIkRJEaQGEFiBIkRJEaQGEFiBIkRJEaQGEFiBIkRJEaQGEFitvrHAfyeGxIjSIwgMYLECBIjSIwgMYLECBIjSIwgMYLECBIjSIwgMYLECBIjSIwgMYLECBIjSIwgMYLECBLzDZqHG7uYCydpAAAAAElFTkSuQmCC\n",
      "text/plain": [
       "<Figure size 80x80 with 1 Axes>"
      ]
     },
     "metadata": {
      "needs_background": "light"
     },
     "output_type": "display_data"
    },
    {
     "data": {
      "image/png": "iVBORw0KGgoAAAANSUhEUgAAAGQAAABeCAYAAADVA7GfAAAABHNCSVQICAgIfAhkiAAAAAlwSFlzAAAMTQAADE0B0s6tTgAAADl0RVh0U29mdHdhcmUAbWF0cGxvdGxpYiB2ZXJzaW9uIDMuMC4zLCBodHRwOi8vbWF0cGxvdGxpYi5vcmcvnQurowAAAWBJREFUeJzt3DFKA0EAhtFZ8QDaidgIdsHCC9jkNmKX1ltZ2HgCwcITeAvbtbaUzOKHvNfPT+BjirCbLOu6DjpO/voD8JMgMYLECBIjSIwgMYLEnG45/ny4m/ol5+PyYubcGGOMp8PL7MnlmMNuSIwgMYLECBIjSIwgMYLECBIjSIwgMYLECBIjSIwgMYLECBIjSIwgMcuWr5I+fH5NHX+8fps5N8YYY7fcTN1b1yuPcP8TQWIEiREkRpAYQWIEiREkRpAYQWIEiREkRpAYQWIEiREkRpAYQWIEiREkZtPfqZ+f3U/du13ep+6NMca6209efD3qtBsSI0iMIDGCxAgSI0iMIDGCxAgSI0iMIDGCxAgSI0iMIDGCxAgSI0iMIDGb/nEAv+eGxAgSI0iMIDGCxAgSI0iMIDGCxAgSI0iMIDGCxAgSI0iMIDGCxAgSI0iMIDGCxAgSI0iMIDGCxHwDIdAZOOfYxQcAAAAASUVORK5CYII=\n",
      "text/plain": [
       "<Figure size 80x80 with 1 Axes>"
      ]
     },
     "metadata": {
      "needs_background": "light"
     },
     "output_type": "display_data"
    },
    {
     "name": "stdout",
     "output_type": "stream",
     "text": [
      "Accuracy: 95.64%\n"
     ]
    },
    {
     "data": {
      "image/png": "iVBORw0KGgoAAAANSUhEUgAAAGQAAABeCAYAAADVA7GfAAAABHNCSVQICAgIfAhkiAAAAAlwSFlzAAAMTQAADE0B0s6tTgAAADl0RVh0U29mdHdhcmUAbWF0cGxvdGxpYiB2ZXJzaW9uIDMuMC4zLCBodHRwOi8vbWF0cGxvdGxpYi5vcmcvnQurowAAAWBJREFUeJzt3LFJBEEAhtFZEbkeTDUWsQebMLOFK8bUQANrMNfYHkwswFDW2FBuFj/kvXx+Dj4mOHbvlnVdBx1Hf/0B+EmQGEFiBIkRJEaQGEFijrccf95fTf2Sc/9+MnNujDHG49Pr7MnlkMNuSIwgMYLECBIjSIwgMYLECBIjSIwgMYLECBIjSIwgMYLECBIjSIwgMcuWr5Levn1OHb+7+Jg5N8YYY7d8Td1b13OPcP8TQWIEiREkRpAYQWIEiREkRpAYQWIEiREkRpAYQWIEiREkRpAYQWIEiREkZtPfqZ+dXk/d2y0vU/fGGGO9vJm8+HDQaTckRpAYQWIEiREkRpAYQWIEiREkRpAYQWIEiREkRpAYQWIEiREkRpAYQWI2/eMAfs8NiREkRpAYQWIEiREkRpAYQWIEiREkRpAYQWIEiREkRpAYQWIEiREkRpAYQWIEiREkRpAYQWIEifkGIx8bOEwO10AAAAAASUVORK5CYII=\n",
      "text/plain": [
       "<Figure size 80x80 with 1 Axes>"
      ]
     },
     "metadata": {
      "needs_background": "light"
     },
     "output_type": "display_data"
    },
    {
     "name": "stdout",
     "output_type": "stream",
     "text": [
      "Accuracy: 99.36%\n"
     ]
    },
    {
     "data": {
      "image/png": "iVBORw0KGgoAAAANSUhEUgAAAGQAAABeCAYAAADVA7GfAAAABHNCSVQICAgIfAhkiAAAAAlwSFlzAAAMTQAADE0B0s6tTgAAADl0RVh0U29mdHdhcmUAbWF0cGxvdGxpYiB2ZXJzaW9uIDMuMC4zLCBodHRwOi8vbWF0cGxvdGxpYi5vcmcvnQurowAAAV5JREFUeJzt3LFJBEEAhtEZsQ9jwfDswSYM7cA6LMDUFgzFxFAQGzETQ9fYUJzFD3kvn5+DjwmO3bu5bdug4+ivPwDfCRIjSIwgMYLECBIjSMzxnuOP14elX3JuXj9Xzo0xxrh/eFk9OX9z2A2JESRGkBhBYgSJESRGkBhBYgSJESRGkBhBYgSJESRGkBhBYgSJESRm7vkq6eXzx9Lxu/P3lXNjjDHmfFu6t22nHuH+J4LECBIjSIwgMYLECBIjSIwgMYLECBIjSIwgMYLECBIjSIwgMYLECBIjSMyuv1M/O7lYujfn09K9McbYDleLF29/ddoNiREkRpAYQWIEiREkRpAYQWIEiREkRpAYQWIEiREkRpAYQWIEiREkRpCYXf84gJ9zQ2IEiREkRpAYQWIEiREkRpAYQWIEiREkRpAYQWIEiREkRpAYQWIEiREkRpAYQWIEiREkRpAYQWK+ACI1HD8XmzMtAAAAAElFTkSuQmCC\n",
      "text/plain": [
       "<Figure size 80x80 with 1 Axes>"
      ]
     },
     "metadata": {
      "needs_background": "light"
     },
     "output_type": "display_data"
    },
    {
     "name": "stdout",
     "output_type": "stream",
     "text": [
      "Accuracy: 100.00%\n"
     ]
    },
    {
     "data": {
      "image/png": "iVBORw0KGgoAAAANSUhEUgAAAGQAAABeCAYAAADVA7GfAAAABHNCSVQICAgIfAhkiAAAAAlwSFlzAAAMTQAADE0B0s6tTgAAADl0RVh0U29mdHdhcmUAbWF0cGxvdGxpYiB2ZXJzaW9uIDMuMC4zLCBodHRwOi8vbWF0cGxvdGxpYi5vcmcvnQurowAAAV9JREFUeJzt3LFJBEEAhtEZsRFjA6PDGqzBCswtwgrswCYMDDS6zC7sQASDNTYUZ/FD3svn5+BjgmP3bm7bNug4+esPwHeCxAgSI0iMIDGCxAgSc7rn+NPtYemXnLvj58q5McYYjy+vqyfnbw67ITGCxAgSI0iMIDGCxAgSI0iMIDGCxAgSI0iMIDGCxAgSI0iMIDGCxMw9XyW9Pr4vHX+4/Fg5N8YYY863pXvbdu4R7n8iSIwgMYLECBIjSIwgMYLECBIjSIwgMYLECBIjSIwgMYLECBIjSIwgMYLE7Po79Yuzq6V7cz4v3RtjjO1ws3jx/len3ZAYQWIEiREkRpAYQWIEiREkRpAYQWIEiREkRpAYQWIEiREkRpAYQWIEidn1jwP4OTckRpAYQWIEiREkRpAYQWIEiREkRpAYQWIEiREkRpAYQWIEiREkRpAYQWIEiREkRpAYQWIEiREk5gvMJxxFZBuDUwAAAABJRU5ErkJggg==\n",
      "text/plain": [
       "<Figure size 80x80 with 1 Axes>"
      ]
     },
     "metadata": {
      "needs_background": "light"
     },
     "output_type": "display_data"
    },
    {
     "name": "stdout",
     "output_type": "stream",
     "text": [
      "Accuracy: 99.55%\n"
     ]
    },
    {
     "data": {
      "image/png": "iVBORw0KGgoAAAANSUhEUgAAAGQAAABeCAYAAADVA7GfAAAABHNCSVQICAgIfAhkiAAAAAlwSFlzAAAMTQAADE0B0s6tTgAAADl0RVh0U29mdHdhcmUAbWF0cGxvdGxpYiB2ZXJzaW9uIDMuMC4zLCBodHRwOi8vbWF0cGxvdGxpYi5vcmcvnQurowAAAV9JREFUeJzt3LFJLUEAhtEZsRRzM9HABsxtw8zELqzDCkxEECxAkNeHmdEaCyaPO4sfck6+Pxc+Jlh2785t2wYdR7/9A/hOkBhBYgSJESRGkBhBYo73HH++vVh6k3P3+LFybowxxuvb++rJecjFTkiMIDGCxAgSI0iMIDGCxAgSI0iMIDGCxAgSI0iMIDGCxAgSI0iMIDFzz1dJr18+l44/XB70dPRHc/5burdtpx7h/iWCxAgSI0iMIDGCxAgSI0iMIDGCxAgSI0iMIDGCxAgSI0iMIDGCxAgSI0jMrv9TPzu5Wro359PSvTHG2M5vFi/eH3S1ExIjSIwgMYLECBIjSIwgMYLECBIjSIwgMYLECBIjSIwgMYLECBIjSIwgMbt+OID/54TECBIjSIwgMYLECBIjSIwgMYLECBIjSIwgMYLECBIjSIwgMYLECBIjSIwgMYLECBIjSIwgMYLEfAFHmhtP0ZzcBwAAAABJRU5ErkJggg==\n",
      "text/plain": [
       "<Figure size 80x80 with 1 Axes>"
      ]
     },
     "metadata": {
      "needs_background": "light"
     },
     "output_type": "display_data"
    },
    {
     "name": "stdout",
     "output_type": "stream",
     "text": [
      "Accuracy: 99.55%\n"
     ]
    },
    {
     "data": {
      "image/png": "iVBORw0KGgoAAAANSUhEUgAAAGQAAABeCAYAAADVA7GfAAAABHNCSVQICAgIfAhkiAAAAAlwSFlzAAAMTQAADE0B0s6tTgAAADl0RVh0U29mdHdhcmUAbWF0cGxvdGxpYiB2ZXJzaW9uIDMuMC4zLCBodHRwOi8vbWF0cGxvdGxpYi5vcmcvnQurowAAAWhJREFUeJzt3SFKBVEUgOH71EWIQbSLRsvD+tyBxeJGBLtNEFyBGN2H1ewe3MAzi3Huwz98X7+HgZ8ThplhVtvtdtCx998XwG+CxAgSI0iMIDGCxAgSc7DL4XdnH1Nvch7XnzPHjTHG+L49nDrvdL1ZLTlvQ2IEiREkRpAYQWIEiREkRpAYQWIEiREkRpAYQWIEiREkRpAYQWIEidnpI9zzy/2p845OnqfOG2OM94urqfNOx2bReRsSI0iMIDGCxAgSI0iMIDGCxAgSI0iMIDGCxAgSI0iMIDGCxAgSI0iMIDGCxOz0JYen40WfbP9xc/8wdd4YY7x+vU2dd/2y7LwNiREkRpAYQWIEiREkRpAYQWIEiREkRpAYQWIEiREkRpAYQWIEiREkRpCYlX9QtdiQGEFiBIkRJEaQGEFiBIkRJEaQGEFiBIkRJEaQGEFiBIkRJEaQGEFiBIkRJEaQGEFiBIkRJEaQmB8FfxSRhkgpegAAAABJRU5ErkJggg==\n",
      "text/plain": [
       "<Figure size 80x80 with 1 Axes>"
      ]
     },
     "metadata": {
      "needs_background": "light"
     },
     "output_type": "display_data"
    },
    {
     "data": {
      "image/png": "iVBORw0KGgoAAAANSUhEUgAAAGQAAABeCAYAAADVA7GfAAAABHNCSVQICAgIfAhkiAAAAAlwSFlzAAAMTQAADE0B0s6tTgAAADl0RVh0U29mdHdhcmUAbWF0cGxvdGxpYiB2ZXJzaW9uIDMuMC4zLCBodHRwOi8vbWF0cGxvdGxpYi5vcmcvnQurowAAAWdJREFUeJzt2rFJJVEYhuF/xHhTE2EDZbEFezAysIEtwliwAhPb2BKMrGEjEbECMb8bG8qeiy/yPPl8DLxMMJyz7Xa7oePgq1+AjwSJESRGkBhBYgSJESTmcJ/jx9v90p+c15tfK+dmZubt7Hnp3o+r39v/PO8LiREkRpAYQWIEiREkRpAYQWIEiREkRpAYQWIEiREkRpAYQWIEiREkZtvnVdKnh1k6fnJxtHJuZmZ27/eLFy8d4X4ngsQIEiNIjCAxgsQIEiNIjCAxgsQIEiNIjCAxgsQIEiNIjCAxgsQIEiNIzF4vOWw/H5eOX7+crpybmZm/57dL9/483rnk8J0IEiNIjCAxgsQIEiNIjCAxgsQIEiNIjCAxgsQIEiNIjCAxgsQIEiNIzF7P1Pk8X0iMIDGCxAgSI0iMIDGCxAgSI0iMIDGCxAgSI0iMIDGCxAgSI0iMIDGCxAgSI0iMIDGCxAgSI0jMP247H68kaER2AAAAAElFTkSuQmCC\n",
      "text/plain": [
       "<Figure size 80x80 with 1 Axes>"
      ]
     },
     "metadata": {
      "needs_background": "light"
     },
     "output_type": "display_data"
    },
    {
     "name": "stdout",
     "output_type": "stream",
     "text": [
      "Accuracy: 99.91%\n"
     ]
    },
    {
     "data": {
      "image/png": "iVBORw0KGgoAAAANSUhEUgAAAGQAAABeCAYAAADVA7GfAAAABHNCSVQICAgIfAhkiAAAAAlwSFlzAAAMTQAADE0B0s6tTgAAADl0RVh0U29mdHdhcmUAbWF0cGxvdGxpYiB2ZXJzaW9uIDMuMC4zLCBodHRwOi8vbWF0cGxvdGxpYi5vcmcvnQurowAAAV5JREFUeJzt3LFNA0EURdG/iMARMRVQhDtwHVSARAEExLRDRkBAEXRAB2RLTIgYiyt0Tj5Plq4msHbtbd/3oePirz8A3wkSI0iMIDGCxAgSI0jM5TnHt+1h6Zec/em0cm5mZj6v3pbuHW7vtt+cd0NiBIkRJEaQGEFiBIkRJEaQGEFiBIkRJEaQGEFiBIkRJEaQGEFiBInZzvoq6ccsHd+uDyvnZmZm318WLx49wv1PBIkRJEaQGEFiBIkRJEaQGEFiBIkRJEaQGEFiBIkRJEaQGEFiBIkRJEaQmPP+Tv36dene43wu3ZuZOd3cL917fj/+6rwbEiNIjCAxgsQIEiNIjCAxgsQIEiNIjCAxgsQIEiNIjCAxgsQIEiNIjCAx5/3jAH7MDYkRJEaQGEFiBIkRJEaQGEFiBIkRJEaQGEFiBIkRJEaQGEFiBIkRJEaQGEFiBIkRJEaQGEFiBIn5Agb+GboZQ4ACAAAAAElFTkSuQmCC\n",
      "text/plain": [
       "<Figure size 80x80 with 1 Axes>"
      ]
     },
     "metadata": {
      "needs_background": "light"
     },
     "output_type": "display_data"
    },
    {
     "name": "stdout",
     "output_type": "stream",
     "text": [
      "Accuracy: 99.82%\n"
     ]
    },
    {
     "data": {
      "image/png": "iVBORw0KGgoAAAANSUhEUgAAAGQAAABeCAYAAADVA7GfAAAABHNCSVQICAgIfAhkiAAAAAlwSFlzAAAMTQAADE0B0s6tTgAAADl0RVh0U29mdHdhcmUAbWF0cGxvdGxpYiB2ZXJzaW9uIDMuMC4zLCBodHRwOi8vbWF0cGxvdGxpYi5vcmcvnQurowAAAV1JREFUeJzt3LFJBFEYRtF/VDSwCGuwCiuwBitQLMHYbgwMzG3CJgQDGWND8S1e5Jz8fSxcXrDM7G77vg8dR3/9AfhOkBhBYgSJESRGkBhBYk4OOb5t90u/5OyP1yvnZmbm4/R56d7Zzd32m/NuSIwgMYLECBIjSIwgMYLECBIjSIwgMYLECBIjSIwgMYLECBIjSIwgMdtBXyV9n6Xj2/nxyrmZmdn318WLlx7h/ieCxAgSI0iMIDGCxAgSI0iMIDGCxAgSI0iMIDGCxAgSI0iMIDGCxAgSI0jMYX+nfv6ydO9hPpfuzcxcXdwu3Xt6u/zVeTckRpAYQWIEiREkRpAYQWIEiREkRpAYQWIEiREkRpAYQWIEiREkRpAYQWIO+8cB/JgbEiNIjCAxgsQIEiNIjCAxgsQIEiNIjCAxgsQIEiNIjCAxgsQIEiNIjCAxgsQIEiNIjCAxgsQIEvMFaAYZrazFChwAAAAASUVORK5CYII=\n",
      "text/plain": [
       "<Figure size 80x80 with 1 Axes>"
      ]
     },
     "metadata": {
      "needs_background": "light"
     },
     "output_type": "display_data"
    },
    {
     "name": "stdout",
     "output_type": "stream",
     "text": [
      "Accuracy: 100.00%\n"
     ]
    },
    {
     "data": {
      "image/png": "iVBORw0KGgoAAAANSUhEUgAAAGQAAABeCAYAAADVA7GfAAAABHNCSVQICAgIfAhkiAAAAAlwSFlzAAAMTQAADE0B0s6tTgAAADl0RVh0U29mdHdhcmUAbWF0cGxvdGxpYiB2ZXJzaW9uIDMuMC4zLCBodHRwOi8vbWF0cGxvdGxpYi5vcmcvnQurowAAAVpJREFUeJzt3LFNxDAYgFEHELcEMzAGMzACE5yY4WqmuYoV2IEprjE1Eg06R3xC7/X+FemTi8hOtjnnoOPmrx+A7wSJESRGkBhBYgSJESTmbs/h23Zc+pIz355XjhtjjHG5PS+dd//yul2z3g6JESRGkBhBYgSJESRGkBhBYgSJESRGkBhBYgSJESRGkBhBYgSJESRm2/Uq6WUsHb4drjod/dGcH4snPjrC/U8EiREkRpAYQWIEiREkRpAYQWIEiREkRpAYQWIEiREkRpAYQWIEiREkRpCYfb9TP7wvnXdae2dijDHG08Nx6bzz5+mq9XZIjCAxgsQIEiNIjCAxgsQIEiNIjCAxgsQIEiNIjCAxgsQIEiNIjCAxgsTs++MAfs0OiREkRpAYQWIEiREkRpAYQWIEiREkRpAYQWIEiREkRpAYQWIEiREkRpAYQWIEiREkRpAYQWIEifkC/pEaBmq3tIYAAAAASUVORK5CYII=\n",
      "text/plain": [
       "<Figure size 80x80 with 1 Axes>"
      ]
     },
     "metadata": {
      "needs_background": "light"
     },
     "output_type": "display_data"
    },
    {
     "name": "stdout",
     "output_type": "stream",
     "text": [
      "Accuracy: 100.00%\n"
     ]
    },
    {
     "data": {
      "image/png": "iVBORw0KGgoAAAANSUhEUgAAAGQAAABeCAYAAADVA7GfAAAABHNCSVQICAgIfAhkiAAAAAlwSFlzAAAMTQAADE0B0s6tTgAAADl0RVh0U29mdHdhcmUAbWF0cGxvdGxpYiB2ZXJzaW9uIDMuMC4zLCBodHRwOi8vbWF0cGxvdGxpYi5vcmcvnQurowAAAVpJREFUeJzt3MFJBDEYgNFkca3CFmzDHizBAhRr2LPV7MkarMEqRBjPghfZDH7Ie/f8DHzkMCQzc9u2Qcfhrx+A7wSJESRGkBhBYgSJESTmas/hcz4ufcnZXu5XjhtjjPFxOC+dd/3wPC9Zb4fECBIjSIwgMYLECBIjSIwgMYLECBIjSIwgMYLECBIjSIwgMYLECBIzd71K+jmWDp/Hi05Hf7Rtb4sn3jrC/U8EiREkRpAYQWIEiREkRpAYQWIEiREkRpAYQWIEiREkRpAYQWIEiREkRpCYfb9TP74unXdae2dijDHG3c3T0nnn99NF6+2QGEFiBIkRJEaQGEFiBIkRJEaQGEFiBIkRJEaQGEFiBIkRJEaQGEFiBInZ98cB/JodEiNIjCAxgsQIEiNIjCAxgsQIEiNIjCAxgsQIEiNIjCAxgsQIEiNIjCAxgsQIEiNIjCAxgsQIEvMFb4EaBEnYW3oAAAAASUVORK5CYII=\n",
      "text/plain": [
       "<Figure size 80x80 with 1 Axes>"
      ]
     },
     "metadata": {
      "needs_background": "light"
     },
     "output_type": "display_data"
    },
    {
     "name": "stdout",
     "output_type": "stream",
     "text": [
      "Accuracy: 100.00%\n"
     ]
    },
    {
     "data": {
      "image/png": "iVBORw0KGgoAAAANSUhEUgAAAGQAAABeCAYAAADVA7GfAAAABHNCSVQICAgIfAhkiAAAAAlwSFlzAAAMTQAADE0B0s6tTgAAADl0RVh0U29mdHdhcmUAbWF0cGxvdGxpYiB2ZXJzaW9uIDMuMC4zLCBodHRwOi8vbWF0cGxvdGxpYi5vcmcvnQurowAAARZJREFUeJzt2zEKwzAQAMFcyP+/fKkD6WzjAe/0MoLlCiNpdvcVx/vuDeRXQTAFwRQEUxBMQTAFwXyu/PjMPO4nZ3fnyPomBFMQTEEwBcEUBFMQTEEwBcEUBFMQTEEwBcEUBFMQTEEwBcEUBFMQzKVHuGdfU505dDr6l3aVtgnBFARTEExBMAXBFARTEExBMAXBFARTEExBMAXBFARTEExBMAXBFARTEExBMAXBFARTEExBMAXBFARTEExBMAXBFARTEExBMAXBFARTEExBMAXBFARTEExBMKM9nH+6JgRTEExBMAXBFARTEExBMAXBFARTEExBMAXBFARTEExBMAXBFARTEExBMAXBFARTEExBMAXBFATzBUgCELbEyzpZAAAAAElFTkSuQmCC\n",
      "text/plain": [
       "<Figure size 80x80 with 1 Axes>"
      ]
     },
     "metadata": {
      "needs_background": "light"
     },
     "output_type": "display_data"
    },
    {
     "name": "stdout",
     "output_type": "stream",
     "text": [
      "Accuracy: 94.82%\n",
      "Accuracy: 99.55%\n"
     ]
    },
    {
     "data": {
      "image/png": "iVBORw0KGgoAAAANSUhEUgAAAGQAAABeCAYAAADVA7GfAAAABHNCSVQICAgIfAhkiAAAAAlwSFlzAAAMTQAADE0B0s6tTgAAADl0RVh0U29mdHdhcmUAbWF0cGxvdGxpYiB2ZXJzaW9uIDMuMC4zLCBodHRwOi8vbWF0cGxvdGxpYi5vcmcvnQurowAAAWVJREFUeJzt3aFNBFEARdG/gEYh6IEqEAg8Zi0NbA2ApwQ6QOFwuE1INgg6QNECZtDo/RuuOMfPyyQ3X0xmklktyzLoOPrvG+AvQWIEiREkRpAYQWIEiTk55Pjd23rqQ87X8enMuTHGGJ/371P3tq+71T7XOyExgsQIEiNIjCAxgsQIEiNIjCAxgsQIEiNIjCAxgsQIEiNIjCAxgsQc9BXu9eXL1L2Hi83UvTHGeHp8nr65DyckRpAYQWIEiREkRpAYQWIEiREkRpAYQWIEiREkRpAYQWIEiREkRpAYQWIEiTnoRw67n7Opezfn31P3xhjj9mM9dW97td3reickRpAYQWIEiREkRpAYQWIEiREkRpAYQWIEiREkRpAYQWIEiREkRpAYQWJW/kHV4oTECBIjSIwgMYLECBIjSIwgMYLECBIjSIwgMYLECBIjSIwgMYLECBIjSIwgMYLECBIjSIwgMYLE/AJAwxl/gEJPtgAAAABJRU5ErkJggg==\n",
      "text/plain": [
       "<Figure size 80x80 with 1 Axes>"
      ]
     },
     "metadata": {
      "needs_background": "light"
     },
     "output_type": "display_data"
    },
    {
     "data": {
      "image/png": "iVBORw0KGgoAAAANSUhEUgAAAGQAAABeCAYAAADVA7GfAAAABHNCSVQICAgIfAhkiAAAAAlwSFlzAAAMTQAADE0B0s6tTgAAADl0RVh0U29mdHdhcmUAbWF0cGxvdGxpYiB2ZXJzaW9uIDMuMC4zLCBodHRwOi8vbWF0cGxvdGxpYi5vcmcvnQurowAAAWhJREFUeJzt3LFpHFEYRtF/hFyEOlAB7kAY4wrUiiqQEufO1InBYNfhRIFzIYRQMo4din2DL+Kc/H0sXF6wzOxu+74PHWf/+wPwL0FiBIkRJEaQGEFiBIk5P3L826/rpV9yfj9frpybmZmvn++X7u37w3bKeTckRpAYQWIEiREkRpAYQWIEiREkRpAYQWIEiREkRpAYQWIEiREkRpCY7chXSX9u29LxL3Ozcm5mZp5e79YOfhiPcN8TQWIEiREkRpAYQWIEiREkRpAYQWIEiREkRpAYQWIEiREkRpAYQWIEiREk5tDfqb/sH5fu3Z4/Lt2bmbn4dLV078+P7yedd0NiBIkRJEaQGEFiBIkRJEaQGEFiBIkRJEaQGEFiBIkRJEaQGEFiBIkRJObQPw7g7dyQGEFiBIkRJEaQGEFiBIkRJEaQGEFiBIkRJEaQGEFiBIkRJEaQGEFiBIkRJEaQGEFiBIkRJEaQmL+sjh5h3g1RoAAAAABJRU5ErkJggg==\n",
      "text/plain": [
       "<Figure size 80x80 with 1 Axes>"
      ]
     },
     "metadata": {
      "needs_background": "light"
     },
     "output_type": "display_data"
    },
    {
     "name": "stdout",
     "output_type": "stream",
     "text": [
      "Accuracy: 97.00%\n"
     ]
    },
    {
     "data": {
      "image/png": "iVBORw0KGgoAAAANSUhEUgAAAGQAAABeCAYAAADVA7GfAAAABHNCSVQICAgIfAhkiAAAAAlwSFlzAAAMTQAADE0B0s6tTgAAADl0RVh0U29mdHdhcmUAbWF0cGxvdGxpYiB2ZXJzaW9uIDMuMC4zLCBodHRwOi8vbWF0cGxvdGxpYi5vcmcvnQurowAAAV1JREFUeJzt3bFJBEEAhtFZETObuBKMLzcwtwCLMRCswQKswALsQmzgIhFMx9j4ZvEL3sv3Z+FjgmUXdptzDjou/vsG+EuQGEFiBIkRJEaQGEFiLvccf3m/X/qQ8/F1s3JujDHG493z0r05T9s51zshMYLECBIjSIwgMYLECBIjSIwgMYLECBIjSIwgMYLECBIjSIwgMYLE7PoK93B8Xbr3MA5L98YYY87T8s1zOCExgsQIEiNIjCAxgsQIEiNIjCAxgsQIEiNIjCAxgsQIEiNIjCAxgsQIEiNIzK4fOVzN49K9p+1n6d4YY1wfbpfufX++nXW9ExIjSIwgMYLECBIjSIwgMYLECBIjSIwgMYLECBIjSIwgMYLECBIjSIwgMZt/ULU4ITGCxAgSI0iMIDGCxAgSI0iMIDGCxAgSI0iMIDGCxAgSI0iMIDGCxAgSI0iMIDGCxAgSI0iMIDG/FkMZ80neemUAAAAASUVORK5CYII=\n",
      "text/plain": [
       "<Figure size 80x80 with 1 Axes>"
      ]
     },
     "metadata": {
      "needs_background": "light"
     },
     "output_type": "display_data"
    },
    {
     "name": "stdout",
     "output_type": "stream",
     "text": [
      "Accuracy: 99.82%\n"
     ]
    },
    {
     "data": {
      "image/png": "iVBORw0KGgoAAAANSUhEUgAAAGQAAABeCAYAAADVA7GfAAAABHNCSVQICAgIfAhkiAAAAAlwSFlzAAAMTQAADE0B0s6tTgAAADl0RVh0U29mdHdhcmUAbWF0cGxvdGxpYiB2ZXJzaW9uIDMuMC4zLCBodHRwOi8vbWF0cGxvdGxpYi5vcmcvnQurowAAAV5JREFUeJzt3aFNBEEAhtFZgiE0gCOhCBRBY5D4K4YE2sBTAA3QBQWgDglu0OibC594z++fTb6M2Owmu805Bx0n/30D/CVIjCAxgsQIEiNIjCAxp8ccf3l/WPqQ8/F1vXJujDHG4/3T0r0599sh1zshMYLECBIjSIwgMYLECBIjSIwgMYLECBIjSIwgMYLECBIjSIwgMYLEHPUV7uXN69K93bhaujfGGHPul28ewgmJESRGkBhBYgSJESRGkBhBYgSJESRGkBhBYgSJESRGkBhBYgSJESRGkBhBYo76kcP5vF2697z9LN0bY4yzi7ule9+fbwdd74TECBIjSIwgMYLECBIjSIwgMYLECBIjSIwgMYLECBIjSIwgMYLECBIjSMzmH1QtTkiMIDGCxAgSI0iMIDGCxAgSI0iMIDGCxAgSI0iMIDGCxAgSI0iMIDGCxAgSI0iMIDGCxAgSI0jML56DGflGpVqXAAAAAElFTkSuQmCC\n",
      "text/plain": [
       "<Figure size 80x80 with 1 Axes>"
      ]
     },
     "metadata": {
      "needs_background": "light"
     },
     "output_type": "display_data"
    },
    {
     "name": "stdout",
     "output_type": "stream",
     "text": [
      "Accuracy: 100.00%\n"
     ]
    },
    {
     "data": {
      "image/png": "iVBORw0KGgoAAAANSUhEUgAAAGQAAABeCAYAAADVA7GfAAAABHNCSVQICAgIfAhkiAAAAAlwSFlzAAAMTQAADE0B0s6tTgAAADl0RVh0U29mdHdhcmUAbWF0cGxvdGxpYiB2ZXJzaW9uIDMuMC4zLCBodHRwOi8vbWF0cGxvdGxpYi5vcmcvnQurowAAAV1JREFUeJzt3SFKBVEAhtE7IpiMRoubsAhmg9HsYkRwHWa7K3AX7sAwVdM1m999+IVz+vwMfNwwzMBsc85Bx8l/3wB/CRIjSIwgMYLECBIjSMzpMcdfPx6WPuR87tcr58YYYzzdPy/dm3PfDrneCYkRJEaQGEFiBIkRJEaQGEFiBIkRJEaQGEFiBIkRJEaQGEFiBIkRJOaor3Avb96W7j2Oq6V7Y4wx57588xBOSIwgMYLECBIjSIwgMYLECBIjSIwgMYLECBIjSIwgMYLECBIjSIwgMYLECBJz1I8czuft0r2X7Xvp3hhjnF3cLd37+Xo/6HonJEaQGEFiBIkRJEaQGEFiBIkRJEaQGEFiBIkRJEaQGEFiBIkRJEaQGEFiNv+ganFCYgSJESRGkBhBYgSJESRGkBhBYgSJESRGkBhBYgSJESRGkBhBYgSJESRGkBhBYgSJESRGkBhBYn4Bo3oZ+kEkelkAAAAASUVORK5CYII=\n",
      "text/plain": [
       "<Figure size 80x80 with 1 Axes>"
      ]
     },
     "metadata": {
      "needs_background": "light"
     },
     "output_type": "display_data"
    },
    {
     "name": "stdout",
     "output_type": "stream",
     "text": [
      "Accuracy: 100.00%\n"
     ]
    },
    {
     "data": {
      "image/png": "iVBORw0KGgoAAAANSUhEUgAAAGQAAABeCAYAAADVA7GfAAAABHNCSVQICAgIfAhkiAAAAAlwSFlzAAAMTQAADE0B0s6tTgAAADl0RVh0U29mdHdhcmUAbWF0cGxvdGxpYiB2ZXJzaW9uIDMuMC4zLCBodHRwOi8vbWF0cGxvdGxpYi5vcmcvnQurowAAAVxJREFUeJzt3SFKBVEAhtE7IthMVoubsAhmg9HsYkTch9nuCtyFSxCmarpm87sPv3BOn5+BjxuGGZhtzjnoOPnvG+AvQWIEiREkRpAYQWIEiTk95vjrx8PSh5zP/Xrl3BhjjKf756V7c+7bIdc7ITGCxAgSI0iMIDGCxAgSI0iMIDGCxAgSI0iMIDGCxAgSI0iMIDGCxBz1Fe7lzdvSvcdxtXRvjDHm3JdvHsIJiREkRpAYQWIEiREkRpAYQWIEiREkRpAYQWIEiREkRpAYQWIEiREkRpAYQWKO+pHD+bxduveyfS/dG2OMs4u7pXs/X+8HXe+ExAgSI0iMIDGCxAgSI0iMIDGCxAgSI0iMIDGCxAgSI0iMIDGCxAgSI0jM5h9ULU5IjCAxgsQIEiNIjCAxgsQIEiNIjCAxgsQIEiNIjCAxgsQIEiNIjCAxgsQIEiNIjCAxgsQIEiNIzC+jehn675KC+AAAAABJRU5ErkJggg==\n",
      "text/plain": [
       "<Figure size 80x80 with 1 Axes>"
      ]
     },
     "metadata": {
      "needs_background": "light"
     },
     "output_type": "display_data"
    },
    {
     "name": "stdout",
     "output_type": "stream",
     "text": [
      "Accuracy: 99.55%\n"
     ]
    },
    {
     "data": {
      "image/png": "iVBORw0KGgoAAAANSUhEUgAAAGQAAABeCAYAAADVA7GfAAAABHNCSVQICAgIfAhkiAAAAAlwSFlzAAAMTQAADE0B0s6tTgAAADl0RVh0U29mdHdhcmUAbWF0cGxvdGxpYiB2ZXJzaW9uIDMuMC4zLCBodHRwOi8vbWF0cGxvdGxpYi5vcmcvnQurowAAAWlJREFUeJzt2iFKRFEAhtE7YhOjYNMdGF2EWU2zjUkuwjjFBYgLsAlWNyHYxKzFMGajeAc/5Jz+fh58vPC4d7HZbAYdO3/9AnwnSIwgMYLECBIjSIwgMbvbHF+9vU/9yblfPs2cG2OM8bB/O3Xv4G69+M3zvpAYQWIEiREkRpAYQWIEiREkRpAYQWIEiREkRpAYQWIEiREkRpAYQWIW27xK+rpZTh2/uljNnBtjjLF3cjp17/rqwxHufyJIjCAxgsQIEiNIjCAxgsQIEiNIjCAxgsQIEiNIjCAxgsQIEiNIjCAxgsRs9ZLD+vlx6vjh0eXMuTHGGOfHZ1P3Pl9uXHL4TwSJESRGkBhBYgSJESRGkBhBYgSJESRGkBhBYgSJESRGkBhBYgSJESRmq2fq/JwvJEaQGEFiBIkRJEaQGEFiBIkRJEaQGEFiBIkRJEaQGEFiBIkRJEaQGEFiBIkRJEaQGEFiBIkRJOYLXuoir4wPrcYAAAAASUVORK5CYII=\n",
      "text/plain": [
       "<Figure size 80x80 with 1 Axes>"
      ]
     },
     "metadata": {
    "def find_trigger(model, data):\n",
    "    def random_trigger():\n",
    "        size = 3\n",
    "        pattern = np.random.uniform(0,1,(3,size,size))\n",
    "        return Trigger(\"cifar\", pattern, target=0, type_=2)\n",
    "    def input_grad_to_trigger(grad, trigger):\n",
    "        if trigger.type_ == 0:\n",
    "            return torch.sum(grad[:,:,-trigger.height:,-trigger.width:], 0, keepdim=True).cpu()\n",
    "        elif trigger.type_ == 2:\n",
    "            x, y = trigger.apply_loc\n",
    "            return torch.sum(grad[:,:,x:x+trigger.height,y:y+trigger.width], 0, keepdim=True).cpu()\n",
    "    \n",
    "    trigger = random_trigger().display()\n",
    "    model.net.eval()\n",
    "    criterion = torch.nn.CrossEntropyLoss()\n",
    "    ratio = 0.1   \n",
    "    for epoch in range(5):\n",
    "        for batch_idx, (inputs, targets) in enumerate(data.dataloader):\n",
    "            if batch_idx > len(data.dataloader) * ratio: break\n",
    "            \n",
    "            inputs, targets = trigger.apply_batch(inputs, targets, ratio=1)\n",
    "            inputs, targets = inputs.to(model.device), targets.to(model.device)\n",
    "            inputs.requires_grad_()\n",
    "            \n",
    "            outputs = model.net(inputs)\n",
    "            loss = criterion(outputs, targets)\n",
    "            loss.backward()\n",
    "            \n",
    "            trigger.content_batch.grad = input_grad_to_trigger(inputs.grad, trigger)\n",
    "            trigger.content_batch.grad = trigger.content_batch.grad #+ 10*trigger.content_batch.grad.mean()\n",
    "            trigger.optimizer.step()\n",
    "        \n",
    "        trigger.sync_content(\"content_batch\").clip_and_sync().display()\n",
    "        result = model.test(data, ratio, trigger)\n",
    "        trigger.accuracy = result.accuracy()\n",
    "        result.report_accuracy()\n",
    "    \n",
    "    return trigger\n",
    "\n",
    "reload = np.load(\"all_backdoor.npy\")\n",
    "for j in np.array([]):\n",
    "    for i in reload:\n",
    "        pattern = np.tile(num2image(i).reshape(1,3,3), (3,1,1))\n",
    "        trigger = Trigger(\"cifar\", pattern, target=0, type_=2).display()\n",
    "        model.train(train, lr=0.001, num_epochs=10, triggers=[trigger], poison_ratio=0.01)\n",
    "        model.test(val, ratio=0.1, trigger=None).report_accuracy()\n",
    "        model.test(val, ratio=0.1, trigger=trigger).report_accuracy()\n",
    "        find_trigger(model, val).content\n",
    "        np.save('SGD_round_'+ j.astype(str) + '_' + i.astype(str), find_trigger(model, val).content)"
   ]
  },
  {
   "cell_type": "code",
   "execution_count": null,
   "metadata": {},
   "outputs": [],
   "source": []
  }
 ],
 "metadata": {
  "kernelspec": {
   "display_name": "Python 3",
   "language": "python",
   "name": "python3"
  },
  "language_info": {
   "codemirror_mode": {
    "name": "ipython",
    "version": 3
   },
   "file_extension": ".py",
   "mimetype": "text/x-python",
   "name": "python",
   "nbconvert_exporter": "python",
   "pygments_lexer": "ipython3",
   "version": "3.7.3"
  }
 },
 "nbformat": 4,
 "nbformat_minor": 2
}
